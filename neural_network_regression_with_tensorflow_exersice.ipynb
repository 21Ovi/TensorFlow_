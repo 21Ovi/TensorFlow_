{
  "nbformat": 4,
  "nbformat_minor": 0,
  "metadata": {
    "colab": {
      "provenance": [],
      "authorship_tag": "ABX9TyPMtZXGIvwvHf0VqlO8QR5l",
      "include_colab_link": true
    },
    "kernelspec": {
      "name": "python3",
      "display_name": "Python 3"
    },
    "language_info": {
      "name": "python"
    }
  },
  "cells": [
    {
      "cell_type": "markdown",
      "metadata": {
        "id": "view-in-github",
        "colab_type": "text"
      },
      "source": [
        "<a href=\"https://colab.research.google.com/github/21Ovi/TensorFlow_/blob/main/neural_network_regression_with_tensorflow_exersice.ipynb\" target=\"_parent\"><img src=\"https://colab.research.google.com/assets/colab-badge.svg\" alt=\"Open In Colab\"/></a>"
      ]
    },
    {
      "cell_type": "markdown",
      "source": [
        "## 01. Neural network regression with TensorFlow Exercises"
      ],
      "metadata": {
        "id": "J6I9va8vWOdh"
      }
    },
    {
      "cell_type": "markdown",
      "source": [
        "1. Create your own regression dataset (or make the one we created in \"Create data to view and fit\" bigger) and build fit a model to it."
      ],
      "metadata": {
        "id": "NWMw9cQHWVf3"
      }
    },
    {
      "cell_type": "code",
      "execution_count": null,
      "metadata": {
        "id": "WxmRRTLBV-3i"
      },
      "outputs": [],
      "source": []
    },
    {
      "cell_type": "markdown",
      "source": [
        "2. Try building a neural network with 4 Dense layers and fitting it to your own regression dataset, how does it perform?"
      ],
      "metadata": {
        "id": "CTnPPdXjWWNN"
      }
    },
    {
      "cell_type": "code",
      "source": [],
      "metadata": {
        "id": "ABO94jZbWWns"
      },
      "execution_count": null,
      "outputs": []
    },
    {
      "cell_type": "markdown",
      "source": [
        "3. Try and improve the results we got on the insurance dataset, some things you might want to try include:\n",
        "\n",
        "* Building a larger model (how does one with 4 dense layers go?).\n",
        "* Increasing the number of units in each layer.\n",
        "* Lookup the documentation of [Adam](https://www.tensorflow.org/api_docs/python/tf/keras/optimizers/Adam) and find out what the first parameter is, what happens if you increase it by 10x?\n",
        "* What happens if you train for longer (say 300 epochs instead of 200)?"
      ],
      "metadata": {
        "id": "ZMxFVAAaWXIB"
      }
    },
    {
      "cell_type": "code",
      "source": [],
      "metadata": {
        "id": "JgTkCt0sWXdP"
      },
      "execution_count": null,
      "outputs": []
    },
    {
      "cell_type": "markdown",
      "source": [
        "4. Import the [Boston pricing dataset](https://www.tensorflow.org/api_docs/python/tf/keras/datasets/boston_housing/load_data) from TensorFlow [`tf.keras.datasets`](https://www.tensorflow.org/api_docs/python/tf/keras/datasets) and model it.\n"
      ],
      "metadata": {
        "id": "DcWMDq1_WXsf"
      }
    },
    {
      "cell_type": "code",
      "source": [],
      "metadata": {
        "id": "AJqkDgcRWYAK"
      },
      "execution_count": null,
      "outputs": []
    }
  ]
}