{
  "nbformat": 4,
  "nbformat_minor": 0,
  "metadata": {
    "colab": {
      "provenance": [],
      "collapsed_sections": [],
      "authorship_tag": "ABX9TyPzaJ5iIWi+VA3aAD6SqOoO",
      "include_colab_link": true
    },
    "kernelspec": {
      "name": "python3",
      "display_name": "Python 3"
    },
    "language_info": {
      "name": "python"
    }
  },
  "cells": [
    {
      "cell_type": "markdown",
      "metadata": {
        "id": "view-in-github",
        "colab_type": "text"
      },
      "source": [
        "<a href=\"https://colab.research.google.com/github/21Ovi/TensorFlow_/blob/main/TensorFlow_Fundamentals_Exercises.ipynb\" target=\"_parent\"><img src=\"https://colab.research.google.com/assets/colab-badge.svg\" alt=\"Open In Colab\"/></a>"
      ]
    },
    {
      "cell_type": "markdown",
      "source": [
        "# TensorFlow Fundamentals Exercises"
      ],
      "metadata": {
        "id": "0SHky5-SJo_U"
      }
    },
    {
      "cell_type": "code",
      "source": [
        "import tensorflow as tf\n",
        "import numpy as np"
      ],
      "metadata": {
        "id": "oL5VOlt6cxYn"
      },
      "execution_count": 1,
      "outputs": []
    },
    {
      "cell_type": "markdown",
      "source": [
        "1. Create a vector, scalar, matrix and tensor with values of your choosing using `tf.constant()`."
      ],
      "metadata": {
        "id": "XKUxjzYDJo6g"
      }
    },
    {
      "cell_type": "code",
      "source": [
        "# Creating a Scalar\n",
        "scalar = tf.constant(21)\n",
        "\n",
        "# Creating a Vector\n",
        "vector = tf.constant([21, 31])\n",
        "\n",
        "# Creating a Matrix\n",
        "matrix = tf.constant([[21, 31],\n",
        "                      [31, 21]])\n",
        "\n",
        "# Creating a Tensor\n",
        "tensor = tf.constant([[[1, 2, 3],\n",
        "                       [4, 5, 6]],\n",
        "                      \n",
        "                      [[7, 8, 9],\n",
        "                       [10, 11, 12]],\n",
        "                      \n",
        "                      [[13, 14, 15],\n",
        "                       [16, 17, 18]]])\n",
        "tensor"
      ],
      "metadata": {
        "id": "PbqRUft5KXQ6",
        "colab": {
          "base_uri": "https://localhost:8080/"
        },
        "outputId": "091d8213-1378-4f16-ba5e-2c572c33fbb8"
      },
      "execution_count": 2,
      "outputs": [
        {
          "output_type": "execute_result",
          "data": {
            "text/plain": [
              "<tf.Tensor: shape=(3, 2, 3), dtype=int32, numpy=\n",
              "array([[[ 1,  2,  3],\n",
              "        [ 4,  5,  6]],\n",
              "\n",
              "       [[ 7,  8,  9],\n",
              "        [10, 11, 12]],\n",
              "\n",
              "       [[13, 14, 15],\n",
              "        [16, 17, 18]]], dtype=int32)>"
            ]
          },
          "metadata": {},
          "execution_count": 2
        }
      ]
    },
    {
      "cell_type": "markdown",
      "source": [
        "2. Find the shape, rank and size of the tensors you created in 1."
      ],
      "metadata": {
        "id": "0MYZgIFhJo1t"
      }
    },
    {
      "cell_type": "code",
      "source": [
        "# Getting shape\n",
        "print( 'Shape: ',tensor.shape,'\\n')\n",
        "\n",
        "# Getting Rank\n",
        "print( 'Rank: ',tf.rank(tensor),'\\n')\n",
        "\n",
        "# Getting Size\n",
        "print( 'Size: ',tf.size(tensor))"
      ],
      "metadata": {
        "id": "rreOcGHRKXyO",
        "colab": {
          "base_uri": "https://localhost:8080/"
        },
        "outputId": "53cc5f68-269a-4f48-a610-8b81ca8f240b"
      },
      "execution_count": 3,
      "outputs": [
        {
          "output_type": "stream",
          "name": "stdout",
          "text": [
            "Shape:  (3, 2, 3) \n",
            "\n",
            "Rank:  tf.Tensor(3, shape=(), dtype=int32) \n",
            "\n",
            "Size:  tf.Tensor(18, shape=(), dtype=int32)\n"
          ]
        }
      ]
    },
    {
      "cell_type": "markdown",
      "source": [
        "3. Create two tensors containing random values between 0 and 1 with shape `[5, 300]`."
      ],
      "metadata": {
        "id": "sMzSzg0GJow6"
      }
    },
    {
      "cell_type": "code",
      "source": [
        "tensor1 = tf.random.uniform(\n",
        "   shape=[5, 300],\n",
        "    minval=0,\n",
        "    maxval=1,\n",
        "    dtype=tf.dtypes.int32,\n",
        ")\n",
        "\n",
        "tensor2 = tf.random.uniform(\n",
        "    shape=[5, 300],\n",
        "    minval=0,\n",
        "    maxval=1,\n",
        "    dtype=tf.dtypes.int32,\n",
        ")"
      ],
      "metadata": {
        "id": "bXipVEVMKYdz"
      },
      "execution_count": 4,
      "outputs": []
    },
    {
      "cell_type": "markdown",
      "source": [
        "4. Multiply the two tensors you created in 3 using matrix multiplication."
      ],
      "metadata": {
        "id": "abZesZBaJosi"
      }
    },
    {
      "cell_type": "code",
      "source": [
        "tf.reshape(tensor1, shape=(300, 5))\n",
        "matrix_prod = tf.matmul(tensor1, tensor1)"
      ],
      "metadata": {
        "id": "B28I3bOFKZBx",
        "colab": {
          "base_uri": "https://localhost:8080/",
          "height": 329
        },
        "outputId": "a63b0f83-a90d-4391-fcb5-3b9ef84d3d4b"
      },
      "execution_count": 10,
      "outputs": [
        {
          "output_type": "error",
          "ename": "InvalidArgumentError",
          "evalue": "ignored",
          "traceback": [
            "\u001b[0;31m---------------------------------------------------------------------------\u001b[0m",
            "\u001b[0;31mInvalidArgumentError\u001b[0m                      Traceback (most recent call last)",
            "\u001b[0;32m<ipython-input-10-1bc8d93bda38>\u001b[0m in \u001b[0;36m<module>\u001b[0;34m\u001b[0m\n\u001b[1;32m      1\u001b[0m \u001b[0mtf\u001b[0m\u001b[0;34m.\u001b[0m\u001b[0mreshape\u001b[0m\u001b[0;34m(\u001b[0m\u001b[0mtensor1\u001b[0m\u001b[0;34m,\u001b[0m \u001b[0mshape\u001b[0m\u001b[0;34m=\u001b[0m\u001b[0;34m(\u001b[0m\u001b[0;36m300\u001b[0m\u001b[0;34m,\u001b[0m \u001b[0;36m5\u001b[0m\u001b[0;34m)\u001b[0m\u001b[0;34m)\u001b[0m\u001b[0;34m\u001b[0m\u001b[0;34m\u001b[0m\u001b[0m\n\u001b[0;32m----> 2\u001b[0;31m \u001b[0mmatrix_prod\u001b[0m \u001b[0;34m=\u001b[0m \u001b[0mtf\u001b[0m\u001b[0;34m.\u001b[0m\u001b[0mmatmul\u001b[0m\u001b[0;34m(\u001b[0m\u001b[0mtensor1\u001b[0m\u001b[0;34m,\u001b[0m \u001b[0mtensor1\u001b[0m\u001b[0;34m)\u001b[0m\u001b[0;34m\u001b[0m\u001b[0;34m\u001b[0m\u001b[0m\n\u001b[0m",
            "\u001b[0;32m/usr/local/lib/python3.7/dist-packages/tensorflow/python/util/traceback_utils.py\u001b[0m in \u001b[0;36merror_handler\u001b[0;34m(*args, **kwargs)\u001b[0m\n\u001b[1;32m    151\u001b[0m     \u001b[0;32mexcept\u001b[0m \u001b[0mException\u001b[0m \u001b[0;32mas\u001b[0m \u001b[0me\u001b[0m\u001b[0;34m:\u001b[0m\u001b[0;34m\u001b[0m\u001b[0;34m\u001b[0m\u001b[0m\n\u001b[1;32m    152\u001b[0m       \u001b[0mfiltered_tb\u001b[0m \u001b[0;34m=\u001b[0m \u001b[0m_process_traceback_frames\u001b[0m\u001b[0;34m(\u001b[0m\u001b[0me\u001b[0m\u001b[0;34m.\u001b[0m\u001b[0m__traceback__\u001b[0m\u001b[0;34m)\u001b[0m\u001b[0;34m\u001b[0m\u001b[0;34m\u001b[0m\u001b[0m\n\u001b[0;32m--> 153\u001b[0;31m       \u001b[0;32mraise\u001b[0m \u001b[0me\u001b[0m\u001b[0;34m.\u001b[0m\u001b[0mwith_traceback\u001b[0m\u001b[0;34m(\u001b[0m\u001b[0mfiltered_tb\u001b[0m\u001b[0;34m)\u001b[0m \u001b[0;32mfrom\u001b[0m \u001b[0;32mNone\u001b[0m\u001b[0;34m\u001b[0m\u001b[0;34m\u001b[0m\u001b[0m\n\u001b[0m\u001b[1;32m    154\u001b[0m     \u001b[0;32mfinally\u001b[0m\u001b[0;34m:\u001b[0m\u001b[0;34m\u001b[0m\u001b[0;34m\u001b[0m\u001b[0m\n\u001b[1;32m    155\u001b[0m       \u001b[0;32mdel\u001b[0m \u001b[0mfiltered_tb\u001b[0m\u001b[0;34m\u001b[0m\u001b[0;34m\u001b[0m\u001b[0m\n",
            "\u001b[0;32m/usr/local/lib/python3.7/dist-packages/tensorflow/python/framework/ops.py\u001b[0m in \u001b[0;36mraise_from_not_ok_status\u001b[0;34m(e, name)\u001b[0m\n\u001b[1;32m   7184\u001b[0m \u001b[0;32mdef\u001b[0m \u001b[0mraise_from_not_ok_status\u001b[0m\u001b[0;34m(\u001b[0m\u001b[0me\u001b[0m\u001b[0;34m,\u001b[0m \u001b[0mname\u001b[0m\u001b[0;34m)\u001b[0m\u001b[0;34m:\u001b[0m\u001b[0;34m\u001b[0m\u001b[0;34m\u001b[0m\u001b[0m\n\u001b[1;32m   7185\u001b[0m   \u001b[0me\u001b[0m\u001b[0;34m.\u001b[0m\u001b[0mmessage\u001b[0m \u001b[0;34m+=\u001b[0m \u001b[0;34m(\u001b[0m\u001b[0;34m\" name: \"\u001b[0m \u001b[0;34m+\u001b[0m \u001b[0mname\u001b[0m \u001b[0;32mif\u001b[0m \u001b[0mname\u001b[0m \u001b[0;32mis\u001b[0m \u001b[0;32mnot\u001b[0m \u001b[0;32mNone\u001b[0m \u001b[0;32melse\u001b[0m \u001b[0;34m\"\"\u001b[0m\u001b[0;34m)\u001b[0m\u001b[0;34m\u001b[0m\u001b[0;34m\u001b[0m\u001b[0m\n\u001b[0;32m-> 7186\u001b[0;31m   \u001b[0;32mraise\u001b[0m \u001b[0mcore\u001b[0m\u001b[0;34m.\u001b[0m\u001b[0m_status_to_exception\u001b[0m\u001b[0;34m(\u001b[0m\u001b[0me\u001b[0m\u001b[0;34m)\u001b[0m \u001b[0;32mfrom\u001b[0m \u001b[0;32mNone\u001b[0m  \u001b[0;31m# pylint: disable=protected-access\u001b[0m\u001b[0;34m\u001b[0m\u001b[0;34m\u001b[0m\u001b[0m\n\u001b[0m\u001b[1;32m   7187\u001b[0m \u001b[0;34m\u001b[0m\u001b[0m\n\u001b[1;32m   7188\u001b[0m \u001b[0;34m\u001b[0m\u001b[0m\n",
            "\u001b[0;31mInvalidArgumentError\u001b[0m: Matrix size-incompatible: In[0]: [5,300], In[1]: [5,300] [Op:MatMul]"
          ]
        }
      ]
    },
    {
      "cell_type": "markdown",
      "source": [
        "5. Multiply the two tensors you created in 3 using dot product."
      ],
      "metadata": {
        "id": "hozpcuK7Jong"
      }
    },
    {
      "cell_type": "code",
      "source": [
        "tf.tensordot(tf.transpose(tensor1), tensor2, axes=1)"
      ],
      "metadata": {
        "id": "tgNIepU_KZeC",
        "colab": {
          "base_uri": "https://localhost:8080/"
        },
        "outputId": "cb1833ac-5d93-4f21-ffe9-089e26226c35"
      },
      "execution_count": 11,
      "outputs": [
        {
          "output_type": "execute_result",
          "data": {
            "text/plain": [
              "<tf.Tensor: shape=(300, 300), dtype=int32, numpy=\n",
              "array([[0, 0, 0, ..., 0, 0, 0],\n",
              "       [0, 0, 0, ..., 0, 0, 0],\n",
              "       [0, 0, 0, ..., 0, 0, 0],\n",
              "       ...,\n",
              "       [0, 0, 0, ..., 0, 0, 0],\n",
              "       [0, 0, 0, ..., 0, 0, 0],\n",
              "       [0, 0, 0, ..., 0, 0, 0]], dtype=int32)>"
            ]
          },
          "metadata": {},
          "execution_count": 11
        }
      ]
    },
    {
      "cell_type": "markdown",
      "source": [
        "6. Create a tensor with random values between 0 and 1 with shape `[224, 224, 3]`."
      ],
      "metadata": {
        "id": "r40Bx6D5Join"
      }
    },
    {
      "cell_type": "code",
      "source": [
        "tensor3D = tf.random.uniform(\n",
        "    shape=(244, 244, 3),\n",
        "    minval=0,\n",
        "    maxval=1\n",
        ")\n",
        "\n",
        "tensor3D"
      ],
      "metadata": {
        "id": "mTODex3IKaFK",
        "colab": {
          "base_uri": "https://localhost:8080/"
        },
        "outputId": "ffd2780f-7ec1-40be-cc68-30f41354cba8"
      },
      "execution_count": 12,
      "outputs": [
        {
          "output_type": "execute_result",
          "data": {
            "text/plain": [
              "<tf.Tensor: shape=(244, 244, 3), dtype=float32, numpy=\n",
              "array([[[0.37005293, 0.9572834 , 0.5666293 ],\n",
              "        [0.41058362, 0.29749453, 0.41003323],\n",
              "        [0.63072217, 0.270617  , 0.9966551 ],\n",
              "        ...,\n",
              "        [0.3866539 , 0.2260611 , 0.28329492],\n",
              "        [0.48332906, 0.527737  , 0.6485405 ],\n",
              "        [0.10931253, 0.26282823, 0.8035594 ]],\n",
              "\n",
              "       [[0.9176141 , 0.7507912 , 0.5309876 ],\n",
              "        [0.9819226 , 0.2704637 , 0.09369516],\n",
              "        [0.7763878 , 0.62363017, 0.8016881 ],\n",
              "        ...,\n",
              "        [0.64171934, 0.0790844 , 0.89053154],\n",
              "        [0.29825544, 0.8737738 , 0.6880189 ],\n",
              "        [0.87361956, 0.62494636, 0.2340759 ]],\n",
              "\n",
              "       [[0.9765581 , 0.01827455, 0.6914859 ],\n",
              "        [0.48732722, 0.6987883 , 0.11175346],\n",
              "        [0.44656408, 0.7017698 , 0.9925668 ],\n",
              "        ...,\n",
              "        [0.7231469 , 0.24660885, 0.43943906],\n",
              "        [0.8618566 , 0.16253519, 0.21529984],\n",
              "        [0.21430409, 0.00739765, 0.96485627]],\n",
              "\n",
              "       ...,\n",
              "\n",
              "       [[0.44555616, 0.5185274 , 0.500345  ],\n",
              "        [0.14483547, 0.00201952, 0.9088006 ],\n",
              "        [0.36503065, 0.29285598, 0.72165823],\n",
              "        ...,\n",
              "        [0.01528275, 0.41068482, 0.7805191 ],\n",
              "        [0.5621911 , 0.30092454, 0.20418799],\n",
              "        [0.04941559, 0.66655576, 0.7707112 ]],\n",
              "\n",
              "       [[0.5860261 , 0.35009897, 0.57500935],\n",
              "        [0.40096962, 0.52388346, 0.29371488],\n",
              "        [0.11679721, 0.50087166, 0.340585  ],\n",
              "        ...,\n",
              "        [0.4570402 , 0.9411799 , 0.852563  ],\n",
              "        [0.6457559 , 0.48559237, 0.02609503],\n",
              "        [0.87764883, 0.6495633 , 0.7993901 ]],\n",
              "\n",
              "       [[0.14510262, 0.96985126, 0.6209301 ],\n",
              "        [0.18615627, 0.715109  , 0.51385605],\n",
              "        [0.18255806, 0.71894884, 0.6474649 ],\n",
              "        ...,\n",
              "        [0.42828584, 0.40046597, 0.47145557],\n",
              "        [0.659145  , 0.19098079, 0.42883277],\n",
              "        [0.7486739 , 0.80391383, 0.20126808]]], dtype=float32)>"
            ]
          },
          "metadata": {},
          "execution_count": 12
        }
      ]
    },
    {
      "cell_type": "markdown",
      "source": [
        "7. Find the min and max values of the tensor you created in 6 along the first axis."
      ],
      "metadata": {
        "id": "co_kAKSKJocg"
      }
    },
    {
      "cell_type": "code",
      "source": [],
      "metadata": {
        "id": "Efrs9jhMKag0"
      },
      "execution_count": null,
      "outputs": []
    },
    {
      "cell_type": "markdown",
      "source": [
        "8. Created a tensor with random values of shape `[1, 224, 224, 3]` then squeeze it to change the shape to `[224, 224, 3]`."
      ],
      "metadata": {
        "id": "kuaolCtGJoWd"
      }
    },
    {
      "cell_type": "code",
      "source": [],
      "metadata": {
        "id": "njOSaujkKbE6"
      },
      "execution_count": null,
      "outputs": []
    },
    {
      "cell_type": "markdown",
      "source": [
        "9. Create a tensor with shape `[10]` using your own choice of values, then find the index which has the maximum value."
      ],
      "metadata": {
        "id": "NR8ocKJFJoRB"
      }
    },
    {
      "cell_type": "code",
      "source": [],
      "metadata": {
        "id": "bjvTrjSmKbpG"
      },
      "execution_count": null,
      "outputs": []
    },
    {
      "cell_type": "markdown",
      "source": [
        "10. One-hot encode the tensor you created in 9."
      ],
      "metadata": {
        "id": "Ya0Zju6CJoBE"
      }
    },
    {
      "cell_type": "code",
      "source": [],
      "metadata": {
        "id": "u46AZyRPKWAp"
      },
      "execution_count": null,
      "outputs": []
    }
  ]
}