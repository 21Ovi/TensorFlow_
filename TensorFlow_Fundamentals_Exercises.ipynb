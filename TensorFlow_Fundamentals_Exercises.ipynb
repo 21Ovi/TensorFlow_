{
  "nbformat": 4,
  "nbformat_minor": 0,
  "metadata": {
    "colab": {
      "provenance": [],
      "authorship_tag": "ABX9TyPAujOJBMmGwawLqw7fELxv",
      "include_colab_link": true
    },
    "kernelspec": {
      "name": "python3",
      "display_name": "Python 3"
    },
    "language_info": {
      "name": "python"
    }
  },
  "cells": [
    {
      "cell_type": "markdown",
      "metadata": {
        "id": "view-in-github",
        "colab_type": "text"
      },
      "source": [
        "<a href=\"https://colab.research.google.com/github/21Ovi/TensorFlow_/blob/main/TensorFlow_Fundamentals_Exercises.ipynb\" target=\"_parent\"><img src=\"https://colab.research.google.com/assets/colab-badge.svg\" alt=\"Open In Colab\"/></a>"
      ]
    },
    {
      "cell_type": "markdown",
      "source": [
        "# TensorFlow Fundamentals Exercises"
      ],
      "metadata": {
        "id": "0SHky5-SJo_U"
      }
    },
    {
      "cell_type": "code",
      "source": [
        "import tensorflow as tf"
      ],
      "metadata": {
        "id": "oL5VOlt6cxYn"
      },
      "execution_count": 1,
      "outputs": []
    },
    {
      "cell_type": "markdown",
      "source": [
        "1. Create a vector, scalar, matrix and tensor with values of your choosing using `tf.constant()`."
      ],
      "metadata": {
        "id": "XKUxjzYDJo6g"
      }
    },
    {
      "cell_type": "code",
      "source": [
        "# Creating a Scalar\n",
        "scalar = tf.constant(21)\n",
        "\n",
        "# Creating a Vector\n",
        "vector = tf.constant([21, 31])\n",
        "\n",
        "# Creating a Matrix\n",
        "matrix = tf.constant([[21, 31],\n",
        "                      [31, 21]])\n",
        "\n",
        "# Creating a Tensor\n",
        "tensor = tf.constant([[[1, 2, 3],\n",
        "                       [4, 5, 6]],\n",
        "                      \n",
        "                      [[7, 8, 9],\n",
        "                       [10, 11, 12]],\n",
        "                      \n",
        "                      [[13, 14, 15],\n",
        "                       [16, 17, 18]]])\n",
        "tensor"
      ],
      "metadata": {
        "id": "PbqRUft5KXQ6",
        "colab": {
          "base_uri": "https://localhost:8080/"
        },
        "outputId": "6f9b8bc5-f009-4d9e-f9df-4ad177ceece1"
      },
      "execution_count": 7,
      "outputs": [
        {
          "output_type": "execute_result",
          "data": {
            "text/plain": [
              "<tf.Tensor: shape=(3, 2, 3), dtype=int32, numpy=\n",
              "array([[[ 1,  2,  3],\n",
              "        [ 4,  5,  6]],\n",
              "\n",
              "       [[ 7,  8,  9],\n",
              "        [10, 11, 12]],\n",
              "\n",
              "       [[13, 14, 15],\n",
              "        [16, 17, 18]]], dtype=int32)>"
            ]
          },
          "metadata": {},
          "execution_count": 7
        }
      ]
    },
    {
      "cell_type": "markdown",
      "source": [
        "2. Find the shape, rank and size of the tensors you created in 1."
      ],
      "metadata": {
        "id": "0MYZgIFhJo1t"
      }
    },
    {
      "cell_type": "code",
      "source": [],
      "metadata": {
        "id": "rreOcGHRKXyO"
      },
      "execution_count": null,
      "outputs": []
    },
    {
      "cell_type": "markdown",
      "source": [
        "3. Create two tensors containing random values between 0 and 1 with shape `[5, 300]`."
      ],
      "metadata": {
        "id": "sMzSzg0GJow6"
      }
    },
    {
      "cell_type": "code",
      "source": [],
      "metadata": {
        "id": "bXipVEVMKYdz"
      },
      "execution_count": null,
      "outputs": []
    },
    {
      "cell_type": "markdown",
      "source": [
        "4. Multiply the two tensors you created in 3 using matrix multiplication."
      ],
      "metadata": {
        "id": "abZesZBaJosi"
      }
    },
    {
      "cell_type": "code",
      "source": [],
      "metadata": {
        "id": "B28I3bOFKZBx"
      },
      "execution_count": null,
      "outputs": []
    },
    {
      "cell_type": "markdown",
      "source": [
        "5. Multiply the two tensors you created in 3 using dot product."
      ],
      "metadata": {
        "id": "hozpcuK7Jong"
      }
    },
    {
      "cell_type": "code",
      "source": [],
      "metadata": {
        "id": "tgNIepU_KZeC"
      },
      "execution_count": null,
      "outputs": []
    },
    {
      "cell_type": "markdown",
      "source": [
        "6. Create a tensor with random values between 0 and 1 with shape `[224, 224, 3]`."
      ],
      "metadata": {
        "id": "r40Bx6D5Join"
      }
    },
    {
      "cell_type": "code",
      "source": [],
      "metadata": {
        "id": "mTODex3IKaFK"
      },
      "execution_count": null,
      "outputs": []
    },
    {
      "cell_type": "markdown",
      "source": [
        "7. Find the min and max values of the tensor you created in 6 along the first axis."
      ],
      "metadata": {
        "id": "co_kAKSKJocg"
      }
    },
    {
      "cell_type": "code",
      "source": [],
      "metadata": {
        "id": "Efrs9jhMKag0"
      },
      "execution_count": null,
      "outputs": []
    },
    {
      "cell_type": "markdown",
      "source": [
        "8. Created a tensor with random values of shape `[1, 224, 224, 3]` then squeeze it to change the shape to `[224, 224, 3]`."
      ],
      "metadata": {
        "id": "kuaolCtGJoWd"
      }
    },
    {
      "cell_type": "code",
      "source": [],
      "metadata": {
        "id": "njOSaujkKbE6"
      },
      "execution_count": null,
      "outputs": []
    },
    {
      "cell_type": "markdown",
      "source": [
        "9. Create a tensor with shape `[10]` using your own choice of values, then find the index which has the maximum value."
      ],
      "metadata": {
        "id": "NR8ocKJFJoRB"
      }
    },
    {
      "cell_type": "code",
      "source": [],
      "metadata": {
        "id": "bjvTrjSmKbpG"
      },
      "execution_count": null,
      "outputs": []
    },
    {
      "cell_type": "markdown",
      "source": [
        "10. One-hot encode the tensor you created in 9."
      ],
      "metadata": {
        "id": "Ya0Zju6CJoBE"
      }
    },
    {
      "cell_type": "code",
      "source": [],
      "metadata": {
        "id": "u46AZyRPKWAp"
      },
      "execution_count": null,
      "outputs": []
    }
  ]
}