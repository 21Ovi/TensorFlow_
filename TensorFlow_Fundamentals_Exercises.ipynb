{
  "nbformat": 4,
  "nbformat_minor": 0,
  "metadata": {
    "colab": {
      "provenance": [],
      "collapsed_sections": [],
      "authorship_tag": "ABX9TyM2PSfLb+Qo+6H4AMbYfbp/",
      "include_colab_link": true
    },
    "kernelspec": {
      "name": "python3",
      "display_name": "Python 3"
    },
    "language_info": {
      "name": "python"
    }
  },
  "cells": [
    {
      "cell_type": "markdown",
      "metadata": {
        "id": "view-in-github",
        "colab_type": "text"
      },
      "source": [
        "<a href=\"https://colab.research.google.com/github/21Ovi/TensorFlow_/blob/main/TensorFlow_Fundamentals_Exercises.ipynb\" target=\"_parent\"><img src=\"https://colab.research.google.com/assets/colab-badge.svg\" alt=\"Open In Colab\"/></a>"
      ]
    },
    {
      "cell_type": "markdown",
      "source": [
        "# TensorFlow Fundamentals Exercises"
      ],
      "metadata": {
        "id": "0SHky5-SJo_U"
      }
    },
    {
      "cell_type": "code",
      "source": [
        "import tensorflow as tf\n",
        "import numpy as np"
      ],
      "metadata": {
        "id": "oL5VOlt6cxYn"
      },
      "execution_count": 1,
      "outputs": []
    },
    {
      "cell_type": "markdown",
      "source": [
        "1. Create a vector, scalar, matrix and tensor with values of your choosing using `tf.constant()`."
      ],
      "metadata": {
        "id": "XKUxjzYDJo6g"
      }
    },
    {
      "cell_type": "code",
      "source": [
        "# Creating a Scalar\n",
        "scalar = tf.constant(21)\n",
        "\n",
        "# Creating a Vector\n",
        "vector = tf.constant([21, 31])\n",
        "\n",
        "# Creating a Matrix\n",
        "matrix = tf.constant([[21, 31],\n",
        "                      [31, 21]])\n",
        "\n",
        "# Creating a Tensor\n",
        "tensor = tf.constant([[[1, 2, 3],\n",
        "                       [4, 5, 6]],\n",
        "                      \n",
        "                      [[7, 8, 9],\n",
        "                       [10, 11, 12]],\n",
        "                      \n",
        "                      [[13, 14, 15],\n",
        "                       [16, 17, 18]]])\n",
        "tensor"
      ],
      "metadata": {
        "id": "PbqRUft5KXQ6",
        "colab": {
          "base_uri": "https://localhost:8080/"
        },
        "outputId": "091d8213-1378-4f16-ba5e-2c572c33fbb8"
      },
      "execution_count": 2,
      "outputs": [
        {
          "output_type": "execute_result",
          "data": {
            "text/plain": [
              "<tf.Tensor: shape=(3, 2, 3), dtype=int32, numpy=\n",
              "array([[[ 1,  2,  3],\n",
              "        [ 4,  5,  6]],\n",
              "\n",
              "       [[ 7,  8,  9],\n",
              "        [10, 11, 12]],\n",
              "\n",
              "       [[13, 14, 15],\n",
              "        [16, 17, 18]]], dtype=int32)>"
            ]
          },
          "metadata": {},
          "execution_count": 2
        }
      ]
    },
    {
      "cell_type": "markdown",
      "source": [
        "2. Find the shape, rank and size of the tensors you created in 1."
      ],
      "metadata": {
        "id": "0MYZgIFhJo1t"
      }
    },
    {
      "cell_type": "code",
      "source": [
        "# Getting shape\n",
        "print( 'Shape: ',tensor.shape,'\\n')\n",
        "\n",
        "# Getting Rank\n",
        "print( 'Rank: ',tf.rank(tensor),'\\n')\n",
        "\n",
        "# Getting Size\n",
        "print( 'Size: ',tf.size(tensor))"
      ],
      "metadata": {
        "id": "rreOcGHRKXyO",
        "colab": {
          "base_uri": "https://localhost:8080/"
        },
        "outputId": "53cc5f68-269a-4f48-a610-8b81ca8f240b"
      },
      "execution_count": 3,
      "outputs": [
        {
          "output_type": "stream",
          "name": "stdout",
          "text": [
            "Shape:  (3, 2, 3) \n",
            "\n",
            "Rank:  tf.Tensor(3, shape=(), dtype=int32) \n",
            "\n",
            "Size:  tf.Tensor(18, shape=(), dtype=int32)\n"
          ]
        }
      ]
    },
    {
      "cell_type": "markdown",
      "source": [
        "3. Create two tensors containing random values between 0 and 1 with shape `[5, 300]`."
      ],
      "metadata": {
        "id": "sMzSzg0GJow6"
      }
    },
    {
      "cell_type": "code",
      "source": [
        "tensor1 = tf.random.uniform(\n",
        "   shape=[5, 300],\n",
        "    minval=0,\n",
        "    maxval=1,\n",
        "    dtype=tf.dtypes.int32,\n",
        ")\n",
        "\n",
        "tensor2 = tf.random.uniform(\n",
        "    shape=[5, 300],\n",
        "    minval=0,\n",
        "    maxval=1,\n",
        "    dtype=tf.dtypes.int32,\n",
        ")"
      ],
      "metadata": {
        "id": "bXipVEVMKYdz"
      },
      "execution_count": 4,
      "outputs": []
    },
    {
      "cell_type": "markdown",
      "source": [
        "4. Multiply the two tensors you created in 3 using matrix multiplication."
      ],
      "metadata": {
        "id": "abZesZBaJosi"
      }
    },
    {
      "cell_type": "code",
      "source": [
        "tf.reshape(tensor1, shape=(300, 5))\n",
        "matrix_prod = tf.matmul(tensor1, tensor1)"
      ],
      "metadata": {
        "id": "B28I3bOFKZBx",
        "colab": {
          "base_uri": "https://localhost:8080/",
          "height": 329
        },
        "outputId": "a63b0f83-a90d-4391-fcb5-3b9ef84d3d4b"
      },
      "execution_count": 10,
      "outputs": [
        {
          "output_type": "error",
          "ename": "InvalidArgumentError",
          "evalue": "ignored",
          "traceback": [
            "\u001b[0;31m---------------------------------------------------------------------------\u001b[0m",
            "\u001b[0;31mInvalidArgumentError\u001b[0m                      Traceback (most recent call last)",
            "\u001b[0;32m<ipython-input-10-1bc8d93bda38>\u001b[0m in \u001b[0;36m<module>\u001b[0;34m\u001b[0m\n\u001b[1;32m      1\u001b[0m \u001b[0mtf\u001b[0m\u001b[0;34m.\u001b[0m\u001b[0mreshape\u001b[0m\u001b[0;34m(\u001b[0m\u001b[0mtensor1\u001b[0m\u001b[0;34m,\u001b[0m \u001b[0mshape\u001b[0m\u001b[0;34m=\u001b[0m\u001b[0;34m(\u001b[0m\u001b[0;36m300\u001b[0m\u001b[0;34m,\u001b[0m \u001b[0;36m5\u001b[0m\u001b[0;34m)\u001b[0m\u001b[0;34m)\u001b[0m\u001b[0;34m\u001b[0m\u001b[0;34m\u001b[0m\u001b[0m\n\u001b[0;32m----> 2\u001b[0;31m \u001b[0mmatrix_prod\u001b[0m \u001b[0;34m=\u001b[0m \u001b[0mtf\u001b[0m\u001b[0;34m.\u001b[0m\u001b[0mmatmul\u001b[0m\u001b[0;34m(\u001b[0m\u001b[0mtensor1\u001b[0m\u001b[0;34m,\u001b[0m \u001b[0mtensor1\u001b[0m\u001b[0;34m)\u001b[0m\u001b[0;34m\u001b[0m\u001b[0;34m\u001b[0m\u001b[0m\n\u001b[0m",
            "\u001b[0;32m/usr/local/lib/python3.7/dist-packages/tensorflow/python/util/traceback_utils.py\u001b[0m in \u001b[0;36merror_handler\u001b[0;34m(*args, **kwargs)\u001b[0m\n\u001b[1;32m    151\u001b[0m     \u001b[0;32mexcept\u001b[0m \u001b[0mException\u001b[0m \u001b[0;32mas\u001b[0m \u001b[0me\u001b[0m\u001b[0;34m:\u001b[0m\u001b[0;34m\u001b[0m\u001b[0;34m\u001b[0m\u001b[0m\n\u001b[1;32m    152\u001b[0m       \u001b[0mfiltered_tb\u001b[0m \u001b[0;34m=\u001b[0m \u001b[0m_process_traceback_frames\u001b[0m\u001b[0;34m(\u001b[0m\u001b[0me\u001b[0m\u001b[0;34m.\u001b[0m\u001b[0m__traceback__\u001b[0m\u001b[0;34m)\u001b[0m\u001b[0;34m\u001b[0m\u001b[0;34m\u001b[0m\u001b[0m\n\u001b[0;32m--> 153\u001b[0;31m       \u001b[0;32mraise\u001b[0m \u001b[0me\u001b[0m\u001b[0;34m.\u001b[0m\u001b[0mwith_traceback\u001b[0m\u001b[0;34m(\u001b[0m\u001b[0mfiltered_tb\u001b[0m\u001b[0;34m)\u001b[0m \u001b[0;32mfrom\u001b[0m \u001b[0;32mNone\u001b[0m\u001b[0;34m\u001b[0m\u001b[0;34m\u001b[0m\u001b[0m\n\u001b[0m\u001b[1;32m    154\u001b[0m     \u001b[0;32mfinally\u001b[0m\u001b[0;34m:\u001b[0m\u001b[0;34m\u001b[0m\u001b[0;34m\u001b[0m\u001b[0m\n\u001b[1;32m    155\u001b[0m       \u001b[0;32mdel\u001b[0m \u001b[0mfiltered_tb\u001b[0m\u001b[0;34m\u001b[0m\u001b[0;34m\u001b[0m\u001b[0m\n",
            "\u001b[0;32m/usr/local/lib/python3.7/dist-packages/tensorflow/python/framework/ops.py\u001b[0m in \u001b[0;36mraise_from_not_ok_status\u001b[0;34m(e, name)\u001b[0m\n\u001b[1;32m   7184\u001b[0m \u001b[0;32mdef\u001b[0m \u001b[0mraise_from_not_ok_status\u001b[0m\u001b[0;34m(\u001b[0m\u001b[0me\u001b[0m\u001b[0;34m,\u001b[0m \u001b[0mname\u001b[0m\u001b[0;34m)\u001b[0m\u001b[0;34m:\u001b[0m\u001b[0;34m\u001b[0m\u001b[0;34m\u001b[0m\u001b[0m\n\u001b[1;32m   7185\u001b[0m   \u001b[0me\u001b[0m\u001b[0;34m.\u001b[0m\u001b[0mmessage\u001b[0m \u001b[0;34m+=\u001b[0m \u001b[0;34m(\u001b[0m\u001b[0;34m\" name: \"\u001b[0m \u001b[0;34m+\u001b[0m \u001b[0mname\u001b[0m \u001b[0;32mif\u001b[0m \u001b[0mname\u001b[0m \u001b[0;32mis\u001b[0m \u001b[0;32mnot\u001b[0m \u001b[0;32mNone\u001b[0m \u001b[0;32melse\u001b[0m \u001b[0;34m\"\"\u001b[0m\u001b[0;34m)\u001b[0m\u001b[0;34m\u001b[0m\u001b[0;34m\u001b[0m\u001b[0m\n\u001b[0;32m-> 7186\u001b[0;31m   \u001b[0;32mraise\u001b[0m \u001b[0mcore\u001b[0m\u001b[0;34m.\u001b[0m\u001b[0m_status_to_exception\u001b[0m\u001b[0;34m(\u001b[0m\u001b[0me\u001b[0m\u001b[0;34m)\u001b[0m \u001b[0;32mfrom\u001b[0m \u001b[0;32mNone\u001b[0m  \u001b[0;31m# pylint: disable=protected-access\u001b[0m\u001b[0;34m\u001b[0m\u001b[0;34m\u001b[0m\u001b[0m\n\u001b[0m\u001b[1;32m   7187\u001b[0m \u001b[0;34m\u001b[0m\u001b[0m\n\u001b[1;32m   7188\u001b[0m \u001b[0;34m\u001b[0m\u001b[0m\n",
            "\u001b[0;31mInvalidArgumentError\u001b[0m: Matrix size-incompatible: In[0]: [5,300], In[1]: [5,300] [Op:MatMul]"
          ]
        }
      ]
    },
    {
      "cell_type": "markdown",
      "source": [
        "5. Multiply the two tensors you created in 3 using dot product."
      ],
      "metadata": {
        "id": "hozpcuK7Jong"
      }
    },
    {
      "cell_type": "code",
      "source": [
        "tf.tensordot(tf.transpose(tensor1), tensor2, axes=1)"
      ],
      "metadata": {
        "id": "tgNIepU_KZeC",
        "colab": {
          "base_uri": "https://localhost:8080/"
        },
        "outputId": "cb1833ac-5d93-4f21-ffe9-089e26226c35"
      },
      "execution_count": 11,
      "outputs": [
        {
          "output_type": "execute_result",
          "data": {
            "text/plain": [
              "<tf.Tensor: shape=(300, 300), dtype=int32, numpy=\n",
              "array([[0, 0, 0, ..., 0, 0, 0],\n",
              "       [0, 0, 0, ..., 0, 0, 0],\n",
              "       [0, 0, 0, ..., 0, 0, 0],\n",
              "       ...,\n",
              "       [0, 0, 0, ..., 0, 0, 0],\n",
              "       [0, 0, 0, ..., 0, 0, 0],\n",
              "       [0, 0, 0, ..., 0, 0, 0]], dtype=int32)>"
            ]
          },
          "metadata": {},
          "execution_count": 11
        }
      ]
    },
    {
      "cell_type": "markdown",
      "source": [
        "6. Create a tensor with random values between 0 and 1 with shape `[224, 224, 3]`."
      ],
      "metadata": {
        "id": "r40Bx6D5Join"
      }
    },
    {
      "cell_type": "code",
      "source": [
        "tensor3D = tf.random.uniform(\n",
        "    shape=(244, 244, 3),\n",
        "    minval=0,\n",
        "    maxval=1,\n",
        "    dtype=tf.dtypes.float16,\n",
        ")\n",
        "\n",
        "tensor3D"
      ],
      "metadata": {
        "id": "mTODex3IKaFK",
        "colab": {
          "base_uri": "https://localhost:8080/"
        },
        "outputId": "4e1ac9cf-6f4d-4435-e46e-2a5ba955fec9"
      },
      "execution_count": 19,
      "outputs": [
        {
          "output_type": "execute_result",
          "data": {
            "text/plain": [
              "<tf.Tensor: shape=(244, 244, 3), dtype=float16, numpy=\n",
              "array([[[0.7812 , 0.4033 , 0.831  ],\n",
              "        [0.02832, 0.8584 , 0.421  ],\n",
              "        [0.2695 , 0.1758 , 0.6855 ],\n",
              "        ...,\n",
              "        [0.1631 , 0.7734 , 0.8    ],\n",
              "        [0.506  , 0.949  , 0.2812 ],\n",
              "        [0.6875 , 0.1914 , 0.1172 ]],\n",
              "\n",
              "       [[0.03613, 0.6904 , 0.4111 ],\n",
              "        [0.833  , 0.6523 , 0.2471 ],\n",
              "        [0.6377 , 0.46   , 0.536  ],\n",
              "        ...,\n",
              "        [0.1406 , 0.498  , 0.6826 ],\n",
              "        [0.1963 , 0.4277 , 0.4014 ],\n",
              "        [0.378  , 0.5684 , 0.126  ]],\n",
              "\n",
              "       [[0.03223, 0.2686 , 0.915  ],\n",
              "        [0.99   , 0.4844 , 0.925  ],\n",
              "        [0.996  , 0.378  , 0.702  ],\n",
              "        ...,\n",
              "        [0.802  , 0.4834 , 0.29   ],\n",
              "        [0.1211 , 0.254  , 0.4414 ],\n",
              "        [0.4365 , 0.3613 , 0.2041 ]],\n",
              "\n",
              "       ...,\n",
              "\n",
              "       [[0.0957 , 0.7656 , 0.7793 ],\n",
              "        [0.2324 , 0.2764 , 0.658  ],\n",
              "        [0.745  , 0.62   , 0.616  ],\n",
              "        ...,\n",
              "        [0.1465 , 0.547  , 0.06055],\n",
              "        [0.2266 , 0.8105 , 0.126  ],\n",
              "        [0.0381 , 0.589  , 0.4648 ]],\n",
              "\n",
              "       [[0.4736 , 0.3564 , 0.831  ],\n",
              "        [0.59   , 0.6963 , 0.536  ],\n",
              "        [0.1465 , 0.1494 , 0.6953 ],\n",
              "        ...,\n",
              "        [0.5596 , 0.868  , 0.2344 ],\n",
              "        [0.1289 , 0.915  , 0.2373 ],\n",
              "        [0.9834 , 0.2617 , 0.2578 ]],\n",
              "\n",
              "       [[0.579  , 0.126  , 0.01563],\n",
              "        [0.714  , 0.2988 , 0.7656 ],\n",
              "        [0.1318 , 0.702  , 0.3145 ],\n",
              "        ...,\n",
              "        [0.7383 , 0.293  , 0.872  ],\n",
              "        [0.2852 , 0.8584 , 0.907  ],\n",
              "        [0.1777 , 0.     , 0.8    ]]], dtype=float16)>"
            ]
          },
          "metadata": {},
          "execution_count": 19
        }
      ]
    },
    {
      "cell_type": "markdown",
      "source": [
        "7. Find the min and max values of the tensor you created in 6 along the first axis."
      ],
      "metadata": {
        "id": "co_kAKSKJocg"
      }
    },
    {
      "cell_type": "code",
      "source": [
        "max = tf.reduce_max(tensor3D)\n",
        "min = tf.reduce_min(tensor3D)\n",
        "\n",
        "print(\"max value is :\", max ,\"\\n\")\n",
        "print(\"min value is :\", min)"
      ],
      "metadata": {
        "id": "Efrs9jhMKag0",
        "colab": {
          "base_uri": "https://localhost:8080/"
        },
        "outputId": "2a5da7a1-3e69-4f55-f0f4-078aa67725e5"
      },
      "execution_count": 20,
      "outputs": [
        {
          "output_type": "stream",
          "name": "stdout",
          "text": [
            "max value is : tf.Tensor(0.999, shape=(), dtype=float16) \n",
            "\n",
            "min value is : tf.Tensor(0.0, shape=(), dtype=float16)\n"
          ]
        }
      ]
    },
    {
      "cell_type": "markdown",
      "source": [
        "8. Created a tensor with random values of shape `[1, 224, 224, 3]` then squeeze it to change the shape to `[224, 224, 3]`."
      ],
      "metadata": {
        "id": "kuaolCtGJoWd"
      }
    },
    {
      "cell_type": "code",
      "source": [
        "tensor4D = tf.random.uniform(\n",
        "    shape=(1, 224, 224, 3)\n",
        ")\n",
        "\n",
        "squeezedTensor = tf.squeeze(tensor4D)\n",
        "squeezedTensor"
      ],
      "metadata": {
        "id": "njOSaujkKbE6",
        "colab": {
          "base_uri": "https://localhost:8080/"
        },
        "outputId": "9c30cea2-d045-4299-8b90-dfb25aa8c827"
      },
      "execution_count": 23,
      "outputs": [
        {
          "output_type": "execute_result",
          "data": {
            "text/plain": [
              "<tf.Tensor: shape=(224, 224, 3), dtype=float32, numpy=\n",
              "array([[[0.28847134, 0.10128903, 0.9334878 ],\n",
              "        [0.57462144, 0.24543393, 0.27564907],\n",
              "        [0.68776333, 0.12025476, 0.3684107 ],\n",
              "        ...,\n",
              "        [0.99799585, 0.10281229, 0.09656072],\n",
              "        [0.873258  , 0.07790732, 0.26249075],\n",
              "        [0.36061847, 0.5988513 , 0.93927526]],\n",
              "\n",
              "       [[0.87041926, 0.12167537, 0.6850798 ],\n",
              "        [0.6389111 , 0.22552764, 0.9842632 ],\n",
              "        [0.3225118 , 0.8599168 , 0.10901332],\n",
              "        ...,\n",
              "        [0.3432442 , 0.43206966, 0.9613621 ],\n",
              "        [0.7161474 , 0.40818667, 0.14115262],\n",
              "        [0.45185542, 0.62193286, 0.01969588]],\n",
              "\n",
              "       [[0.17436075, 0.95175016, 0.6836951 ],\n",
              "        [0.39613342, 0.05182409, 0.31457496],\n",
              "        [0.29139543, 0.10626876, 0.9307983 ],\n",
              "        ...,\n",
              "        [0.84587574, 0.60473645, 0.12768471],\n",
              "        [0.28862786, 0.17529356, 0.30070972],\n",
              "        [0.10867488, 0.86899567, 0.34000635]],\n",
              "\n",
              "       ...,\n",
              "\n",
              "       [[0.36490273, 0.4467038 , 0.5246589 ],\n",
              "        [0.16323638, 0.9225788 , 0.9791361 ],\n",
              "        [0.11345232, 0.64815915, 0.41502166],\n",
              "        ...,\n",
              "        [0.38714147, 0.12337124, 0.7507932 ],\n",
              "        [0.5071274 , 0.6725844 , 0.57337236],\n",
              "        [0.32131958, 0.54177606, 0.31869984]],\n",
              "\n",
              "       [[0.38207996, 0.79241693, 0.94705915],\n",
              "        [0.08626866, 0.0778991 , 0.8273481 ],\n",
              "        [0.6992104 , 0.31837976, 0.18373406],\n",
              "        ...,\n",
              "        [0.5715631 , 0.09146237, 0.03497243],\n",
              "        [0.28452885, 0.97974336, 0.7392911 ],\n",
              "        [0.4448409 , 0.44962525, 0.94214153]],\n",
              "\n",
              "       [[0.9466822 , 0.80742514, 0.8775768 ],\n",
              "        [0.49796832, 0.00608099, 0.5829799 ],\n",
              "        [0.88865423, 0.707142  , 0.03696132],\n",
              "        ...,\n",
              "        [0.03033066, 0.1135968 , 0.415743  ],\n",
              "        [0.49902117, 0.09487605, 0.33720088],\n",
              "        [0.86884415, 0.93202436, 0.97697175]]], dtype=float32)>"
            ]
          },
          "metadata": {},
          "execution_count": 23
        }
      ]
    },
    {
      "cell_type": "markdown",
      "source": [
        "9. Create a tensor with shape `[10]` using your own choice of values, then find the index which has the maximum value."
      ],
      "metadata": {
        "id": "NR8ocKJFJoRB"
      }
    },
    {
      "cell_type": "code",
      "source": [
        "indices = tf.constant([1, 2, 3,4 ,5 ,6 ,7 ,8 ,9 ,10])\n",
        "indices"
      ],
      "metadata": {
        "id": "bjvTrjSmKbpG",
        "colab": {
          "base_uri": "https://localhost:8080/"
        },
        "outputId": "088e376d-6111-4a78-d858-34ce3db86109"
      },
      "execution_count": 45,
      "outputs": [
        {
          "output_type": "execute_result",
          "data": {
            "text/plain": [
              "<tf.Tensor: shape=(10,), dtype=int32, numpy=array([ 1,  2,  3,  4,  5,  6,  7,  8,  9, 10], dtype=int32)>"
            ]
          },
          "metadata": {},
          "execution_count": 45
        }
      ]
    },
    {
      "cell_type": "markdown",
      "source": [
        "10. One-hot encode the tensor you created in 9."
      ],
      "metadata": {
        "id": "Ya0Zju6CJoBE"
      }
    },
    {
      "cell_type": "code",
      "source": [
        "tf.one_hot(indices, depth=10)"
      ],
      "metadata": {
        "id": "u46AZyRPKWAp",
        "colab": {
          "base_uri": "https://localhost:8080/"
        },
        "outputId": "a40cd6a7-0c3e-42f4-a5fe-f56b9322193b"
      },
      "execution_count": 46,
      "outputs": [
        {
          "output_type": "execute_result",
          "data": {
            "text/plain": [
              "<tf.Tensor: shape=(10, 10), dtype=float32, numpy=\n",
              "array([[0., 1., 0., 0., 0., 0., 0., 0., 0., 0.],\n",
              "       [0., 0., 1., 0., 0., 0., 0., 0., 0., 0.],\n",
              "       [0., 0., 0., 1., 0., 0., 0., 0., 0., 0.],\n",
              "       [0., 0., 0., 0., 1., 0., 0., 0., 0., 0.],\n",
              "       [0., 0., 0., 0., 0., 1., 0., 0., 0., 0.],\n",
              "       [0., 0., 0., 0., 0., 0., 1., 0., 0., 0.],\n",
              "       [0., 0., 0., 0., 0., 0., 0., 1., 0., 0.],\n",
              "       [0., 0., 0., 0., 0., 0., 0., 0., 1., 0.],\n",
              "       [0., 0., 0., 0., 0., 0., 0., 0., 0., 1.],\n",
              "       [0., 0., 0., 0., 0., 0., 0., 0., 0., 0.]], dtype=float32)>"
            ]
          },
          "metadata": {},
          "execution_count": 46
        }
      ]
    }
  ]
}