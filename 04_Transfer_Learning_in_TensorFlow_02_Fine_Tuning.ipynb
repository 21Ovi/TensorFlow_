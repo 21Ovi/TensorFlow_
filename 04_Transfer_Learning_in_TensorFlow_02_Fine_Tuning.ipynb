{
  "nbformat": 4,
  "nbformat_minor": 0,
  "metadata": {
    "colab": {
      "provenance": [],
      "authorship_tag": "ABX9TyPAA3Hbd2i7FxBZrbH84bFV",
      "include_colab_link": true
    },
    "kernelspec": {
      "name": "python3",
      "display_name": "Python 3"
    },
    "language_info": {
      "name": "python"
    },
    "accelerator": "GPU",
    "gpuClass": "standard"
  },
  "cells": [
    {
      "cell_type": "markdown",
      "metadata": {
        "id": "view-in-github",
        "colab_type": "text"
      },
      "source": [
        "<a href=\"https://colab.research.google.com/github/21Ovi/TensorFlow_/blob/main/04_Transfer_Learning_in_TensorFlow_02_Fine_Tuning.ipynb\" target=\"_parent\"><img src=\"https://colab.research.google.com/assets/colab-badge.svg\" alt=\"Open In Colab\"/></a>"
      ]
    },
    {
      "cell_type": "markdown",
      "source": [
        "# Transfer Learning with TensorFlow Part 2: Fine-Tuning\n",
        "\n",
        "In the previous notebook, we cpvered transfer learning feature extraction, now it's time to learn about a new kind of transfer learning : \n",
        "\n",
        "`Fine-Tuning`,"
      ],
      "metadata": {
        "id": "J8xW0uC4G3Nx"
      }
    },
    {
      "cell_type": "code",
      "source": [
        "# Check if we're using a GPY\n",
        "!nvidia-smi"
      ],
      "metadata": {
        "colab": {
          "base_uri": "https://localhost:8080/"
        },
        "id": "StldghfSHe2t",
        "outputId": "c7c9faf5-8221-4f79-a117-94f1a89aff96"
      },
      "execution_count": 1,
      "outputs": [
        {
          "output_type": "stream",
          "name": "stdout",
          "text": [
            "Wed Mar 15 16:31:03 2023       \n",
            "+-----------------------------------------------------------------------------+\n",
            "| NVIDIA-SMI 525.85.12    Driver Version: 525.85.12    CUDA Version: 12.0     |\n",
            "|-------------------------------+----------------------+----------------------+\n",
            "| GPU  Name        Persistence-M| Bus-Id        Disp.A | Volatile Uncorr. ECC |\n",
            "| Fan  Temp  Perf  Pwr:Usage/Cap|         Memory-Usage | GPU-Util  Compute M. |\n",
            "|                               |                      |               MIG M. |\n",
            "|===============================+======================+======================|\n",
            "|   0  Tesla T4            Off  | 00000000:00:04.0 Off |                    0 |\n",
            "| N/A   47C    P0    25W /  70W |      0MiB / 15360MiB |      0%      Default |\n",
            "|                               |                      |                  N/A |\n",
            "+-------------------------------+----------------------+----------------------+\n",
            "                                                                               \n",
            "+-----------------------------------------------------------------------------+\n",
            "| Processes:                                                                  |\n",
            "|  GPU   GI   CI        PID   Type   Process name                  GPU Memory |\n",
            "|        ID   ID                                                   Usage      |\n",
            "|=============================================================================|\n",
            "|  No running processes found                                                 |\n",
            "+-----------------------------------------------------------------------------+\n"
          ]
        }
      ]
    },
    {
      "cell_type": "markdown",
      "source": [
        "## Creating helper functions\n",
        "In Previous notebooks, we've created a bunch of helper functins, now we could rewrite them all, however, this is tedious\n",
        "\n",
        "So, it's a good idea to put functions you'll want to use again in a script you can download and import into notebooks( or elsewhere).\n",
        "\n",
        "we've done this for some of the previous functions we've used previously here :\n",
        "\n",
        " https://raw.githubusercontent.com/21Ovi/Helper-Functions/main/helper_functions.py"
      ],
      "metadata": {
        "id": "Z18FVszeHrhF"
      }
    },
    {
      "cell_type": "code",
      "source": [
        "!wget https://raw.githubusercontent.com/21Ovi/Helper-Functions/main/helper_functions.py"
      ],
      "metadata": {
        "colab": {
          "base_uri": "https://localhost:8080/"
        },
        "id": "0qtyfqC-H_N_",
        "outputId": "02df33f2-0add-4c60-ec4b-005d7fc8eefa"
      },
      "execution_count": 2,
      "outputs": [
        {
          "output_type": "stream",
          "name": "stdout",
          "text": [
            "--2023-03-15 16:31:03--  https://raw.githubusercontent.com/21Ovi/Helper-Functions/main/helper_functions.py\n",
            "Resolving raw.githubusercontent.com (raw.githubusercontent.com)... 185.199.110.133, 185.199.109.133, 185.199.111.133, ...\n",
            "Connecting to raw.githubusercontent.com (raw.githubusercontent.com)|185.199.110.133|:443... connected.\n",
            "HTTP request sent, awaiting response... 200 OK\n",
            "Length: 10116 (9.9K) [text/plain]\n",
            "Saving to: ‘helper_functions.py’\n",
            "\n",
            "\rhelper_functions.py   0%[                    ]       0  --.-KB/s               \rhelper_functions.py 100%[===================>]   9.88K  --.-KB/s    in 0s      \n",
            "\n",
            "2023-03-15 16:31:04 (64.4 MB/s) - ‘helper_functions.py’ saved [10116/10116]\n",
            "\n"
          ]
        }
      ]
    },
    {
      "cell_type": "code",
      "source": [
        "# Import helper functions we're going to use in this notebook\n",
        "from helper_functions import create_tensorboard_callback, plot_loss_curves, unzip_data, walk_through_dir"
      ],
      "metadata": {
        "id": "5vD_gG7nJOYR"
      },
      "execution_count": 3,
      "outputs": []
    },
    {
      "cell_type": "markdown",
      "source": [
        ">**Note:** If you're running this notebook in Google Colab, when it times out Colab will delete `helper_functins.py`, so you'll have to redownload it if you want access to your helper functions."
      ],
      "metadata": {
        "id": "1lf5P9ijKELC"
      }
    },
    {
      "cell_type": "markdown",
      "source": [
        "## Let's get some data\n",
        "\n",
        "This time we're going to see how we can use the pretrained models within `tf.keras.applications` and applyu them to our own problem (recognizing images of food):\n",
        "https://www.tensorflow.org/api_docs/python/tf/keras/applications"
      ],
      "metadata": {
        "id": "ZZ_OZWn0KjMP"
      }
    },
    {
      "cell_type": "code",
      "source": [
        "# Get 10% of training data\n",
        "!wget https://storage.googleapis.com/ztm_tf_course/food_vision/10_food_classes_10_percent.zip\n",
        "\n",
        "unzip_data(\"10_food_classes_10_percent.zip\")"
      ],
      "metadata": {
        "colab": {
          "base_uri": "https://localhost:8080/"
        },
        "id": "qeB7v2WWH9g6",
        "outputId": "450b3dcf-31a1-41f9-c271-0c7e7ff82bd6"
      },
      "execution_count": 4,
      "outputs": [
        {
          "output_type": "stream",
          "name": "stdout",
          "text": [
            "--2023-03-15 16:31:08--  https://storage.googleapis.com/ztm_tf_course/food_vision/10_food_classes_10_percent.zip\n",
            "Resolving storage.googleapis.com (storage.googleapis.com)... 142.250.128.128, 142.251.6.128, 108.177.112.128, ...\n",
            "Connecting to storage.googleapis.com (storage.googleapis.com)|142.250.128.128|:443... connected.\n",
            "HTTP request sent, awaiting response... 200 OK\n",
            "Length: 168546183 (161M) [application/zip]\n",
            "Saving to: ‘10_food_classes_10_percent.zip’\n",
            "\n",
            "10_food_classes_10_ 100%[===================>] 160.74M   194MB/s    in 0.8s    \n",
            "\n",
            "2023-03-15 16:31:08 (194 MB/s) - ‘10_food_classes_10_percent.zip’ saved [168546183/168546183]\n",
            "\n"
          ]
        }
      ]
    },
    {
      "cell_type": "code",
      "source": [
        "# Checkout how many images and subdirectories are in our dataset\n",
        "walk_through_dir(\"10_food_classes_10_percent\")"
      ],
      "metadata": {
        "colab": {
          "base_uri": "https://localhost:8080/"
        },
        "id": "gQZgXaAfI_7T",
        "outputId": "3e4ad2e3-fda3-4fa6-f497-130703158dae"
      },
      "execution_count": 5,
      "outputs": [
        {
          "output_type": "stream",
          "name": "stdout",
          "text": [
            "There are 2 directories and 0 images in '10_food_classes_10_percent'.\n",
            "There are 10 directories and 0 images in '10_food_classes_10_percent/test'.\n",
            "There are 0 directories and 250 images in '10_food_classes_10_percent/test/ice_cream'.\n",
            "There are 0 directories and 250 images in '10_food_classes_10_percent/test/hamburger'.\n",
            "There are 0 directories and 250 images in '10_food_classes_10_percent/test/ramen'.\n",
            "There are 0 directories and 250 images in '10_food_classes_10_percent/test/sushi'.\n",
            "There are 0 directories and 250 images in '10_food_classes_10_percent/test/grilled_salmon'.\n",
            "There are 0 directories and 250 images in '10_food_classes_10_percent/test/fried_rice'.\n",
            "There are 0 directories and 250 images in '10_food_classes_10_percent/test/pizza'.\n",
            "There are 0 directories and 250 images in '10_food_classes_10_percent/test/chicken_wings'.\n",
            "There are 0 directories and 250 images in '10_food_classes_10_percent/test/chicken_curry'.\n",
            "There are 0 directories and 250 images in '10_food_classes_10_percent/test/steak'.\n",
            "There are 10 directories and 0 images in '10_food_classes_10_percent/train'.\n",
            "There are 0 directories and 75 images in '10_food_classes_10_percent/train/ice_cream'.\n",
            "There are 0 directories and 75 images in '10_food_classes_10_percent/train/hamburger'.\n",
            "There are 0 directories and 75 images in '10_food_classes_10_percent/train/ramen'.\n",
            "There are 0 directories and 75 images in '10_food_classes_10_percent/train/sushi'.\n",
            "There are 0 directories and 75 images in '10_food_classes_10_percent/train/grilled_salmon'.\n",
            "There are 0 directories and 75 images in '10_food_classes_10_percent/train/fried_rice'.\n",
            "There are 0 directories and 75 images in '10_food_classes_10_percent/train/pizza'.\n",
            "There are 0 directories and 75 images in '10_food_classes_10_percent/train/chicken_wings'.\n",
            "There are 0 directories and 75 images in '10_food_classes_10_percent/train/chicken_curry'.\n",
            "There are 0 directories and 75 images in '10_food_classes_10_percent/train/steak'.\n"
          ]
        }
      ]
    },
    {
      "cell_type": "code",
      "source": [
        "# Create training and test directory paths\n",
        "train_dir = \"10_food_classes_10_percent/train\"\n",
        "test_dir = \"10_food_classes_10_percent/test\""
      ],
      "metadata": {
        "id": "QeOMFL70JP-X"
      },
      "execution_count": 6,
      "outputs": []
    },
    {
      "cell_type": "code",
      "source": [
        "import tensorflow as tf\n",
        "IMG_SIZE = (224, 224)\n",
        "BATCH_SIZE = 32\n",
        "\n",
        "train_data_10_percent = tf.keras.preprocessing.image_dataset_from_directory(directory=train_dir,\n",
        "                                                                            image_size=IMG_SIZE,\n",
        "                                                                            label_mode=\"categorical\",\n",
        "                                                                            batch_size=BATCH_SIZE)\n",
        "\n",
        "test_data = tf.keras.preprocessing.image_dataset_from_directory(directory=test_dir,\n",
        "                                                                image_size=IMG_SIZE,\n",
        "                                                                label_mode=\"categorical\",\n",
        "                                                                batch_size=BATCH_SIZE)"
      ],
      "metadata": {
        "colab": {
          "base_uri": "https://localhost:8080/"
        },
        "id": "NReGRewbJhm0",
        "outputId": "ad28d0b2-9647-4dea-fe34-729e4c4ad591"
      },
      "execution_count": 7,
      "outputs": [
        {
          "output_type": "stream",
          "name": "stdout",
          "text": [
            "Found 750 files belonging to 10 classes.\n",
            "Found 2500 files belonging to 10 classes.\n"
          ]
        }
      ]
    },
    {
      "cell_type": "code",
      "source": [
        "train_data_10_percent"
      ],
      "metadata": {
        "colab": {
          "base_uri": "https://localhost:8080/"
        },
        "id": "HnX937-TKsHH",
        "outputId": "74524d0d-bd04-4555-8a3b-bb3b430e4356"
      },
      "execution_count": 8,
      "outputs": [
        {
          "output_type": "execute_result",
          "data": {
            "text/plain": [
              "<BatchDataset element_spec=(TensorSpec(shape=(None, 224, 224, 3), dtype=tf.float32, name=None), TensorSpec(shape=(None, 10), dtype=tf.float32, name=None))>"
            ]
          },
          "metadata": {},
          "execution_count": 8
        }
      ]
    },
    {
      "cell_type": "code",
      "source": [
        "# Checkout the class names of our dataset\n",
        "train_data_10_percent.class_names"
      ],
      "metadata": {
        "colab": {
          "base_uri": "https://localhost:8080/"
        },
        "id": "dq3AjFYVK4i3",
        "outputId": "0a5399dc-e48c-4952-93f4-981b8d8bb6ee"
      },
      "execution_count": 9,
      "outputs": [
        {
          "output_type": "execute_result",
          "data": {
            "text/plain": [
              "['chicken_curry',\n",
              " 'chicken_wings',\n",
              " 'fried_rice',\n",
              " 'grilled_salmon',\n",
              " 'hamburger',\n",
              " 'ice_cream',\n",
              " 'pizza',\n",
              " 'ramen',\n",
              " 'steak',\n",
              " 'sushi']"
            ]
          },
          "metadata": {},
          "execution_count": 9
        }
      ]
    },
    {
      "cell_type": "code",
      "source": [
        "# See an example of a batch of data\n",
        "for images, labels in train_data_10_percent.take(1):\n",
        "  print(images, labels)"
      ],
      "metadata": {
        "colab": {
          "base_uri": "https://localhost:8080/"
        },
        "id": "d-b0PJD9Lb2G",
        "outputId": "88205071-e6b5-4184-c9ef-a56336c15efa"
      },
      "execution_count": 10,
      "outputs": [
        {
          "output_type": "stream",
          "name": "stdout",
          "text": [
            "tf.Tensor(\n",
            "[[[[1.00000000e+01 2.00000000e+00 2.29591817e-01]\n",
            "   [9.38265324e+00 4.38265276e+00 1.38265300e+00]\n",
            "   [9.14285755e+00 4.14285755e+00 1.28571439e+00]\n",
            "   ...\n",
            "   [1.90943619e+02 1.81515091e+02 1.76300827e+02]\n",
            "   [1.88658356e+02 1.85137970e+02 1.80469604e+02]\n",
            "   [2.14219498e+02 2.14760345e+02 2.08989929e+02]]\n",
            "\n",
            "  [[1.14744911e+01 6.47449112e+00 3.47449064e+00]\n",
            "   [9.85714340e+00 4.85714340e+00 1.85714340e+00]\n",
            "   [1.06581631e+01 6.08673429e+00 2.65816259e+00]\n",
            "   ...\n",
            "   [1.95719299e+02 1.86290771e+02 1.81474426e+02]\n",
            "   [1.94459305e+02 1.91602188e+02 1.86602188e+02]\n",
            "   [2.19571747e+02 2.20571747e+02 2.15571747e+02]]\n",
            "\n",
            "  [[8.98979568e+00 4.20408154e+00 1.20408154e+00]\n",
            "   [9.00000000e+00 4.21428585e+00 1.21428585e+00]\n",
            "   [9.61734676e+00 5.83163261e+00 2.40306091e+00]\n",
            "   ...\n",
            "   [1.88494949e+02 1.78494949e+02 1.77663345e+02]\n",
            "   [1.97372437e+02 1.92459229e+02 1.90015335e+02]\n",
            "   [1.99775558e+02 1.99132736e+02 1.97132736e+02]]\n",
            "\n",
            "  ...\n",
            "\n",
            "  [[1.00000000e+00 3.00000000e+00 0.00000000e+00]\n",
            "   [1.00000000e+00 3.00000000e+00 0.00000000e+00]\n",
            "   [1.00000000e+00 3.00000000e+00 0.00000000e+00]\n",
            "   ...\n",
            "   [7.09181786e+00 9.00000000e+00 6.04590893e+00]\n",
            "   [1.08674908e+00 5.44395733e+00 1.65822124e+00]\n",
            "   [4.01014662e+00 8.36735535e+00 4.58161879e+00]]\n",
            "\n",
            "  [[9.28558350e-01 2.92855835e+00 0.00000000e+00]\n",
            "   [9.28558350e-01 2.92855835e+00 0.00000000e+00]\n",
            "   [9.28558350e-01 2.92855835e+00 0.00000000e+00]\n",
            "   ...\n",
            "   [4.21426392e+00 8.57147217e+00 4.78573608e+00]\n",
            "   [1.37779385e-01 5.13777924e+00 1.13777936e+00]\n",
            "   [6.42822266e-01 6.64282227e+00 2.64282227e+00]]\n",
            "\n",
            "  [[0.00000000e+00 2.00000000e+00 0.00000000e+00]\n",
            "   [0.00000000e+00 2.00000000e+00 0.00000000e+00]\n",
            "   [0.00000000e+00 2.00000000e+00 0.00000000e+00]\n",
            "   ...\n",
            "   [5.86223602e+00 1.02194443e+01 6.43370819e+00]\n",
            "   [7.14416504e-02 5.47454357e+00 1.47454369e+00]\n",
            "   [1.77039814e+00 7.77039814e+00 3.77039814e+00]]]\n",
            "\n",
            "\n",
            " [[[8.46785736e+01 3.64642868e+01 9.94897842e+00]\n",
            "   [2.06153107e+02 1.82056168e+02 1.72239838e+02]\n",
            "   [2.53897964e+02 2.53831635e+02 2.54846939e+02]\n",
            "   ...\n",
            "   [8.97041168e+01 6.01326485e+01 6.98970222e+00]\n",
            "   [9.41225739e+01 6.30970612e+01 6.04603100e+00]\n",
            "   [1.19872749e+02 8.71584625e+01 2.61584644e+01]]\n",
            "\n",
            "  [[8.75816422e+01 5.87704239e+01 5.09285889e+01]\n",
            "   [2.54653061e+02 2.44301025e+02 2.43790817e+02]\n",
            "   [2.50255096e+02 2.49714279e+02 2.54270401e+02]\n",
            "   ...\n",
            "   [8.80867157e+01 6.12703667e+01 7.14272690e+00]\n",
            "   [9.44338074e+01 6.52909470e+01 7.36237812e+00]\n",
            "   [1.24974907e+02 9.48320465e+01 3.29034805e+01]]\n",
            "\n",
            "  [[2.17413284e+02 2.14933685e+02 2.16933685e+02]\n",
            "   [2.52698975e+02 2.51744904e+02 2.50530624e+02]\n",
            "   [2.54005096e+02 2.54387756e+02 2.51530609e+02]\n",
            "   ...\n",
            "   [8.91224594e+01 6.80000229e+01 5.59685612e+00]\n",
            "   [9.88725281e+01 7.42857971e+01 7.82660389e+00]\n",
            "   [1.23148422e+02 9.67912750e+01 2.71484203e+01]]\n",
            "\n",
            "  ...\n",
            "\n",
            "  [[2.54000000e+02 2.54000000e+02 2.54000000e+02]\n",
            "   [2.54000000e+02 2.54000000e+02 2.54000000e+02]\n",
            "   [2.54000000e+02 2.54000000e+02 2.54000000e+02]\n",
            "   ...\n",
            "   [2.52336716e+02 2.52000000e+02 2.15234756e+02]\n",
            "   [2.53428528e+02 2.52729599e+02 2.18683746e+02]\n",
            "   [2.54214264e+02 2.52862259e+02 2.22219467e+02]]\n",
            "\n",
            "  [[2.54000000e+02 2.54000000e+02 2.54000000e+02]\n",
            "   [2.54000000e+02 2.54000000e+02 2.54000000e+02]\n",
            "   [2.54000000e+02 2.54000000e+02 2.54000000e+02]\n",
            "   ...\n",
            "   [2.52959167e+02 2.53056137e+02 2.27015427e+02]\n",
            "   [2.53933655e+02 2.53071442e+02 2.32648071e+02]\n",
            "   [2.52403107e+02 2.53474548e+02 2.35974640e+02]]\n",
            "\n",
            "  [[2.54000000e+02 2.54000000e+02 2.54000000e+02]\n",
            "   [2.54000000e+02 2.54000000e+02 2.54000000e+02]\n",
            "   [2.54000000e+02 2.54000000e+02 2.54000000e+02]\n",
            "   ...\n",
            "   [2.53857086e+02 2.54647995e+02 2.41505264e+02]\n",
            "   [2.53428619e+02 2.54403107e+02 2.47739990e+02]\n",
            "   [2.54000000e+02 2.54770401e+02 2.52245087e+02]]]\n",
            "\n",
            "\n",
            " [[[0.00000000e+00 0.00000000e+00 0.00000000e+00]\n",
            "   [0.00000000e+00 0.00000000e+00 0.00000000e+00]\n",
            "   [0.00000000e+00 0.00000000e+00 0.00000000e+00]\n",
            "   ...\n",
            "   [1.30000000e+01 1.40000000e+01 8.00000000e+00]\n",
            "   [1.30000000e+01 1.40000000e+01 8.00000000e+00]\n",
            "   [1.30000000e+01 1.40000000e+01 8.00000000e+00]]\n",
            "\n",
            "  [[0.00000000e+00 0.00000000e+00 0.00000000e+00]\n",
            "   [0.00000000e+00 0.00000000e+00 0.00000000e+00]\n",
            "   [0.00000000e+00 0.00000000e+00 0.00000000e+00]\n",
            "   ...\n",
            "   [1.37857056e+01 1.40000000e+01 6.00000000e+00]\n",
            "   [1.30000000e+01 1.40000000e+01 6.00000000e+00]\n",
            "   [1.30000000e+01 1.40000000e+01 6.00000000e+00]]\n",
            "\n",
            "  [[0.00000000e+00 0.00000000e+00 0.00000000e+00]\n",
            "   [0.00000000e+00 0.00000000e+00 0.00000000e+00]\n",
            "   [0.00000000e+00 0.00000000e+00 0.00000000e+00]\n",
            "   ...\n",
            "   [1.44285717e+01 1.37857141e+01 6.00000000e+00]\n",
            "   [1.44285717e+01 1.37857141e+01 6.00000000e+00]\n",
            "   [1.40000000e+01 1.40000000e+01 6.00000000e+00]]\n",
            "\n",
            "  ...\n",
            "\n",
            "  [[9.32437820e+01 9.10295181e+01 7.76009903e+01]\n",
            "   [1.36269730e+02 1.32540131e+02 1.19698349e+02]\n",
            "   [1.65081390e+02 1.62081390e+02 1.46652863e+02]\n",
            "   ...\n",
            "   [8.38254471e+01 7.78254471e+01 6.38255081e+01]\n",
            "   [4.39425163e+01 4.07282829e+01 2.55139885e+01]\n",
            "   [1.70607414e+01 1.42852306e+01 3.89252186e+00]]\n",
            "\n",
            "  [[5.15816593e+00 2.11223912e+00 0.00000000e+00]\n",
            "   [1.94742889e+01 1.64742889e+01 9.68353653e+00]\n",
            "   [6.42901840e+01 6.05044708e+01 5.01065445e+01]\n",
            "   ...\n",
            "   [1.34335117e+01 9.74986744e+00 1.45914698e+00]\n",
            "   [4.40292740e+00 4.27033949e+00 0.00000000e+00]\n",
            "   [1.52548468e+00 2.79077888e+00 0.00000000e+00]]\n",
            "\n",
            "  [[5.97438240e+00 1.97438264e+00 8.72401714e-01]\n",
            "   [6.29575920e+00 2.69885254e+00 5.96906424e-01]\n",
            "   [8.98481083e+00 5.98481083e+00 1.12255836e+00]\n",
            "   ...\n",
            "   [3.28576660e+00 1.55626512e+00 0.00000000e+00]\n",
            "   [3.23986197e+00 4.09703970e+00 0.00000000e+00]\n",
            "   [9.43876624e-01 2.89792180e+00 0.00000000e+00]]]\n",
            "\n",
            "\n",
            " ...\n",
            "\n",
            "\n",
            " [[[1.37229584e+02 5.82295914e+01 2.82295914e+01]\n",
            "   [1.40168365e+02 6.11683655e+01 3.05714283e+01]\n",
            "   [1.41219391e+02 6.04336739e+01 2.97908154e+01]\n",
            "   ...\n",
            "   [1.13637825e+02 5.50663567e+01 3.88520927e+01]\n",
            "   [1.13642860e+02 5.46428566e+01 3.86428566e+01]\n",
            "   [1.17714355e+02 5.57143555e+01 4.07143555e+01]]\n",
            "\n",
            "  [[1.40045914e+02 6.10459213e+01 3.10459175e+01]\n",
            "   [1.43647964e+02 6.26479607e+01 3.26479607e+01]\n",
            "   [1.47015305e+02 6.63724518e+01 3.35867348e+01]\n",
            "   ...\n",
            "   [1.10540779e+02 5.35407753e+01 3.65407753e+01]\n",
            "   [1.16071457e+02 5.70714569e+01 4.10714569e+01]\n",
            "   [1.18596909e+02 5.65969048e+01 4.15969048e+01]]\n",
            "\n",
            "  [[1.38280609e+02 5.77091827e+01 2.84948978e+01]\n",
            "   [1.42357147e+02 6.13571434e+01 3.13571434e+01]\n",
            "   [1.45806122e+02 6.27602043e+01 3.03316326e+01]\n",
            "   ...\n",
            "   [1.10168350e+02 5.33826141e+01 3.63826141e+01]\n",
            "   [1.14984734e+02 5.59847298e+01 3.99847298e+01]\n",
            "   [1.18214249e+02 5.68571091e+01 4.16428223e+01]]\n",
            "\n",
            "  ...\n",
            "\n",
            "  [[1.31244873e+02 1.55244873e+02 7.92448730e+01]\n",
            "   [1.29413422e+02 1.56168549e+02 7.98113403e+01]\n",
            "   [1.27025452e+02 1.55025452e+02 8.02397156e+01]\n",
            "   ...\n",
            "   [1.62612473e+02 2.22494934e+02 1.43306381e+02]\n",
            "   [1.70045868e+02 2.18030548e+02 1.52489761e+02]\n",
            "   [2.03694305e+02 2.41832108e+02 1.83704453e+02]]\n",
            "\n",
            "  [[1.37887756e+02 1.63887756e+02 8.98877487e+01]\n",
            "   [1.25035767e+02 1.52969437e+02 7.59694443e+01]\n",
            "   [1.30086746e+02 1.61229630e+02 8.31581955e+01]\n",
            "   ...\n",
            "   [1.70637802e+02 2.26933655e+02 1.55551102e+02]\n",
            "   [1.64142883e+02 2.15219421e+02 1.46005096e+02]\n",
            "   [1.83306412e+02 2.33592178e+02 1.62280899e+02]]\n",
            "\n",
            "  [[1.32290924e+02 1.58290924e+02 8.42909317e+01]\n",
            "   [1.38693817e+02 1.67688812e+02 9.23571472e+01]\n",
            "   [1.29637848e+02 1.62790924e+02 8.37143936e+01]\n",
            "   ...\n",
            "   [1.80086914e+02 2.31097092e+02 1.67745071e+02]\n",
            "   [1.62591782e+02 2.16801086e+02 1.46112228e+02]\n",
            "   [1.73872421e+02 2.31586777e+02 1.52800888e+02]]]\n",
            "\n",
            "\n",
            " [[[2.92857146e+00 1.91581631e+01 3.51581612e+01]\n",
            "   [0.00000000e+00 1.56173468e+01 3.15714283e+01]\n",
            "   [0.00000000e+00 1.71377544e+01 3.22142830e+01]\n",
            "   ...\n",
            "   [1.09214272e+02 1.22214272e+02 9.37856827e+01]\n",
            "   [1.09765343e+02 1.22765343e+02 9.27653427e+01]\n",
            "   [1.04540840e+02 1.17540840e+02 8.75408401e+01]]\n",
            "\n",
            "  [[1.76020360e+00 1.94234695e+01 3.50918350e+01]\n",
            "   [9.28571463e-01 1.99948978e+01 3.49948997e+01]\n",
            "   [1.51530600e+00 2.33010216e+01 3.73724480e+01]\n",
            "   ...\n",
            "   [1.13714287e+02 1.26714287e+02 9.82856979e+01]\n",
            "   [1.17362312e+02 1.30362320e+02 1.00362312e+02]\n",
            "   [1.19433678e+02 1.32433670e+02 1.02433678e+02]]\n",
            "\n",
            "  [[2.75510371e-01 2.27193890e+01 3.66428566e+01]\n",
            "   [2.27040815e+00 2.48010197e+01 3.83571434e+01]\n",
            "   [4.57142830e+00 2.84285717e+01 4.17857132e+01]\n",
            "   ...\n",
            "   [1.26377563e+02 1.39285721e+02 1.10857155e+02]\n",
            "   [1.30086777e+02 1.42658218e+02 1.14229637e+02]\n",
            "   [1.35428558e+02 1.47999985e+02 1.17999985e+02]]\n",
            "\n",
            "  ...\n",
            "\n",
            "  [[1.08113384e+01 4.42959900e+01 3.85868416e+01]\n",
            "   [5.95915890e+00 4.09591599e+01 3.47448959e+01]\n",
            "   [5.61729813e+00 3.84285049e+01 3.28316040e+01]\n",
            "   ...\n",
            "   [0.00000000e+00 0.00000000e+00 2.02142639e+01]\n",
            "   [0.00000000e+00 0.00000000e+00 2.02142639e+01]\n",
            "   [0.00000000e+00 0.00000000e+00 1.92142639e+01]]\n",
            "\n",
            "  [[6.04591322e+00 4.10255051e+01 3.71632843e+01]\n",
            "   [9.15307617e+00 4.42908440e+01 4.02908440e+01]\n",
            "   [1.33571815e+01 4.86276016e+01 4.46276016e+01]\n",
            "   ...\n",
            "   [0.00000000e+00 8.01015139e-01 1.63979702e+01]\n",
            "   [0.00000000e+00 9.33690608e-01 1.61326180e+01]\n",
            "   [0.00000000e+00 0.00000000e+00 1.56632643e+01]]\n",
            "\n",
            "  [[8.15815067e+00 4.59184227e+01 4.48725052e+01]\n",
            "   [4.49975586e+00 4.41630859e+01 4.08059082e+01]\n",
            "   [7.08133316e+00 4.60813332e+01 4.14333649e+01]\n",
            "   ...\n",
            "   [1.00000000e+00 0.00000000e+00 1.40000000e+01]\n",
            "   [1.00000000e+00 0.00000000e+00 1.40000000e+01]\n",
            "   [0.00000000e+00 0.00000000e+00 1.30000000e+01]]]\n",
            "\n",
            "\n",
            " [[[1.25621017e+02 7.76210175e+01 5.46210136e+01]\n",
            "   [1.20142853e+02 7.41428528e+01 5.11428566e+01]\n",
            "   [1.13191963e+02 6.96273880e+01 5.03571434e+01]\n",
            "   ...\n",
            "   [6.62702179e+01 3.26274300e+01 1.78416939e+01]\n",
            "   [6.66465454e+01 3.43853874e+01 1.93853855e+01]\n",
            "   [6.96183395e+01 3.73571777e+01 2.23571777e+01]]\n",
            "\n",
            "  [[1.23790176e+02 7.73571396e+01 5.43571434e+01]\n",
            "   [1.18575890e+02 7.33593674e+01 5.19263382e+01]\n",
            "   [1.10930801e+02 6.90022278e+01 4.99094391e+01]\n",
            "   ...\n",
            "   [6.92267151e+01 3.21701279e+01 1.87834816e+01]\n",
            "   [7.12053680e+01 3.42879601e+01 2.08549232e+01]\n",
            "   [7.34911041e+01 3.65736961e+01 2.31406593e+01]]\n",
            "\n",
            "  [[1.20243141e+02 7.58547516e+01 5.54663582e+01]\n",
            "   [1.16203598e+02 7.18152084e+01 5.14268150e+01]\n",
            "   [1.09011795e+02 6.87201843e+01 5.05714264e+01]\n",
            "   ...\n",
            "   [7.20260162e+01 3.24545441e+01 2.02402802e+01]\n",
            "   [7.40932922e+01 3.40932884e+01 2.20932884e+01]\n",
            "   [7.65537567e+01 3.65537567e+01 2.45537548e+01]]\n",
            "\n",
            "  ...\n",
            "\n",
            "  [[2.11642853e+02 1.83642853e+02 1.79642853e+02]\n",
            "   [2.13021835e+02 1.84021835e+02 1.78021835e+02]\n",
            "   [2.14708374e+02 1.84065521e+02 1.76279800e+02]\n",
            "   ...\n",
            "   [2.52305786e+02 2.19305786e+02 2.02305786e+02]\n",
            "   [2.52305786e+02 2.19305786e+02 2.01694214e+02]\n",
            "   [2.52305786e+02 2.19305786e+02 2.00305786e+02]]\n",
            "\n",
            "  [[2.10426331e+02 1.82426331e+02 1.78642853e+02]\n",
            "   [2.12055954e+02 1.83055954e+02 1.79055954e+02]\n",
            "   [2.13472733e+02 1.82044159e+02 1.76615601e+02]\n",
            "   ...\n",
            "   [2.52000000e+02 2.19000000e+02 2.02092789e+02]\n",
            "   [2.52000000e+02 2.19000000e+02 2.02000000e+02]\n",
            "   [2.52000000e+02 2.19000000e+02 2.02000000e+02]]\n",
            "\n",
            "  [[2.09642853e+02 1.81642853e+02 1.78642853e+02]\n",
            "   [2.11313919e+02 1.82313919e+02 1.78313919e+02]\n",
            "   [2.12698807e+02 1.81270233e+02 1.76158325e+02]\n",
            "   ...\n",
            "   [2.52000000e+02 2.19000000e+02 2.03589630e+02]\n",
            "   [2.52000000e+02 2.19000000e+02 2.02000000e+02]\n",
            "   [2.52000000e+02 2.19000000e+02 2.02000000e+02]]]], shape=(32, 224, 224, 3), dtype=float32) tf.Tensor(\n",
            "[[1. 0. 0. 0. 0. 0. 0. 0. 0. 0.]\n",
            " [1. 0. 0. 0. 0. 0. 0. 0. 0. 0.]\n",
            " [0. 0. 0. 0. 0. 0. 0. 1. 0. 0.]\n",
            " [0. 0. 1. 0. 0. 0. 0. 0. 0. 0.]\n",
            " [0. 0. 0. 1. 0. 0. 0. 0. 0. 0.]\n",
            " [0. 0. 0. 0. 0. 0. 0. 0. 1. 0.]\n",
            " [0. 0. 0. 0. 0. 0. 1. 0. 0. 0.]\n",
            " [0. 0. 0. 1. 0. 0. 0. 0. 0. 0.]\n",
            " [0. 0. 0. 0. 0. 1. 0. 0. 0. 0.]\n",
            " [0. 0. 1. 0. 0. 0. 0. 0. 0. 0.]\n",
            " [0. 0. 0. 0. 1. 0. 0. 0. 0. 0.]\n",
            " [0. 0. 1. 0. 0. 0. 0. 0. 0. 0.]\n",
            " [0. 0. 0. 0. 0. 0. 0. 0. 1. 0.]\n",
            " [0. 0. 0. 0. 0. 0. 0. 0. 0. 1.]\n",
            " [0. 0. 0. 1. 0. 0. 0. 0. 0. 0.]\n",
            " [0. 0. 0. 1. 0. 0. 0. 0. 0. 0.]\n",
            " [0. 0. 0. 0. 0. 0. 0. 0. 0. 1.]\n",
            " [0. 0. 0. 0. 0. 0. 0. 0. 0. 1.]\n",
            " [0. 0. 0. 0. 0. 0. 0. 0. 1. 0.]\n",
            " [0. 0. 0. 0. 0. 0. 0. 1. 0. 0.]\n",
            " [0. 1. 0. 0. 0. 0. 0. 0. 0. 0.]\n",
            " [0. 0. 1. 0. 0. 0. 0. 0. 0. 0.]\n",
            " [0. 0. 0. 0. 0. 1. 0. 0. 0. 0.]\n",
            " [0. 0. 0. 1. 0. 0. 0. 0. 0. 0.]\n",
            " [0. 1. 0. 0. 0. 0. 0. 0. 0. 0.]\n",
            " [0. 0. 0. 0. 0. 0. 0. 0. 0. 1.]\n",
            " [0. 0. 0. 0. 1. 0. 0. 0. 0. 0.]\n",
            " [0. 1. 0. 0. 0. 0. 0. 0. 0. 0.]\n",
            " [0. 0. 0. 0. 0. 0. 0. 0. 1. 0.]\n",
            " [0. 0. 0. 0. 1. 0. 0. 0. 0. 0.]\n",
            " [0. 1. 0. 0. 0. 0. 0. 0. 0. 0.]\n",
            " [0. 0. 0. 0. 0. 0. 0. 0. 1. 0.]], shape=(32, 10), dtype=float32)\n"
          ]
        }
      ]
    },
    {
      "cell_type": "markdown",
      "source": [
        "## Model 0: Building a transfer learning model Feature Extraction using the Keras Functional API\n",
        "\n",
        "The Sequential API is straight-forward, it runs our layers in sequential order.\n",
        "\n",
        "But the Functional API gives us more flexibility with our models"
      ],
      "metadata": {
        "id": "T20OO6aGLxPy"
      }
    },
    {
      "cell_type": "code",
      "source": [
        "# 1. Create base model with tf.keras.applications\n",
        "base_model = tf.keras.applications.EfficientNetB0(include_top=False)\n",
        "\n",
        "# 2. Freeze the base model (so the underlying pre-trained patterns aren't updating during training)\n",
        "base_model.trainable = False\n",
        "\n",
        "# 3. Create inputs into our model\n",
        "inputs = tf.keras.layers.Input(shape=(224, 224, 3), name=\"input_layer\")\n",
        "\n",
        "# 4. If using a model like ResNet50V2 you will need to normalize inputs (you don't have to for EfficientNet(s))\n",
        "# x = tf.keras.experimental.preprocessing.Rescaling(1./255)(inputs)\n",
        "\n",
        "# 5. Pass the inputs to the base_model\n",
        "x = base_model(inputs)\n",
        "print(f\"Shape after passing inputs through base model: {x.shape}\")\n",
        "\n",
        "# 6. Average pool the output of the base model (aggregate all the most important information, reduce number of computations)\n",
        "x = tf.keras.layers.GlobalAveragePooling2D(name=\"global_average_pooling_layer\")(x)\n",
        "print(f\"Shape after GlobalAveragePooling2D: {x.shape}\")\n",
        "\n",
        "# 7. Create the output activation layer\n",
        "outputs = tf.keras.Dense(10, activation=\"softmax\", name=\"output_layer\")(x)\n",
        "\n",
        "# 8. Combine the input with the outputs into a model\n",
        "model_0 = tf.keras.Model(inputs, outputs)\n",
        "\n",
        "# 9. Compile for the model\n",
        "\n",
        "# 10. Fit the model and save its history\n"
      ],
      "metadata": {
        "id": "vJgOd2APKBXH"
      },
      "execution_count": null,
      "outputs": []
    }
  ]
}