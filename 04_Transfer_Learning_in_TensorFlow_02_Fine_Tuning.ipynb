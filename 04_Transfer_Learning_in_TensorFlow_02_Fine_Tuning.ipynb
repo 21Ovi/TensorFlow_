{
  "nbformat": 4,
  "nbformat_minor": 0,
  "metadata": {
    "colab": {
      "provenance": [],
      "authorship_tag": "ABX9TyM+OU5p7c36qa1Q57HzKsbU",
      "include_colab_link": true
    },
    "kernelspec": {
      "name": "python3",
      "display_name": "Python 3"
    },
    "language_info": {
      "name": "python"
    },
    "accelerator": "GPU",
    "gpuClass": "standard"
  },
  "cells": [
    {
      "cell_type": "markdown",
      "metadata": {
        "id": "view-in-github",
        "colab_type": "text"
      },
      "source": [
        "<a href=\"https://colab.research.google.com/github/21Ovi/TensorFlow_/blob/main/04_Transfer_Learning_in_TensorFlow_02_Fine_Tuning.ipynb\" target=\"_parent\"><img src=\"https://colab.research.google.com/assets/colab-badge.svg\" alt=\"Open In Colab\"/></a>"
      ]
    },
    {
      "cell_type": "markdown",
      "source": [
        "# Transfer Learning with TensorFlow Part 2: Fine-Tuning\n",
        "\n",
        "In the previous notebook, we cpvered transfer learning feature extraction, now it's time to learn about a new kind of transfer learning : \n",
        "\n",
        "`Fine-Tuning`,"
      ],
      "metadata": {
        "id": "J8xW0uC4G3Nx"
      }
    },
    {
      "cell_type": "code",
      "source": [
        "# Check if we're using a GPY\n",
        "!nvidia-smi"
      ],
      "metadata": {
        "colab": {
          "base_uri": "https://localhost:8080/"
        },
        "id": "StldghfSHe2t",
        "outputId": "d3f291cb-9116-4d52-83df-1427ff179926"
      },
      "execution_count": 3,
      "outputs": [
        {
          "output_type": "stream",
          "name": "stdout",
          "text": [
            "Tue Mar 14 17:21:41 2023       \n",
            "+-----------------------------------------------------------------------------+\n",
            "| NVIDIA-SMI 525.85.12    Driver Version: 525.85.12    CUDA Version: 12.0     |\n",
            "|-------------------------------+----------------------+----------------------+\n",
            "| GPU  Name        Persistence-M| Bus-Id        Disp.A | Volatile Uncorr. ECC |\n",
            "| Fan  Temp  Perf  Pwr:Usage/Cap|         Memory-Usage | GPU-Util  Compute M. |\n",
            "|                               |                      |               MIG M. |\n",
            "|===============================+======================+======================|\n",
            "|   0  Tesla T4            Off  | 00000000:00:04.0 Off |                    0 |\n",
            "| N/A   51C    P0    28W /  70W |      0MiB / 15360MiB |      0%      Default |\n",
            "|                               |                      |                  N/A |\n",
            "+-------------------------------+----------------------+----------------------+\n",
            "                                                                               \n",
            "+-----------------------------------------------------------------------------+\n",
            "| Processes:                                                                  |\n",
            "|  GPU   GI   CI        PID   Type   Process name                  GPU Memory |\n",
            "|        ID   ID                                                   Usage      |\n",
            "|=============================================================================|\n",
            "|  No running processes found                                                 |\n",
            "+-----------------------------------------------------------------------------+\n"
          ]
        }
      ]
    },
    {
      "cell_type": "markdown",
      "source": [
        "## Creating helper functions\n",
        "In Previous notebooks, we've created a bunch of helper functins, now we could rewrite them all, however, this is tedious\n",
        "\n",
        "So, it's a good idea to put functions you'll want to use again in a script you can download and import into notebooks( or elsewhere).\n",
        "\n",
        "we've done this for some of the previous functions we've used previously here :\n",
        "\n",
        " https://raw.githubusercontent.com/21Ovi/Helper-Functions/main/helper_functions.py"
      ],
      "metadata": {
        "id": "Z18FVszeHrhF"
      }
    },
    {
      "cell_type": "code",
      "source": [
        "!wget https://raw.githubusercontent.com/21Ovi/Helper-Functions/main/helper_functions.py"
      ],
      "metadata": {
        "colab": {
          "base_uri": "https://localhost:8080/"
        },
        "id": "0qtyfqC-H_N_",
        "outputId": "89321839-2fdb-4c79-f78a-990339de6c7b"
      },
      "execution_count": 4,
      "outputs": [
        {
          "output_type": "stream",
          "name": "stdout",
          "text": [
            "--2023-03-14 17:21:41--  https://raw.githubusercontent.com/21Ovi/Helper-Functions/main/helper_functions.py\n",
            "Resolving raw.githubusercontent.com (raw.githubusercontent.com)... 185.199.108.133, 185.199.109.133, 185.199.110.133, ...\n",
            "Connecting to raw.githubusercontent.com (raw.githubusercontent.com)|185.199.108.133|:443... connected.\n",
            "HTTP request sent, awaiting response... 200 OK\n",
            "Length: 10116 (9.9K) [text/plain]\n",
            "Saving to: ‘helper_functions.py’\n",
            "\n",
            "\rhelper_functions.py   0%[                    ]       0  --.-KB/s               \rhelper_functions.py 100%[===================>]   9.88K  --.-KB/s    in 0s      \n",
            "\n",
            "2023-03-14 17:21:41 (101 MB/s) - ‘helper_functions.py’ saved [10116/10116]\n",
            "\n"
          ]
        }
      ]
    },
    {
      "cell_type": "code",
      "source": [
        "# Import helper functions we're going to use in this notebook\n",
        "from helper_functions import create_tensorboard_callback, plot_loss_curves, unzip_data, walk_through_dir"
      ],
      "metadata": {
        "id": "5vD_gG7nJOYR"
      },
      "execution_count": 5,
      "outputs": []
    },
    {
      "cell_type": "markdown",
      "source": [
        ">**Note:** If you're running this notebook in Google Colab, when it times out Colab will delete `helper_functins.py`, so you'll have to redownload it if you want access to your helper functions."
      ],
      "metadata": {
        "id": "1lf5P9ijKELC"
      }
    },
    {
      "cell_type": "markdown",
      "source": [
        "## Let's get some data\n",
        "\n",
        "This time we're going to see how we can use the pretrained models within `tf.keras.applications` and applyu them to our own problem (recognizing images of food):\n",
        "https://www.tensorflow.org/api_docs/python/tf/keras/applications"
      ],
      "metadata": {
        "id": "ZZ_OZWn0KjMP"
      }
    },
    {
      "cell_type": "code",
      "source": [
        "# Get 10% of training data\n",
        "!wget https://storage.googleapis.com/ztm_tf_course/food_vision/10_food_classes_10_percent.zip\n",
        "\n",
        "unzip_data(\"10_food_classes_10_percent.zip\")"
      ],
      "metadata": {
        "colab": {
          "base_uri": "https://localhost:8080/"
        },
        "id": "qeB7v2WWH9g6",
        "outputId": "38917992-59f4-494d-dec4-7eb1bfcbdf57"
      },
      "execution_count": 6,
      "outputs": [
        {
          "output_type": "stream",
          "name": "stdout",
          "text": [
            "--2023-03-14 17:21:44--  https://storage.googleapis.com/ztm_tf_course/food_vision/10_food_classes_10_percent.zip\n",
            "Resolving storage.googleapis.com (storage.googleapis.com)... 142.250.159.128, 142.251.161.128, 74.125.126.128, ...\n",
            "Connecting to storage.googleapis.com (storage.googleapis.com)|142.250.159.128|:443... connected.\n",
            "HTTP request sent, awaiting response... 200 OK\n",
            "Length: 168546183 (161M) [application/zip]\n",
            "Saving to: ‘10_food_classes_10_percent.zip.1’\n",
            "\n",
            "10_food_classes_10_ 100%[===================>] 160.74M   154MB/s    in 1.0s    \n",
            "\n",
            "2023-03-14 17:21:45 (154 MB/s) - ‘10_food_classes_10_percent.zip.1’ saved [168546183/168546183]\n",
            "\n"
          ]
        }
      ]
    },
    {
      "cell_type": "code",
      "source": [
        "# Checkout how many images and subdirectories are in our dataset\n",
        "walk_through_dir(\"10_food_classes_10_percent\")"
      ],
      "metadata": {
        "colab": {
          "base_uri": "https://localhost:8080/"
        },
        "id": "gQZgXaAfI_7T",
        "outputId": "0b6f3097-c6da-47c1-9e3b-053e1df4e4aa"
      },
      "execution_count": 7,
      "outputs": [
        {
          "output_type": "stream",
          "name": "stdout",
          "text": [
            "There are 2 directories and 0 images in '10_food_classes_10_percent'.\n",
            "There are 10 directories and 0 images in '10_food_classes_10_percent/test'.\n",
            "There are 0 directories and 250 images in '10_food_classes_10_percent/test/ice_cream'.\n",
            "There are 0 directories and 250 images in '10_food_classes_10_percent/test/hamburger'.\n",
            "There are 0 directories and 250 images in '10_food_classes_10_percent/test/ramen'.\n",
            "There are 0 directories and 250 images in '10_food_classes_10_percent/test/sushi'.\n",
            "There are 0 directories and 250 images in '10_food_classes_10_percent/test/grilled_salmon'.\n",
            "There are 0 directories and 250 images in '10_food_classes_10_percent/test/fried_rice'.\n",
            "There are 0 directories and 250 images in '10_food_classes_10_percent/test/pizza'.\n",
            "There are 0 directories and 250 images in '10_food_classes_10_percent/test/chicken_wings'.\n",
            "There are 0 directories and 250 images in '10_food_classes_10_percent/test/chicken_curry'.\n",
            "There are 0 directories and 250 images in '10_food_classes_10_percent/test/steak'.\n",
            "There are 10 directories and 0 images in '10_food_classes_10_percent/train'.\n",
            "There are 0 directories and 75 images in '10_food_classes_10_percent/train/ice_cream'.\n",
            "There are 0 directories and 75 images in '10_food_classes_10_percent/train/hamburger'.\n",
            "There are 0 directories and 75 images in '10_food_classes_10_percent/train/ramen'.\n",
            "There are 0 directories and 75 images in '10_food_classes_10_percent/train/sushi'.\n",
            "There are 0 directories and 75 images in '10_food_classes_10_percent/train/grilled_salmon'.\n",
            "There are 0 directories and 75 images in '10_food_classes_10_percent/train/fried_rice'.\n",
            "There are 0 directories and 75 images in '10_food_classes_10_percent/train/pizza'.\n",
            "There are 0 directories and 75 images in '10_food_classes_10_percent/train/chicken_wings'.\n",
            "There are 0 directories and 75 images in '10_food_classes_10_percent/train/chicken_curry'.\n",
            "There are 0 directories and 75 images in '10_food_classes_10_percent/train/steak'.\n"
          ]
        }
      ]
    },
    {
      "cell_type": "code",
      "source": [
        "# Create training and test directory paths\n",
        "train_dir = \"10_food_classes_10_percent/train\"\n",
        "test_dir = \"10_food_classes_10_percent/test\""
      ],
      "metadata": {
        "id": "QeOMFL70JP-X"
      },
      "execution_count": 8,
      "outputs": []
    },
    {
      "cell_type": "code",
      "source": [
        "import tensorflow as tf\n",
        "IMG_SIZE = (224, 224)\n",
        "BATCH_SIZE = 32\n",
        "\n",
        "train_data_10_percent = tf.keras.preprocessing.image_dataset_from_directory(directory=train_dir,\n",
        "                                                                            image_size=IMG_SIZE,\n",
        "                                                                            label_mode=\"categorical\",\n",
        "                                                                            batch_size=BATCH_SIZE)\n",
        "\n",
        "test_data = tf.keras.preprocessing.image_dataset_from_directory(directory=test_dir,\n",
        "                                                                image_size=IMG_SIZE,\n",
        "                                                                label_mode=\"categorical\",\n",
        "                                                                batch_size=BATCH_SIZE)"
      ],
      "metadata": {
        "colab": {
          "base_uri": "https://localhost:8080/"
        },
        "id": "NReGRewbJhm0",
        "outputId": "7e373114-45c1-4a29-d505-b053aef7d81e"
      },
      "execution_count": 11,
      "outputs": [
        {
          "output_type": "stream",
          "name": "stdout",
          "text": [
            "Found 750 files belonging to 10 classes.\n",
            "Found 2500 files belonging to 10 classes.\n"
          ]
        }
      ]
    },
    {
      "cell_type": "code",
      "source": [
        "train_data_10_percent"
      ],
      "metadata": {
        "colab": {
          "base_uri": "https://localhost:8080/"
        },
        "id": "HnX937-TKsHH",
        "outputId": "178fe5e4-aa7d-4a38-bb8f-9070a63b2416"
      },
      "execution_count": 12,
      "outputs": [
        {
          "output_type": "execute_result",
          "data": {
            "text/plain": [
              "<BatchDataset element_spec=(TensorSpec(shape=(None, 224, 224, 3), dtype=tf.float32, name=None), TensorSpec(shape=(None, 10), dtype=tf.float32, name=None))>"
            ]
          },
          "metadata": {},
          "execution_count": 12
        }
      ]
    },
    {
      "cell_type": "code",
      "source": [
        "# Checkout the class names of our dataset\n",
        "train_data_10_percent.class_names"
      ],
      "metadata": {
        "colab": {
          "base_uri": "https://localhost:8080/"
        },
        "id": "dq3AjFYVK4i3",
        "outputId": "1d2d8cc2-40dd-4646-84e1-60fe96ac10c6"
      },
      "execution_count": 13,
      "outputs": [
        {
          "output_type": "execute_result",
          "data": {
            "text/plain": [
              "['chicken_curry',\n",
              " 'chicken_wings',\n",
              " 'fried_rice',\n",
              " 'grilled_salmon',\n",
              " 'hamburger',\n",
              " 'ice_cream',\n",
              " 'pizza',\n",
              " 'ramen',\n",
              " 'steak',\n",
              " 'sushi']"
            ]
          },
          "metadata": {},
          "execution_count": 13
        }
      ]
    },
    {
      "cell_type": "code",
      "source": [
        "# See an example of a batch of data\n",
        "for images, labels in train_data_10_percent.take(1):\n",
        "  print(images, labels)"
      ],
      "metadata": {
        "colab": {
          "base_uri": "https://localhost:8080/"
        },
        "id": "d-b0PJD9Lb2G",
        "outputId": "5f28599f-dd06-40df-9526-6d3ebbf63528"
      },
      "execution_count": 14,
      "outputs": [
        {
          "output_type": "stream",
          "name": "stdout",
          "text": [
            "tf.Tensor(\n",
            "[[[[2.26642853e+02 2.27642853e+02 2.45642853e+02]\n",
            "   [2.27596939e+02 2.28596939e+02 2.46596939e+02]\n",
            "   [2.27142868e+02 2.28142868e+02 2.46142868e+02]\n",
            "   ...\n",
            "   [1.14238281e+02 1.00095337e+02 1.04881073e+02]\n",
            "   [6.45050888e+01 4.12397346e+01 5.13366928e+01]\n",
            "   [6.21378517e+01 3.18827248e+01 4.40102882e+01]]\n",
            "\n",
            "  [[2.26739792e+02 2.27739792e+02 2.45739792e+02]\n",
            "   [2.27071426e+02 2.28071426e+02 2.46071426e+02]\n",
            "   [2.26729599e+02 2.27729599e+02 2.45729599e+02]\n",
            "   ...\n",
            "   [2.51153275e+02 2.46291061e+02 2.49877838e+02]\n",
            "   [1.60300079e+02 1.42871490e+02 1.48948013e+02]\n",
            "   [6.86427155e+01 4.54029198e+01 5.34743500e+01]]\n",
            "\n",
            "  [[2.23719391e+02 2.24719391e+02 2.42719391e+02]\n",
            "   [2.25928574e+02 2.26928574e+02 2.44928574e+02]\n",
            "   [2.27785721e+02 2.28785721e+02 2.46785721e+02]\n",
            "   ...\n",
            "   [2.52903122e+02 2.48173447e+02 2.49698975e+02]\n",
            "   [2.53744904e+02 2.45622498e+02 2.49209229e+02]\n",
            "   [1.97513000e+02 1.83370148e+02 1.88155853e+02]]\n",
            "\n",
            "  ...\n",
            "\n",
            "  [[3.69336433e+01 4.59336433e+01 5.49336433e+01]\n",
            "   [3.72142639e+01 4.62142639e+01 5.52142639e+01]\n",
            "   [3.59540863e+01 4.49540863e+01 5.35255127e+01]\n",
            "   ...\n",
            "   [5.03826180e+01 5.03826180e+01 4.23826180e+01]\n",
            "   [4.85561028e+01 4.85561028e+01 4.05561028e+01]\n",
            "   [5.42092667e+01 5.42092667e+01 4.62092667e+01]]\n",
            "\n",
            "  [[3.72398415e+01 4.62398415e+01 5.52398415e+01]\n",
            "   [3.79387779e+01 4.69387779e+01 5.59387779e+01]\n",
            "   [3.81275368e+01 4.71275368e+01 5.56989632e+01]\n",
            "   ...\n",
            "   [5.16276054e+01 5.16276054e+01 4.36276054e+01]\n",
            "   [5.19948959e+01 5.19948959e+01 4.39948959e+01]\n",
            "   [5.19285583e+01 5.19285583e+01 4.39285583e+01]]\n",
            "\n",
            "  [[3.78008690e+01 4.68008690e+01 5.58008690e+01]\n",
            "   [3.66632233e+01 4.56632233e+01 5.46632233e+01]\n",
            "   [3.80051804e+01 4.70051804e+01 5.55766068e+01]\n",
            "   ...\n",
            "   [5.10101776e+01 5.10101776e+01 4.30101776e+01]\n",
            "   [4.99080582e+01 4.99080582e+01 4.19080582e+01]\n",
            "   [5.04847527e+01 5.04847527e+01 4.24847527e+01]]]\n",
            "\n",
            "\n",
            " [[[8.83571396e+01 7.03571396e+01 5.83571434e+01]\n",
            "   [8.80000000e+01 7.00000000e+01 5.80000000e+01]\n",
            "   [9.00392227e+01 7.20392227e+01 5.96106491e+01]\n",
            "   ...\n",
            "   [1.46144684e+02 1.47716156e+02 1.46501892e+02]\n",
            "   [2.61746101e+01 3.23889351e+01 3.03174934e+01]\n",
            "   [1.63468208e+01 2.71115017e+01 2.12291622e+01]]\n",
            "\n",
            "  [[8.81610336e+01 7.01610336e+01 5.81610336e+01]\n",
            "   [8.80000000e+01 7.00000000e+01 5.80000000e+01]\n",
            "   [9.02142868e+01 7.22142868e+01 5.97857132e+01]\n",
            "   ...\n",
            "   [1.46644119e+02 1.48215591e+02 1.47001328e+02]\n",
            "   [3.11232262e+01 3.73375511e+01 3.52661095e+01]\n",
            "   [1.76650047e+01 2.69871025e+01 2.29242668e+01]]\n",
            "\n",
            "  [[8.67579727e+01 6.87579727e+01 5.67579727e+01]\n",
            "   [8.79346313e+01 6.99346313e+01 5.79346313e+01]\n",
            "   [8.92991104e+01 7.12991104e+01 5.88705330e+01]\n",
            "   ...\n",
            "   [1.46522995e+02 1.46656296e+02 1.46161118e+02]\n",
            "   [3.28435555e+01 3.71621399e+01 3.60058784e+01]\n",
            "   [1.68872299e+01 2.58872299e+01 2.28872299e+01]]\n",
            "\n",
            "  ...\n",
            "\n",
            "  [[6.70908966e+01 5.20303001e+01 4.50303001e+01]\n",
            "   [6.69151611e+01 5.29151611e+01 4.39151611e+01]\n",
            "   [6.71961060e+01 5.32809448e+01 4.42809448e+01]\n",
            "   ...\n",
            "   [1.14463814e+02 9.93304977e+01 8.03971558e+01]\n",
            "   [8.75518951e+01 7.25518951e+01 5.35518913e+01]\n",
            "   [8.71337891e+01 7.23034668e+01 5.33034668e+01]]\n",
            "\n",
            "  [[6.74594955e+01 5.08434181e+01 4.40044518e+01]\n",
            "   [6.55168991e+01 5.19355850e+01 4.29355850e+01]\n",
            "   [6.60015869e+01 5.43542747e+01 4.49033775e+01]\n",
            "   ...\n",
            "   [1.16124786e+02 9.86515198e+01 8.06949310e+01]\n",
            "   [8.73120804e+01 7.19578247e+01 5.42783012e+01]\n",
            "   [8.07410278e+01 6.91259766e+01 5.04158211e+01]]\n",
            "\n",
            "  [[6.67142868e+01 4.90000000e+01 4.23571434e+01]\n",
            "   [6.34113083e+01 5.26157722e+01 4.28571434e+01]\n",
            "   [6.41437988e+01 5.54276314e+01 4.47857132e+01]\n",
            "   ...\n",
            "   [1.14103424e+02 9.53569031e+01 7.77141113e+01]\n",
            "   [8.81557770e+01 7.24868317e+01 5.63570251e+01]\n",
            "   [7.83006592e+01 6.97143555e+01 5.21741638e+01]]]\n",
            "\n",
            "\n",
            " [[[1.28571426e+02 6.23979568e+01 4.53418350e+01]\n",
            "   [1.24280617e+02 6.01173477e+01 4.41428566e+01]\n",
            "   [1.24198975e+02 6.23979568e+01 5.18418350e+01]\n",
            "   ...\n",
            "   [1.36379595e+01 7.06648684e+00 1.48522234e+01]\n",
            "   [1.03571558e+01 6.88783944e-01 9.35715580e+00]\n",
            "   [1.50565186e+01 5.05651855e+00 1.60565186e+01]]\n",
            "\n",
            "  [[1.44545914e+02 8.52806168e+01 5.49744873e+01]\n",
            "   [1.25678566e+02 6.81887741e+01 4.15408134e+01]\n",
            "   [1.05729591e+02 4.83724480e+01 2.99285698e+01]\n",
            "   ...\n",
            "   [1.57144165e+01 8.71441650e+00 1.67144165e+01]\n",
            "   [1.59949236e+01 5.99492359e+00 1.49949236e+01]\n",
            "   [1.47654858e+01 4.76548576e+00 1.57654858e+01]]\n",
            "\n",
            "  [[1.36433670e+02 8.26479568e+01 4.87295914e+01]\n",
            "   [1.15122444e+02 6.17959137e+01 3.18367310e+01]\n",
            "   [1.22285713e+02 6.78826523e+01 4.71887779e+01]\n",
            "   ...\n",
            "   [1.90664654e+01 9.57151604e+00 1.84031658e+01]\n",
            "   [1.38571949e+01 3.85719490e+00 1.28571949e+01]\n",
            "   [1.51480360e+01 3.57660770e+00 1.53623219e+01]]\n",
            "\n",
            "  ...\n",
            "\n",
            "  [[5.27910500e+01 5.53625221e+01 9.90053101e+01]\n",
            "   [2.22551880e+01 2.57552338e+01 7.13980255e+01]\n",
            "   [2.78722305e+01 3.40610657e+01 8.08263397e+01]\n",
            "   ...\n",
            "   [1.33572083e+01 1.03572083e+01 1.93572083e+01]\n",
            "   [1.09592342e+01 7.95923424e+00 1.69592342e+01]\n",
            "   [1.07140198e+01 7.71401978e+00 1.67140198e+01]]\n",
            "\n",
            "  [[4.88825417e+01 5.82397499e+01 9.70968628e+01]\n",
            "   [3.84795570e+01 5.04234657e+01 9.01428146e+01]\n",
            "   [3.84233856e+01 5.04081192e+01 9.29795380e+01]\n",
            "   ...\n",
            "   [1.02143860e+01 7.21438599e+00 1.62143860e+01]\n",
            "   [1.01377792e+01 7.13777924e+00 1.61377792e+01]\n",
            "   [1.17907248e+01 8.79072475e+00 1.77907238e+01]]\n",
            "\n",
            "  [[4.25150490e+01 5.95865822e+01 9.28722229e+01]\n",
            "   [2.99085884e+01 4.69801216e+01 8.18167572e+01]\n",
            "   [3.21881447e+01 4.96983643e+01 8.97799377e+01]\n",
            "   ...\n",
            "   [7.79076385e+00 4.79076385e+00 1.37907639e+01]\n",
            "   [6.18859386e+00 3.21411133e+00 1.21885939e+01]\n",
            "   [1.06988649e+01 7.69886494e+00 1.66988640e+01]]]\n",
            "\n",
            "\n",
            " ...\n",
            "\n",
            "\n",
            " [[[1.65357147e+02 1.48357147e+02 1.63571434e+01]\n",
            "   [1.62382645e+02 1.48382645e+02 1.53826532e+01]\n",
            "   [1.61005096e+02 1.47433670e+02 1.42193880e+01]\n",
            "   ...\n",
            "   [6.62142410e+01 1.27857141e+01 5.71426344e+00]\n",
            "   [6.68571548e+01 1.38571558e+01 5.85715580e+00]\n",
            "   [6.65000381e+01 1.65000343e+01 7.50003433e+00]]\n",
            "\n",
            "  [[1.60071426e+02 1.46071426e+02 1.30714283e+01]\n",
            "   [1.59076523e+02 1.45076523e+02 1.20765305e+01]\n",
            "   [1.56913269e+02 1.44586731e+02 1.12857141e+01]\n",
            "   ...\n",
            "   [8.00714111e+01 1.95867138e+01 1.85714340e+00]\n",
            "   [7.58060913e+01 1.47193899e+01 7.14416504e-02]\n",
            "   [7.32192917e+01 1.25969067e+01 4.03093457e-01]]\n",
            "\n",
            "  [[1.57357147e+02 1.43571426e+02 1.27857141e+01]\n",
            "   [1.55642853e+02 1.42586731e+02 1.18010206e+01]\n",
            "   [1.53591843e+02 1.41693878e+02 1.08316326e+01]\n",
            "   ...\n",
            "   [1.55382599e+02 6.37142258e+01 2.62398033e+01]\n",
            "   [1.46428513e+02 5.38009758e+01 2.21275253e+01]\n",
            "   [1.37714188e+02 4.49285431e+01 1.61427898e+01]]\n",
            "\n",
            "  ...\n",
            "\n",
            "  [[2.40632629e+02 2.28846954e+02 2.12066284e+02]\n",
            "   [2.35857071e+02 2.22841766e+02 2.06158066e+02]\n",
            "   [2.28974380e+02 2.13806000e+02 1.92377380e+02]\n",
            "   ...\n",
            "   [2.34234756e+02 2.09382614e+02 1.92765244e+02]\n",
            "   [2.35000000e+02 2.09000000e+02 1.92000000e+02]\n",
            "   [2.34642822e+02 2.08642822e+02 1.91642822e+02]]\n",
            "\n",
            "  [[2.36260193e+02 2.27234680e+02 2.11117355e+02]\n",
            "   [2.34076523e+02 2.21214294e+02 2.04362259e+02]\n",
            "   [2.28561264e+02 2.13331680e+02 1.93520462e+02]\n",
            "   ...\n",
            "   [2.34000000e+02 2.08000000e+02 1.91000000e+02]\n",
            "   [2.34862213e+02 2.08862213e+02 1.91862213e+02]\n",
            "   [2.33974487e+02 2.07974487e+02 1.90974487e+02]]\n",
            "\n",
            "  [[2.35515335e+02 2.25515335e+02 2.14688843e+02]\n",
            "   [2.36525543e+02 2.24500031e+02 2.12576569e+02]\n",
            "   [2.36576614e+02 2.20362320e+02 2.04214386e+02]\n",
            "   ...\n",
            "   [2.33923477e+02 2.07923477e+02 1.90923477e+02]\n",
            "   [2.34000000e+02 2.08000000e+02 1.91000000e+02]\n",
            "   [2.33413223e+02 2.07413223e+02 1.90413223e+02]]]\n",
            "\n",
            "\n",
            " [[[1.91841843e+02 1.61841843e+02 1.24556122e+02]\n",
            "   [1.91596939e+02 1.62525513e+02 1.20811226e+02]\n",
            "   [1.96219391e+02 1.65219391e+02 1.19219383e+02]\n",
            "   ...\n",
            "   [4.62038994e+01 2.30457611e+01 2.07651405e+01]\n",
            "   [3.75204887e+01 1.85919323e+01 1.45919323e+01]\n",
            "   [4.20457077e+01 2.58059788e+01 2.12192211e+01]]\n",
            "\n",
            "  [[1.92928574e+02 1.62928574e+02 1.25642860e+02]\n",
            "   [1.94857147e+02 1.65852051e+02 1.24005096e+02]\n",
            "   [1.95571426e+02 1.64571426e+02 1.20030609e+02]\n",
            "   ...\n",
            "   [4.57654037e+01 1.99082603e+01 1.88368320e+01]\n",
            "   [5.00407219e+01 2.64642277e+01 2.43213577e+01]\n",
            "   [3.69234276e+01 1.61173077e+01 1.10203667e+01]]\n",
            "\n",
            "  [[1.92709183e+02 1.63642853e+02 1.24204079e+02]\n",
            "   [1.91755096e+02 1.62755096e+02 1.20897957e+02]\n",
            "   [1.91239792e+02 1.61811218e+02 1.17474487e+02]\n",
            "   ...\n",
            "   [5.06633873e+01 2.04031868e+01 2.01123581e+01]\n",
            "   [4.59183121e+01 1.76887569e+01 1.48316021e+01]\n",
            "   [4.51887741e+01 1.77551956e+01 1.46123047e+01]]\n",
            "\n",
            "  ...\n",
            "\n",
            "  [[6.06632996e+01 2.62245388e+01 2.03724480e+01]\n",
            "   [6.28011475e+01 2.24847813e+01 1.81429653e+01]\n",
            "   [7.88983536e+01 3.03268394e+01 2.52809486e+01]\n",
            "   ...\n",
            "   [1.67398262e+01 1.17398272e+01 1.57398272e+01]\n",
            "   [1.58571167e+01 1.08571167e+01 1.48571167e+01]\n",
            "   [1.32142639e+01 8.21426392e+00 1.22142639e+01]]\n",
            "\n",
            "  [[7.12552261e+01 2.56071491e+01 2.07551346e+01]\n",
            "   [8.85256195e+01 4.12296638e+01 3.53061829e+01]\n",
            "   [9.45202866e+01 4.62652245e+01 3.62498741e+01]\n",
            "   ...\n",
            "   [1.81428223e+01 1.31428223e+01 1.71428223e+01]\n",
            "   [1.39285583e+01 8.92855835e+00 1.29285583e+01]\n",
            "   [1.56888380e+01 1.06888380e+01 1.46888380e+01]]\n",
            "\n",
            "  [[9.36583252e+01 2.75153294e+01 2.82296486e+01]\n",
            "   [9.89131775e+01 4.27906494e+01 3.73875198e+01]\n",
            "   [8.18878021e+01 3.91123047e+01 2.54541206e+01]\n",
            "   ...\n",
            "   [1.83470306e+01 1.33470306e+01 1.73470306e+01]\n",
            "   [1.76634121e+01 1.26634121e+01 1.66634121e+01]\n",
            "   [1.58163815e+01 1.08163815e+01 1.48163815e+01]]]\n",
            "\n",
            "\n",
            " [[[2.35056122e+02 2.30056122e+02 2.24056122e+02]\n",
            "   [2.35239792e+02 2.30239792e+02 2.24239792e+02]\n",
            "   [2.34158157e+02 2.29158157e+02 2.23586731e+02]\n",
            "   ...\n",
            "   [1.23265772e+01 7.96936893e+00 1.17551050e+01]\n",
            "   [1.41836281e+01 8.18362808e+00 1.21836281e+01]\n",
            "   [1.08725061e+01 4.87250614e+00 8.87250614e+00]]\n",
            "\n",
            "  [[2.38852036e+02 2.33852036e+02 2.29852036e+02]\n",
            "   [2.28770416e+02 2.23770416e+02 2.19770416e+02]\n",
            "   [2.29096939e+02 2.24096939e+02 2.20096939e+02]\n",
            "   ...\n",
            "   [1.06887932e+01 6.33158493e+00 1.01173210e+01]\n",
            "   [1.47908182e+01 9.79081821e+00 1.37908182e+01]\n",
            "   [1.42857494e+01 9.28574944e+00 1.32857494e+01]]\n",
            "\n",
            "  [[2.42280609e+02 2.37494904e+02 2.33709183e+02]\n",
            "   [2.40127548e+02 2.35341827e+02 2.31556122e+02]\n",
            "   [2.33693878e+02 2.28908157e+02 2.25122452e+02]\n",
            "   ...\n",
            "   [9.09182739e+00 6.95408630e+00 1.00000000e+01]\n",
            "   [7.62754869e+00 6.05612040e+00 8.84183407e+00]\n",
            "   [1.34185266e+01 1.18470984e+01 1.46328125e+01]]\n",
            "\n",
            "  ...\n",
            "\n",
            "  [[1.42224365e+02 1.47224365e+02 1.24224365e+02]\n",
            "   [1.05244888e+02 1.09244888e+02 8.23877487e+01]\n",
            "   [9.03826828e+01 9.05255356e+01 5.95255356e+01]\n",
            "   ...\n",
            "   [1.90408035e+02 1.98576385e+02 2.09239670e+02]\n",
            "   [1.89357147e+02 1.98357147e+02 2.07326538e+02]\n",
            "   [1.98050720e+02 2.07050720e+02 2.14050720e+02]]\n",
            "\n",
            "  [[1.44331665e+02 1.49331665e+02 1.26331673e+02]\n",
            "   [1.25010216e+02 1.29010223e+02 1.02285751e+02]\n",
            "   [9.73010483e+01 9.64439087e+01 6.82296219e+01]\n",
            "   ...\n",
            "   [1.88601959e+02 1.96601959e+02 2.07601959e+02]\n",
            "   [1.93913254e+02 2.02913254e+02 2.11913254e+02]\n",
            "   [1.93050919e+02 2.02050919e+02 2.11050919e+02]]\n",
            "\n",
            "  [[1.46270523e+02 1.53030792e+02 1.29444046e+02]\n",
            "   [1.27811401e+02 1.31811401e+02 1.06811401e+02]\n",
            "   [9.82754593e+01 9.74183197e+01 6.93571091e+01]\n",
            "   ...\n",
            "   [1.90218979e+02 1.98218979e+02 2.09218979e+02]\n",
            "   [1.95739624e+02 2.04739624e+02 2.13739624e+02]\n",
            "   [1.89811432e+02 1.98811432e+02 2.07811432e+02]]]], shape=(32, 224, 224, 3), dtype=float32) tf.Tensor(\n",
            "[[1. 0. 0. 0. 0. 0. 0. 0. 0. 0.]\n",
            " [0. 0. 0. 0. 0. 0. 1. 0. 0. 0.]\n",
            " [0. 0. 0. 0. 0. 0. 1. 0. 0. 0.]\n",
            " [0. 0. 0. 0. 0. 1. 0. 0. 0. 0.]\n",
            " [0. 0. 0. 1. 0. 0. 0. 0. 0. 0.]\n",
            " [0. 1. 0. 0. 0. 0. 0. 0. 0. 0.]\n",
            " [0. 0. 0. 0. 0. 0. 1. 0. 0. 0.]\n",
            " [1. 0. 0. 0. 0. 0. 0. 0. 0. 0.]\n",
            " [0. 0. 0. 0. 0. 1. 0. 0. 0. 0.]\n",
            " [0. 0. 0. 1. 0. 0. 0. 0. 0. 0.]\n",
            " [0. 1. 0. 0. 0. 0. 0. 0. 0. 0.]\n",
            " [0. 0. 0. 0. 1. 0. 0. 0. 0. 0.]\n",
            " [0. 0. 0. 0. 0. 0. 1. 0. 0. 0.]\n",
            " [0. 0. 0. 0. 0. 1. 0. 0. 0. 0.]\n",
            " [0. 0. 0. 1. 0. 0. 0. 0. 0. 0.]\n",
            " [0. 0. 0. 0. 1. 0. 0. 0. 0. 0.]\n",
            " [0. 0. 0. 1. 0. 0. 0. 0. 0. 0.]\n",
            " [0. 0. 1. 0. 0. 0. 0. 0. 0. 0.]\n",
            " [0. 0. 0. 0. 0. 1. 0. 0. 0. 0.]\n",
            " [0. 1. 0. 0. 0. 0. 0. 0. 0. 0.]\n",
            " [0. 0. 0. 0. 0. 0. 0. 0. 0. 1.]\n",
            " [0. 0. 0. 0. 0. 1. 0. 0. 0. 0.]\n",
            " [0. 0. 1. 0. 0. 0. 0. 0. 0. 0.]\n",
            " [0. 0. 1. 0. 0. 0. 0. 0. 0. 0.]\n",
            " [0. 0. 0. 0. 0. 0. 0. 0. 0. 1.]\n",
            " [0. 0. 0. 1. 0. 0. 0. 0. 0. 0.]\n",
            " [0. 0. 0. 0. 0. 0. 1. 0. 0. 0.]\n",
            " [0. 0. 0. 0. 0. 0. 0. 0. 0. 1.]\n",
            " [1. 0. 0. 0. 0. 0. 0. 0. 0. 0.]\n",
            " [0. 0. 0. 1. 0. 0. 0. 0. 0. 0.]\n",
            " [0. 0. 0. 1. 0. 0. 0. 0. 0. 0.]\n",
            " [0. 0. 0. 1. 0. 0. 0. 0. 0. 0.]], shape=(32, 10), dtype=float32)\n"
          ]
        }
      ]
    },
    {
      "cell_type": "code",
      "source": [],
      "metadata": {
        "id": "T20OO6aGLxPy"
      },
      "execution_count": null,
      "outputs": []
    }
  ]
}