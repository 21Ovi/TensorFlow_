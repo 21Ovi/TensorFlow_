{
  "nbformat": 4,
  "nbformat_minor": 0,
  "metadata": {
    "colab": {
      "provenance": [],
      "authorship_tag": "ABX9TyP7Oh07TV3HYg31/w9Wyh7P",
      "include_colab_link": true
    },
    "kernelspec": {
      "name": "python3",
      "display_name": "Python 3"
    },
    "language_info": {
      "name": "python"
    }
  },
  "cells": [
    {
      "cell_type": "markdown",
      "metadata": {
        "id": "view-in-github",
        "colab_type": "text"
      },
      "source": [
        "<a href=\"https://colab.research.google.com/github/21Ovi/TensorFlow_/blob/main/Neural_network_classification_with_TensorFlow_Exercises.ipynb\" target=\"_parent\"><img src=\"https://colab.research.google.com/assets/colab-badge.svg\" alt=\"Open In Colab\"/></a>"
      ]
    },
    {
      "cell_type": "markdown",
      "source": [
        "# Neural network classification with TensorFlow Exercises"
      ],
      "metadata": {
        "id": "nUI1GJw2pjei"
      }
    },
    {
      "cell_type": "code",
      "source": [
        "# Imports\n",
        "import numpy as np\n",
        "import pandas as pd\n",
        "import matplotlib.pyplot as plt\n",
        "import seaborn as sns\n",
        "import tensorflow as tf\n",
        "\n",
        "# Importing dataset\n",
        "from sklearn.datasets import make_moons"
      ],
      "metadata": {
        "id": "iXeeQKDKqeTX"
      },
      "execution_count": 1,
      "outputs": []
    },
    {
      "cell_type": "markdown",
      "source": [
        "Create a classification dataset using Scikit-Learn's `make_moons()` function, visualize it and then build a model to fit it at over 85% accuracy."
      ],
      "metadata": {
        "id": "5d63E5zPpqx3"
      }
    },
    {
      "cell_type": "code",
      "source": [
        "data = make_moons()\n",
        "data[0][:5]\n"
      ],
      "metadata": {
        "colab": {
          "base_uri": "https://localhost:8080/"
        },
        "id": "ydIZ6oQjprH5",
        "outputId": "67d4c7f3-64b6-4745-ad21-9d0c79a8ca99"
      },
      "execution_count": 16,
      "outputs": [
        {
          "output_type": "execute_result",
          "data": {
            "text/plain": [
              "array([[ 1.28681296e-01,  9.28244800e-03],\n",
              "       [ 3.27051370e-02,  2.46345416e-01],\n",
              "       [-5.72116660e-01,  8.20172255e-01],\n",
              "       [-1.00000000e+00,  1.22464680e-16],\n",
              "       [ 5.72116660e-01,  8.20172255e-01]])"
            ]
          },
          "metadata": {},
          "execution_count": 16
        }
      ]
    },
    {
      "cell_type": "markdown",
      "source": [
        "Train a model to get 88%+ accuracy on the fashion MNIST test set. Plot a confusion matrix to see the results after."
      ],
      "metadata": {
        "id": "SU_L_ahMpre3"
      }
    },
    {
      "cell_type": "code",
      "source": [],
      "metadata": {
        "id": "2tdOlpV0puIb"
      },
      "execution_count": null,
      "outputs": []
    },
    {
      "cell_type": "markdown",
      "source": [
        "Recreate TensorFlow's softmax activation function in your own code. Make sure it can accept a tensor and return that tensor after having the softmax function applied to it."
      ],
      "metadata": {
        "id": "2fC8O5ZSpuc2"
      }
    },
    {
      "cell_type": "code",
      "source": [],
      "metadata": {
        "id": "GTXqhrjjpuz0"
      },
      "execution_count": null,
      "outputs": []
    },
    {
      "cell_type": "markdown",
      "source": [
        "Create a function (or write code) to visualize multiple image predictions for the fashion MNIST at the same time. Plot at least three different images and their prediction labels at the same time. Hint: see the classification tutorial in the TensorFlow documentation for ideas."
      ],
      "metadata": {
        "id": "nrqE3maOpvVd"
      }
    },
    {
      "cell_type": "code",
      "source": [],
      "metadata": {
        "id": "dKjYF8szpvmb"
      },
      "execution_count": null,
      "outputs": []
    },
    {
      "cell_type": "markdown",
      "source": [
        "Make a function to show an image of a certain class of the fashion MNIST dataset and make a prediction on it. For example, plot 3 images of the `T-shirt` class with their predictions."
      ],
      "metadata": {
        "id": "FUGYo5ATpv_6"
      }
    },
    {
      "cell_type": "code",
      "source": [],
      "metadata": {
        "id": "Tmwt5oShpwRW"
      },
      "execution_count": null,
      "outputs": []
    }
  ]
}