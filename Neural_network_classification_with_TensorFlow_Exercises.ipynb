{
  "nbformat": 4,
  "nbformat_minor": 0,
  "metadata": {
    "colab": {
      "provenance": [],
      "authorship_tag": "ABX9TyNeXxuA+U2rg/zGxv/QmhH1",
      "include_colab_link": true
    },
    "kernelspec": {
      "name": "python3",
      "display_name": "Python 3"
    },
    "language_info": {
      "name": "python"
    }
  },
  "cells": [
    {
      "cell_type": "markdown",
      "metadata": {
        "id": "view-in-github",
        "colab_type": "text"
      },
      "source": [
        "<a href=\"https://colab.research.google.com/github/21Ovi/TensorFlow_/blob/main/Neural_network_classification_with_TensorFlow_Exercises.ipynb\" target=\"_parent\"><img src=\"https://colab.research.google.com/assets/colab-badge.svg\" alt=\"Open In Colab\"/></a>"
      ]
    },
    {
      "cell_type": "markdown",
      "source": [
        "# Neural network classification with TensorFlow Exercises"
      ],
      "metadata": {
        "id": "nUI1GJw2pjei"
      }
    },
    {
      "cell_type": "markdown",
      "source": [
        "Create a classification dataset using Scikit-Learn's `make_moons()` function, visualize it and then build a model to fit it at over 85% accuracy."
      ],
      "metadata": {
        "id": "5d63E5zPpqx3"
      }
    },
    {
      "cell_type": "code",
      "source": [],
      "metadata": {
        "id": "ydIZ6oQjprH5"
      },
      "execution_count": null,
      "outputs": []
    },
    {
      "cell_type": "markdown",
      "source": [
        "Train a model to get 88%+ accuracy on the fashion MNIST test set. Plot a confusion matrix to see the results after."
      ],
      "metadata": {
        "id": "SU_L_ahMpre3"
      }
    },
    {
      "cell_type": "code",
      "source": [],
      "metadata": {
        "id": "2tdOlpV0puIb"
      },
      "execution_count": null,
      "outputs": []
    },
    {
      "cell_type": "markdown",
      "source": [
        "Recreate TensorFlow's softmax activation function in your own code. Make sure it can accept a tensor and return that tensor after having the softmax function applied to it."
      ],
      "metadata": {
        "id": "2fC8O5ZSpuc2"
      }
    },
    {
      "cell_type": "code",
      "source": [],
      "metadata": {
        "id": "GTXqhrjjpuz0"
      },
      "execution_count": null,
      "outputs": []
    },
    {
      "cell_type": "markdown",
      "source": [
        "Create a function (or write code) to visualize multiple image predictions for the fashion MNIST at the same time. Plot at least three different images and their prediction labels at the same time. Hint: see the classification tutorial in the TensorFlow documentation for ideas."
      ],
      "metadata": {
        "id": "nrqE3maOpvVd"
      }
    },
    {
      "cell_type": "code",
      "source": [],
      "metadata": {
        "id": "dKjYF8szpvmb"
      },
      "execution_count": null,
      "outputs": []
    },
    {
      "cell_type": "markdown",
      "source": [
        "Make a function to show an image of a certain class of the fashion MNIST dataset and make a prediction on it. For example, plot 3 images of the `T-shirt` class with their predictions."
      ],
      "metadata": {
        "id": "FUGYo5ATpv_6"
      }
    },
    {
      "cell_type": "code",
      "source": [],
      "metadata": {
        "id": "Tmwt5oShpwRW"
      },
      "execution_count": null,
      "outputs": []
    }
  ]
}