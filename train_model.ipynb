{
  "nbformat": 4,
  "nbformat_minor": 0,
  "metadata": {
    "colab": {
      "provenance": [],
      "toc_visible": true,
      "authorship_tag": "ABX9TyPKnQt1dlBJHy+Iy2+/L39m",
      "include_colab_link": true
    },
    "kernelspec": {
      "name": "python3",
      "display_name": "Python 3"
    },
    "language_info": {
      "name": "python"
    }
  },
  "cells": [
    {
      "cell_type": "markdown",
      "metadata": {
        "id": "view-in-github",
        "colab_type": "text"
      },
      "source": [
        "<a href=\"https://colab.research.google.com/github/21Ovi/TensorFlow_/blob/main/train_model.ipynb\" target=\"_parent\"><img src=\"https://colab.research.google.com/assets/colab-badge.svg\" alt=\"Open In Colab\"/></a>"
      ]
    },
    {
      "cell_type": "markdown",
      "source": [
        "# Imports"
      ],
      "metadata": {
        "id": "BBE1UVZjjZ6V"
      }
    },
    {
      "cell_type": "code",
      "source": [
        "import numpy as np\n",
        "import pandas as pd\n",
        "import matplotlib.pyplot as plt\n",
        "import seaborn as sns\n",
        "from scipy import stats\n",
        "\n",
        "from scipy.stats import skew, kurtosis\n",
        "from sklearn.preprocessing import LabelEncoder,StandardScaler,MinMaxScaler\n",
        "from imblearn.over_sampling import RandomOverSampler,SMOTENC,SMOTE\n",
        "from sklearn.feature_selection import SelectKBest,chi2\n",
        "from sklearn import svm, tree, model_selection, linear_model, neighbors, naive_bayes, ensemble, discriminant_analysis, gaussian_process\n",
        "from sklearn.ensemble import RandomForestClassifier,ExtraTreesClassifier\n",
        "from xgboost import XGBClassifier\n",
        "from sklearn.model_selection import train_test_split, KFold\n",
        "from sklearn.metrics import accuracy_score, confusion_matrix, classification_report, plot_confusion_matrix\n",
        "from yellowbrick.classifier import ROCAUC\n",
        "\n",
        "!pip install optuna\n",
        "import optuna\n",
        "import matplotlib\n",
        "import joblib\n",
        "\n",
        "# To avoid warnings\n",
        "import warnings\n",
        "warnings.filterwarnings('ignore')"
      ],
      "metadata": {
        "id": "Fj4KYM3BjZGz",
        "colab": {
          "base_uri": "https://localhost:8080/"
        },
        "outputId": "561b27d7-be12-4d3b-dec6-e57bc59b4714"
      },
      "execution_count": 2,
      "outputs": [
        {
          "output_type": "stream",
          "name": "stdout",
          "text": [
            "Looking in indexes: https://pypi.org/simple, https://us-python.pkg.dev/colab-wheels/public/simple/\n",
            "Collecting optuna\n",
            "  Downloading optuna-3.0.5-py3-none-any.whl (348 kB)\n",
            "\u001b[2K     \u001b[90m━━━━━━━━━━━━━━━━━━━━━━━━━━━━━━━━━━━━━━━\u001b[0m \u001b[32m348.5/348.5 KB\u001b[0m \u001b[31m8.9 MB/s\u001b[0m eta \u001b[36m0:00:00\u001b[0m\n",
            "\u001b[?25hRequirement already satisfied: sqlalchemy>=1.3.0 in /usr/local/lib/python3.8/dist-packages (from optuna) (1.4.45)\n",
            "Requirement already satisfied: packaging>=20.0 in /usr/local/lib/python3.8/dist-packages (from optuna) (21.3)\n",
            "Collecting colorlog\n",
            "  Downloading colorlog-6.7.0-py2.py3-none-any.whl (11 kB)\n",
            "Requirement already satisfied: PyYAML in /usr/local/lib/python3.8/dist-packages (from optuna) (6.0)\n",
            "Collecting cliff\n",
            "  Downloading cliff-4.1.0-py3-none-any.whl (81 kB)\n",
            "\u001b[2K     \u001b[90m━━━━━━━━━━━━━━━━━━━━━━━━━━━━━━━━━━━━━━━━\u001b[0m \u001b[32m81.0/81.0 KB\u001b[0m \u001b[31m10.5 MB/s\u001b[0m eta \u001b[36m0:00:00\u001b[0m\n",
            "\u001b[?25hCollecting cmaes>=0.8.2\n",
            "  Downloading cmaes-0.9.0-py3-none-any.whl (23 kB)\n",
            "Collecting importlib-metadata<5.0.0\n",
            "  Downloading importlib_metadata-4.13.0-py3-none-any.whl (23 kB)\n",
            "Requirement already satisfied: numpy in /usr/local/lib/python3.8/dist-packages (from optuna) (1.21.6)\n",
            "Requirement already satisfied: scipy<1.9.0,>=1.7.0 in /usr/local/lib/python3.8/dist-packages (from optuna) (1.7.3)\n",
            "Collecting alembic>=1.5.0\n",
            "  Downloading alembic-1.9.1-py3-none-any.whl (210 kB)\n",
            "\u001b[2K     \u001b[90m━━━━━━━━━━━━━━━━━━━━━━━━━━━━━━━━━━━━━━\u001b[0m \u001b[32m210.4/210.4 KB\u001b[0m \u001b[31m22.3 MB/s\u001b[0m eta \u001b[36m0:00:00\u001b[0m\n",
            "\u001b[?25hRequirement already satisfied: tqdm in /usr/local/lib/python3.8/dist-packages (from optuna) (4.64.1)\n",
            "Requirement already satisfied: importlib-resources in /usr/local/lib/python3.8/dist-packages (from alembic>=1.5.0->optuna) (5.10.1)\n",
            "Collecting Mako\n",
            "  Downloading Mako-1.2.4-py3-none-any.whl (78 kB)\n",
            "\u001b[2K     \u001b[90m━━━━━━━━━━━━━━━━━━━━━━━━━━━━━━━━━━━━━━━━\u001b[0m \u001b[32m78.7/78.7 KB\u001b[0m \u001b[31m10.0 MB/s\u001b[0m eta \u001b[36m0:00:00\u001b[0m\n",
            "\u001b[?25hRequirement already satisfied: zipp>=0.5 in /usr/local/lib/python3.8/dist-packages (from importlib-metadata<5.0.0->optuna) (3.11.0)\n",
            "Requirement already satisfied: pyparsing!=3.0.5,>=2.0.2 in /usr/local/lib/python3.8/dist-packages (from packaging>=20.0->optuna) (3.0.9)\n",
            "Requirement already satisfied: greenlet!=0.4.17 in /usr/local/lib/python3.8/dist-packages (from sqlalchemy>=1.3.0->optuna) (2.0.1)\n",
            "Collecting cmd2>=1.0.0\n",
            "  Downloading cmd2-2.4.2-py3-none-any.whl (147 kB)\n",
            "\u001b[2K     \u001b[90m━━━━━━━━━━━━━━━━━━━━━━━━━━━━━━━━━━━━━━\u001b[0m \u001b[32m147.1/147.1 KB\u001b[0m \u001b[31m16.5 MB/s\u001b[0m eta \u001b[36m0:00:00\u001b[0m\n",
            "\u001b[?25hCollecting autopage>=0.4.0\n",
            "  Downloading autopage-0.5.1-py3-none-any.whl (29 kB)\n",
            "Requirement already satisfied: PrettyTable>=0.7.2 in /usr/local/lib/python3.8/dist-packages (from cliff->optuna) (3.5.0)\n",
            "Collecting stevedore>=2.0.1\n",
            "  Downloading stevedore-4.1.1-py3-none-any.whl (50 kB)\n",
            "\u001b[2K     \u001b[90m━━━━━━━━━━━━━━━━━━━━━━━━━━━━━━━━━━━━━━━━\u001b[0m \u001b[32m50.0/50.0 KB\u001b[0m \u001b[31m6.2 MB/s\u001b[0m eta \u001b[36m0:00:00\u001b[0m\n",
            "\u001b[?25hRequirement already satisfied: attrs>=16.3.0 in /usr/local/lib/python3.8/dist-packages (from cmd2>=1.0.0->cliff->optuna) (22.2.0)\n",
            "Requirement already satisfied: wcwidth>=0.1.7 in /usr/local/lib/python3.8/dist-packages (from cmd2>=1.0.0->cliff->optuna) (0.2.5)\n",
            "Collecting pyperclip>=1.6\n",
            "  Downloading pyperclip-1.8.2.tar.gz (20 kB)\n",
            "  Preparing metadata (setup.py) ... \u001b[?25l\u001b[?25hdone\n",
            "Collecting pbr!=2.1.0,>=2.0.0\n",
            "  Downloading pbr-5.11.0-py2.py3-none-any.whl (112 kB)\n",
            "\u001b[2K     \u001b[90m━━━━━━━━━━━━━━━━━━━━━━━━━━━━━━━━━━━━━━\u001b[0m \u001b[32m112.6/112.6 KB\u001b[0m \u001b[31m11.9 MB/s\u001b[0m eta \u001b[36m0:00:00\u001b[0m\n",
            "\u001b[?25hRequirement already satisfied: MarkupSafe>=0.9.2 in /usr/local/lib/python3.8/dist-packages (from Mako->alembic>=1.5.0->optuna) (2.0.1)\n",
            "Building wheels for collected packages: pyperclip\n",
            "  Building wheel for pyperclip (setup.py) ... \u001b[?25l\u001b[?25hdone\n",
            "  Created wheel for pyperclip: filename=pyperclip-1.8.2-py3-none-any.whl size=11136 sha256=7205170e1d9aefbeffee87d74d3416e083d10bd138274afe4dc3aab4990848f8\n",
            "  Stored in directory: /root/.cache/pip/wheels/7f/1a/65/84ff8c386bec21fca6d220ea1f5498a0367883a78dd5ba6122\n",
            "Successfully built pyperclip\n",
            "Installing collected packages: pyperclip, pbr, Mako, importlib-metadata, colorlog, cmd2, cmaes, autopage, stevedore, alembic, cliff, optuna\n",
            "  Attempting uninstall: importlib-metadata\n",
            "    Found existing installation: importlib-metadata 5.2.0\n",
            "    Uninstalling importlib-metadata-5.2.0:\n",
            "      Successfully uninstalled importlib-metadata-5.2.0\n",
            "Successfully installed Mako-1.2.4 alembic-1.9.1 autopage-0.5.1 cliff-4.1.0 cmaes-0.9.0 cmd2-2.4.2 colorlog-6.7.0 importlib-metadata-4.13.0 optuna-3.0.5 pbr-5.11.0 pyperclip-1.8.2 stevedore-4.1.1\n"
          ]
        }
      ]
    },
    {
      "cell_type": "code",
      "execution_count": 3,
      "metadata": {
        "colab": {
          "base_uri": "https://localhost:8080/",
          "height": 369
        },
        "id": "rrtIfDx0i9Cu",
        "outputId": "ce4b8eec-9e4d-4a8a-93ee-f854ade166de"
      },
      "outputs": [
        {
          "output_type": "execute_result",
          "data": {
            "text/plain": [
              "   Age  Distance From Home  Employee Hourly Rate  Number of Companies Worked  \\\n",
              "0   32                  10                    55                           1   \n",
              "1   47                  14                    42                           2   \n",
              "2   40                   5                    48                           5   \n",
              "3   41                  10                    73                           3   \n",
              "4   60                  16                    84                           8   \n",
              "\n",
              "   Employee Last Salary Hike Percent  Total Work Experience In Years  \\\n",
              "0                                 12                              10   \n",
              "1                                 12                              20   \n",
              "2                                 21                              20   \n",
              "3                                 15                              23   \n",
              "4                                 14                              10   \n",
              "\n",
              "   Training Times Last Year  Experience Years At This Company  \\\n",
              "0                         2                                10   \n",
              "1                         2                                 7   \n",
              "2                         2                                18   \n",
              "3                         2                                21   \n",
              "4                         1                                 2   \n",
              "\n",
              "   Experience Years In Current Role  Years Since Last Promotion  ...  \\\n",
              "0                                 7                    0.000000  ...   \n",
              "1                                 7                    1.000000  ...   \n",
              "2                                13                    1.000000  ...   \n",
              "3                                 6                    3.464102  ...   \n",
              "4                                 2                    1.414214  ...   \n",
              "\n",
              "   Employee Work Life Balance  Gender  Education Background  Marital Status  \\\n",
              "0                           2       1                     2               2   \n",
              "1                           3       1                     2               2   \n",
              "2                           3       1                     1               1   \n",
              "3                           2       1                     0               0   \n",
              "4                           3       1                     2               2   \n",
              "\n",
              "   Employees Department  Employees Job Role  Business Travel Frequency  \\\n",
              "0                     5                  13                          2   \n",
              "1                     5                  13                          2   \n",
              "2                     5                  13                          1   \n",
              "3                     3                   8                          2   \n",
              "4                     5                  13                          2   \n",
              "\n",
              "   Over Time  Attrition  Performance Rating  \n",
              "0          0          0                   3  \n",
              "1          0          0                   3  \n",
              "2          1          0                   4  \n",
              "3          0          0                   3  \n",
              "4          0          0                   3  \n",
              "\n",
              "[5 rows x 27 columns]"
            ],
            "text/html": [
              "\n",
              "  <div id=\"df-fc80eb80-285d-40c0-adae-a1a88223ff04\">\n",
              "    <div class=\"colab-df-container\">\n",
              "      <div>\n",
              "<style scoped>\n",
              "    .dataframe tbody tr th:only-of-type {\n",
              "        vertical-align: middle;\n",
              "    }\n",
              "\n",
              "    .dataframe tbody tr th {\n",
              "        vertical-align: top;\n",
              "    }\n",
              "\n",
              "    .dataframe thead th {\n",
              "        text-align: right;\n",
              "    }\n",
              "</style>\n",
              "<table border=\"1\" class=\"dataframe\">\n",
              "  <thead>\n",
              "    <tr style=\"text-align: right;\">\n",
              "      <th></th>\n",
              "      <th>Age</th>\n",
              "      <th>Distance From Home</th>\n",
              "      <th>Employee Hourly Rate</th>\n",
              "      <th>Number of Companies Worked</th>\n",
              "      <th>Employee Last Salary Hike Percent</th>\n",
              "      <th>Total Work Experience In Years</th>\n",
              "      <th>Training Times Last Year</th>\n",
              "      <th>Experience Years At This Company</th>\n",
              "      <th>Experience Years In Current Role</th>\n",
              "      <th>Years Since Last Promotion</th>\n",
              "      <th>...</th>\n",
              "      <th>Employee Work Life Balance</th>\n",
              "      <th>Gender</th>\n",
              "      <th>Education Background</th>\n",
              "      <th>Marital Status</th>\n",
              "      <th>Employees Department</th>\n",
              "      <th>Employees Job Role</th>\n",
              "      <th>Business Travel Frequency</th>\n",
              "      <th>Over Time</th>\n",
              "      <th>Attrition</th>\n",
              "      <th>Performance Rating</th>\n",
              "    </tr>\n",
              "  </thead>\n",
              "  <tbody>\n",
              "    <tr>\n",
              "      <th>0</th>\n",
              "      <td>32</td>\n",
              "      <td>10</td>\n",
              "      <td>55</td>\n",
              "      <td>1</td>\n",
              "      <td>12</td>\n",
              "      <td>10</td>\n",
              "      <td>2</td>\n",
              "      <td>10</td>\n",
              "      <td>7</td>\n",
              "      <td>0.000000</td>\n",
              "      <td>...</td>\n",
              "      <td>2</td>\n",
              "      <td>1</td>\n",
              "      <td>2</td>\n",
              "      <td>2</td>\n",
              "      <td>5</td>\n",
              "      <td>13</td>\n",
              "      <td>2</td>\n",
              "      <td>0</td>\n",
              "      <td>0</td>\n",
              "      <td>3</td>\n",
              "    </tr>\n",
              "    <tr>\n",
              "      <th>1</th>\n",
              "      <td>47</td>\n",
              "      <td>14</td>\n",
              "      <td>42</td>\n",
              "      <td>2</td>\n",
              "      <td>12</td>\n",
              "      <td>20</td>\n",
              "      <td>2</td>\n",
              "      <td>7</td>\n",
              "      <td>7</td>\n",
              "      <td>1.000000</td>\n",
              "      <td>...</td>\n",
              "      <td>3</td>\n",
              "      <td>1</td>\n",
              "      <td>2</td>\n",
              "      <td>2</td>\n",
              "      <td>5</td>\n",
              "      <td>13</td>\n",
              "      <td>2</td>\n",
              "      <td>0</td>\n",
              "      <td>0</td>\n",
              "      <td>3</td>\n",
              "    </tr>\n",
              "    <tr>\n",
              "      <th>2</th>\n",
              "      <td>40</td>\n",
              "      <td>5</td>\n",
              "      <td>48</td>\n",
              "      <td>5</td>\n",
              "      <td>21</td>\n",
              "      <td>20</td>\n",
              "      <td>2</td>\n",
              "      <td>18</td>\n",
              "      <td>13</td>\n",
              "      <td>1.000000</td>\n",
              "      <td>...</td>\n",
              "      <td>3</td>\n",
              "      <td>1</td>\n",
              "      <td>1</td>\n",
              "      <td>1</td>\n",
              "      <td>5</td>\n",
              "      <td>13</td>\n",
              "      <td>1</td>\n",
              "      <td>1</td>\n",
              "      <td>0</td>\n",
              "      <td>4</td>\n",
              "    </tr>\n",
              "    <tr>\n",
              "      <th>3</th>\n",
              "      <td>41</td>\n",
              "      <td>10</td>\n",
              "      <td>73</td>\n",
              "      <td>3</td>\n",
              "      <td>15</td>\n",
              "      <td>23</td>\n",
              "      <td>2</td>\n",
              "      <td>21</td>\n",
              "      <td>6</td>\n",
              "      <td>3.464102</td>\n",
              "      <td>...</td>\n",
              "      <td>2</td>\n",
              "      <td>1</td>\n",
              "      <td>0</td>\n",
              "      <td>0</td>\n",
              "      <td>3</td>\n",
              "      <td>8</td>\n",
              "      <td>2</td>\n",
              "      <td>0</td>\n",
              "      <td>0</td>\n",
              "      <td>3</td>\n",
              "    </tr>\n",
              "    <tr>\n",
              "      <th>4</th>\n",
              "      <td>60</td>\n",
              "      <td>16</td>\n",
              "      <td>84</td>\n",
              "      <td>8</td>\n",
              "      <td>14</td>\n",
              "      <td>10</td>\n",
              "      <td>1</td>\n",
              "      <td>2</td>\n",
              "      <td>2</td>\n",
              "      <td>1.414214</td>\n",
              "      <td>...</td>\n",
              "      <td>3</td>\n",
              "      <td>1</td>\n",
              "      <td>2</td>\n",
              "      <td>2</td>\n",
              "      <td>5</td>\n",
              "      <td>13</td>\n",
              "      <td>2</td>\n",
              "      <td>0</td>\n",
              "      <td>0</td>\n",
              "      <td>3</td>\n",
              "    </tr>\n",
              "  </tbody>\n",
              "</table>\n",
              "<p>5 rows × 27 columns</p>\n",
              "</div>\n",
              "      <button class=\"colab-df-convert\" onclick=\"convertToInteractive('df-fc80eb80-285d-40c0-adae-a1a88223ff04')\"\n",
              "              title=\"Convert this dataframe to an interactive table.\"\n",
              "              style=\"display:none;\">\n",
              "        \n",
              "  <svg xmlns=\"http://www.w3.org/2000/svg\" height=\"24px\"viewBox=\"0 0 24 24\"\n",
              "       width=\"24px\">\n",
              "    <path d=\"M0 0h24v24H0V0z\" fill=\"none\"/>\n",
              "    <path d=\"M18.56 5.44l.94 2.06.94-2.06 2.06-.94-2.06-.94-.94-2.06-.94 2.06-2.06.94zm-11 1L8.5 8.5l.94-2.06 2.06-.94-2.06-.94L8.5 2.5l-.94 2.06-2.06.94zm10 10l.94 2.06.94-2.06 2.06-.94-2.06-.94-.94-2.06-.94 2.06-2.06.94z\"/><path d=\"M17.41 7.96l-1.37-1.37c-.4-.4-.92-.59-1.43-.59-.52 0-1.04.2-1.43.59L10.3 9.45l-7.72 7.72c-.78.78-.78 2.05 0 2.83L4 21.41c.39.39.9.59 1.41.59.51 0 1.02-.2 1.41-.59l7.78-7.78 2.81-2.81c.8-.78.8-2.07 0-2.86zM5.41 20L4 18.59l7.72-7.72 1.47 1.35L5.41 20z\"/>\n",
              "  </svg>\n",
              "      </button>\n",
              "      \n",
              "  <style>\n",
              "    .colab-df-container {\n",
              "      display:flex;\n",
              "      flex-wrap:wrap;\n",
              "      gap: 12px;\n",
              "    }\n",
              "\n",
              "    .colab-df-convert {\n",
              "      background-color: #E8F0FE;\n",
              "      border: none;\n",
              "      border-radius: 50%;\n",
              "      cursor: pointer;\n",
              "      display: none;\n",
              "      fill: #1967D2;\n",
              "      height: 32px;\n",
              "      padding: 0 0 0 0;\n",
              "      width: 32px;\n",
              "    }\n",
              "\n",
              "    .colab-df-convert:hover {\n",
              "      background-color: #E2EBFA;\n",
              "      box-shadow: 0px 1px 2px rgba(60, 64, 67, 0.3), 0px 1px 3px 1px rgba(60, 64, 67, 0.15);\n",
              "      fill: #174EA6;\n",
              "    }\n",
              "\n",
              "    [theme=dark] .colab-df-convert {\n",
              "      background-color: #3B4455;\n",
              "      fill: #D2E3FC;\n",
              "    }\n",
              "\n",
              "    [theme=dark] .colab-df-convert:hover {\n",
              "      background-color: #434B5C;\n",
              "      box-shadow: 0px 1px 3px 1px rgba(0, 0, 0, 0.15);\n",
              "      filter: drop-shadow(0px 1px 2px rgba(0, 0, 0, 0.3));\n",
              "      fill: #FFFFFF;\n",
              "    }\n",
              "  </style>\n",
              "\n",
              "      <script>\n",
              "        const buttonEl =\n",
              "          document.querySelector('#df-fc80eb80-285d-40c0-adae-a1a88223ff04 button.colab-df-convert');\n",
              "        buttonEl.style.display =\n",
              "          google.colab.kernel.accessAllowed ? 'block' : 'none';\n",
              "\n",
              "        async function convertToInteractive(key) {\n",
              "          const element = document.querySelector('#df-fc80eb80-285d-40c0-adae-a1a88223ff04');\n",
              "          const dataTable =\n",
              "            await google.colab.kernel.invokeFunction('convertToInteractive',\n",
              "                                                     [key], {});\n",
              "          if (!dataTable) return;\n",
              "\n",
              "          const docLinkHtml = 'Like what you see? Visit the ' +\n",
              "            '<a target=\"_blank\" href=https://colab.research.google.com/notebooks/data_table.ipynb>data table notebook</a>'\n",
              "            + ' to learn more about interactive tables.';\n",
              "          element.innerHTML = '';\n",
              "          dataTable['output_type'] = 'display_data';\n",
              "          await google.colab.output.renderOutput(dataTable, element);\n",
              "          const docLink = document.createElement('div');\n",
              "          docLink.innerHTML = docLinkHtml;\n",
              "          element.appendChild(docLink);\n",
              "        }\n",
              "      </script>\n",
              "    </div>\n",
              "  </div>\n",
              "  "
            ]
          },
          "metadata": {},
          "execution_count": 3
        }
      ],
      "source": [
        "data = pd.read_excel('/content/preprocessed_data.xlsx')\n",
        "data.head()"
      ]
    },
    {
      "cell_type": "markdown",
      "source": [
        "# Feature Selection"
      ],
      "metadata": {
        "id": "li5hVRcZsDRA"
      }
    },
    {
      "cell_type": "code",
      "source": [
        "# Splitting dataset into Dependent(X) and Independent(y) Variables\n",
        "\n",
        "X = data.drop('Performance Rating', axis=1)\n",
        "y = data['Performance Rating']"
      ],
      "metadata": {
        "id": "IsYZ5cRqsdTD"
      },
      "execution_count": 4,
      "outputs": []
    },
    {
      "cell_type": "code",
      "source": [
        "bestfeatures = SelectKBest(score_func=chi2,k=15)\n",
        "fit = bestfeatures.fit(X,y)\n",
        "\n",
        "dfscores = pd.DataFrame(fit.scores_)\n",
        "dfcolumns = pd.DataFrame(X.columns)\n",
        "\n",
        "featurescores = pd.concat([dfcolumns,dfscores],axis=1)\n",
        "featurescores.columns = ['feature_names','Scores']\n",
        "\n",
        "print(featurescores.nlargest(5,'Scores'))"
      ],
      "metadata": {
        "colab": {
          "base_uri": "https://localhost:8080/"
        },
        "id": "5YPgtVZQsFYu",
        "outputId": "6f73f477-15c7-48ba-bea8-8b0987f958a3"
      },
      "execution_count": 5,
      "outputs": [
        {
          "output_type": "stream",
          "name": "stdout",
          "text": [
            "                        feature_names       Scores\n",
            "4   Employee Last Salary Hike Percent  1251.369985\n",
            "12  Employee Environment Satisfaction   456.884207\n",
            "9          Years Since Last Promotion   352.363603\n",
            "7    Experience Years At This Company   347.864952\n",
            "8    Experience Years In Current Role   347.401176\n"
          ]
        }
      ]
    },
    {
      "cell_type": "markdown",
      "source": [
        "These are the `Top 5 features` which impact on the `target variable` to `predict the rating`."
      ],
      "metadata": {
        "id": "nobNBJ_xs2Op"
      }
    },
    {
      "cell_type": "markdown",
      "source": [
        "## Checking which Machine Learning Algorithm perform well for given dataset"
      ],
      "metadata": {
        "id": "30VIKf6_s_vs"
      }
    },
    {
      "cell_type": "code",
      "source": [
        "features = data.columns[:-1]\n",
        "# test.rename({'':'Performance Rating'},axis = 1, inplace = True)"
      ],
      "metadata": {
        "id": "c4Ka1-G5sFWx"
      },
      "execution_count": 8,
      "outputs": []
    },
    {
      "cell_type": "code",
      "source": [
        "MLA = [\n",
        "    # Ensemble Methods\n",
        "    ensemble.AdaBoostClassifier(),\n",
        "    ensemble.BaggingClassifier(),\n",
        "    ensemble.ExtraTreesClassifier(),\n",
        "    ensemble.GradientBoostingClassifier(),\n",
        "    ensemble.RandomForestClassifier(),\n",
        "\n",
        "    # General Linear Models\n",
        "    linear_model.LogisticRegression(),\n",
        "    linear_model.PassiveAggressiveClassifier(),\n",
        "    linear_model.RidgeClassifierCV(),\n",
        "    linear_model.SGDClassifier(),\n",
        "    linear_model.Perceptron(),\n",
        "\n",
        "    # Naive Bayes\n",
        "    naive_bayes.BernoulliNB(),\n",
        "    naive_bayes.GaussianNB(),\n",
        "\n",
        "    # Nearest Neighbor\n",
        "    neighbors.KNeighborsClassifier(),\n",
        "\n",
        "    # SVM\n",
        "    svm.SVC(probability=True),\n",
        "    svm.NuSVC(probability=True),\n",
        "    svm.LinearSVC(),\n",
        "\n",
        "    # Trees\n",
        "    tree.DecisionTreeClassifier(),\n",
        "    tree.ExtraTreeClassifier(),\n",
        "\n",
        "    # Discriminant Analysis\n",
        "    discriminant_analysis.LinearDiscriminantAnalysis(),\n",
        "    discriminant_analysis.QuadraticDiscriminantAnalysis(),\n",
        "\n",
        "    # XGBOOST\n",
        "    XGBClassifier()\n",
        "]"
      ],
      "metadata": {
        "id": "aJ4mViiBmSJQ"
      },
      "execution_count": 9,
      "outputs": []
    },
    {
      "cell_type": "code",
      "source": [
        "# Split dataset in cross-validation with this splitter class\n",
        "# note: this is an alternative to train_test_split\n",
        "cv_split = model_selection.ShuffleSplit(n_splits = 10, test_size = 0.3, train_size = 0.7, random_state = 0 ) # run model 10x with 60/30 split intentionally leaving out 10%\n",
        "\n",
        "\n",
        "#create table to compare MLA metrics\n",
        "MLA_columns = ['MLA Name', 'MLA Parameters', 'MLA Test Accuracy Mean', 'MLA Test Accuracy 3*STD' ,'MLA Time']\n",
        "MLA_compare = pd.DataFrame(columns = MLA_columns)\n",
        "\n",
        "#create table to compare MLA predictions\n",
        "MLA_predict = data['Performance Rating']"
      ],
      "metadata": {
        "id": "LKFHQnurw-RN"
      },
      "execution_count": 10,
      "outputs": []
    },
    {
      "cell_type": "code",
      "source": [
        "# Index through MLA and save performance to table\n",
        "row_index = 0\n",
        "data1 = data.copy()\n",
        "for alg in MLA:\n",
        "    data = data1\n",
        "    # Set name and parameters\n",
        "    MLA_name = alg.__class__.__name__\n",
        "    print('Executing ',MLA_name)\n",
        "    MLA_compare.loc[row_index, 'MLA Name'] = MLA_name\n",
        "    MLA_compare.loc[row_index, 'MLA Parameters'] = str(alg.get_params())\n",
        "    \n",
        "    # Score model with cross validation\n",
        "    cv_results = model_selection.cross_validate(alg, data[features], data['Performance Rating'], cv  = cv_split)\n",
        "    # Print(cv_results.keys())\n",
        "    MLA_compare.loc[row_index, 'MLA Time'] = cv_results['fit_time'].mean()\n",
        "    # MLA_compare.loc[row_index, 'MLA Train Accuracy Mean'] = cv_results['train_score'].mean()\n",
        "    MLA_compare.loc[row_index, 'MLA Test Accuracy Mean'] = cv_results['test_score'].mean()   \n",
        "    # If this is a non-bias random sample, then +/-3 standard deviations (std) from the mean, should statistically capture 99.7% of the subsets\n",
        "    MLA_compare.loc[row_index, 'MLA Test Accuracy 3*STD'] = cv_results['test_score'].std()*3   #let's know the worst that can happen!\n",
        "    \n",
        "    # Save MLA predictions - see section 6 for usage\n",
        "    alg.fit(data[features], data['Performance Rating'])\n",
        "    MLA_predict[MLA_name] = alg.predict(data[features])\n",
        "    row_index+=1\n",
        "\n",
        "MLA_compare.sort_values(by = ['MLA Test Accuracy Mean'], ascending = False, inplace = True)\n",
        "MLA_compare\n",
        "# MLA_predict"
      ],
      "metadata": {
        "colab": {
          "base_uri": "https://localhost:8080/",
          "height": 1000
        },
        "id": "U_MeahkqxP3D",
        "outputId": "fc3d5f25-a872-48ce-ba55-d8d21588d674"
      },
      "execution_count": 11,
      "outputs": [
        {
          "output_type": "stream",
          "name": "stdout",
          "text": [
            "Executing  AdaBoostClassifier\n",
            "Executing  BaggingClassifier\n",
            "Executing  ExtraTreesClassifier\n",
            "Executing  GradientBoostingClassifier\n",
            "Executing  RandomForestClassifier\n",
            "Executing  LogisticRegression\n",
            "Executing  PassiveAggressiveClassifier\n",
            "Executing  RidgeClassifierCV\n",
            "Executing  SGDClassifier\n",
            "Executing  Perceptron\n",
            "Executing  BernoulliNB\n",
            "Executing  GaussianNB\n",
            "Executing  KNeighborsClassifier\n",
            "Executing  SVC\n",
            "Executing  NuSVC\n",
            "Executing  LinearSVC\n",
            "Executing  DecisionTreeClassifier\n",
            "Executing  ExtraTreeClassifier\n",
            "Executing  LinearDiscriminantAnalysis\n",
            "Executing  QuadraticDiscriminantAnalysis\n",
            "Executing  XGBClassifier\n"
          ]
        },
        {
          "output_type": "execute_result",
          "data": {
            "text/plain": [
              "                         MLA Name  \\\n",
              "4          RandomForestClassifier   \n",
              "2            ExtraTreesClassifier   \n",
              "3      GradientBoostingClassifier   \n",
              "16         DecisionTreeClassifier   \n",
              "1               BaggingClassifier   \n",
              "20                  XGBClassifier   \n",
              "17            ExtraTreeClassifier   \n",
              "19  QuadraticDiscriminantAnalysis   \n",
              "18     LinearDiscriminantAnalysis   \n",
              "7               RidgeClassifierCV   \n",
              "11                     GaussianNB   \n",
              "5              LogisticRegression   \n",
              "14                          NuSVC   \n",
              "0              AdaBoostClassifier   \n",
              "12           KNeighborsClassifier   \n",
              "8                   SGDClassifier   \n",
              "6     PassiveAggressiveClassifier   \n",
              "9                      Perceptron   \n",
              "13                            SVC   \n",
              "15                      LinearSVC   \n",
              "10                    BernoulliNB   \n",
              "\n",
              "                                       MLA Parameters MLA Test Accuracy Mean  \\\n",
              "4   {'bootstrap': True, 'ccp_alpha': 0.0, 'class_w...               0.986404   \n",
              "2   {'bootstrap': False, 'ccp_alpha': 0.0, 'class_...               0.985896   \n",
              "3   {'ccp_alpha': 0.0, 'criterion': 'friedman_mse'...               0.974587   \n",
              "16  {'ccp_alpha': 0.0, 'class_weight': None, 'crit...               0.971919   \n",
              "1   {'base_estimator': None, 'bootstrap': True, 'b...               0.971792   \n",
              "20  {'base_score': 0.5, 'booster': 'gbtree', 'cols...               0.968361   \n",
              "17  {'ccp_alpha': 0.0, 'class_weight': None, 'crit...               0.924524   \n",
              "19  {'priors': None, 'reg_param': 0.0, 'store_cova...               0.860356   \n",
              "18  {'covariance_estimator': None, 'n_components':...               0.803431   \n",
              "7   {'alphas': array([ 0.1,  1. , 10. ]), 'class_w...               0.802922   \n",
              "11           {'priors': None, 'var_smoothing': 1e-09}               0.796188   \n",
              "5   {'C': 1.0, 'class_weight': None, 'dual': False...               0.786912   \n",
              "14  {'break_ties': False, 'cache_size': 200, 'clas...               0.785642   \n",
              "0   {'algorithm': 'SAMME.R', 'base_estimator': Non...               0.771156   \n",
              "12  {'algorithm': 'auto', 'leaf_size': 30, 'metric...               0.755146   \n",
              "8   {'alpha': 0.0001, 'average': False, 'class_wei...               0.743456   \n",
              "6   {'C': 1.0, 'average': False, 'class_weight': N...               0.720203   \n",
              "9   {'alpha': 0.0001, 'class_weight': None, 'early...               0.686912   \n",
              "13  {'C': 1.0, 'break_ties': False, 'cache_size': ...               0.686785   \n",
              "15  {'C': 1.0, 'class_weight': None, 'dual': True,...               0.678272   \n",
              "10  {'alpha': 1.0, 'binarize': 0.0, 'class_prior':...               0.505464   \n",
              "\n",
              "   MLA Test Accuracy 3*STD  MLA Time  \n",
              "4                 0.016177  0.297566  \n",
              "2                 0.019396  0.318358  \n",
              "3                 0.015624  1.424325  \n",
              "16                0.022191  0.013175  \n",
              "1                 0.020372  0.119827  \n",
              "20                0.013472  0.440698  \n",
              "17                0.056622  0.005014  \n",
              "19                0.044567  0.012753  \n",
              "18                0.028681  0.018058  \n",
              "7                 0.027827  0.029324  \n",
              "11                0.043269  0.003613  \n",
              "5                 0.034814   0.12071  \n",
              "14                0.045394  1.287619  \n",
              "0                 0.072916  0.286439  \n",
              "12                0.036803  0.004675  \n",
              "8                 0.144648  0.059796  \n",
              "6                 0.112679  0.021418  \n",
              "9                 0.179552  0.015225  \n",
              "13                0.057565  1.225131  \n",
              "15                0.303957  0.628843  \n",
              "10                0.049842  0.004219  "
            ],
            "text/html": [
              "\n",
              "  <div id=\"df-e73b9524-525e-452a-8511-3a202359fc2f\">\n",
              "    <div class=\"colab-df-container\">\n",
              "      <div>\n",
              "<style scoped>\n",
              "    .dataframe tbody tr th:only-of-type {\n",
              "        vertical-align: middle;\n",
              "    }\n",
              "\n",
              "    .dataframe tbody tr th {\n",
              "        vertical-align: top;\n",
              "    }\n",
              "\n",
              "    .dataframe thead th {\n",
              "        text-align: right;\n",
              "    }\n",
              "</style>\n",
              "<table border=\"1\" class=\"dataframe\">\n",
              "  <thead>\n",
              "    <tr style=\"text-align: right;\">\n",
              "      <th></th>\n",
              "      <th>MLA Name</th>\n",
              "      <th>MLA Parameters</th>\n",
              "      <th>MLA Test Accuracy Mean</th>\n",
              "      <th>MLA Test Accuracy 3*STD</th>\n",
              "      <th>MLA Time</th>\n",
              "    </tr>\n",
              "  </thead>\n",
              "  <tbody>\n",
              "    <tr>\n",
              "      <th>4</th>\n",
              "      <td>RandomForestClassifier</td>\n",
              "      <td>{'bootstrap': True, 'ccp_alpha': 0.0, 'class_w...</td>\n",
              "      <td>0.986404</td>\n",
              "      <td>0.016177</td>\n",
              "      <td>0.297566</td>\n",
              "    </tr>\n",
              "    <tr>\n",
              "      <th>2</th>\n",
              "      <td>ExtraTreesClassifier</td>\n",
              "      <td>{'bootstrap': False, 'ccp_alpha': 0.0, 'class_...</td>\n",
              "      <td>0.985896</td>\n",
              "      <td>0.019396</td>\n",
              "      <td>0.318358</td>\n",
              "    </tr>\n",
              "    <tr>\n",
              "      <th>3</th>\n",
              "      <td>GradientBoostingClassifier</td>\n",
              "      <td>{'ccp_alpha': 0.0, 'criterion': 'friedman_mse'...</td>\n",
              "      <td>0.974587</td>\n",
              "      <td>0.015624</td>\n",
              "      <td>1.424325</td>\n",
              "    </tr>\n",
              "    <tr>\n",
              "      <th>16</th>\n",
              "      <td>DecisionTreeClassifier</td>\n",
              "      <td>{'ccp_alpha': 0.0, 'class_weight': None, 'crit...</td>\n",
              "      <td>0.971919</td>\n",
              "      <td>0.022191</td>\n",
              "      <td>0.013175</td>\n",
              "    </tr>\n",
              "    <tr>\n",
              "      <th>1</th>\n",
              "      <td>BaggingClassifier</td>\n",
              "      <td>{'base_estimator': None, 'bootstrap': True, 'b...</td>\n",
              "      <td>0.971792</td>\n",
              "      <td>0.020372</td>\n",
              "      <td>0.119827</td>\n",
              "    </tr>\n",
              "    <tr>\n",
              "      <th>20</th>\n",
              "      <td>XGBClassifier</td>\n",
              "      <td>{'base_score': 0.5, 'booster': 'gbtree', 'cols...</td>\n",
              "      <td>0.968361</td>\n",
              "      <td>0.013472</td>\n",
              "      <td>0.440698</td>\n",
              "    </tr>\n",
              "    <tr>\n",
              "      <th>17</th>\n",
              "      <td>ExtraTreeClassifier</td>\n",
              "      <td>{'ccp_alpha': 0.0, 'class_weight': None, 'crit...</td>\n",
              "      <td>0.924524</td>\n",
              "      <td>0.056622</td>\n",
              "      <td>0.005014</td>\n",
              "    </tr>\n",
              "    <tr>\n",
              "      <th>19</th>\n",
              "      <td>QuadraticDiscriminantAnalysis</td>\n",
              "      <td>{'priors': None, 'reg_param': 0.0, 'store_cova...</td>\n",
              "      <td>0.860356</td>\n",
              "      <td>0.044567</td>\n",
              "      <td>0.012753</td>\n",
              "    </tr>\n",
              "    <tr>\n",
              "      <th>18</th>\n",
              "      <td>LinearDiscriminantAnalysis</td>\n",
              "      <td>{'covariance_estimator': None, 'n_components':...</td>\n",
              "      <td>0.803431</td>\n",
              "      <td>0.028681</td>\n",
              "      <td>0.018058</td>\n",
              "    </tr>\n",
              "    <tr>\n",
              "      <th>7</th>\n",
              "      <td>RidgeClassifierCV</td>\n",
              "      <td>{'alphas': array([ 0.1,  1. , 10. ]), 'class_w...</td>\n",
              "      <td>0.802922</td>\n",
              "      <td>0.027827</td>\n",
              "      <td>0.029324</td>\n",
              "    </tr>\n",
              "    <tr>\n",
              "      <th>11</th>\n",
              "      <td>GaussianNB</td>\n",
              "      <td>{'priors': None, 'var_smoothing': 1e-09}</td>\n",
              "      <td>0.796188</td>\n",
              "      <td>0.043269</td>\n",
              "      <td>0.003613</td>\n",
              "    </tr>\n",
              "    <tr>\n",
              "      <th>5</th>\n",
              "      <td>LogisticRegression</td>\n",
              "      <td>{'C': 1.0, 'class_weight': None, 'dual': False...</td>\n",
              "      <td>0.786912</td>\n",
              "      <td>0.034814</td>\n",
              "      <td>0.12071</td>\n",
              "    </tr>\n",
              "    <tr>\n",
              "      <th>14</th>\n",
              "      <td>NuSVC</td>\n",
              "      <td>{'break_ties': False, 'cache_size': 200, 'clas...</td>\n",
              "      <td>0.785642</td>\n",
              "      <td>0.045394</td>\n",
              "      <td>1.287619</td>\n",
              "    </tr>\n",
              "    <tr>\n",
              "      <th>0</th>\n",
              "      <td>AdaBoostClassifier</td>\n",
              "      <td>{'algorithm': 'SAMME.R', 'base_estimator': Non...</td>\n",
              "      <td>0.771156</td>\n",
              "      <td>0.072916</td>\n",
              "      <td>0.286439</td>\n",
              "    </tr>\n",
              "    <tr>\n",
              "      <th>12</th>\n",
              "      <td>KNeighborsClassifier</td>\n",
              "      <td>{'algorithm': 'auto', 'leaf_size': 30, 'metric...</td>\n",
              "      <td>0.755146</td>\n",
              "      <td>0.036803</td>\n",
              "      <td>0.004675</td>\n",
              "    </tr>\n",
              "    <tr>\n",
              "      <th>8</th>\n",
              "      <td>SGDClassifier</td>\n",
              "      <td>{'alpha': 0.0001, 'average': False, 'class_wei...</td>\n",
              "      <td>0.743456</td>\n",
              "      <td>0.144648</td>\n",
              "      <td>0.059796</td>\n",
              "    </tr>\n",
              "    <tr>\n",
              "      <th>6</th>\n",
              "      <td>PassiveAggressiveClassifier</td>\n",
              "      <td>{'C': 1.0, 'average': False, 'class_weight': N...</td>\n",
              "      <td>0.720203</td>\n",
              "      <td>0.112679</td>\n",
              "      <td>0.021418</td>\n",
              "    </tr>\n",
              "    <tr>\n",
              "      <th>9</th>\n",
              "      <td>Perceptron</td>\n",
              "      <td>{'alpha': 0.0001, 'class_weight': None, 'early...</td>\n",
              "      <td>0.686912</td>\n",
              "      <td>0.179552</td>\n",
              "      <td>0.015225</td>\n",
              "    </tr>\n",
              "    <tr>\n",
              "      <th>13</th>\n",
              "      <td>SVC</td>\n",
              "      <td>{'C': 1.0, 'break_ties': False, 'cache_size': ...</td>\n",
              "      <td>0.686785</td>\n",
              "      <td>0.057565</td>\n",
              "      <td>1.225131</td>\n",
              "    </tr>\n",
              "    <tr>\n",
              "      <th>15</th>\n",
              "      <td>LinearSVC</td>\n",
              "      <td>{'C': 1.0, 'class_weight': None, 'dual': True,...</td>\n",
              "      <td>0.678272</td>\n",
              "      <td>0.303957</td>\n",
              "      <td>0.628843</td>\n",
              "    </tr>\n",
              "    <tr>\n",
              "      <th>10</th>\n",
              "      <td>BernoulliNB</td>\n",
              "      <td>{'alpha': 1.0, 'binarize': 0.0, 'class_prior':...</td>\n",
              "      <td>0.505464</td>\n",
              "      <td>0.049842</td>\n",
              "      <td>0.004219</td>\n",
              "    </tr>\n",
              "  </tbody>\n",
              "</table>\n",
              "</div>\n",
              "      <button class=\"colab-df-convert\" onclick=\"convertToInteractive('df-e73b9524-525e-452a-8511-3a202359fc2f')\"\n",
              "              title=\"Convert this dataframe to an interactive table.\"\n",
              "              style=\"display:none;\">\n",
              "        \n",
              "  <svg xmlns=\"http://www.w3.org/2000/svg\" height=\"24px\"viewBox=\"0 0 24 24\"\n",
              "       width=\"24px\">\n",
              "    <path d=\"M0 0h24v24H0V0z\" fill=\"none\"/>\n",
              "    <path d=\"M18.56 5.44l.94 2.06.94-2.06 2.06-.94-2.06-.94-.94-2.06-.94 2.06-2.06.94zm-11 1L8.5 8.5l.94-2.06 2.06-.94-2.06-.94L8.5 2.5l-.94 2.06-2.06.94zm10 10l.94 2.06.94-2.06 2.06-.94-2.06-.94-.94-2.06-.94 2.06-2.06.94z\"/><path d=\"M17.41 7.96l-1.37-1.37c-.4-.4-.92-.59-1.43-.59-.52 0-1.04.2-1.43.59L10.3 9.45l-7.72 7.72c-.78.78-.78 2.05 0 2.83L4 21.41c.39.39.9.59 1.41.59.51 0 1.02-.2 1.41-.59l7.78-7.78 2.81-2.81c.8-.78.8-2.07 0-2.86zM5.41 20L4 18.59l7.72-7.72 1.47 1.35L5.41 20z\"/>\n",
              "  </svg>\n",
              "      </button>\n",
              "      \n",
              "  <style>\n",
              "    .colab-df-container {\n",
              "      display:flex;\n",
              "      flex-wrap:wrap;\n",
              "      gap: 12px;\n",
              "    }\n",
              "\n",
              "    .colab-df-convert {\n",
              "      background-color: #E8F0FE;\n",
              "      border: none;\n",
              "      border-radius: 50%;\n",
              "      cursor: pointer;\n",
              "      display: none;\n",
              "      fill: #1967D2;\n",
              "      height: 32px;\n",
              "      padding: 0 0 0 0;\n",
              "      width: 32px;\n",
              "    }\n",
              "\n",
              "    .colab-df-convert:hover {\n",
              "      background-color: #E2EBFA;\n",
              "      box-shadow: 0px 1px 2px rgba(60, 64, 67, 0.3), 0px 1px 3px 1px rgba(60, 64, 67, 0.15);\n",
              "      fill: #174EA6;\n",
              "    }\n",
              "\n",
              "    [theme=dark] .colab-df-convert {\n",
              "      background-color: #3B4455;\n",
              "      fill: #D2E3FC;\n",
              "    }\n",
              "\n",
              "    [theme=dark] .colab-df-convert:hover {\n",
              "      background-color: #434B5C;\n",
              "      box-shadow: 0px 1px 3px 1px rgba(0, 0, 0, 0.15);\n",
              "      filter: drop-shadow(0px 1px 2px rgba(0, 0, 0, 0.3));\n",
              "      fill: #FFFFFF;\n",
              "    }\n",
              "  </style>\n",
              "\n",
              "      <script>\n",
              "        const buttonEl =\n",
              "          document.querySelector('#df-e73b9524-525e-452a-8511-3a202359fc2f button.colab-df-convert');\n",
              "        buttonEl.style.display =\n",
              "          google.colab.kernel.accessAllowed ? 'block' : 'none';\n",
              "\n",
              "        async function convertToInteractive(key) {\n",
              "          const element = document.querySelector('#df-e73b9524-525e-452a-8511-3a202359fc2f');\n",
              "          const dataTable =\n",
              "            await google.colab.kernel.invokeFunction('convertToInteractive',\n",
              "                                                     [key], {});\n",
              "          if (!dataTable) return;\n",
              "\n",
              "          const docLinkHtml = 'Like what you see? Visit the ' +\n",
              "            '<a target=\"_blank\" href=https://colab.research.google.com/notebooks/data_table.ipynb>data table notebook</a>'\n",
              "            + ' to learn more about interactive tables.';\n",
              "          element.innerHTML = '';\n",
              "          dataTable['output_type'] = 'display_data';\n",
              "          await google.colab.output.renderOutput(dataTable, element);\n",
              "          const docLink = document.createElement('div');\n",
              "          docLink.innerHTML = docLinkHtml;\n",
              "          element.appendChild(docLink);\n",
              "        }\n",
              "      </script>\n",
              "    </div>\n",
              "  </div>\n",
              "  "
            ]
          },
          "metadata": {},
          "execution_count": 11
        }
      ]
    },
    {
      "cell_type": "markdown",
      "source": [
        "## Model training with all features\n",
        "* By passing all features columns as X and performance rating (Target variable as Y).\n",
        "* For Test data, model is getting `Accuracy score : 98%`.\n",
        "\n",
        "While passing all feature, model is getting `98% accuracy`, Model might be overfitting & it will increases the complexity of model. So, we will pass selected features by applying feature selection technique."
      ],
      "metadata": {
        "id": "PULW0JDYy4gm"
      }
    },
    {
      "cell_type": "code",
      "source": [
        "X = data.drop('Performance Rating', axis=1)\n",
        "y = data['Performance Rating']"
      ],
      "metadata": {
        "id": "cPbdOn7qCXLy"
      },
      "execution_count": 12,
      "outputs": []
    },
    {
      "cell_type": "code",
      "source": [
        "train = X.loc[:,['Employee Last Salary Hike Percent','Employee Environment Satisfaction',\n",
        "                       'Experience Years At This Company','Experience Years In Current Role','Years Since Last Promotion']]\n",
        "test = y"
      ],
      "metadata": {
        "id": "Gwavy8eY05tJ"
      },
      "execution_count": 13,
      "outputs": []
    },
    {
      "cell_type": "markdown",
      "source": [
        "# Spliting the dataset for training and test purpose"
      ],
      "metadata": {
        "id": "oHUGsfSA1BEl"
      }
    },
    {
      "cell_type": "code",
      "source": [
        "X_train,X_test,y_train,y_test = train_test_split(train,test,random_state=42,test_size=0.30)"
      ],
      "metadata": {
        "id": "-jb3vak5qi_u"
      },
      "execution_count": 14,
      "outputs": []
    },
    {
      "cell_type": "code",
      "source": [
        "len(train), len(test)"
      ],
      "metadata": {
        "colab": {
          "base_uri": "https://localhost:8080/"
        },
        "id": "yUvulKBq5BAp",
        "outputId": "4037c1b2-44b0-4c4e-991f-17789c8d2e56"
      },
      "execution_count": 15,
      "outputs": [
        {
          "output_type": "execute_result",
          "data": {
            "text/plain": [
              "(2622, 2622)"
            ]
          },
          "metadata": {},
          "execution_count": 15
        }
      ]
    },
    {
      "cell_type": "markdown",
      "source": [
        "# Machine Learning Algorithms"
      ],
      "metadata": {
        "id": "thyYx9_zCm7R"
      }
    },
    {
      "cell_type": "markdown",
      "source": [
        "## ExtraTreeClassifier"
      ],
      "metadata": {
        "id": "rYbNExh05D7k"
      }
    },
    {
      "cell_type": "code",
      "source": [
        "# Initilize model\n",
        "ext_clf = ExtraTreesClassifier() # random forest with default parameters\n",
        "ext_clf.fit(X_train,y_train)\n",
        "y_predict = ext_clf.predict(X_test)\n",
        "y_train.value_counts()"
      ],
      "metadata": {
        "colab": {
          "base_uri": "https://localhost:8080/"
        },
        "id": "GIOUzKr7Cty5",
        "outputId": "9ee6f528-ac96-4a76-fb0c-6e18d9b69908"
      },
      "execution_count": 16,
      "outputs": [
        {
          "output_type": "execute_result",
          "data": {
            "text/plain": [
              "3    624\n",
              "4    615\n",
              "2    596\n",
              "Name: Performance Rating, dtype: int64"
            ]
          },
          "metadata": {},
          "execution_count": 16
        }
      ]
    },
    {
      "cell_type": "code",
      "source": [
        "print(f\"\\033[1mTest accuracy_score : {round(accuracy_score(y_test,y_predict)*100,2)} %\\n\")\n",
        "print(\"Test Classification Report\\n\")\n",
        "print(classification_report(y_test,y_predict))"
      ],
      "metadata": {
        "colab": {
          "base_uri": "https://localhost:8080/"
        },
        "id": "NY_3NejkCwkx",
        "outputId": "4d2b5638-c28d-49ad-a1f7-e950ff7738d2"
      },
      "execution_count": 17,
      "outputs": [
        {
          "output_type": "stream",
          "name": "stdout",
          "text": [
            "\u001b[1mTest accuracy_score : 95.55 %\n",
            "\n",
            "Test Classification Report\n",
            "\n",
            "              precision    recall  f1-score   support\n",
            "\n",
            "           2       0.92      0.99      0.95       278\n",
            "           3       0.98      0.88      0.93       250\n",
            "           4       0.97      1.00      0.98       259\n",
            "\n",
            "    accuracy                           0.96       787\n",
            "   macro avg       0.96      0.95      0.95       787\n",
            "weighted avg       0.96      0.96      0.95       787\n",
            "\n"
          ]
        }
      ]
    },
    {
      "cell_type": "markdown",
      "source": [
        "### Checking train accuracy to observe overfitting"
      ],
      "metadata": {
        "id": "K58-Emd8DJlI"
      }
    },
    {
      "cell_type": "code",
      "source": [
        "train_predict = ext_clf.predict(X_train)\n",
        "print(f\"\\033[1mTrain accuracy_score : {round(accuracy_score(y_train,train_predict)*100,2)} %\\n\")\n",
        "print(\"Train Classification Report\\n\")\n",
        "print(classification_report(y_train,train_predict))"
      ],
      "metadata": {
        "colab": {
          "base_uri": "https://localhost:8080/"
        },
        "id": "obHgBhovC-Si",
        "outputId": "5bd92ade-5611-47f6-ec83-dcd02cdafd93"
      },
      "execution_count": 18,
      "outputs": [
        {
          "output_type": "stream",
          "name": "stdout",
          "text": [
            "\u001b[1mTrain accuracy_score : 98.69 %\n",
            "\n",
            "Train Classification Report\n",
            "\n",
            "              precision    recall  f1-score   support\n",
            "\n",
            "           2       0.98      1.00      0.99       596\n",
            "           3       0.99      0.97      0.98       624\n",
            "           4       0.99      1.00      0.99       615\n",
            "\n",
            "    accuracy                           0.99      1835\n",
            "   macro avg       0.99      0.99      0.99      1835\n",
            "weighted avg       0.99      0.99      0.99      1835\n",
            "\n"
          ]
        }
      ]
    },
    {
      "cell_type": "markdown",
      "source": [
        "Here, difference between train accuracy and test accuracy is `least`. So we can say that the model is `not overfitted`."
      ],
      "metadata": {
        "id": "-TBH4HuCDnTl"
      }
    },
    {
      "cell_type": "markdown",
      "source": [
        "## Evaluation"
      ],
      "metadata": {
        "id": "USVtmVovHcV4"
      }
    },
    {
      "cell_type": "code",
      "source": [
        "print(f\"\\033[1mTest accuracy_score : {round(accuracy_score(y_test,y_predict)*100,2)} %\\n\")\n",
        "print(\"Train Classification Report\\n\")\n",
        "print(classification_report(y_test,y_predict))"
      ],
      "metadata": {
        "colab": {
          "base_uri": "https://localhost:8080/"
        },
        "id": "yGCdwt6tDary",
        "outputId": "814726f0-5dcf-4a60-b34d-1551f09a0070"
      },
      "execution_count": 19,
      "outputs": [
        {
          "output_type": "stream",
          "name": "stdout",
          "text": [
            "\u001b[1mTest accuracy_score : 95.55 %\n",
            "\n",
            "Train Classification Report\n",
            "\n",
            "              precision    recall  f1-score   support\n",
            "\n",
            "           2       0.92      0.99      0.95       278\n",
            "           3       0.98      0.88      0.93       250\n",
            "           4       0.97      1.00      0.98       259\n",
            "\n",
            "    accuracy                           0.96       787\n",
            "   macro avg       0.96      0.95      0.95       787\n",
            "weighted avg       0.96      0.96      0.95       787\n",
            "\n"
          ]
        }
      ]
    },
    {
      "cell_type": "markdown",
      "source": [
        "## RandomForestClassifier"
      ],
      "metadata": {
        "id": "DJ52RPRzH8qc"
      }
    },
    {
      "cell_type": "code",
      "source": [
        "# Initilize model\n",
        "rf = RandomForestClassifier() # random forest with default parameters\n",
        "rf.fit(X_train,y_train)\n",
        "y_predict = rf.predict(X_test)\n",
        "y_train.value_counts()"
      ],
      "metadata": {
        "colab": {
          "base_uri": "https://localhost:8080/"
        },
        "id": "2v0Lfr-wHg-A",
        "outputId": "5e7d350b-ef85-4c55-9c1f-069cd993f623"
      },
      "execution_count": 20,
      "outputs": [
        {
          "output_type": "execute_result",
          "data": {
            "text/plain": [
              "3    624\n",
              "4    615\n",
              "2    596\n",
              "Name: Performance Rating, dtype: int64"
            ]
          },
          "metadata": {},
          "execution_count": 20
        }
      ]
    },
    {
      "cell_type": "markdown",
      "source": [
        "### Evaluation"
      ],
      "metadata": {
        "id": "yNh60Uk_IFgF"
      }
    },
    {
      "cell_type": "code",
      "source": [
        "print(f\"\\033[1mTest accuracy_score : {round(accuracy_score(y_test,y_predict)*100,2)} %\\n\")\n",
        "print(\"Train Classification Report\\n\")\n",
        "print(classification_report(y_test,y_predict))"
      ],
      "metadata": {
        "colab": {
          "base_uri": "https://localhost:8080/"
        },
        "id": "q3-LDgGwHm8O",
        "outputId": "19b9f8bc-b4d4-4eaf-8f25-22c6547c7587"
      },
      "execution_count": 21,
      "outputs": [
        {
          "output_type": "stream",
          "name": "stdout",
          "text": [
            "\u001b[1mTest accuracy_score : 96.06 %\n",
            "\n",
            "Train Classification Report\n",
            "\n",
            "              precision    recall  f1-score   support\n",
            "\n",
            "           2       0.93      0.99      0.96       278\n",
            "           3       0.98      0.89      0.94       250\n",
            "           4       0.97      1.00      0.98       259\n",
            "\n",
            "    accuracy                           0.96       787\n",
            "   macro avg       0.96      0.96      0.96       787\n",
            "weighted avg       0.96      0.96      0.96       787\n",
            "\n"
          ]
        }
      ]
    },
    {
      "cell_type": "code",
      "source": [
        "train_predict = rf.predict(X_train)\n",
        "print(f\"\\033[1mTrain accuracy_score : {round(accuracy_score(y_train,train_predict)*100,2)} %\\n\")\n",
        "print(\"Train Classification Report\\n\")\n",
        "print(classification_report(y_train,train_predict))"
      ],
      "metadata": {
        "colab": {
          "base_uri": "https://localhost:8080/"
        },
        "id": "xTlCq_EMIISe",
        "outputId": "59cbc717-caad-4cc8-e598-d48c2ed7f9c6"
      },
      "execution_count": 22,
      "outputs": [
        {
          "output_type": "stream",
          "name": "stdout",
          "text": [
            "\u001b[1mTrain accuracy_score : 98.69 %\n",
            "\n",
            "Train Classification Report\n",
            "\n",
            "              precision    recall  f1-score   support\n",
            "\n",
            "           2       0.98      1.00      0.99       596\n",
            "           3       0.99      0.97      0.98       624\n",
            "           4       0.99      1.00      0.99       615\n",
            "\n",
            "    accuracy                           0.99      1835\n",
            "   macro avg       0.99      0.99      0.99      1835\n",
            "weighted avg       0.99      0.99      0.99      1835\n",
            "\n"
          ]
        }
      ]
    },
    {
      "cell_type": "markdown",
      "source": [
        "* Here, difference between train accuracy & test accuracy is `least`. SO we can say that nidek is `not overfitted`.\n",
        "* The accuracy of `RandomForestClassifier model` is `less` compared to `ExtraTreeClassifier model`, So we should focus on `ExtraTreeClassifier model`."
      ],
      "metadata": {
        "id": "ZDzrk0G8IPNp"
      }
    },
    {
      "cell_type": "markdown",
      "source": [
        "# Feature Scaling"
      ],
      "metadata": {
        "id": "87QNQFDpI4o_"
      }
    },
    {
      "cell_type": "code",
      "source": [
        "scaler = StandardScaler()\n",
        "X2 = scaler.fit_transform(train)\n",
        "X2 = pd.DataFrame(X2)\n",
        "X2.columns = ['Employee Last Salary Hike Percent',\n",
        "       'Employee Environment Satisfaction', 'Experience Years At This Company',\n",
        "       'Experience Years In Current Role', 'Years Since Last Promotion']"
      ],
      "metadata": {
        "id": "QSKblVSiILFM"
      },
      "execution_count": 23,
      "outputs": []
    },
    {
      "cell_type": "code",
      "source": [
        "X_train,X_test,y_train,y_test = train_test_split(X2,y,random_state=42,test_size=0.30)"
      ],
      "metadata": {
        "id": "VskHWycHJKPK"
      },
      "execution_count": 24,
      "outputs": []
    },
    {
      "cell_type": "markdown",
      "source": [
        "# ExtraTreeClassifier model after Feature Scaling"
      ],
      "metadata": {
        "id": "QyUQDsUVJUqj"
      }
    },
    {
      "cell_type": "code",
      "source": [
        "# Initialize model\n",
        "ext_clf1 = ExtraTreesClassifier()\n",
        "ext_clf1.fit(X_train, y_train)\n",
        "y_predict = ext_clf1.predict(X_test)\n",
        "y_train.value_counts()"
      ],
      "metadata": {
        "colab": {
          "base_uri": "https://localhost:8080/"
        },
        "id": "5kj1yfKyJNF7",
        "outputId": "59bfc6e8-02e0-422f-8e84-31c3a90a23cd"
      },
      "execution_count": 25,
      "outputs": [
        {
          "output_type": "execute_result",
          "data": {
            "text/plain": [
              "3    624\n",
              "4    615\n",
              "2    596\n",
              "Name: Performance Rating, dtype: int64"
            ]
          },
          "metadata": {},
          "execution_count": 25
        }
      ]
    },
    {
      "cell_type": "markdown",
      "source": [
        "## Evaluation"
      ],
      "metadata": {
        "id": "UAlKwP0xJ8KS"
      }
    },
    {
      "cell_type": "code",
      "source": [
        "print(f\"\\033[1mTest accuracy_score : {round(accuracy_score(y_test,y_predict)*100,2)} %\\n\")\n",
        "print(\"Test Classification Report\\n\")\n",
        "print(classification_report(y_test,y_predict))"
      ],
      "metadata": {
        "colab": {
          "base_uri": "https://localhost:8080/"
        },
        "id": "tQEBEMLRJqJZ",
        "outputId": "1c284124-9c3c-47b7-d1f0-e716f4c63f63"
      },
      "execution_count": 26,
      "outputs": [
        {
          "output_type": "stream",
          "name": "stdout",
          "text": [
            "\u001b[1mTest accuracy_score : 95.81 %\n",
            "\n",
            "Test Classification Report\n",
            "\n",
            "              precision    recall  f1-score   support\n",
            "\n",
            "           2       0.92      0.99      0.95       278\n",
            "           3       0.98      0.88      0.93       250\n",
            "           4       0.98      1.00      0.99       259\n",
            "\n",
            "    accuracy                           0.96       787\n",
            "   macro avg       0.96      0.96      0.96       787\n",
            "weighted avg       0.96      0.96      0.96       787\n",
            "\n"
          ]
        }
      ]
    },
    {
      "cell_type": "markdown",
      "source": [
        "After feature scaling, test accuract `slightly increased`"
      ],
      "metadata": {
        "id": "LsmEEp6MKA_7"
      }
    },
    {
      "cell_type": "code",
      "source": [
        "train_predict = ext_clf1.predict(X_train)\n",
        "print(f\"\\033[1mTrain accuracy_score : {round(accuracy_score(y_train,train_predict)*100,2)} %\\n\")\n",
        "print(\"Train Classification Report\\n\")\n",
        "print(classification_report(y_train,train_predict))"
      ],
      "metadata": {
        "colab": {
          "base_uri": "https://localhost:8080/"
        },
        "id": "dq3QXb_lJ9dq",
        "outputId": "aba8a092-3e8b-427a-c232-ab1eaff7e04b"
      },
      "execution_count": 27,
      "outputs": [
        {
          "output_type": "stream",
          "name": "stdout",
          "text": [
            "\u001b[1mTrain accuracy_score : 98.69 %\n",
            "\n",
            "Train Classification Report\n",
            "\n",
            "              precision    recall  f1-score   support\n",
            "\n",
            "           2       0.98      1.00      0.99       596\n",
            "           3       0.99      0.97      0.98       624\n",
            "           4       0.99      1.00      0.99       615\n",
            "\n",
            "    accuracy                           0.99      1835\n",
            "   macro avg       0.99      0.99      0.99      1835\n",
            "weighted avg       0.99      0.99      0.99      1835\n",
            "\n"
          ]
        }
      ]
    },
    {
      "cell_type": "markdown",
      "source": [
        "Here, difference between train accuracy & test accuracy is `less, so model is not overfit`."
      ],
      "metadata": {
        "id": "Fk01Gsm9KPkI"
      }
    },
    {
      "cell_type": "markdown",
      "source": [
        "# Hyperparameter Tunning"
      ],
      "metadata": {
        "id": "6p9-IylkKYb0"
      }
    },
    {
      "cell_type": "code",
      "source": [
        "def objective(trial):\n",
        "    params = {\n",
        "        'n_estimators': trial.suggest_int('n_estimators', 100, 2000),\n",
        "        #'max_depth': int(trial.suggest_float('max_depth', 10, 100, log=True)),\n",
        "        'min_samples_split': trial.suggest_int('min_sample_split', 2, 6),\n",
        "        'min_samples_leaf': trial.suggest_int('min_samples_leaf', 1, 6,),\n",
        "        'max_features': trial.suggest_categorical('max_features',[\"auto\", \"sqrt\", \"log2\"]),\n",
        "        'bootstrap':trial.suggest_categorical('bootstrap',[True,False]),\n",
        "        'random_state': trial.suggest_int('random_state', 0, 100)\n",
        "        #'scale_pos_weight': 0.48,\n",
        "       }\n",
        "        \n",
        "    clf = ExtraTreesClassifier(**params)\n",
        "    auccuracies = []\n",
        "    X_train_k = X_train.values\n",
        "    y_train_k = y_train.values\n",
        "    kf = KFold(n_splits=3,random_state=None,shuffle=True)\n",
        "    for train_idx, valid_idx in kf.split(X_train_k,y_train_k):\n",
        "        train_data = X_train_k[train_idx, :], y_train_k[train_idx]\n",
        "        valid_data = X_train_k[valid_idx, :], y_train_k[valid_idx]\n",
        "        \n",
        "        clf.fit(X_train_k[train_idx, :], y_train_k[train_idx])\n",
        "        pred = clf.predict(X_train_k[valid_idx, :])\n",
        "        accuracy = accuracy_score(y_train_k[valid_idx],pred)\n",
        "        auccuracies.append(accuracy)\n",
        "    print(f'Trial done: Accuracy values on folds: {auccuracies}')\n",
        "    return np.average(auccuracies)\n",
        "\n",
        "from sklearn.model_selection import KFold\n",
        "from sklearn.metrics import accuracy_score,classification_report,confusion_matrix\n",
        "\n",
        "n_trials = 51\n",
        "\n",
        "#FIT_XGB = True\n",
        "\n",
        "#if FIT_XGB:\n",
        "study = optuna.create_study(direction=\"maximize\")\n",
        "study.optimize(objective, n_trials=n_trials)\n",
        "\n",
        "print(\"Number of finished trials: {}\".format(len(study.trials)))\n",
        "\n",
        "print(\"Best trial:\")\n",
        "trial = study.best_trial\n",
        "\n",
        "print(\"  Value: {}\".format(trial.value))\n",
        "\n",
        "print(\"  Params: \")\n",
        "for key, value in trial.params.items():\n",
        "    print(\"    {}: {}\".format(key, value))"
      ],
      "metadata": {
        "colab": {
          "base_uri": "https://localhost:8080/"
        },
        "id": "BndoUvQCKN2o",
        "outputId": "b1b0007e-23ea-429e-dc24-9fa528cae876"
      },
      "execution_count": 28,
      "outputs": [
        {
          "output_type": "stream",
          "name": "stderr",
          "text": [
            "\u001b[32m[I 2023-01-05 02:30:45,567]\u001b[0m A new study created in memory with name: no-name-81336a8f-c36a-475b-af1a-45d06b2b29d8\u001b[0m\n",
            "\u001b[32m[I 2023-01-05 02:30:50,260]\u001b[0m Trial 0 finished with value: 0.8888193575302461 and parameters: {'n_estimators': 829, 'min_sample_split': 5, 'min_samples_leaf': 4, 'max_features': 'sqrt', 'bootstrap': True, 'random_state': 20}. Best is trial 0 with value: 0.8888193575302461.\u001b[0m\n"
          ]
        },
        {
          "output_type": "stream",
          "name": "stdout",
          "text": [
            "Trial done: Accuracy values on folds: [0.8986928104575164, 0.8954248366013072, 0.8723404255319149]\n"
          ]
        },
        {
          "output_type": "stream",
          "name": "stderr",
          "text": [
            "\u001b[32m[I 2023-01-05 02:30:54,696]\u001b[0m Trial 1 finished with value: 0.9465892194302707 and parameters: {'n_estimators': 889, 'min_sample_split': 3, 'min_samples_leaf': 1, 'max_features': 'log2', 'bootstrap': False, 'random_state': 49}. Best is trial 1 with value: 0.9465892194302707.\u001b[0m\n"
          ]
        },
        {
          "output_type": "stream",
          "name": "stdout",
          "text": [
            "Trial done: Accuracy values on folds: [0.946078431372549, 0.9558823529411765, 0.9378068739770867]\n"
          ]
        },
        {
          "output_type": "stream",
          "name": "stderr",
          "text": [
            "\u001b[32m[I 2023-01-05 02:31:04,390]\u001b[0m Trial 2 finished with value: 0.9422301380999754 and parameters: {'n_estimators': 1683, 'min_sample_split': 5, 'min_samples_leaf': 1, 'max_features': 'auto', 'bootstrap': False, 'random_state': 94}. Best is trial 1 with value: 0.9465892194302707.\u001b[0m\n"
          ]
        },
        {
          "output_type": "stream",
          "name": "stdout",
          "text": [
            "Trial done: Accuracy values on folds: [0.9362745098039216, 0.9558823529411765, 0.9345335515548282]\n"
          ]
        },
        {
          "output_type": "stream",
          "name": "stderr",
          "text": [
            "\u001b[32m[I 2023-01-05 02:31:10,783]\u001b[0m Trial 3 finished with value: 0.8773841233165388 and parameters: {'n_estimators': 1213, 'min_sample_split': 4, 'min_samples_leaf': 6, 'max_features': 'log2', 'bootstrap': True, 'random_state': 11}. Best is trial 1 with value: 0.9465892194302707.\u001b[0m\n"
          ]
        },
        {
          "output_type": "stream",
          "name": "stdout",
          "text": [
            "Trial done: Accuracy values on folds: [0.8823529411764706, 0.8725490196078431, 0.8772504091653028]\n"
          ]
        },
        {
          "output_type": "stream",
          "name": "stderr",
          "text": [
            "\u001b[32m[I 2023-01-05 02:31:12,543]\u001b[0m Trial 4 finished with value: 0.8719321516568076 and parameters: {'n_estimators': 333, 'min_sample_split': 5, 'min_samples_leaf': 6, 'max_features': 'auto', 'bootstrap': True, 'random_state': 83}. Best is trial 1 with value: 0.9465892194302707.\u001b[0m\n"
          ]
        },
        {
          "output_type": "stream",
          "name": "stdout",
          "text": [
            "Trial done: Accuracy values on folds: [0.869281045751634, 0.8790849673202614, 0.867430441898527]\n"
          ]
        },
        {
          "output_type": "stream",
          "name": "stderr",
          "text": [
            "\u001b[32m[I 2023-01-05 02:31:15,730]\u001b[0m Trial 5 finished with value: 0.9117237002093073 and parameters: {'n_estimators': 711, 'min_sample_split': 6, 'min_samples_leaf': 3, 'max_features': 'auto', 'bootstrap': False, 'random_state': 81}. Best is trial 1 with value: 0.9465892194302707.\u001b[0m\n"
          ]
        },
        {
          "output_type": "stream",
          "name": "stdout",
          "text": [
            "Trial done: Accuracy values on folds: [0.9019607843137255, 0.9084967320261438, 0.9247135842880524]\n"
          ]
        },
        {
          "output_type": "stream",
          "name": "stderr",
          "text": [
            "\u001b[32m[I 2023-01-05 02:31:25,022]\u001b[0m Trial 6 finished with value: 0.937336200164736 and parameters: {'n_estimators': 1683, 'min_sample_split': 6, 'min_samples_leaf': 1, 'max_features': 'auto', 'bootstrap': False, 'random_state': 60}. Best is trial 1 with value: 0.9465892194302707.\u001b[0m\n"
          ]
        },
        {
          "output_type": "stream",
          "name": "stdout",
          "text": [
            "Trial done: Accuracy values on folds: [0.9411764705882353, 0.9215686274509803, 0.9492635024549918]\n"
          ]
        },
        {
          "output_type": "stream",
          "name": "stderr",
          "text": [
            "\u001b[32m[I 2023-01-05 02:31:28,184]\u001b[0m Trial 7 finished with value: 0.9117112202218585 and parameters: {'n_estimators': 569, 'min_sample_split': 6, 'min_samples_leaf': 2, 'max_features': 'log2', 'bootstrap': True, 'random_state': 67}. Best is trial 1 with value: 0.9465892194302707.\u001b[0m\n"
          ]
        },
        {
          "output_type": "stream",
          "name": "stdout",
          "text": [
            "Trial done: Accuracy values on folds: [0.8905228758169934, 0.9428104575163399, 0.9018003273322422]\n"
          ]
        },
        {
          "output_type": "stream",
          "name": "stderr",
          "text": [
            "\u001b[32m[I 2023-01-05 02:31:33,140]\u001b[0m Trial 8 finished with value: 0.8970008807305426 and parameters: {'n_estimators': 1152, 'min_sample_split': 2, 'min_samples_leaf': 5, 'max_features': 'sqrt', 'bootstrap': False, 'random_state': 53}. Best is trial 1 with value: 0.9465892194302707.\u001b[0m\n"
          ]
        },
        {
          "output_type": "stream",
          "name": "stdout",
          "text": [
            "Trial done: Accuracy values on folds: [0.8888888888888888, 0.9084967320261438, 0.8936170212765957]\n"
          ]
        },
        {
          "output_type": "stream",
          "name": "stderr",
          "text": [
            "\u001b[32m[I 2023-01-05 02:31:44,825]\u001b[0m Trial 9 finished with value: 0.9416917157843315 and parameters: {'n_estimators': 1998, 'min_sample_split': 2, 'min_samples_leaf': 1, 'max_features': 'auto', 'bootstrap': True, 'random_state': 45}. Best is trial 1 with value: 0.9465892194302707.\u001b[0m\n"
          ]
        },
        {
          "output_type": "stream",
          "name": "stdout",
          "text": [
            "Trial done: Accuracy values on folds: [0.9411764705882353, 0.9379084967320261, 0.9459901800327333]\n"
          ]
        },
        {
          "output_type": "stream",
          "name": "stderr",
          "text": [
            "\u001b[32m[I 2023-01-05 02:31:46,068]\u001b[0m Trial 10 finished with value: 0.9177149856123573 and parameters: {'n_estimators': 268, 'min_sample_split': 3, 'min_samples_leaf': 3, 'max_features': 'log2', 'bootstrap': False, 'random_state': 28}. Best is trial 1 with value: 0.9465892194302707.\u001b[0m\n"
          ]
        },
        {
          "output_type": "stream",
          "name": "stdout",
          "text": [
            "Trial done: Accuracy values on folds: [0.9264705882352942, 0.9019607843137255, 0.9247135842880524]\n"
          ]
        },
        {
          "output_type": "stream",
          "name": "stderr",
          "text": [
            "\u001b[32m[I 2023-01-05 02:31:53,583]\u001b[0m Trial 11 finished with value: 0.9427756918370185 and parameters: {'n_estimators': 1531, 'min_sample_split': 4, 'min_samples_leaf': 1, 'max_features': 'log2', 'bootstrap': False, 'random_state': 96}. Best is trial 1 with value: 0.9465892194302707.\u001b[0m\n"
          ]
        },
        {
          "output_type": "stream",
          "name": "stdout",
          "text": [
            "Trial done: Accuracy values on folds: [0.9313725490196079, 0.9607843137254902, 0.9361702127659575]\n"
          ]
        },
        {
          "output_type": "stream",
          "name": "stderr",
          "text": [
            "\u001b[32m[I 2023-01-05 02:32:00,253]\u001b[0m Trial 12 finished with value: 0.9367817321509436 and parameters: {'n_estimators': 1395, 'min_sample_split': 3, 'min_samples_leaf': 2, 'max_features': 'log2', 'bootstrap': False, 'random_state': 38}. Best is trial 1 with value: 0.9465892194302707.\u001b[0m\n"
          ]
        },
        {
          "output_type": "stream",
          "name": "stdout",
          "text": [
            "Trial done: Accuracy values on folds: [0.946078431372549, 0.9330065359477124, 0.9312602291325696]\n"
          ]
        },
        {
          "output_type": "stream",
          "name": "stderr",
          "text": [
            "\u001b[32m[I 2023-01-05 02:32:07,437]\u001b[0m Trial 13 finished with value: 0.9269778105823162 and parameters: {'n_estimators': 1498, 'min_sample_split': 3, 'min_samples_leaf': 2, 'max_features': 'log2', 'bootstrap': False, 'random_state': 100}. Best is trial 1 with value: 0.9465892194302707.\u001b[0m\n"
          ]
        },
        {
          "output_type": "stream",
          "name": "stdout",
          "text": [
            "Trial done: Accuracy values on folds: [0.9281045751633987, 0.9215686274509803, 0.9312602291325696]\n"
          ]
        },
        {
          "output_type": "stream",
          "name": "stderr",
          "text": [
            "\u001b[32m[I 2023-01-05 02:32:12,441]\u001b[0m Trial 14 finished with value: 0.9422292466723005 and parameters: {'n_estimators': 911, 'min_sample_split': 4, 'min_samples_leaf': 1, 'max_features': 'log2', 'bootstrap': False, 'random_state': 72}. Best is trial 1 with value: 0.9465892194302707.\u001b[0m\n"
          ]
        },
        {
          "output_type": "stream",
          "name": "stdout",
          "text": [
            "Trial done: Accuracy values on folds: [0.9607843137254902, 0.9330065359477124, 0.9328968903436988]\n"
          ]
        },
        {
          "output_type": "stream",
          "name": "stderr",
          "text": [
            "\u001b[32m[I 2023-01-05 02:32:17,459]\u001b[0m Trial 15 finished with value: 0.9335119754393847 and parameters: {'n_estimators': 1073, 'min_sample_split': 3, 'min_samples_leaf': 2, 'max_features': 'log2', 'bootstrap': False, 'random_state': 37}. Best is trial 1 with value: 0.9465892194302707.\u001b[0m\n"
          ]
        },
        {
          "output_type": "stream",
          "name": "stdout",
          "text": [
            "Trial done: Accuracy values on folds: [0.9411764705882353, 0.9313725490196079, 0.9279869067103109]\n"
          ]
        },
        {
          "output_type": "stream",
          "name": "stderr",
          "text": [
            "\u001b[32m[I 2023-01-05 02:32:26,171]\u001b[0m Trial 16 finished with value: 0.8969928578814687 and parameters: {'n_estimators': 1946, 'min_sample_split': 4, 'min_samples_leaf': 4, 'max_features': 'log2', 'bootstrap': False, 'random_state': 6}. Best is trial 1 with value: 0.9465892194302707.\u001b[0m\n"
          ]
        },
        {
          "output_type": "stream",
          "name": "stdout",
          "text": [
            "Trial done: Accuracy values on folds: [0.8954248366013072, 0.9166666666666666, 0.8788870703764321]\n"
          ]
        },
        {
          "output_type": "stream",
          "name": "stderr",
          "text": [
            "\u001b[32m[I 2023-01-05 02:32:28,535]\u001b[0m Trial 17 finished with value: 0.9084494863593737 and parameters: {'n_estimators': 519, 'min_sample_split': 2, 'min_samples_leaf': 3, 'max_features': 'sqrt', 'bootstrap': False, 'random_state': 55}. Best is trial 1 with value: 0.9465892194302707.\u001b[0m\n"
          ]
        },
        {
          "output_type": "stream",
          "name": "stdout",
          "text": [
            "Trial done: Accuracy values on folds: [0.9035947712418301, 0.9084967320261438, 0.9132569558101473]\n"
          ]
        },
        {
          "output_type": "stream",
          "name": "stderr",
          "text": [
            "\u001b[32m[I 2023-01-05 02:32:35,088]\u001b[0m Trial 18 finished with value: 0.9362326127032009 and parameters: {'n_estimators': 1326, 'min_sample_split': 4, 'min_samples_leaf': 1, 'max_features': 'log2', 'bootstrap': False, 'random_state': 85}. Best is trial 1 with value: 0.9465892194302707.\u001b[0m\n"
          ]
        },
        {
          "output_type": "stream",
          "name": "stdout",
          "text": [
            "Trial done: Accuracy values on folds: [0.9493464052287581, 0.9362745098039216, 0.9230769230769231]\n"
          ]
        },
        {
          "output_type": "stream",
          "name": "stderr",
          "text": [
            "\u001b[32m[I 2023-01-05 02:32:42,629]\u001b[0m Trial 19 finished with value: 0.9280680266287274 and parameters: {'n_estimators': 1629, 'min_sample_split': 3, 'min_samples_leaf': 2, 'max_features': 'log2', 'bootstrap': False, 'random_state': 70}. Best is trial 1 with value: 0.9465892194302707.\u001b[0m\n"
          ]
        },
        {
          "output_type": "stream",
          "name": "stdout",
          "text": [
            "Trial done: Accuracy values on folds: [0.934640522875817, 0.9166666666666666, 0.9328968903436988]\n"
          ]
        },
        {
          "output_type": "stream",
          "name": "stderr",
          "text": [
            "\u001b[32m[I 2023-01-05 02:32:46,732]\u001b[0m Trial 20 finished with value: 0.8888291632346701 and parameters: {'n_estimators': 944, 'min_sample_split': 4, 'min_samples_leaf': 5, 'max_features': 'sqrt', 'bootstrap': False, 'random_state': 44}. Best is trial 1 with value: 0.9465892194302707.\u001b[0m\n"
          ]
        },
        {
          "output_type": "stream",
          "name": "stdout",
          "text": [
            "Trial done: Accuracy values on folds: [0.9019607843137255, 0.8741830065359477, 0.8903436988543372]\n"
          ]
        },
        {
          "output_type": "stream",
          "name": "stderr",
          "text": [
            "\u001b[32m[I 2023-01-05 02:32:55,390]\u001b[0m Trial 21 finished with value: 0.9411470534749634 and parameters: {'n_estimators': 1773, 'min_sample_split': 5, 'min_samples_leaf': 1, 'max_features': 'auto', 'bootstrap': False, 'random_state': 100}. Best is trial 1 with value: 0.9465892194302707.\u001b[0m\n"
          ]
        },
        {
          "output_type": "stream",
          "name": "stdout",
          "text": [
            "Trial done: Accuracy values on folds: [0.9281045751633987, 0.9493464052287581, 0.9459901800327333]\n"
          ]
        },
        {
          "output_type": "stream",
          "name": "stderr",
          "text": [
            "\u001b[32m[I 2023-01-05 02:33:02,794]\u001b[0m Trial 22 finished with value: 0.9384192847897479 and parameters: {'n_estimators': 1505, 'min_sample_split': 5, 'min_samples_leaf': 1, 'max_features': 'auto', 'bootstrap': False, 'random_state': 89}. Best is trial 1 with value: 0.9465892194302707.\u001b[0m\n"
          ]
        },
        {
          "output_type": "stream",
          "name": "stdout",
          "text": [
            "Trial done: Accuracy values on folds: [0.946078431372549, 0.9313725490196079, 0.9378068739770867]\n"
          ]
        },
        {
          "output_type": "stream",
          "name": "stderr",
          "text": [
            "\u001b[32m[I 2023-01-05 02:33:11,058]\u001b[0m Trial 23 finished with value: 0.9286117975104208 and parameters: {'n_estimators': 1782, 'min_sample_split': 5, 'min_samples_leaf': 2, 'max_features': 'auto', 'bootstrap': False, 'random_state': 92}. Best is trial 1 with value: 0.9465892194302707.\u001b[0m\n"
          ]
        },
        {
          "output_type": "stream",
          "name": "stdout",
          "text": [
            "Trial done: Accuracy values on folds: [0.9281045751633987, 0.9264705882352942, 0.9312602291325696]\n"
          ]
        },
        {
          "output_type": "stream",
          "name": "stderr",
          "text": [
            "\u001b[32m[I 2023-01-05 02:33:17,274]\u001b[0m Trial 24 finished with value: 0.9422381609490497 and parameters: {'n_estimators': 1280, 'min_sample_split': 4, 'min_samples_leaf': 1, 'max_features': 'log2', 'bootstrap': False, 'random_state': 62}. Best is trial 1 with value: 0.9465892194302707.\u001b[0m\n"
          ]
        },
        {
          "output_type": "stream",
          "name": "stdout",
          "text": [
            "Trial done: Accuracy values on folds: [0.9297385620915033, 0.9477124183006536, 0.9492635024549918]\n"
          ]
        },
        {
          "output_type": "stream",
          "name": "stderr",
          "text": [
            "\u001b[32m[I 2023-01-05 02:33:23,439]\u001b[0m Trial 25 finished with value: 0.9471383388780135 and parameters: {'n_estimators': 1239, 'min_sample_split': 4, 'min_samples_leaf': 1, 'max_features': 'log2', 'bootstrap': False, 'random_state': 65}. Best is trial 25 with value: 0.9471383388780135.\u001b[0m\n"
          ]
        },
        {
          "output_type": "stream",
          "name": "stdout",
          "text": [
            "Trial done: Accuracy values on folds: [0.9444444444444444, 0.9509803921568627, 0.9459901800327333]\n"
          ]
        },
        {
          "output_type": "stream",
          "name": "stderr",
          "text": [
            "\u001b[32m[I 2023-01-05 02:33:29,152]\u001b[0m Trial 26 finished with value: 0.9226151635413213 and parameters: {'n_estimators': 1023, 'min_sample_split': 3, 'min_samples_leaf': 2, 'max_features': 'log2', 'bootstrap': True, 'random_state': 29}. Best is trial 25 with value: 0.9471383388780135.\u001b[0m\n"
          ]
        },
        {
          "output_type": "stream",
          "name": "stdout",
          "text": [
            "Trial done: Accuracy values on folds: [0.9199346405228758, 0.9264705882352942, 0.9214402618657938]\n"
          ]
        },
        {
          "output_type": "stream",
          "name": "stderr",
          "text": [
            "\u001b[32m[I 2023-01-05 02:33:32,570]\u001b[0m Trial 27 finished with value: 0.9117174602155829 and parameters: {'n_estimators': 759, 'min_sample_split': 4, 'min_samples_leaf': 3, 'max_features': 'log2', 'bootstrap': False, 'random_state': 77}. Best is trial 25 with value: 0.9471383388780135.\u001b[0m\n"
          ]
        },
        {
          "output_type": "stream",
          "name": "stdout",
          "text": [
            "Trial done: Accuracy values on folds: [0.9183006535947712, 0.9035947712418301, 0.9132569558101473]\n"
          ]
        },
        {
          "output_type": "stream",
          "name": "stderr",
          "text": [
            "\u001b[32m[I 2023-01-05 02:33:39,769]\u001b[0m Trial 28 finished with value: 0.9449534496468163 and parameters: {'n_estimators': 1464, 'min_sample_split': 3, 'min_samples_leaf': 1, 'max_features': 'log2', 'bootstrap': False, 'random_state': 75}. Best is trial 25 with value: 0.9471383388780135.\u001b[0m\n"
          ]
        },
        {
          "output_type": "stream",
          "name": "stdout",
          "text": [
            "Trial done: Accuracy values on folds: [0.9558823529411765, 0.9444444444444444, 0.9345335515548282]\n"
          ]
        },
        {
          "output_type": "stream",
          "name": "stderr",
          "text": [
            "\u001b[32m[I 2023-01-05 02:33:45,857]\u001b[0m Trial 29 finished with value: 0.8937248840252594 and parameters: {'n_estimators': 1113, 'min_sample_split': 2, 'min_samples_leaf': 4, 'max_features': 'sqrt', 'bootstrap': True, 'random_state': 62}. Best is trial 25 with value: 0.9471383388780135.\u001b[0m\n"
          ]
        },
        {
          "output_type": "stream",
          "name": "stdout",
          "text": [
            "Trial done: Accuracy values on folds: [0.9183006535947712, 0.8839869281045751, 0.8788870703764321]\n"
          ]
        },
        {
          "output_type": "stream",
          "name": "stderr",
          "text": [
            "\u001b[32m[I 2023-01-05 02:33:49,831]\u001b[0m Trial 30 finished with value: 0.924247367614076 and parameters: {'n_estimators': 852, 'min_sample_split': 3, 'min_samples_leaf': 2, 'max_features': 'log2', 'bootstrap': False, 'random_state': 48}. Best is trial 25 with value: 0.9471383388780135.\u001b[0m\n"
          ]
        },
        {
          "output_type": "stream",
          "name": "stdout",
          "text": [
            "Trial done: Accuracy values on folds: [0.9150326797385621, 0.9395424836601307, 0.9181669394435352]\n"
          ]
        },
        {
          "output_type": "stream",
          "name": "stderr",
          "text": [
            "\u001b[32m[I 2023-01-05 02:33:57,163]\u001b[0m Trial 31 finished with value: 0.9498607589971795 and parameters: {'n_estimators': 1480, 'min_sample_split': 3, 'min_samples_leaf': 1, 'max_features': 'log2', 'bootstrap': False, 'random_state': 79}. Best is trial 31 with value: 0.9498607589971795.\u001b[0m\n"
          ]
        },
        {
          "output_type": "stream",
          "name": "stdout",
          "text": [
            "Trial done: Accuracy values on folds: [0.9575163398692811, 0.9477124183006536, 0.9443535188216039]\n"
          ]
        },
        {
          "output_type": "stream",
          "name": "stderr",
          "text": [
            "\u001b[32m[I 2023-01-05 02:34:04,222]\u001b[0m Trial 32 finished with value: 0.9427783661200433 and parameters: {'n_estimators': 1431, 'min_sample_split': 3, 'min_samples_leaf': 1, 'max_features': 'log2', 'bootstrap': False, 'random_state': 75}. Best is trial 31 with value: 0.9498607589971795.\u001b[0m\n"
          ]
        },
        {
          "output_type": "stream",
          "name": "stdout",
          "text": [
            "Trial done: Accuracy values on folds: [0.9362745098039216, 0.9509803921568627, 0.9410801963993454]\n"
          ]
        },
        {
          "output_type": "stream",
          "name": "stderr",
          "text": [
            "\u001b[32m[I 2023-01-05 02:34:13,206]\u001b[0m Trial 33 finished with value: 0.946049905686952 and parameters: {'n_estimators': 1288, 'min_sample_split': 2, 'min_samples_leaf': 1, 'max_features': 'log2', 'bootstrap': False, 'random_state': 69}. Best is trial 31 with value: 0.9498607589971795.\u001b[0m\n"
          ]
        },
        {
          "output_type": "stream",
          "name": "stdout",
          "text": [
            "Trial done: Accuracy values on folds: [0.9558823529411765, 0.934640522875817, 0.9476268412438625]\n"
          ]
        },
        {
          "output_type": "stream",
          "name": "stderr",
          "text": [
            "\u001b[32m[I 2023-01-05 02:34:19,442]\u001b[0m Trial 34 finished with value: 0.9444203758972219 and parameters: {'n_estimators': 1235, 'min_sample_split': 2, 'min_samples_leaf': 1, 'max_features': 'log2', 'bootstrap': False, 'random_state': 57}. Best is trial 31 with value: 0.9498607589971795.\u001b[0m\n"
          ]
        },
        {
          "output_type": "stream",
          "name": "stdout",
          "text": [
            "Trial done: Accuracy values on folds: [0.9248366013071896, 0.9526143790849673, 0.955810147299509]\n"
          ]
        },
        {
          "output_type": "stream",
          "name": "stderr",
          "text": [
            "\u001b[32m[I 2023-01-05 02:34:25,019]\u001b[0m Trial 35 finished with value: 0.9187953959543447 and parameters: {'n_estimators': 994, 'min_sample_split': 2, 'min_samples_leaf': 2, 'max_features': 'log2', 'bootstrap': True, 'random_state': 66}. Best is trial 31 with value: 0.9498607589971795.\u001b[0m\n"
          ]
        },
        {
          "output_type": "stream",
          "name": "stdout",
          "text": [
            "Trial done: Accuracy values on folds: [0.9215686274509803, 0.9264705882352942, 0.9083469721767594]\n"
          ]
        },
        {
          "output_type": "stream",
          "name": "stderr",
          "text": [
            "\u001b[32m[I 2023-01-05 02:34:30,932]\u001b[0m Trial 36 finished with value: 0.9427765832646934 and parameters: {'n_estimators': 1189, 'min_sample_split': 2, 'min_samples_leaf': 1, 'max_features': 'log2', 'bootstrap': False, 'random_state': 82}. Best is trial 31 with value: 0.9498607589971795.\u001b[0m\n"
          ]
        },
        {
          "output_type": "stream",
          "name": "stdout",
          "text": [
            "Trial done: Accuracy values on folds: [0.9428104575163399, 0.9477124183006536, 0.9378068739770867]\n"
          ]
        },
        {
          "output_type": "stream",
          "name": "stderr",
          "text": [
            "\u001b[32m[I 2023-01-05 02:34:36,580]\u001b[0m Trial 37 finished with value: 0.9013742249036367 and parameters: {'n_estimators': 1303, 'min_sample_split': 3, 'min_samples_leaf': 5, 'max_features': 'log2', 'bootstrap': False, 'random_state': 65}. Best is trial 31 with value: 0.9498607589971795.\u001b[0m\n"
          ]
        },
        {
          "output_type": "stream",
          "name": "stdout",
          "text": [
            "Trial done: Accuracy values on folds: [0.8986928104575164, 0.8823529411764706, 0.9230769230769231]\n"
          ]
        },
        {
          "output_type": "stream",
          "name": "stderr",
          "text": [
            "\u001b[32m[I 2023-01-05 02:34:39,874]\u001b[0m Trial 38 finished with value: 0.9013617449161879 and parameters: {'n_estimators': 593, 'min_sample_split': 2, 'min_samples_leaf': 3, 'max_features': 'sqrt', 'bootstrap': True, 'random_state': 51}. Best is trial 31 with value: 0.9498607589971795.\u001b[0m\n"
          ]
        },
        {
          "output_type": "stream",
          "name": "stdout",
          "text": [
            "Trial done: Accuracy values on folds: [0.9052287581699346, 0.8986928104575164, 0.900163666121113]\n"
          ]
        },
        {
          "output_type": "stream",
          "name": "stderr",
          "text": [
            "\u001b[32m[I 2023-01-05 02:34:50,878]\u001b[0m Trial 39 finished with value: 0.9275197986086597 and parameters: {'n_estimators': 1616, 'min_sample_split': 3, 'min_samples_leaf': 2, 'max_features': 'log2', 'bootstrap': False, 'random_state': 79}. Best is trial 31 with value: 0.9498607589971795.\u001b[0m\n"
          ]
        },
        {
          "output_type": "stream",
          "name": "stdout",
          "text": [
            "Trial done: Accuracy values on folds: [0.9199346405228758, 0.9362745098039216, 0.9263502454991817]\n"
          ]
        },
        {
          "output_type": "stream",
          "name": "stderr",
          "text": [
            "\u001b[32m[I 2023-01-05 02:34:54,318]\u001b[0m Trial 40 finished with value: 0.8926382336895479 and parameters: {'n_estimators': 772, 'min_sample_split': 2, 'min_samples_leaf': 6, 'max_features': 'log2', 'bootstrap': False, 'random_state': 58}. Best is trial 31 with value: 0.9498607589971795.\u001b[0m\n"
          ]
        },
        {
          "output_type": "stream",
          "name": "stdout",
          "text": [
            "Trial done: Accuracy values on folds: [0.9019607843137255, 0.8921568627450981, 0.88379705400982]\n"
          ]
        },
        {
          "output_type": "stream",
          "name": "stderr",
          "text": [
            "\u001b[32m[I 2023-01-05 02:35:01,133]\u001b[0m Trial 41 finished with value: 0.9504143355832967 and parameters: {'n_estimators': 1373, 'min_sample_split': 3, 'min_samples_leaf': 1, 'max_features': 'log2', 'bootstrap': False, 'random_state': 71}. Best is trial 41 with value: 0.9504143355832967.\u001b[0m\n"
          ]
        },
        {
          "output_type": "stream",
          "name": "stdout",
          "text": [
            "Trial done: Accuracy values on folds: [0.9477124183006536, 0.9428104575163399, 0.9607201309328969]\n"
          ]
        },
        {
          "output_type": "stream",
          "name": "stderr",
          "text": [
            "\u001b[32m[I 2023-01-05 02:35:07,921]\u001b[0m Trial 42 finished with value: 0.9525840705440204 and parameters: {'n_estimators': 1371, 'min_sample_split': 3, 'min_samples_leaf': 1, 'max_features': 'log2', 'bootstrap': False, 'random_state': 87}. Best is trial 42 with value: 0.9525840705440204.\u001b[0m\n"
          ]
        },
        {
          "output_type": "stream",
          "name": "stdout",
          "text": [
            "Trial done: Accuracy values on folds: [0.9656862745098039, 0.9477124183006536, 0.9443535188216039]\n"
          ]
        },
        {
          "output_type": "stream",
          "name": "stderr",
          "text": [
            "\u001b[32m[I 2023-01-05 02:35:14,842]\u001b[0m Trial 43 finished with value: 0.943873039304829 and parameters: {'n_estimators': 1401, 'min_sample_split': 3, 'min_samples_leaf': 1, 'max_features': 'log2', 'bootstrap': False, 'random_state': 85}. Best is trial 42 with value: 0.9525840705440204.\u001b[0m\n"
          ]
        },
        {
          "output_type": "stream",
          "name": "stdout",
          "text": [
            "Trial done: Accuracy values on folds: [0.9395424836601307, 0.9411764705882353, 0.9509001636661211]\n"
          ]
        },
        {
          "output_type": "stream",
          "name": "stderr",
          "text": [
            "\u001b[32m[I 2023-01-05 02:35:20,628]\u001b[0m Trial 44 finished with value: 0.9422292466723005 and parameters: {'n_estimators': 1154, 'min_sample_split': 4, 'min_samples_leaf': 1, 'max_features': 'log2', 'bootstrap': False, 'random_state': 89}. Best is trial 42 with value: 0.9525840705440204.\u001b[0m\n"
          ]
        },
        {
          "output_type": "stream",
          "name": "stdout",
          "text": [
            "Trial done: Accuracy values on folds: [0.9526143790849673, 0.9411764705882353, 0.9328968903436988]\n"
          ]
        },
        {
          "output_type": "stream",
          "name": "stderr",
          "text": [
            "\u001b[32m[I 2023-01-05 02:35:28,520]\u001b[0m Trial 45 finished with value: 0.9465892194302707 and parameters: {'n_estimators': 1596, 'min_sample_split': 3, 'min_samples_leaf': 1, 'max_features': 'log2', 'bootstrap': False, 'random_state': 71}. Best is trial 42 with value: 0.9525840705440204.\u001b[0m\n"
          ]
        },
        {
          "output_type": "stream",
          "name": "stdout",
          "text": [
            "Trial done: Accuracy values on folds: [0.954248366013072, 0.9477124183006536, 0.9378068739770867]\n"
          ]
        },
        {
          "output_type": "stream",
          "name": "stderr",
          "text": [
            "\u001b[32m[I 2023-01-05 02:35:36,756]\u001b[0m Trial 46 finished with value: 0.9307931210309183 and parameters: {'n_estimators': 1771, 'min_sample_split': 3, 'min_samples_leaf': 2, 'max_features': 'log2', 'bootstrap': False, 'random_state': 72}. Best is trial 42 with value: 0.9525840705440204.\u001b[0m\n"
          ]
        },
        {
          "output_type": "stream",
          "name": "stdout",
          "text": [
            "Trial done: Accuracy values on folds: [0.9248366013071896, 0.9313725490196079, 0.9361702127659575]\n"
          ]
        },
        {
          "output_type": "stream",
          "name": "stderr",
          "text": [
            "\u001b[32m[I 2023-01-05 02:35:44,674]\u001b[0m Trial 47 finished with value: 0.942781040403068 and parameters: {'n_estimators': 1344, 'min_sample_split': 3, 'min_samples_leaf': 1, 'max_features': 'log2', 'bootstrap': True, 'random_state': 19}. Best is trial 42 with value: 0.9525840705440204.\u001b[0m\n"
          ]
        },
        {
          "output_type": "stream",
          "name": "stdout",
          "text": [
            "Trial done: Accuracy values on folds: [0.9575163398692811, 0.9248366013071896, 0.9459901800327333]\n"
          ]
        },
        {
          "output_type": "stream",
          "name": "stderr",
          "text": [
            "\u001b[32m[I 2023-01-05 02:35:50,246]\u001b[0m Trial 48 finished with value: 0.9247929213511191 and parameters: {'n_estimators': 1212, 'min_sample_split': 6, 'min_samples_leaf': 2, 'max_features': 'auto', 'bootstrap': False, 'random_state': 82}. Best is trial 42 with value: 0.9525840705440204.\u001b[0m\n"
          ]
        },
        {
          "output_type": "stream",
          "name": "stdout",
          "text": [
            "Trial done: Accuracy values on folds: [0.9264705882352942, 0.9281045751633987, 0.9198036006546645]\n"
          ]
        },
        {
          "output_type": "stream",
          "name": "stderr",
          "text": [
            "\u001b[32m[I 2023-01-05 02:35:50,854]\u001b[0m Trial 49 finished with value: 0.9444230501802466 and parameters: {'n_estimators': 117, 'min_sample_split': 4, 'min_samples_leaf': 1, 'max_features': 'sqrt', 'bootstrap': False, 'random_state': 95}. Best is trial 42 with value: 0.9525840705440204.\u001b[0m\n"
          ]
        },
        {
          "output_type": "stream",
          "name": "stdout",
          "text": [
            "Trial done: Accuracy values on folds: [0.9477124183006536, 0.9248366013071896, 0.9607201309328969]\n"
          ]
        },
        {
          "output_type": "stream",
          "name": "stderr",
          "text": [
            "\u001b[32m[I 2023-01-05 02:35:58,407]\u001b[0m Trial 50 finished with value: 0.9498643247078791 and parameters: {'n_estimators': 1525, 'min_sample_split': 3, 'min_samples_leaf': 1, 'max_features': 'log2', 'bootstrap': False, 'random_state': 44}. Best is trial 42 with value: 0.9525840705440204.\u001b[0m\n"
          ]
        },
        {
          "output_type": "stream",
          "name": "stdout",
          "text": [
            "Trial done: Accuracy values on folds: [0.9477124183006536, 0.9509803921568627, 0.9509001636661211]\n",
            "Number of finished trials: 51\n",
            "Best trial:\n",
            "  Value: 0.9525840705440204\n",
            "  Params: \n",
            "    n_estimators: 1371\n",
            "    min_sample_split: 3\n",
            "    min_samples_leaf: 1\n",
            "    max_features: log2\n",
            "    bootstrap: False\n",
            "    random_state: 87\n"
          ]
        }
      ]
    },
    {
      "cell_type": "markdown",
      "source": [
        "## ExtraTreesClassifier with best parameters after Hyperparameter Tunning"
      ],
      "metadata": {
        "id": "SoxGk55iLDf5"
      }
    },
    {
      "cell_type": "code",
      "source": [
        "ec1 = ExtraTreesClassifier(\n",
        "    n_estimators= 103,\n",
        "    max_depth= None,\n",
        "    min_samples_split=3,\n",
        "    min_samples_leaf= 1,\n",
        "    max_features= 'log2',\n",
        "    max_leaf_nodes= None,\n",
        "    bootstrap= False,\n",
        "    random_state=42)\n",
        "ec1.fit(X_train,y_train)\n",
        "y_predict3 = ec1.predict(X_test)\n",
        "y_train.value_counts()"
      ],
      "metadata": {
        "colab": {
          "base_uri": "https://localhost:8080/"
        },
        "id": "PCghDj1iKgwn",
        "outputId": "ff14c4ec-5055-49dd-a526-f6e8ef18d102"
      },
      "execution_count": 29,
      "outputs": [
        {
          "output_type": "execute_result",
          "data": {
            "text/plain": [
              "3    624\n",
              "4    615\n",
              "2    596\n",
              "Name: Performance Rating, dtype: int64"
            ]
          },
          "metadata": {},
          "execution_count": 29
        }
      ]
    },
    {
      "cell_type": "markdown",
      "source": [
        "## Evaluation"
      ],
      "metadata": {
        "id": "3tmlmy3ULdNh"
      }
    },
    {
      "cell_type": "code",
      "source": [
        "print(f\"\\033[1mTest accuracy score : {round(accuracy_score(y_test,y_predict3)*100,2)} %\\n\")\n",
        "print(\"Test Classification Report\\n\")\n",
        "print(classification_report(y_test,y_predict3))"
      ],
      "metadata": {
        "colab": {
          "base_uri": "https://localhost:8080/"
        },
        "id": "TPg63aAyLb0J",
        "outputId": "710c81e0-c383-4ca5-a409-da030707c15c"
      },
      "execution_count": 30,
      "outputs": [
        {
          "output_type": "stream",
          "name": "stdout",
          "text": [
            "\u001b[1mTest accuracy score : 95.81 %\n",
            "\n",
            "Test Classification Report\n",
            "\n",
            "              precision    recall  f1-score   support\n",
            "\n",
            "           2       0.92      0.99      0.95       278\n",
            "           3       0.98      0.88      0.93       250\n",
            "           4       0.98      1.00      0.99       259\n",
            "\n",
            "    accuracy                           0.96       787\n",
            "   macro avg       0.96      0.96      0.96       787\n",
            "weighted avg       0.96      0.96      0.96       787\n",
            "\n"
          ]
        }
      ]
    },
    {
      "cell_type": "code",
      "source": [
        "train_predict3 = ec1.predict(X_train)\n",
        "print(f\"\\033[1mTrain accuracy_score : {round(accuracy_score(y_train,train_predict)*100,2)} %\\n\")\n",
        "print(\"Train Classification Report\\n\")\n",
        "print(classification_report(y_train,train_predict))"
      ],
      "metadata": {
        "colab": {
          "base_uri": "https://localhost:8080/"
        },
        "id": "KDp9X1BWLgZ7",
        "outputId": "df92ad19-1efd-4b36-e09d-23e1af107112"
      },
      "execution_count": 31,
      "outputs": [
        {
          "output_type": "stream",
          "name": "stdout",
          "text": [
            "\u001b[1mTrain accuracy_score : 98.69 %\n",
            "\n",
            "Train Classification Report\n",
            "\n",
            "              precision    recall  f1-score   support\n",
            "\n",
            "           2       0.98      1.00      0.99       596\n",
            "           3       0.99      0.97      0.98       624\n",
            "           4       0.99      1.00      0.99       615\n",
            "\n",
            "    accuracy                           0.99      1835\n",
            "   macro avg       0.99      0.99      0.99      1835\n",
            "weighted avg       0.99      0.99      0.99      1835\n",
            "\n"
          ]
        }
      ]
    },
    {
      "cell_type": "markdown",
      "source": [
        "It is found that after hyperparameter tunning, test accuracy `remains same & model is not overfitted`."
      ],
      "metadata": {
        "id": "aRHWTO3WLnOi"
      }
    },
    {
      "cell_type": "markdown",
      "source": [
        "# Confusion Matrix"
      ],
      "metadata": {
        "id": "TvCkDQwDLrX6"
      }
    },
    {
      "cell_type": "code",
      "source": [
        "# Default theame for plotings\n",
        "matplotlib.rcdefaults()\n",
        "f,(ax1,ax2) = plt.subplots(1,2,figsize=(10,4))\n",
        "# Plot non-normalized confusion matrix\n",
        "cm1 = plot_confusion_matrix(ec1, X_test, y_test, cmap=plt.cm.Blues,normalize=None,ax=ax1)\n",
        "cm1.ax_.set_title(\"Confusion matrix, without normalization\\n\",fontsize=12)\n",
        "\n",
        "cm2 = plot_confusion_matrix(ec1, X_test, y_test, cmap=plt.cm.Blues,normalize=\"true\",ax=ax2)\n",
        "cm2.ax_.set_title(\"Normalized confusion matrix\\n\",fontsize=12)\n",
        "plt.tight_layout(pad=2)\n",
        "\n",
        "plt.show();"
      ],
      "metadata": {
        "colab": {
          "base_uri": "https://localhost:8080/",
          "height": 407
        },
        "id": "0nDRgwkVLkOo",
        "outputId": "399a265f-d1b0-4e58-f3c4-cdce0cae2e1b"
      },
      "execution_count": 32,
      "outputs": [
        {
          "output_type": "display_data",
          "data": {
            "text/plain": [
              "<Figure size 1000x400 with 4 Axes>"
            ],
            "image/png": "[encoded data removed]"
          },
          "metadata": {}
        }
      ]
    },
    {
      "cell_type": "markdown",
      "source": [
        "# ROC Curve\n",
        "\n",
        "An ROC curve (receiver operating characteristic curve) is a graph showing the performance of a classification model at all classification thresholds. This curve plots two parameters: True Positive Rate. False Positive Rate."
      ],
      "metadata": {
        "id": "iAYCJdcKL2bb"
      }
    },
    {
      "cell_type": "code",
      "source": [
        "# Instaniate the classification model and visualizer\n",
        "model = ExtraTreesClassifier(\n",
        "    n_estimators= 999,\n",
        "    max_depth= None,\n",
        "    min_samples_split=3,\n",
        "    min_samples_leaf= 1,\n",
        "    max_features= 'log2',\n",
        "    max_leaf_nodes= None,\n",
        "    bootstrap= False,\n",
        "    random_state=42)\n",
        "\n",
        "visualizer = ROCAUC(model) #model=ec1\n",
        "\n",
        "visualizer.fit(X_train, y_train) # Fit the training data to the visualizer\n",
        "visualizer.score(X_test, y_test)  # Evaluate the model on the test data\n",
        "visualizer.show()                 \n",
        "plt.show()\n",
        "# Finalize and render the figure"
      ],
      "metadata": {
        "colab": {
          "base_uri": "https://localhost:8080/",
          "height": 472
        },
        "id": "8JaXF3QFLvEU",
        "outputId": "acdfd0de-e6e0-42c5-a14b-da14f49b93e6"
      },
      "execution_count": 33,
      "outputs": [
        {
          "output_type": "display_data",
          "data": {
            "text/plain": [
              "<Figure size 640x480 with 1 Axes>"
            ],
            "image/png": "[encoded data removed]"
          },
          "metadata": {}
        }
      ]
    },
    {
      "cell_type": "markdown",
      "source": [
        "# Conclusion\n",
        "\n",
        "\n",
        "* ExtraTreesClassifier model work well for given dataset.\n",
        "* Test accuracy of this model is `95.81%`.\n",
        "* Train accuracy of this model is `98.69%`.\n",
        "* ROC for class 2{Good Performance Rating} is `99%`.\n",
        "* ROC for class 3{Excellent Performance Rating} is `98%`.\n",
        "* ROC for class 4{Outstanding Performance Rating} is `100%`."
      ],
      "metadata": {
        "id": "PCALtip-MFsy"
      }
    },
    {
      "cell_type": "markdown",
      "source": [
        "# Saving the model"
      ],
      "metadata": {
        "id": "Hty726DFyWBg"
      }
    },
    {
      "cell_type": "code",
      "source": [
        "joblib.dump(model, \"trained_model.sav\")"
      ],
      "metadata": {
        "colab": {
          "base_uri": "https://localhost:8080/"
        },
        "id": "jTKzTdbDycXo",
        "outputId": "a996b1cf-6ada-42f2-c88d-08e39d9c6b3b"
      },
      "execution_count": 34,
      "outputs": [
        {
          "output_type": "execute_result",
          "data": {
            "text/plain": [
              "['trained_model.sav']"
            ]
          },
          "metadata": {},
          "execution_count": 34
        }
      ]
    },
    {
      "cell_type": "code",
      "source": [],
      "metadata": {
        "id": "lEG49Yhnypqt"
      },
      "execution_count": null,
      "outputs": []
    }
  ]
}