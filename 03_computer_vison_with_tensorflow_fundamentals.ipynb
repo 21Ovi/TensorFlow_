{
  "nbformat": 4,
  "nbformat_minor": 0,
  "metadata": {
    "colab": {
      "provenance": [],
      "authorship_tag": "ABX9TyOEj09XzxNjjqfFcZnLQJpl",
      "include_colab_link": true
    },
    "kernelspec": {
      "name": "python3",
      "display_name": "Python 3"
    },
    "language_info": {
      "name": "python"
    }
  },
  "cells": [
    {
      "cell_type": "markdown",
      "metadata": {
        "id": "view-in-github",
        "colab_type": "text"
      },
      "source": [
        "<a href=\"https://colab.research.google.com/github/21Ovi/TensorFlow_/blob/main/03_computer_vison_with_tensorflow_fundamentals.ipynb\" target=\"_parent\"><img src=\"https://colab.research.google.com/assets/colab-badge.svg\" alt=\"Open In Colab\"/></a>"
      ]
    },
    {
      "cell_type": "markdown",
      "source": [
        "# Introduction to Convolutional Neural Networks and Computer Vision with TensorFlow\n",
        "\n",
        "Computer vision is the practice of writing algorithm which can discover patterns in visual data. Such as the camera of a self-driving car recognizing the car in front."
      ],
      "metadata": {
        "id": "1LctCLnIm6MK"
      }
    },
    {
      "cell_type": "markdown",
      "source": [
        "## Get the data\n",
        "\n",
        "The images we're working with are from the Food101 dataset (101 different classes of food):https://www.kaggle.com/datasets/dansbecker/food-101\n",
        "\n",
        "However we've modified it to only use 2 classes (pizza🍕 & steak🥩) using the image data modification notebook\n",
        "\n",
        "> **Note:** We start with with a smaller dataset so we can experiment quickly and figure what works(or better yet what does'nt work)"
      ],
      "metadata": {
        "id": "tfYs9GuYnev1"
      }
    },
    {
      "cell_type": "code",
      "source": [
        "import zipfile\n",
        "\n",
        "!wget https://storage.googleapis.com/ztm_tf_course/food_vision/pizza_steak.zip\n",
        "\n",
        "# Unzip the downloaded file\n",
        "zip_ref = zipfile.ZipFile(\"pizza_steak.zip\")\n",
        "zip_ref.extractall()\n",
        "zip_ref.close()"
      ],
      "metadata": {
        "colab": {
          "base_uri": "https://localhost:8080/"
        },
        "id": "obcfhftroxyi",
        "outputId": "fa86623b-ccf7-4b61-f728-0ee5cd27814a"
      },
      "execution_count": 1,
      "outputs": [
        {
          "output_type": "stream",
          "name": "stdout",
          "text": [
            "--2023-01-05 01:30:27--  https://storage.googleapis.com/ztm_tf_course/food_vision/pizza_steak.zip\n",
            "Resolving storage.googleapis.com (storage.googleapis.com)... 142.251.16.128, 142.251.163.128, 142.251.167.128, ...\n",
            "Connecting to storage.googleapis.com (storage.googleapis.com)|142.251.16.128|:443... connected.\n",
            "HTTP request sent, awaiting response... 200 OK\n",
            "Length: 109540975 (104M) [application/zip]\n",
            "Saving to: ‘pizza_steak.zip’\n",
            "\n",
            "pizza_steak.zip     100%[===================>] 104.47M   168MB/s    in 0.6s    \n",
            "\n",
            "2023-01-05 01:30:28 (168 MB/s) - ‘pizza_steak.zip’ saved [109540975/109540975]\n",
            "\n"
          ]
        }
      ]
    },
    {
      "cell_type": "markdown",
      "source": [
        "## Inspect the data (become one with it)\n",
        "\n",
        "A very crutual step at the beginning og any machine learning project project is becomming one with the datqa\n",
        "\n",
        "And for computer vision project... this usually means visualizing many samples of your data"
      ],
      "metadata": {
        "id": "zzgFU2HapuiO"
      }
    },
    {
      "cell_type": "code",
      "source": [
        "!ls pizza_steak"
      ],
      "metadata": {
        "colab": {
          "base_uri": "https://localhost:8080/"
        },
        "id": "wAtQ7mZwkaXK",
        "outputId": "1e3d6d37-c17a-4ffc-d656-7e39c1c6397c"
      },
      "execution_count": 2,
      "outputs": [
        {
          "output_type": "stream",
          "name": "stdout",
          "text": [
            "test  train\n"
          ]
        }
      ]
    },
    {
      "cell_type": "code",
      "source": [
        "!ls pizza_steak/train/"
      ],
      "metadata": {
        "colab": {
          "base_uri": "https://localhost:8080/"
        },
        "id": "RabP_R6dkebR",
        "outputId": "67a44fd8-1511-4b4e-eda4-80421493f231"
      },
      "execution_count": 3,
      "outputs": [
        {
          "output_type": "stream",
          "name": "stdout",
          "text": [
            "pizza  steak\n"
          ]
        }
      ]
    },
    {
      "cell_type": "code",
      "source": [
        "!ls pizza_steak/train/pizza"
      ],
      "metadata": {
        "colab": {
          "base_uri": "https://localhost:8080/"
        },
        "id": "E6lvBgcykhoO",
        "outputId": "501a5eb4-49ec-4e18-e56d-dfe34aebf446"
      },
      "execution_count": 4,
      "outputs": [
        {
          "output_type": "stream",
          "name": "stdout",
          "text": [
            "1008104.jpg  1638227.jpg  2235981.jpg  2774899.jpg  3464027.jpg  576236.jpg\n",
            "1008144.jpg  1646974.jpg  2236914.jpg  2775763.jpg  3464858.jpg  5764.jpg\n",
            "1008844.jpg  1649108.jpg  2241448.jpg  2778214.jpg  3473991.jpg  579691.jpg\n",
            "1008941.jpg  1649276.jpg  2247711.jpg  277963.jpg   3475936.jpg  593400.jpg\n",
            "1011404.jpg  1652943.jpg  2253670.jpg  2785084.jpg  3478964.jpg  59445.jpg\n",
            "102037.jpg   1654444.jpg  2255361.jpg  2793535.jpg  3479875.jpg  596494.jpg\n",
            "1026922.jpg  1660415.jpg  2274117.jpg  27963.jpg    3479936.jpg  598381.jpg\n",
            "1029698.jpg  1663749.jpg  2279642.jpg  2800325.jpg  3484590.jpg  604977.jpg\n",
            "1033251.jpg  1665654.jpg  2280345.jpg  2811032.jpg  3493457.jpg  608085.jpg\n",
            "1035854.jpg  166823.jpg   2285269.jpg  282013.jpg   349946.jpg\t 618021.jpg\n",
            "1038357.jpg  1670471.jpg  2285942.jpg  2821034.jpg  350358.jpg\t 61822.jpg\n",
            "1040878.jpg  1671531.jpg  228778.jpg   2821048.jpg  3505182.jpg  618348.jpg\n",
            "1044524.jpg  1678284.jpg  2291093.jpg  2827938.jpg  3512070.jpg  625687.jpg\n",
            "1044789.jpg  1681043.jpg  2292986.jpg  2831983.jpg  3514408.jpg  626170.jpg\n",
            "1047561.jpg  1686908.jpg  2293453.jpg  2844278.jpg  352051.jpg\t 626902.jpg\n",
            "1048649.jpg  1687681.jpg  2301105.jpg  2849924.jpg  3530210.jpg  63480.jpg\n",
            "1054420.jpg  168879.jpg   2304021.jpg  2852301.jpg  3536393.jpg  647215.jpg\n",
            "1055065.jpg  1688838.jpg  2312987.jpg  2855844.jpg  3546278.jpg  652004.jpg\n",
            "105910.jpg   169318.jpg   23199.jpg    287000.jpg   3549765.jpg  656817.jpg\n",
            "1065078.jpg  169720.jpg   2321465.jpg  2877565.jpg  3550805.jpg  662526.jpg\n",
            "1069629.jpg  1705747.jpg  232976.jpg   2881282.jpg  3554287.jpg  663285.jpg\n",
            "1075568.jpg  1705773.jpg  2330965.jpg  2885050.jpg  3555299.jpg  665900.jpg\n",
            "1076699.jpg  1708197.jpg  233143.jpg   2885796.jpg  3557127.jpg  667309.jpg\n",
            "1083380.jpg  1717790.jpg  2331467.jpg  2902766.jpg  3574192.jpg  668944.jpg\n",
            "1084888.jpg  1742542.jpg  2361973.jpg  2916034.jpg  358178.jpg\t 670201.jpg\n",
            "1088332.jpg  1743389.jpg  2365046.jpg  2922019.jpg  3589437.jpg  674188.jpg\n",
            "1089334.jpg  175626.jpg   2382016.jpg  2924941.jpg  3595758.jpg  676432.jpg\n",
            "1097980.jpg  1757288.jpg  238843.jpg   2933332.jpg  3597955.jpg  682201.jpg\n",
            "1098197.jpg  1761451.jpg  2397868.jpg  29417.jpg    3614525.jpg  68684.jpg\n",
            "1105700.jpg  1763205.jpg  2410138.jpg  2951831.jpg  3628930.jpg  698251.jpg\n",
            "1107714.jpg  1774438.jpg  2412237.jpg  2952219.jpg  3629996.jpg  702165.jpg\n",
            "111051.jpg   1778167.jpg  2412970.jpg  2959665.jpg  3644733.jpg  704161.jpg\n",
            "1110966.jpg  1786840.jpg  2421445.jpg  2965.jpg     3653528.jpg  709273.jpg\n",
            "1123386.jpg  179165.jpg   2426686.jpg  2967846.jpg  3653643.jpg  709947.jpg\n",
            "1137400.jpg  1795316.jpg  2428085.jpg  2980131.jpg  3660716.jpg  712149.jpg\n",
            "1138936.jpg  1806491.jpg  242813.jpg   2989328.jpg  3663580.jpg  714991.jpg\n",
            "1143057.jpg  1810844.jpg  2432061.jpg  2990023.jpg  3675128.jpg  715169.jpg\n",
            "1157438.jpg  1818014.jpg  2439992.jpg  2990186.jpg  3678290.jpg  717350.jpg\n",
            "1159797.jpg  1828050.jpg  2441328.jpg  2992084.jpg  368644.jpg\t 721383.jpg\n",
            "1165451.jpg  1836888.jpg  2443498.jpg  299535.jpg   369017.jpg\t 724445.jpg\n",
            "1173913.jpg  1839077.jpg  244505.jpg   2995731.jpg  3693710.jpg  72716.jpg\n",
            "1183278.jpg  1870865.jpg  2448844.jpg  2999507.jpg  3699992.jpg  739735.jpg\n",
            "1202925.jpg  1871498.jpg  2451169.jpg  3000535.jpg  3702863.jpg  740385.jpg\n",
            "1205154.jpg  1877103.jpg  2456207.jpg  300869.jpg   3703769.jpg  741491.jpg\n",
            "1207213.jpg  1878005.jpg  2462190.jpg  3018077.jpg  3704879.jpg  741883.jpg\n",
            "1209973.jpg  1881674.jpg  2467990.jpg  3020376.jpg  3705479.jpg  755968.jpg\n",
            "121834.jpg   1888911.jpg  2468499.jpg  3023774.jpg  370643.jpg\t 759025.jpg\n",
            "12301.jpg    1890444.jpg  2470671.jpg  302591.jpg   3712344.jpg  759873.jpg\n",
            "1234172.jpg  1895479.jpg  2471646.jpg  3039549.jpg  3713343.jpg  762788.jpg\n",
            "1243215.jpg  1897129.jpg  2473559.jpg  3042454.jpg  372275.jpg\t 764429.jpg\n",
            "1245628.jpg  1898723.jpg  2476468.jpg  3055697.jpg  3742272.jpg  765000.jpg\n",
            "1247645.jpg  1899562.jpg  2481333.jpg  3057192.jpg  3745884.jpg  765799.jpg\n",
            "1248346.jpg  1899785.jpg  248252.jpg   3063955.jpg  3749515.jpg  768276.jpg\n",
            "1248478.jpg  1900585.jpg  2486277.jpg  3066951.jpg  375401.jpg\t 771878.jpg\n",
            "1260554.jpg  1906287.jpg  2487039.jpg  307677.jpg   3763593.jpg  774142.jpg\n",
            "1267359.jpg  1907713.jpg  2490163.jpg  3082068.jpg  376417.jpg\t 77677.jpg\n",
            "1269960.jpg  1912976.jpg  2491110.jpg  3082443.jpg  3766053.jpg  786995.jpg\n",
            "1270986.jpg  1914969.jpg  2492287.jpg  3084957.jpg  3766476.jpg  790432.jpg\n",
            "12718.jpg    1915343.jpg  2493954.jpg  3102271.jpg  3767723.jpg  790841.jpg\n",
            "1284978.jpg  1916846.jpg  2501636.jpg  3105724.jpg  3767773.jpg  792093.jpg\n",
            "1285298.jpg  1934355.jpg  2501961.jpg  3109486.jpg  3772054.jpg  799874.jpg\n",
            "1287004.jpg  1944600.jpg  2502234.jpg  312479.jpg   3778801.jpg  803243.jpg\n",
            "1289139.jpg  1947572.jpg  2508157.jpg  3128495.jpg  3790235.jpg  807128.jpg\n",
            "129536.jpg   1950499.jpg  2511911.jpg  3148119.jpg  3793314.jpg  809024.jpg\n",
            "1312761.jpg  1951130.jpg  2516510.jpg  3164761.jpg  3798959.jpg  812349.jpg\n",
            "131561.jpg   1958364.jpg  2519291.jpg  3168266.jpg  3803596.jpg  816577.jpg\n",
            "132484.jpg   1964051.jpg  2529205.jpg  3170114.jpg  3821701.jpg  816729.jpg\n",
            "132554.jpg   1968947.jpg  253127.jpg   3173779.jpg  3822139.jpg  819547.jpg\n",
            "1325918.jpg  1973447.jpg  2534774.jpg  317861.jpg   3826377.jpg  823104.jpg\n",
            "1326065.jpg  1980167.jpg  2556273.jpg  3185774.jpg  382829.jpg\t 82578.jpg\n",
            "1327402.jpg  1981348.jpg  2557340.jpg  3191035.jpg  3830773.jpg  82772.jpg\n",
            "1336882.jpg  1984976.jpg  2560539.jpg  3193599.jpg  38349.jpg\t 829229.jpg\n",
            "134462.jpg   1987634.jpg  2569760.jpg  3196721.jpg  384215.jpg\t 83538.jpg\n",
            "1344966.jpg  1988629.jpg  2570329.jpg  32004.jpg    3845083.jpg  835833.jpg\n",
            "1351146.jpg  199019.jpg   2572958.jpg  320570.jpg   3860002.jpg  839461.jpg\n",
            "1351631.jpg  1998483.jpg  2574896.jpg  3207504.jpg  3862243.jpg  853441.jpg\n",
            "1370319.jpg  2005870.jpg  2576168.jpg  3214153.jpg  3864383.jpg  857888.jpg\n",
            "1383291.jpg  2010437.jpg  2577373.jpg  3256974.jpg  3871666.jpg  861771.jpg\n",
            "1384464.jpg  2014717.jpg  2577377.jpg  3264148.jpg  3873326.jpg  866834.jpg\n",
            "138855.jpg   2019441.jpg  2581276.jpg  32666.jpg    387697.jpg\t 868789.jpg\n",
            "1390308.jpg  2019583.jpg  2584745.jpg  326809.jpg   3882444.jpg  869763.jpg\n",
            "13983.jpg    2021516.jpg  2587918.jpg  3269634.jpg  3906901.jpg  872094.jpg\n",
            "1399531.jpg  2026009.jpg  2587921.jpg  327415.jpg   3910117.jpg  874288.jpg\n",
            "140031.jpg   2032236.jpg  259449.jpg   3281494.jpg  3913912.jpg  875262.jpg\n",
            "1403878.jpg  2035248.jpg  2602611.jpg  329302.jpg   3917951.jpg  875856.jpg\n",
            "1407753.jpg  203831.jpg   2605343.jpg  3297714.jpg  393658.jpg\t 877881.jpg\n",
            "1412034.jpg  2044732.jpg  2606727.jpg  3312584.jpg  394049.jpg\t 878377.jpg\n",
            "1413289.jpg  2077999.jpg  262133.jpg   3314176.jpg  394590.jpg\t 884986.jpg\n",
            "141507.jpg   2078141.jpg  2621534.jpg  3314535.jpg  395034.jpg\t 886505.jpg\n",
            "1423515.jpg  2078208.jpg  2622336.jpg  332231.jpg   395960.jpg\t 8917.jpg\n",
            "1425089.jpg  2091857.jpg  2639094.jpg  3324050.jpg  398565.jpg\t 893644.jpg\n",
            "1426781.jpg  2097315.jpg  2640502.jpg  3326344.jpg  401701.jpg\t 896448.jpg\n",
            "143453.jpg   2098014.jpg  2664219.jpg  3333459.jpg  401979.jpg\t 898119.jpg\n",
            "1454995.jpg  2104569.jpg  2666066.jpg  3337370.jpg  40231.jpg\t 898303.jpg\n",
            "1468795.jpg  2110257.jpg  2667244.jpg  3338774.jpg  403431.jpg\t 898843.jpg\n",
            "147785.jpg   2112757.jpg  2667255.jpg  333985.jpg   413710.jpg\t 89892.jpg\n",
            "1499661.jpg  2121603.jpg  2667824.jpg  3342039.jpg  413789.jpg\t 899818.jpg\n",
            "1504421.jpg  2126352.jpg  2670730.jpg  3366256.jpg  419516.jpg\t 899959.jpg\n",
            "1504719.jpg  2126709.jpg  2671508.jpg  3367113.jpg  422261.jpg\t 904938.jpg\n",
            "1507039.jpg  2135635.jpg  2674351.jpg  337272.jpg   424288.jpg\t 910419.jpg\n",
            "1512514.jpg  2137341.jpg  2687575.jpg  3376519.jpg  430118.jpg\t 917774.jpg\n",
            "1524599.jpg  2142812.jpg  2693334.jpg  3379038.jpg  44449.jpg\t 918506.jpg\n",
            "1524655.jpg  214728.jpg   269396.jpg   3382880.jpg  448519.jpg\t 920219.jpg\n",
            "1535273.jpg  2148129.jpg  2694223.jpg  3383977.jpg  452989.jpg\t 920595.jpg\n",
            "1544197.jpg  2154394.jpg  2697971.jpg  3384856.jpg  464388.jpg\t 926046.jpg\n",
            "1552253.jpg  2155475.jpg  2700543.jpg  338838.jpg   465454.jpg\t 928663.jpg\n",
            "1553353.jpg  2155735.jpg  2702825.jpg  3391208.jpg  467986.jpg\t 928670.jpg\n",
            "1571074.jpg  2161241.jpg  2705497.jpg  3392649.jpg  474493.jpg\t 929067.jpg\n",
            "1572608.jpg  2164255.jpg  2707814.jpg  3392671.jpg  489347.jpg\t 937915.jpg\n",
            "1573562.jpg  216720.jpg   2711828.jpg  3393898.jpg  489532.jpg\t 938821.jpg\n",
            "1576248.jpg  2172850.jpg  271592.jpg   3397336.jpg  495892.jpg\t 93961.jpg\n",
            "1577871.jpg  218142.jpg   271675.jpg   3398309.jpg  513754.jpg\t 947246.jpg\n",
            "1584379.jpg  218711.jpg   271779.jpg   3399610.jpg  514014.jpg\t 951953.jpg\n",
            "1593665.jpg  2187466.jpg  2722646.jpg  3401720.jpg  517902.jpg\t 959901.jpg\n",
            "1593835.jpg  2188452.jpg  2723529.jpg  3401767.jpg  518527.jpg\t 962785.jpg\n",
            "1600705.jpg  2190018.jpg  2739039.jpg  340814.jpg   527199.jpg\t 966644.jpg\n",
            "1608000.jpg  220190.jpg   2739100.jpg  3425999.jpg  52934.jpg\t 967694.jpg\n",
            "1617418.jpg  220910.jpg   2742044.jpg  3426946.jpg  532970.jpg\t 970073.jpg\n",
            "1620560.jpg  221048.jpg   274945.jpg   3427699.jpg  543556.jpg\t 972000.jpg\n",
            "1620761.jpg  2215531.jpg  2754150.jpg  3434372.jpg  54461.jpg\t 976382.jpg\n",
            "1625147.jpg  2217956.jpg  2755875.jpg  3441394.jpg  54540.jpg\t 979955.jpg\n",
            "163039.jpg   2224099.jpg  2757327.jpg  3443136.jpg  545561.jpg\t 979998.jpg\n",
            "1633289.jpg  2224828.jpg  2760984.jpg  3456440.jpg  56449.jpg\t 985164.jpg\n",
            "1635386.jpg  2228322.jpg  276803.jpg   3462250.jpg  568383.jpg\t 98617.jpg\n",
            "1636299.jpg  2231356.jpg  2769168.jpg  34632.jpg    568995.jpg\t 998719.jpg\n"
          ]
        }
      ]
    },
    {
      "cell_type": "code",
      "source": [
        "import os\n",
        "\n",
        "# Walk through pizza_steak directory and list number of files\n",
        "for dirpath, dirnames, filenames in os.walk(\"pizza_steak\"):\n",
        "  print(f\"There are {len(dirnames)} directories and {len(filenames)} names in '{dirpath}'.\")"
      ],
      "metadata": {
        "colab": {
          "base_uri": "https://localhost:8080/"
        },
        "id": "r0TXeHB8kl61",
        "outputId": "afb66f3e-8bf4-4ffe-cc2a-395a50f3be5e"
      },
      "execution_count": 5,
      "outputs": [
        {
          "output_type": "stream",
          "name": "stdout",
          "text": [
            "There are 2 directories and 0 names in 'pizza_steak'.\n",
            "There are 2 directories and 0 names in 'pizza_steak/test'.\n",
            "There are 0 directories and 250 names in 'pizza_steak/test/pizza'.\n",
            "There are 0 directories and 250 names in 'pizza_steak/test/steak'.\n",
            "There are 2 directories and 0 names in 'pizza_steak/train'.\n",
            "There are 0 directories and 750 names in 'pizza_steak/train/pizza'.\n",
            "There are 0 directories and 750 names in 'pizza_steak/train/steak'.\n"
          ]
        }
      ]
    },
    {
      "cell_type": "code",
      "source": [
        "!ls -la pizza_steak"
      ],
      "metadata": {
        "colab": {
          "base_uri": "https://localhost:8080/"
        },
        "id": "8YMtBRXLlPDW",
        "outputId": "a723bbac-b2e4-41a9-adc9-a3ab536fb7ef"
      },
      "execution_count": 6,
      "outputs": [
        {
          "output_type": "stream",
          "name": "stdout",
          "text": [
            "total 16\n",
            "drwxr-xr-x 4 root root 4096 Jan  5 01:30 .\n",
            "drwxr-xr-x 1 root root 4096 Jan  5 01:30 ..\n",
            "drwxr-xr-x 4 root root 4096 Jan  5 01:30 test\n",
            "drwxr-xr-x 4 root root 4096 Jan  5 01:30 train\n"
          ]
        }
      ]
    },
    {
      "cell_type": "code",
      "source": [
        "# Another way to find out how many images are there in a file\n",
        "num_steak_images_train = len(os.listdir(\"pizza_steak/train/steak\"))\n",
        "\n",
        "num_steak_images_train"
      ],
      "metadata": {
        "id": "OgNYBXQjlqbx",
        "colab": {
          "base_uri": "https://localhost:8080/"
        },
        "outputId": "eec9d0e2-a177-41b3-ac26-cd9811fabbfa"
      },
      "execution_count": 7,
      "outputs": [
        {
          "output_type": "execute_result",
          "data": {
            "text/plain": [
              "750"
            ]
          },
          "metadata": {},
          "execution_count": 7
        }
      ]
    },
    {
      "cell_type": "markdown",
      "source": [
        "To visualize our images, let's first get the class names programmatically"
      ],
      "metadata": {
        "id": "4VX3pY196qD9"
      }
    },
    {
      "cell_type": "code",
      "source": [
        "# get the classnames progammatically\n",
        "import pathlib\n",
        "import numpy as np\n",
        "data_dir = pathlib.Path(\"pizza_steak/train\")\n",
        "class_names = np.array(sorted([item.name for item in data_dir.glob(\"*\")])) # Created a list of class_names from the subdirectories\n",
        "print(class_names)"
      ],
      "metadata": {
        "colab": {
          "base_uri": "https://localhost:8080/"
        },
        "id": "wAE6__7n6oEQ",
        "outputId": "92db6b1a-4f0c-46c5-c2d3-e0367159160f"
      },
      "execution_count": 8,
      "outputs": [
        {
          "output_type": "stream",
          "name": "stdout",
          "text": [
            "['pizza' 'steak']\n"
          ]
        }
      ]
    },
    {
      "cell_type": "code",
      "source": [
        "# Let's visualize our images\n",
        "import matplotlib.pyplot as plt\n",
        "import matplotlib.image as mpimg\n",
        "import random\n",
        "\n",
        "def view_random_image(target_dir, target_class):\n",
        "  # Setup the target directory (\"we'll view images from here\")\n",
        "  target_folder = target_dir+target_class\n",
        "\n",
        "  # Get a random image path\n",
        "  random_image = random.sample(os.listdir(target_folder), 1)\n",
        "  print(random_image)\n",
        "\n",
        "  # Read in the image and plot it using matplotlib\n",
        "  img = mpimg.imread(target_folder + \"/\" + random_image[0])\n",
        "  plt.imshow(img)\n",
        "  plt.title(target_class)\n",
        "  plt.axis(\"off\")\n",
        "\n",
        "  print(f\"Image shape : {img.shape}\") # Show the shape of the image\n",
        "\n",
        "  return img"
      ],
      "metadata": {
        "id": "CxbYjn3s7PjG"
      },
      "execution_count": 9,
      "outputs": []
    },
    {
      "cell_type": "code",
      "source": [
        "# View a random image from the training dataset\n",
        "img = view_random_image(target_dir=\"pizza_steak/train/\",\n",
        "                        target_class=\"pizza\")"
      ],
      "metadata": {
        "colab": {
          "base_uri": "https://localhost:8080/",
          "height": 299
        },
        "id": "wodgpfsX8huj",
        "outputId": "ac87f6ad-acf3-4e24-99fd-60e98d707de0"
      },
      "execution_count": 10,
      "outputs": [
        {
          "output_type": "stream",
          "name": "stdout",
          "text": [
            "['129536.jpg']\n",
            "Image shape : (512, 384, 3)\n"
          ]
        },
        {
          "output_type": "display_data",
          "data": {
            "text/plain": [
              "<Figure size 432x288 with 1 Axes>"
            ],
            "image/png": "[encoded data removed]"
          },
          "metadata": {
            "needs_background": "light"
          }
        }
      ]
    },
    {
      "cell_type": "code",
      "source": [
        "# The images we've imported and plotted are actually gaint arrays/tensors of different pixel values\n",
        "import tensorflow as tf\n",
        "tf.constant(img)"
      ],
      "metadata": {
        "colab": {
          "base_uri": "https://localhost:8080/"
        },
        "id": "xJjNjBen8tv5",
        "outputId": "5774674b-c88d-47a0-f5b2-0cac56c5f8da"
      },
      "execution_count": 11,
      "outputs": [
        {
          "output_type": "execute_result",
          "data": {
            "text/plain": [
              "<tf.Tensor: shape=(512, 384, 3), dtype=uint8, numpy=\n",
              "array([[[  3,  13,  15],\n",
              "        [  5,  15,  17],\n",
              "        [  8,  18,  20],\n",
              "        ...,\n",
              "        [ 97, 153, 200],\n",
              "        [ 94, 150, 197],\n",
              "        [ 79, 135, 182]],\n",
              "\n",
              "       [[  4,  14,  16],\n",
              "        [  6,  16,  18],\n",
              "        [  8,  17,  22],\n",
              "        ...,\n",
              "        [101, 157, 204],\n",
              "        [ 98, 154, 201],\n",
              "        [ 85, 141, 188]],\n",
              "\n",
              "       [[  1,  11,  13],\n",
              "        [  2,  12,  14],\n",
              "        [  4,  13,  18],\n",
              "        ...,\n",
              "        [103, 159, 206],\n",
              "        [104, 160, 207],\n",
              "        [ 95, 151, 198]],\n",
              "\n",
              "       ...,\n",
              "\n",
              "       [[ 57,  75,  61],\n",
              "        [ 59,  77,  65],\n",
              "        [ 63,  81,  69],\n",
              "        ...,\n",
              "        [101, 145, 190],\n",
              "        [102, 146, 191],\n",
              "        [103, 147, 192]],\n",
              "\n",
              "       [[ 53,  73,  61],\n",
              "        [ 54,  72,  60],\n",
              "        [ 54,  72,  60],\n",
              "        ...,\n",
              "        [ 98, 145, 189],\n",
              "        [ 99, 146, 190],\n",
              "        [100, 147, 191]],\n",
              "\n",
              "       [[ 51,  71,  59],\n",
              "        [ 46,  66,  55],\n",
              "        [ 43,  63,  52],\n",
              "        ...,\n",
              "        [ 97, 144, 188],\n",
              "        [ 98, 145, 189],\n",
              "        [ 99, 146, 190]]], dtype=uint8)>"
            ]
          },
          "metadata": {},
          "execution_count": 11
        }
      ]
    },
    {
      "cell_type": "code",
      "source": [
        "# View the image shape\n",
        "img.shape # returns width, height, colour channels"
      ],
      "metadata": {
        "colab": {
          "base_uri": "https://localhost:8080/"
        },
        "id": "_BlQRYKh9Yhc",
        "outputId": "8f7831d6-2946-480c-8e44-9ecd4b312002"
      },
      "execution_count": 12,
      "outputs": [
        {
          "output_type": "execute_result",
          "data": {
            "text/plain": [
              "(512, 384, 3)"
            ]
          },
          "metadata": {},
          "execution_count": 12
        }
      ]
    },
    {
      "cell_type": "markdown",
      "source": [
        "🔑**Note:** As we've disscussed before, many machine learning models, including neural networks prefer the values they work with to be between 0 and 1. Knowing this, one of the most common preprocessing steps for working with images is to scale (also referred to as normalized) their pixel values by dividing the image arrays by 255. (since 255 is the maximum pixel valye)>"
      ],
      "metadata": {
        "id": "AF607Yagj4Ia"
      }
    },
    {
      "cell_type": "code",
      "source": [
        "# Get all the pixel values between 0 & 1\n",
        "img/255."
      ],
      "metadata": {
        "colab": {
          "base_uri": "https://localhost:8080/"
        },
        "id": "ggpyYlDQ-6eY",
        "outputId": "e7d8b4ba-c1c2-4f44-f366-d5dcaf648034"
      },
      "execution_count": 13,
      "outputs": [
        {
          "output_type": "execute_result",
          "data": {
            "text/plain": [
              "array([[[0.01176471, 0.05098039, 0.05882353],\n",
              "        [0.01960784, 0.05882353, 0.06666667],\n",
              "        [0.03137255, 0.07058824, 0.07843137],\n",
              "        ...,\n",
              "        [0.38039216, 0.6       , 0.78431373],\n",
              "        [0.36862745, 0.58823529, 0.77254902],\n",
              "        [0.30980392, 0.52941176, 0.71372549]],\n",
              "\n",
              "       [[0.01568627, 0.05490196, 0.0627451 ],\n",
              "        [0.02352941, 0.0627451 , 0.07058824],\n",
              "        [0.03137255, 0.06666667, 0.08627451],\n",
              "        ...,\n",
              "        [0.39607843, 0.61568627, 0.8       ],\n",
              "        [0.38431373, 0.60392157, 0.78823529],\n",
              "        [0.33333333, 0.55294118, 0.7372549 ]],\n",
              "\n",
              "       [[0.00392157, 0.04313725, 0.05098039],\n",
              "        [0.00784314, 0.04705882, 0.05490196],\n",
              "        [0.01568627, 0.05098039, 0.07058824],\n",
              "        ...,\n",
              "        [0.40392157, 0.62352941, 0.80784314],\n",
              "        [0.40784314, 0.62745098, 0.81176471],\n",
              "        [0.37254902, 0.59215686, 0.77647059]],\n",
              "\n",
              "       ...,\n",
              "\n",
              "       [[0.22352941, 0.29411765, 0.23921569],\n",
              "        [0.23137255, 0.30196078, 0.25490196],\n",
              "        [0.24705882, 0.31764706, 0.27058824],\n",
              "        ...,\n",
              "        [0.39607843, 0.56862745, 0.74509804],\n",
              "        [0.4       , 0.57254902, 0.74901961],\n",
              "        [0.40392157, 0.57647059, 0.75294118]],\n",
              "\n",
              "       [[0.20784314, 0.28627451, 0.23921569],\n",
              "        [0.21176471, 0.28235294, 0.23529412],\n",
              "        [0.21176471, 0.28235294, 0.23529412],\n",
              "        ...,\n",
              "        [0.38431373, 0.56862745, 0.74117647],\n",
              "        [0.38823529, 0.57254902, 0.74509804],\n",
              "        [0.39215686, 0.57647059, 0.74901961]],\n",
              "\n",
              "       [[0.2       , 0.27843137, 0.23137255],\n",
              "        [0.18039216, 0.25882353, 0.21568627],\n",
              "        [0.16862745, 0.24705882, 0.20392157],\n",
              "        ...,\n",
              "        [0.38039216, 0.56470588, 0.7372549 ],\n",
              "        [0.38431373, 0.56862745, 0.74117647],\n",
              "        [0.38823529, 0.57254902, 0.74509804]]])"
            ]
          },
          "metadata": {},
          "execution_count": 13
        }
      ]
    },
    {
      "cell_type": "code",
      "source": [],
      "metadata": {
        "id": "EtrIY_G6_fQh"
      },
      "execution_count": 13,
      "outputs": []
    }
  ]
}