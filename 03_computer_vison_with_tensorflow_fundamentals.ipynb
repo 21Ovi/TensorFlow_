{
  "nbformat": 4,
  "nbformat_minor": 0,
  "metadata": {
    "colab": {
      "provenance": [],
      "toc_visible": true,
      "authorship_tag": "ABX9TyPDdlLCHSFjGm+NQnsJcnSN",
      "include_colab_link": true
    },
    "kernelspec": {
      "name": "python3",
      "display_name": "Python 3"
    },
    "language_info": {
      "name": "python"
    },
    "accelerator": "GPU",
    "gpuClass": "standard"
  },
  "cells": [
    {
      "cell_type": "markdown",
      "metadata": {
        "id": "view-in-github",
        "colab_type": "text"
      },
      "source": [
        "<a href=\"https://colab.research.google.com/github/21Ovi/TensorFlow_/blob/main/03_computer_vison_with_tensorflow_fundamentals.ipynb\" target=\"_parent\"><img src=\"https://colab.research.google.com/assets/colab-badge.svg\" alt=\"Open In Colab\"/></a>"
      ]
    },
    {
      "cell_type": "markdown",
      "source": [
        "# Introduction to Convolutional Neural Networks and Computer Vision with TensorFlow\n",
        "\n",
        "Computer vision is the practice of writing algorithm which can discover patterns in visual data. Such as the camera of a self-driving car recognizing the car in front."
      ],
      "metadata": {
        "id": "1LctCLnIm6MK"
      }
    },
    {
      "cell_type": "markdown",
      "source": [
        "## Get the data\n",
        "\n",
        "The images we're working with are from the Food101 dataset (101 different classes of food):https://www.kaggle.com/datasets/dansbecker/food-101\n",
        "\n",
        "However we've modified it to only use 2 classes (pizza🍕 & steak🥩) using the image data modification notebook\n",
        "\n",
        "> **Note:** We start with with a smaller dataset so we can experiment quickly and figure what works(or better yet what does'nt work)"
      ],
      "metadata": {
        "id": "tfYs9GuYnev1"
      }
    },
    {
      "cell_type": "code",
      "source": [
        "import zipfile\n",
        "\n",
        "!wget https://storage.googleapis.com/ztm_tf_course/food_vision/pizza_steak.zip\n",
        "\n",
        "# Unzip the downloaded file\n",
        "zip_ref = zipfile.ZipFile(\"pizza_steak.zip\")\n",
        "zip_ref.extractall()\n",
        "zip_ref.close()"
      ],
      "metadata": {
        "colab": {
          "base_uri": "https://localhost:8080/"
        },
        "id": "obcfhftroxyi",
        "outputId": "d7dec962-86ce-47ea-ab67-b768a78908e5"
      },
      "execution_count": 50,
      "outputs": [
        {
          "output_type": "stream",
          "name": "stdout",
          "text": [
            "--2023-01-18 03:24:20--  https://storage.googleapis.com/ztm_tf_course/food_vision/pizza_steak.zip\n",
            "Resolving storage.googleapis.com (storage.googleapis.com)... 142.251.10.128, 142.251.12.128, 172.217.194.128, ...\n",
            "Connecting to storage.googleapis.com (storage.googleapis.com)|142.251.10.128|:443... connected.\n",
            "HTTP request sent, awaiting response... 200 OK\n",
            "Length: 109540975 (104M) [application/zip]\n",
            "Saving to: ‘pizza_steak.zip.1’\n",
            "\n",
            "pizza_steak.zip.1   100%[===================>] 104.47M  23.8MB/s    in 5.5s    \n",
            "\n",
            "2023-01-18 03:24:26 (19.1 MB/s) - ‘pizza_steak.zip.1’ saved [109540975/109540975]\n",
            "\n"
          ]
        }
      ]
    },
    {
      "cell_type": "markdown",
      "source": [
        "## Inspect the data (become one with it)\n",
        "\n",
        "A very crutual step at the beginning og any machine learning project project is becomming one with the datqa\n",
        "\n",
        "And for computer vision project... this usually means visualizing many samples of your data"
      ],
      "metadata": {
        "id": "zzgFU2HapuiO"
      }
    },
    {
      "cell_type": "code",
      "source": [
        "!ls pizza_steak"
      ],
      "metadata": {
        "colab": {
          "base_uri": "https://localhost:8080/"
        },
        "id": "wAtQ7mZwkaXK",
        "outputId": "9dce1164-d9ea-4617-aa56-ea0e8cc05154"
      },
      "execution_count": 51,
      "outputs": [
        {
          "output_type": "stream",
          "name": "stdout",
          "text": [
            "test  train\n"
          ]
        }
      ]
    },
    {
      "cell_type": "code",
      "source": [
        "!ls pizza_steak/train/"
      ],
      "metadata": {
        "colab": {
          "base_uri": "https://localhost:8080/"
        },
        "id": "RabP_R6dkebR",
        "outputId": "fe81d6de-f2eb-41d2-fe67-12bba2124953"
      },
      "execution_count": 52,
      "outputs": [
        {
          "output_type": "stream",
          "name": "stdout",
          "text": [
            "pizza  steak\n"
          ]
        }
      ]
    },
    {
      "cell_type": "code",
      "source": [
        "!ls pizza_steak/train/pizza"
      ],
      "metadata": {
        "colab": {
          "base_uri": "https://localhost:8080/"
        },
        "id": "E6lvBgcykhoO",
        "outputId": "7ac2f64f-9741-45d1-9cab-fb8721fb66ea"
      },
      "execution_count": 53,
      "outputs": [
        {
          "output_type": "stream",
          "name": "stdout",
          "text": [
            "1008104.jpg  1638227.jpg  2235981.jpg  2774899.jpg  3464027.jpg  576236.jpg\n",
            "1008144.jpg  1646974.jpg  2236914.jpg  2775763.jpg  3464858.jpg  5764.jpg\n",
            "1008844.jpg  1649108.jpg  2241448.jpg  2778214.jpg  3473991.jpg  579691.jpg\n",
            "1008941.jpg  1649276.jpg  2247711.jpg  277963.jpg   3475936.jpg  593400.jpg\n",
            "1011404.jpg  1652943.jpg  2253670.jpg  2785084.jpg  3478964.jpg  59445.jpg\n",
            "102037.jpg   1654444.jpg  2255361.jpg  2793535.jpg  3479875.jpg  596494.jpg\n",
            "1026922.jpg  1660415.jpg  2274117.jpg  27963.jpg    3479936.jpg  598381.jpg\n",
            "1029698.jpg  1663749.jpg  2279642.jpg  2800325.jpg  3484590.jpg  604977.jpg\n",
            "1033251.jpg  1665654.jpg  2280345.jpg  2811032.jpg  3493457.jpg  608085.jpg\n",
            "1035854.jpg  166823.jpg   2285269.jpg  282013.jpg   349946.jpg\t 618021.jpg\n",
            "1038357.jpg  1670471.jpg  2285942.jpg  2821034.jpg  350358.jpg\t 61822.jpg\n",
            "1040878.jpg  1671531.jpg  228778.jpg   2821048.jpg  3505182.jpg  618348.jpg\n",
            "1044524.jpg  1678284.jpg  2291093.jpg  2827938.jpg  3512070.jpg  625687.jpg\n",
            "1044789.jpg  1681043.jpg  2292986.jpg  2831983.jpg  3514408.jpg  626170.jpg\n",
            "1047561.jpg  1686908.jpg  2293453.jpg  2844278.jpg  352051.jpg\t 626902.jpg\n",
            "1048649.jpg  1687681.jpg  2301105.jpg  2849924.jpg  3530210.jpg  63480.jpg\n",
            "1054420.jpg  168879.jpg   2304021.jpg  2852301.jpg  3536393.jpg  647215.jpg\n",
            "1055065.jpg  1688838.jpg  2312987.jpg  2855844.jpg  3546278.jpg  652004.jpg\n",
            "105910.jpg   169318.jpg   23199.jpg    287000.jpg   3549765.jpg  656817.jpg\n",
            "1065078.jpg  169720.jpg   2321465.jpg  2877565.jpg  3550805.jpg  662526.jpg\n",
            "1069629.jpg  1705747.jpg  232976.jpg   2881282.jpg  3554287.jpg  663285.jpg\n",
            "1075568.jpg  1705773.jpg  2330965.jpg  2885050.jpg  3555299.jpg  665900.jpg\n",
            "1076699.jpg  1708197.jpg  233143.jpg   2885796.jpg  3557127.jpg  667309.jpg\n",
            "1083380.jpg  1717790.jpg  2331467.jpg  2902766.jpg  3574192.jpg  668944.jpg\n",
            "1084888.jpg  1742542.jpg  2361973.jpg  2916034.jpg  358178.jpg\t 670201.jpg\n",
            "1088332.jpg  1743389.jpg  2365046.jpg  2922019.jpg  3589437.jpg  674188.jpg\n",
            "1089334.jpg  175626.jpg   2382016.jpg  2924941.jpg  3595758.jpg  676432.jpg\n",
            "1097980.jpg  1757288.jpg  238843.jpg   2933332.jpg  3597955.jpg  682201.jpg\n",
            "1098197.jpg  1761451.jpg  2397868.jpg  29417.jpg    3614525.jpg  68684.jpg\n",
            "1105700.jpg  1763205.jpg  2410138.jpg  2951831.jpg  3628930.jpg  698251.jpg\n",
            "1107714.jpg  1774438.jpg  2412237.jpg  2952219.jpg  3629996.jpg  702165.jpg\n",
            "111051.jpg   1778167.jpg  2412970.jpg  2959665.jpg  3644733.jpg  704161.jpg\n",
            "1110966.jpg  1786840.jpg  2421445.jpg  2965.jpg     3653528.jpg  709273.jpg\n",
            "1123386.jpg  179165.jpg   2426686.jpg  2967846.jpg  3653643.jpg  709947.jpg\n",
            "1137400.jpg  1795316.jpg  2428085.jpg  2980131.jpg  3660716.jpg  712149.jpg\n",
            "1138936.jpg  1806491.jpg  242813.jpg   2989328.jpg  3663580.jpg  714991.jpg\n",
            "1143057.jpg  1810844.jpg  2432061.jpg  2990023.jpg  3675128.jpg  715169.jpg\n",
            "1157438.jpg  1818014.jpg  2439992.jpg  2990186.jpg  3678290.jpg  717350.jpg\n",
            "1159797.jpg  1828050.jpg  2441328.jpg  2992084.jpg  368644.jpg\t 721383.jpg\n",
            "1165451.jpg  1836888.jpg  2443498.jpg  299535.jpg   369017.jpg\t 724445.jpg\n",
            "1173913.jpg  1839077.jpg  244505.jpg   2995731.jpg  3693710.jpg  72716.jpg\n",
            "1183278.jpg  1870865.jpg  2448844.jpg  2999507.jpg  3699992.jpg  739735.jpg\n",
            "1202925.jpg  1871498.jpg  2451169.jpg  3000535.jpg  3702863.jpg  740385.jpg\n",
            "1205154.jpg  1877103.jpg  2456207.jpg  300869.jpg   3703769.jpg  741491.jpg\n",
            "1207213.jpg  1878005.jpg  2462190.jpg  3018077.jpg  3704879.jpg  741883.jpg\n",
            "1209973.jpg  1881674.jpg  2467990.jpg  3020376.jpg  3705479.jpg  755968.jpg\n",
            "121834.jpg   1888911.jpg  2468499.jpg  3023774.jpg  370643.jpg\t 759025.jpg\n",
            "12301.jpg    1890444.jpg  2470671.jpg  302591.jpg   3712344.jpg  759873.jpg\n",
            "1234172.jpg  1895479.jpg  2471646.jpg  3039549.jpg  3713343.jpg  762788.jpg\n",
            "1243215.jpg  1897129.jpg  2473559.jpg  3042454.jpg  372275.jpg\t 764429.jpg\n",
            "1245628.jpg  1898723.jpg  2476468.jpg  3055697.jpg  3742272.jpg  765000.jpg\n",
            "1247645.jpg  1899562.jpg  2481333.jpg  3057192.jpg  3745884.jpg  765799.jpg\n",
            "1248346.jpg  1899785.jpg  248252.jpg   3063955.jpg  3749515.jpg  768276.jpg\n",
            "1248478.jpg  1900585.jpg  2486277.jpg  3066951.jpg  375401.jpg\t 771878.jpg\n",
            "1260554.jpg  1906287.jpg  2487039.jpg  307677.jpg   3763593.jpg  774142.jpg\n",
            "1267359.jpg  1907713.jpg  2490163.jpg  3082068.jpg  376417.jpg\t 77677.jpg\n",
            "1269960.jpg  1912976.jpg  2491110.jpg  3082443.jpg  3766053.jpg  786995.jpg\n",
            "1270986.jpg  1914969.jpg  2492287.jpg  3084957.jpg  3766476.jpg  790432.jpg\n",
            "12718.jpg    1915343.jpg  2493954.jpg  3102271.jpg  3767723.jpg  790841.jpg\n",
            "1284978.jpg  1916846.jpg  2501636.jpg  3105724.jpg  3767773.jpg  792093.jpg\n",
            "1285298.jpg  1934355.jpg  2501961.jpg  3109486.jpg  3772054.jpg  799874.jpg\n",
            "1287004.jpg  1944600.jpg  2502234.jpg  312479.jpg   3778801.jpg  803243.jpg\n",
            "1289139.jpg  1947572.jpg  2508157.jpg  3128495.jpg  3790235.jpg  807128.jpg\n",
            "129536.jpg   1950499.jpg  2511911.jpg  3148119.jpg  3793314.jpg  809024.jpg\n",
            "1312761.jpg  1951130.jpg  2516510.jpg  3164761.jpg  3798959.jpg  812349.jpg\n",
            "131561.jpg   1958364.jpg  2519291.jpg  3168266.jpg  3803596.jpg  816577.jpg\n",
            "132484.jpg   1964051.jpg  2529205.jpg  3170114.jpg  3821701.jpg  816729.jpg\n",
            "132554.jpg   1968947.jpg  253127.jpg   3173779.jpg  3822139.jpg  819547.jpg\n",
            "1325918.jpg  1973447.jpg  2534774.jpg  317861.jpg   3826377.jpg  823104.jpg\n",
            "1326065.jpg  1980167.jpg  2556273.jpg  3185774.jpg  382829.jpg\t 82578.jpg\n",
            "1327402.jpg  1981348.jpg  2557340.jpg  3191035.jpg  3830773.jpg  82772.jpg\n",
            "1336882.jpg  1984976.jpg  2560539.jpg  3193599.jpg  38349.jpg\t 829229.jpg\n",
            "134462.jpg   1987634.jpg  2569760.jpg  3196721.jpg  384215.jpg\t 83538.jpg\n",
            "1344966.jpg  1988629.jpg  2570329.jpg  32004.jpg    3845083.jpg  835833.jpg\n",
            "1351146.jpg  199019.jpg   2572958.jpg  320570.jpg   3860002.jpg  839461.jpg\n",
            "1351631.jpg  1998483.jpg  2574896.jpg  3207504.jpg  3862243.jpg  853441.jpg\n",
            "1370319.jpg  2005870.jpg  2576168.jpg  3214153.jpg  3864383.jpg  857888.jpg\n",
            "1383291.jpg  2010437.jpg  2577373.jpg  3256974.jpg  3871666.jpg  861771.jpg\n",
            "1384464.jpg  2014717.jpg  2577377.jpg  3264148.jpg  3873326.jpg  866834.jpg\n",
            "138855.jpg   2019441.jpg  2581276.jpg  32666.jpg    387697.jpg\t 868789.jpg\n",
            "1390308.jpg  2019583.jpg  2584745.jpg  326809.jpg   3882444.jpg  869763.jpg\n",
            "13983.jpg    2021516.jpg  2587918.jpg  3269634.jpg  3906901.jpg  872094.jpg\n",
            "1399531.jpg  2026009.jpg  2587921.jpg  327415.jpg   3910117.jpg  874288.jpg\n",
            "140031.jpg   2032236.jpg  259449.jpg   3281494.jpg  3913912.jpg  875262.jpg\n",
            "1403878.jpg  2035248.jpg  2602611.jpg  329302.jpg   3917951.jpg  875856.jpg\n",
            "1407753.jpg  203831.jpg   2605343.jpg  3297714.jpg  393658.jpg\t 877881.jpg\n",
            "1412034.jpg  2044732.jpg  2606727.jpg  3312584.jpg  394049.jpg\t 878377.jpg\n",
            "1413289.jpg  2077999.jpg  262133.jpg   3314176.jpg  394590.jpg\t 884986.jpg\n",
            "141507.jpg   2078141.jpg  2621534.jpg  3314535.jpg  395034.jpg\t 886505.jpg\n",
            "1423515.jpg  2078208.jpg  2622336.jpg  332231.jpg   395960.jpg\t 8917.jpg\n",
            "1425089.jpg  2091857.jpg  2639094.jpg  3324050.jpg  398565.jpg\t 893644.jpg\n",
            "1426781.jpg  2097315.jpg  2640502.jpg  3326344.jpg  401701.jpg\t 896448.jpg\n",
            "143453.jpg   2098014.jpg  2664219.jpg  3333459.jpg  401979.jpg\t 898119.jpg\n",
            "1454995.jpg  2104569.jpg  2666066.jpg  3337370.jpg  40231.jpg\t 898303.jpg\n",
            "1468795.jpg  2110257.jpg  2667244.jpg  3338774.jpg  403431.jpg\t 898843.jpg\n",
            "147785.jpg   2112757.jpg  2667255.jpg  333985.jpg   413710.jpg\t 89892.jpg\n",
            "1499661.jpg  2121603.jpg  2667824.jpg  3342039.jpg  413789.jpg\t 899818.jpg\n",
            "1504421.jpg  2126352.jpg  2670730.jpg  3366256.jpg  419516.jpg\t 899959.jpg\n",
            "1504719.jpg  2126709.jpg  2671508.jpg  3367113.jpg  422261.jpg\t 904938.jpg\n",
            "1507039.jpg  2135635.jpg  2674351.jpg  337272.jpg   424288.jpg\t 910419.jpg\n",
            "1512514.jpg  2137341.jpg  2687575.jpg  3376519.jpg  430118.jpg\t 917774.jpg\n",
            "1524599.jpg  2142812.jpg  2693334.jpg  3379038.jpg  44449.jpg\t 918506.jpg\n",
            "1524655.jpg  214728.jpg   269396.jpg   3382880.jpg  448519.jpg\t 920219.jpg\n",
            "1535273.jpg  2148129.jpg  2694223.jpg  3383977.jpg  452989.jpg\t 920595.jpg\n",
            "1544197.jpg  2154394.jpg  2697971.jpg  3384856.jpg  464388.jpg\t 926046.jpg\n",
            "1552253.jpg  2155475.jpg  2700543.jpg  338838.jpg   465454.jpg\t 928663.jpg\n",
            "1553353.jpg  2155735.jpg  2702825.jpg  3391208.jpg  467986.jpg\t 928670.jpg\n",
            "1571074.jpg  2161241.jpg  2705497.jpg  3392649.jpg  474493.jpg\t 929067.jpg\n",
            "1572608.jpg  2164255.jpg  2707814.jpg  3392671.jpg  489347.jpg\t 937915.jpg\n",
            "1573562.jpg  216720.jpg   2711828.jpg  3393898.jpg  489532.jpg\t 938821.jpg\n",
            "1576248.jpg  2172850.jpg  271592.jpg   3397336.jpg  495892.jpg\t 93961.jpg\n",
            "1577871.jpg  218142.jpg   271675.jpg   3398309.jpg  513754.jpg\t 947246.jpg\n",
            "1584379.jpg  218711.jpg   271779.jpg   3399610.jpg  514014.jpg\t 951953.jpg\n",
            "1593665.jpg  2187466.jpg  2722646.jpg  3401720.jpg  517902.jpg\t 959901.jpg\n",
            "1593835.jpg  2188452.jpg  2723529.jpg  3401767.jpg  518527.jpg\t 962785.jpg\n",
            "1600705.jpg  2190018.jpg  2739039.jpg  340814.jpg   527199.jpg\t 966644.jpg\n",
            "1608000.jpg  220190.jpg   2739100.jpg  3425999.jpg  52934.jpg\t 967694.jpg\n",
            "1617418.jpg  220910.jpg   2742044.jpg  3426946.jpg  532970.jpg\t 970073.jpg\n",
            "1620560.jpg  221048.jpg   274945.jpg   3427699.jpg  543556.jpg\t 972000.jpg\n",
            "1620761.jpg  2215531.jpg  2754150.jpg  3434372.jpg  54461.jpg\t 976382.jpg\n",
            "1625147.jpg  2217956.jpg  2755875.jpg  3441394.jpg  54540.jpg\t 979955.jpg\n",
            "163039.jpg   2224099.jpg  2757327.jpg  3443136.jpg  545561.jpg\t 979998.jpg\n",
            "1633289.jpg  2224828.jpg  2760984.jpg  3456440.jpg  56449.jpg\t 985164.jpg\n",
            "1635386.jpg  2228322.jpg  276803.jpg   3462250.jpg  568383.jpg\t 98617.jpg\n",
            "1636299.jpg  2231356.jpg  2769168.jpg  34632.jpg    568995.jpg\t 998719.jpg\n"
          ]
        }
      ]
    },
    {
      "cell_type": "code",
      "source": [
        "import os\n",
        "\n",
        "# Walk through pizza_steak directory and list number of files\n",
        "for dirpath, dirnames, filenames in os.walk(\"pizza_steak\"):\n",
        "  print(f\"There are {len(dirnames)} directories and {len(filenames)} names in '{dirpath}'.\")"
      ],
      "metadata": {
        "colab": {
          "base_uri": "https://localhost:8080/"
        },
        "id": "r0TXeHB8kl61",
        "outputId": "6b4d6c51-f6ec-4755-f47c-7fceb86b88d0"
      },
      "execution_count": 54,
      "outputs": [
        {
          "output_type": "stream",
          "name": "stdout",
          "text": [
            "There are 2 directories and 0 names in 'pizza_steak'.\n",
            "There are 2 directories and 0 names in 'pizza_steak/test'.\n",
            "There are 0 directories and 250 names in 'pizza_steak/test/pizza'.\n",
            "There are 0 directories and 250 names in 'pizza_steak/test/steak'.\n",
            "There are 2 directories and 0 names in 'pizza_steak/train'.\n",
            "There are 0 directories and 750 names in 'pizza_steak/train/pizza'.\n",
            "There are 0 directories and 750 names in 'pizza_steak/train/steak'.\n"
          ]
        }
      ]
    },
    {
      "cell_type": "code",
      "source": [
        "!ls -la pizza_steak"
      ],
      "metadata": {
        "colab": {
          "base_uri": "https://localhost:8080/"
        },
        "id": "8YMtBRXLlPDW",
        "outputId": "56782cd5-c574-405c-a98c-36560a57031b"
      },
      "execution_count": 55,
      "outputs": [
        {
          "output_type": "stream",
          "name": "stdout",
          "text": [
            "total 16\n",
            "drwxr-xr-x 4 root root 4096 Jan 18 03:12 .\n",
            "drwxr-xr-x 1 root root 4096 Jan 18 03:24 ..\n",
            "drwxr-xr-x 4 root root 4096 Jan 18 03:12 test\n",
            "drwxr-xr-x 4 root root 4096 Jan 18 03:12 train\n"
          ]
        }
      ]
    },
    {
      "cell_type": "code",
      "source": [
        "# Another way to find out how many images are there in a file\n",
        "num_steak_images_train = len(os.listdir(\"pizza_steak/train/steak\"))\n",
        "\n",
        "num_steak_images_train"
      ],
      "metadata": {
        "id": "OgNYBXQjlqbx",
        "colab": {
          "base_uri": "https://localhost:8080/"
        },
        "outputId": "06be5409-ebf4-4cde-e38a-a587d1264d01"
      },
      "execution_count": 56,
      "outputs": [
        {
          "output_type": "execute_result",
          "data": {
            "text/plain": [
              "750"
            ]
          },
          "metadata": {},
          "execution_count": 56
        }
      ]
    },
    {
      "cell_type": "markdown",
      "source": [
        "To visualize our images, let's first get the class names programmatically"
      ],
      "metadata": {
        "id": "4VX3pY196qD9"
      }
    },
    {
      "cell_type": "code",
      "source": [
        "# get the classnames progammatically\n",
        "import pathlib\n",
        "import numpy as np\n",
        "data_dir = pathlib.Path(\"pizza_steak/train\")\n",
        "class_names = np.array(sorted([item.name for item in data_dir.glob(\"*\")])) # Created a list of class_names from the subdirectories\n",
        "print(class_names)"
      ],
      "metadata": {
        "colab": {
          "base_uri": "https://localhost:8080/"
        },
        "id": "wAE6__7n6oEQ",
        "outputId": "3bbb592c-ee18-4060-d76b-1b2ce7ece0e0"
      },
      "execution_count": 57,
      "outputs": [
        {
          "output_type": "stream",
          "name": "stdout",
          "text": [
            "['pizza' 'steak']\n"
          ]
        }
      ]
    },
    {
      "cell_type": "code",
      "source": [
        "# Let's visualize our images\n",
        "import matplotlib.pyplot as plt\n",
        "import matplotlib.image as mpimg\n",
        "import random\n",
        "\n",
        "def view_random_image(target_dir, target_class):\n",
        "  # Setup the target directory (\"we'll view images from here\")\n",
        "  target_folder = target_dir+target_class\n",
        "\n",
        "  # Get a random image path\n",
        "  random_image = random.sample(os.listdir(target_folder), 1)\n",
        "  print(random_image)\n",
        "\n",
        "  # Read in the image and plot it using matplotlib\n",
        "  img = mpimg.imread(target_folder + \"/\" + random_image[0])\n",
        "  plt.imshow(img)\n",
        "  plt.title(target_class)\n",
        "  plt.axis(\"off\")\n",
        "\n",
        "  print(f\"Image shape : {img.shape}\") # Show the shape of the image\n",
        "\n",
        "  return img"
      ],
      "metadata": {
        "id": "CxbYjn3s7PjG"
      },
      "execution_count": 58,
      "outputs": []
    },
    {
      "cell_type": "code",
      "source": [
        "# View a random image from the training dataset\n",
        "img = view_random_image(target_dir=\"pizza_steak/train/\",\n",
        "                        target_class=\"pizza\")"
      ],
      "metadata": {
        "colab": {
          "base_uri": "https://localhost:8080/",
          "height": 299
        },
        "id": "wodgpfsX8huj",
        "outputId": "d3b8f257-ded1-4254-b732-4229f685ee38"
      },
      "execution_count": 59,
      "outputs": [
        {
          "output_type": "stream",
          "name": "stdout",
          "text": [
            "['424288.jpg']\n",
            "Image shape : (512, 512, 3)\n"
          ]
        },
        {
          "output_type": "display_data",
          "data": {
            "text/plain": [
              "<Figure size 432x288 with 1 Axes>"
            ],
            "image/png": "[encoded data removed]"
          },
          "metadata": {
            "needs_background": "light"
          }
        }
      ]
    },
    {
      "cell_type": "code",
      "source": [
        "# The images we've imported and plotted are actually gaint arrays/tensors of different pixel values\n",
        "import tensorflow as tf\n",
        "tf.constant(img)"
      ],
      "metadata": {
        "colab": {
          "base_uri": "https://localhost:8080/"
        },
        "id": "xJjNjBen8tv5",
        "outputId": "1f88b548-29bf-41d8-e616-0627ae387f19"
      },
      "execution_count": 60,
      "outputs": [
        {
          "output_type": "execute_result",
          "data": {
            "text/plain": [
              "<tf.Tensor: shape=(512, 512, 3), dtype=uint8, numpy=\n",
              "array([[[ 43,  40,  21],\n",
              "        [ 44,  41,  22],\n",
              "        [ 44,  41,  22],\n",
              "        ...,\n",
              "        [112, 102, 110],\n",
              "        [117, 107, 115],\n",
              "        [107,  97, 105]],\n",
              "\n",
              "       [[ 42,  39,  20],\n",
              "        [ 43,  40,  21],\n",
              "        [ 44,  41,  22],\n",
              "        ...,\n",
              "        [108,  98, 106],\n",
              "        [113, 103, 111],\n",
              "        [106,  96, 104]],\n",
              "\n",
              "       [[ 42,  39,  22],\n",
              "        [ 42,  39,  22],\n",
              "        [ 44,  41,  24],\n",
              "        ...,\n",
              "        [108,  98, 106],\n",
              "        [114, 104, 112],\n",
              "        [113, 103, 111]],\n",
              "\n",
              "       ...,\n",
              "\n",
              "       [[ 67,  36,  15],\n",
              "        [ 61,  30,   9],\n",
              "        [ 62,  30,   9],\n",
              "        ...,\n",
              "        [ 61,  26,   7],\n",
              "        [ 64,  29,  10],\n",
              "        [ 64,  29,  10]],\n",
              "\n",
              "       [[ 64,  36,  14],\n",
              "        [ 65,  34,  13],\n",
              "        [ 66,  35,  14],\n",
              "        ...,\n",
              "        [ 62,  29,  10],\n",
              "        [ 64,  31,  12],\n",
              "        [ 61,  28,   9]],\n",
              "\n",
              "       [[ 60,  32,  10],\n",
              "        [ 65,  37,  15],\n",
              "        [ 70,  39,  18],\n",
              "        ...,\n",
              "        [ 65,  32,  13],\n",
              "        [ 64,  31,  12],\n",
              "        [ 58,  25,   6]]], dtype=uint8)>"
            ]
          },
          "metadata": {},
          "execution_count": 60
        }
      ]
    },
    {
      "cell_type": "code",
      "source": [
        "# View the image shape\n",
        "img.shape # returns width, height, colour channels"
      ],
      "metadata": {
        "colab": {
          "base_uri": "https://localhost:8080/"
        },
        "id": "_BlQRYKh9Yhc",
        "outputId": "c8c06b95-17e9-41e6-e9a5-a377c1e5397c"
      },
      "execution_count": 61,
      "outputs": [
        {
          "output_type": "execute_result",
          "data": {
            "text/plain": [
              "(512, 512, 3)"
            ]
          },
          "metadata": {},
          "execution_count": 61
        }
      ]
    },
    {
      "cell_type": "markdown",
      "source": [
        "🔑**Note:** As we've disscussed before, many machine learning models, including neural networks prefer the values they work with to be between 0 and 1. Knowing this, one of the most common preprocessing steps for working with images is to scale (also referred to as normalized) their pixel values by dividing the image arrays by 255. (since 255 is the maximum pixel valye)>"
      ],
      "metadata": {
        "id": "AF607Yagj4Ia"
      }
    },
    {
      "cell_type": "code",
      "source": [
        "# Get all the pixel values between 0 & 1\n",
        "img/255."
      ],
      "metadata": {
        "colab": {
          "base_uri": "https://localhost:8080/"
        },
        "id": "ggpyYlDQ-6eY",
        "outputId": "f087830e-085f-4d44-e369-e508753ae80c"
      },
      "execution_count": 62,
      "outputs": [
        {
          "output_type": "execute_result",
          "data": {
            "text/plain": [
              "array([[[0.16862745, 0.15686275, 0.08235294],\n",
              "        [0.17254902, 0.16078431, 0.08627451],\n",
              "        [0.17254902, 0.16078431, 0.08627451],\n",
              "        ...,\n",
              "        [0.43921569, 0.4       , 0.43137255],\n",
              "        [0.45882353, 0.41960784, 0.45098039],\n",
              "        [0.41960784, 0.38039216, 0.41176471]],\n",
              "\n",
              "       [[0.16470588, 0.15294118, 0.07843137],\n",
              "        [0.16862745, 0.15686275, 0.08235294],\n",
              "        [0.17254902, 0.16078431, 0.08627451],\n",
              "        ...,\n",
              "        [0.42352941, 0.38431373, 0.41568627],\n",
              "        [0.44313725, 0.40392157, 0.43529412],\n",
              "        [0.41568627, 0.37647059, 0.40784314]],\n",
              "\n",
              "       [[0.16470588, 0.15294118, 0.08627451],\n",
              "        [0.16470588, 0.15294118, 0.08627451],\n",
              "        [0.17254902, 0.16078431, 0.09411765],\n",
              "        ...,\n",
              "        [0.42352941, 0.38431373, 0.41568627],\n",
              "        [0.44705882, 0.40784314, 0.43921569],\n",
              "        [0.44313725, 0.40392157, 0.43529412]],\n",
              "\n",
              "       ...,\n",
              "\n",
              "       [[0.2627451 , 0.14117647, 0.05882353],\n",
              "        [0.23921569, 0.11764706, 0.03529412],\n",
              "        [0.24313725, 0.11764706, 0.03529412],\n",
              "        ...,\n",
              "        [0.23921569, 0.10196078, 0.02745098],\n",
              "        [0.25098039, 0.11372549, 0.03921569],\n",
              "        [0.25098039, 0.11372549, 0.03921569]],\n",
              "\n",
              "       [[0.25098039, 0.14117647, 0.05490196],\n",
              "        [0.25490196, 0.13333333, 0.05098039],\n",
              "        [0.25882353, 0.1372549 , 0.05490196],\n",
              "        ...,\n",
              "        [0.24313725, 0.11372549, 0.03921569],\n",
              "        [0.25098039, 0.12156863, 0.04705882],\n",
              "        [0.23921569, 0.10980392, 0.03529412]],\n",
              "\n",
              "       [[0.23529412, 0.1254902 , 0.03921569],\n",
              "        [0.25490196, 0.14509804, 0.05882353],\n",
              "        [0.2745098 , 0.15294118, 0.07058824],\n",
              "        ...,\n",
              "        [0.25490196, 0.1254902 , 0.05098039],\n",
              "        [0.25098039, 0.12156863, 0.04705882],\n",
              "        [0.22745098, 0.09803922, 0.02352941]]])"
            ]
          },
          "metadata": {},
          "execution_count": 62
        }
      ]
    },
    {
      "cell_type": "markdown",
      "source": [
        "## An end-to-end example\n",
        "\n",
        "Let's build a Convolutional Neural Network to find patterns in our images, more specifically we need a way to:\n",
        "* Load our images\n",
        "*preprocess our images\n",
        "* Build a CNN to find patterns in our images\n",
        "* Compile our CNN\n",
        "* Fit the CNN to our training data"
      ],
      "metadata": {
        "id": "EtrIY_G6_fQh"
      }
    },
    {
      "cell_type": "code",
      "source": [
        "import tensorflow as tf\n",
        "from tensorflow.keras.preprocessing.image import ImageDataGenerator\n",
        "\n",
        "# Set the seed\n",
        "tf.random.set_seed(42)\n",
        "\n",
        "# Preprocess data (get all of the pixel values between 0 & 1, also called scaling/normalization)\n",
        "train_datagen = ImageDataGenerator(rescale=1./255)\n",
        "valid_datagen = ImageDataGenerator(rescale=1./255)\n",
        "\n",
        "# Setup paths to our data directories\n",
        "train_dir = \"pizza_steak/train/\"\n",
        "test_dir = \"pizza_steak/test/\"\n",
        "\n",
        "# Import data from directories and turn it into batches\n",
        "train_data = train_datagen.flow_from_directory(train_dir,\n",
        "                                               batch_size=32,\n",
        "                                               target_size=(224, 224),\n",
        "                                               class_mode=\"binary\",\n",
        "                                               seed=42)\n",
        "\n",
        "valid_data = valid_datagen.flow_from_directory(test_dir,\n",
        "                                               batch_size=32,\n",
        "                                               target_size=(224, 224),\n",
        "                                               class_mode=\"binary\",\n",
        "                                               seed=42)\n",
        "\n",
        "# Build a CNN model (same as the Tiny VGG on the CNN explainer website)\n",
        "model_1 = tf.keras.models.Sequential([\n",
        "    tf.keras.layers.Conv2D(filters=10,\n",
        "                           kernel_size=3,\n",
        "                           activation=\"relu\",\n",
        "                           input_shape=(224, 224,3)),\n",
        "    tf.keras.layers.Conv2D(10, 3, activation=\"relu\"),\n",
        "    tf.keras.layers.MaxPool2D(pool_size=2, padding=\"valid\"),\n",
        "    tf.keras.layers.Conv2D(10, 3, activation=\"relu\"),\n",
        "    tf.keras.layers.Conv2D(10, 3, activation=\"relu\"),\n",
        "    tf.keras.layers.MaxPool2D(2),\n",
        "    tf.keras.layers.Flatten(),\n",
        "    tf.keras.layers.Dense(1, activation=\"sigmoid\")\n",
        "])\n",
        "\n",
        "# Compile our CNN\n",
        "model_1.compile(loss=\"binary_crossentropy\",\n",
        "                optimizer=tf.keras.optimizers.Adam(),\n",
        "                metrics=[\"accuracy\"])\n",
        "\n",
        "# Fit the model\n",
        "history_1 = model_1.fit(train_data,\n",
        "                        epochs=5,\n",
        "                        steps_per_epoch=len(train_data),\n",
        "                        validation_data=valid_data,\n",
        "                        validation_steps=len(valid_data))"
      ],
      "metadata": {
        "colab": {
          "base_uri": "https://localhost:8080/"
        },
        "id": "POgYfUpIksSW",
        "outputId": "ec8a5b05-818b-4b5a-9478-aa7493e2f9cc"
      },
      "execution_count": 63,
      "outputs": [
        {
          "output_type": "stream",
          "name": "stdout",
          "text": [
            "Found 1500 images belonging to 2 classes.\n",
            "Found 500 images belonging to 2 classes.\n",
            "Epoch 1/5\n",
            "47/47 [==============================] - 10s 204ms/step - loss: 0.6099 - accuracy: 0.6507 - val_loss: 0.4220 - val_accuracy: 0.8320\n",
            "Epoch 2/5\n",
            "47/47 [==============================] - 9s 199ms/step - loss: 0.4355 - accuracy: 0.8093 - val_loss: 0.3390 - val_accuracy: 0.8480\n",
            "Epoch 3/5\n",
            "47/47 [==============================] - 9s 197ms/step - loss: 0.4167 - accuracy: 0.8193 - val_loss: 0.3344 - val_accuracy: 0.8700\n",
            "Epoch 4/5\n",
            "47/47 [==============================] - 9s 195ms/step - loss: 0.3641 - accuracy: 0.8487 - val_loss: 0.4105 - val_accuracy: 0.8140\n",
            "Epoch 5/5\n",
            "47/47 [==============================] - 9s 197ms/step - loss: 0.3413 - accuracy: 0.8593 - val_loss: 0.3109 - val_accuracy: 0.8700\n"
          ]
        }
      ]
    },
    {
      "cell_type": "markdown",
      "source": [
        "> 🔑**Note**: If the cell above takes more than ~12 seconds per epoch to run, you might not be using a GPU accelerator. If you're using a Colab notebook, you can access a GPU accelerator by going to Runtime -> Change Runtime Type -> Hardware Accelerator and select \"GPU\". After doing so, you might have to rerun all of the above cells as changing the runtime type causes Colab to have to reset.\n",
        "\n"
      ],
      "metadata": {
        "id": "FIniZG-5uRyn"
      }
    },
    {
      "cell_type": "code",
      "source": [
        "# Get a model summary\n",
        "model_1.summary()"
      ],
      "metadata": {
        "colab": {
          "base_uri": "https://localhost:8080/"
        },
        "id": "__yqyPQflkQR",
        "outputId": "38ceda0e-aee9-4bec-96b9-273da31954e9"
      },
      "execution_count": 64,
      "outputs": [
        {
          "output_type": "stream",
          "name": "stdout",
          "text": [
            "Model: \"sequential_5\"\n",
            "_________________________________________________________________\n",
            " Layer (type)                Output Shape              Param #   \n",
            "=================================================================\n",
            " conv2d_10 (Conv2D)          (None, 222, 222, 10)      280       \n",
            "                                                                 \n",
            " conv2d_11 (Conv2D)          (None, 220, 220, 10)      910       \n",
            "                                                                 \n",
            " max_pooling2d_5 (MaxPooling  (None, 110, 110, 10)     0         \n",
            " 2D)                                                             \n",
            "                                                                 \n",
            " conv2d_12 (Conv2D)          (None, 108, 108, 10)      910       \n",
            "                                                                 \n",
            " conv2d_13 (Conv2D)          (None, 106, 106, 10)      910       \n",
            "                                                                 \n",
            " max_pooling2d_6 (MaxPooling  (None, 53, 53, 10)       0         \n",
            " 2D)                                                             \n",
            "                                                                 \n",
            " flatten_5 (Flatten)         (None, 28090)             0         \n",
            "                                                                 \n",
            " dense_10 (Dense)            (None, 1)                 28091     \n",
            "                                                                 \n",
            "=================================================================\n",
            "Total params: 31,101\n",
            "Trainable params: 31,101\n",
            "Non-trainable params: 0\n",
            "_________________________________________________________________\n"
          ]
        }
      ]
    },
    {
      "cell_type": "markdown",
      "source": [
        "🛠 Practice: Step through each of the main blocks of code in the cell above, what do you think each is doing? It's okay if you're not sure, we'll go through this soon. In the meantime, spend 10-minutes playing around the incredible [CNN explainer website](https://poloclub.github.io/cnn-explainer/). What do you notice about the layer names at the top of the webpage?"
      ],
      "metadata": {
        "id": "XUJmde6bvOk0"
      }
    },
    {
      "cell_type": "markdown",
      "source": [
        "## Using the same model as before\n",
        "\n",
        "KLet's replicate the model we've built in a previous section to see if it works with our image data\n",
        "\n",
        "The model we're building is from the [TensorFlow Playground](http://playground.tensorflow.org/)"
      ],
      "metadata": {
        "id": "GXzX-JGX_mhZ"
      }
    },
    {
      "cell_type": "code",
      "source": [
        "# Set random seed\n",
        "tf.random.set_seed(42)\n",
        "\n",
        "# Create a model to replicate the TensorFloe Playground model\n",
        "model_2 = tf.keras.Sequential([\n",
        "    tf.keras.layers.Flatten(input_shape=(224, 224, 3)),\n",
        "    tf.keras.layers.Dense(4, activation=\"relu\"),\n",
        "    tf.keras.layers.Dense(4, activation=\"relu\"),\n",
        "    tf.keras.layers.Dense(1, activation=\"sigmoid\")\n",
        "])\n",
        "\n",
        "# Compile the model\n",
        "model_2.compile(loss=\"binary_crossentropy\",\n",
        "                optimizer=tf.keras.optimizers.Adam(),\n",
        "                metrics=[\"accuracy\"])\n",
        "\n",
        "# Fit the model\n",
        "history_2 = model_2.fit(train_data,\n",
        "                        epochs=5,\n",
        "                        steps_per_epoch=len(train_data),\n",
        "                        validation_data=valid_data,\n",
        "                        validation_steps=len(valid_data))"
      ],
      "metadata": {
        "colab": {
          "base_uri": "https://localhost:8080/"
        },
        "id": "70GluNQUAaV4",
        "outputId": "e90a0c28-c44b-4ca3-8988-39274d1437b4"
      },
      "execution_count": 65,
      "outputs": [
        {
          "output_type": "stream",
          "name": "stdout",
          "text": [
            "Epoch 1/5\n",
            "47/47 [==============================] - 9s 189ms/step - loss: 0.7356 - accuracy: 0.4927 - val_loss: 0.6932 - val_accuracy: 0.5000\n",
            "Epoch 2/5\n",
            "47/47 [==============================] - 9s 182ms/step - loss: 0.6966 - accuracy: 0.4993 - val_loss: 0.6932 - val_accuracy: 0.5000\n",
            "Epoch 3/5\n",
            "47/47 [==============================] - 9s 183ms/step - loss: 0.6932 - accuracy: 0.5000 - val_loss: 0.6931 - val_accuracy: 0.5000\n",
            "Epoch 4/5\n",
            "47/47 [==============================] - 9s 185ms/step - loss: 0.6932 - accuracy: 0.5000 - val_loss: 0.6931 - val_accuracy: 0.5000\n",
            "Epoch 5/5\n",
            "47/47 [==============================] - 8s 179ms/step - loss: 0.6932 - accuracy: 0.5000 - val_loss: 0.6931 - val_accuracy: 0.5000\n"
          ]
        }
      ]
    },
    {
      "cell_type": "code",
      "source": [
        "# Get a summary of model_2\n",
        "model_2.summary()"
      ],
      "metadata": {
        "colab": {
          "base_uri": "https://localhost:8080/"
        },
        "id": "-8c-v4QDlouV",
        "outputId": "6ad2495d-709f-4cfd-bf4c-6ec380626b95"
      },
      "execution_count": 66,
      "outputs": [
        {
          "output_type": "stream",
          "name": "stdout",
          "text": [
            "Model: \"sequential_6\"\n",
            "_________________________________________________________________\n",
            " Layer (type)                Output Shape              Param #   \n",
            "=================================================================\n",
            " flatten_6 (Flatten)         (None, 150528)            0         \n",
            "                                                                 \n",
            " dense_11 (Dense)            (None, 4)                 602116    \n",
            "                                                                 \n",
            " dense_12 (Dense)            (None, 4)                 20        \n",
            "                                                                 \n",
            " dense_13 (Dense)            (None, 1)                 5         \n",
            "                                                                 \n",
            "=================================================================\n",
            "Total params: 602,141\n",
            "Trainable params: 602,141\n",
            "Non-trainable params: 0\n",
            "_________________________________________________________________\n"
          ]
        }
      ]
    },
    {
      "cell_type": "markdown",
      "source": [
        "Despite having 20x parameters than our CNN (model_1), model_2 performs teribly... let's try"
      ],
      "metadata": {
        "id": "b0ic69S6nBXL"
      }
    },
    {
      "cell_type": "code",
      "source": [
        "#  Set random seed\n",
        "tf.random.set_seed(42)\n",
        "\n",
        "# Create the model (same as above but let's step it up a notch)\n",
        "model_3 = tf.keras.Sequential([\n",
        "    tf.keras.layers.Flatten(input_shape=(224, 224, 3)),\n",
        "    tf.keras.layers.Dense(100, activation=\"relu\"),\n",
        "    tf.keras.layers.Dense(100, activation=\"relu\"),\n",
        "    tf.keras.layers.Dense(100, activation=\"relu\"),\n",
        "    tf.keras.layers.Dense(1, activation=\"sigmoid\")\n",
        "])\n",
        "\n",
        "# Compile the model\n",
        "model_3.compile(loss=\"binary_crossentropy\",\n",
        "                optimizer=tf.keras.optimizers.Adam(),\n",
        "                metrics=[\"accuracy\"])\n",
        "\n",
        "# Fit the model\n",
        "history = model_3.fit(train_data,\n",
        "                        epochs=5,\n",
        "                        steps_per_epoch=len(train_data),\n",
        "                        validation_data=valid_data,\n",
        "                        validation_steps=len(valid_data))"
      ],
      "metadata": {
        "colab": {
          "base_uri": "https://localhost:8080/"
        },
        "id": "QSbGu2AdltiM",
        "outputId": "9717363e-e37e-4791-8328-db39e062fd00"
      },
      "execution_count": 67,
      "outputs": [
        {
          "output_type": "stream",
          "name": "stdout",
          "text": [
            "Epoch 1/5\n",
            "47/47 [==============================] - 9s 186ms/step - loss: 3.5238 - accuracy: 0.6260 - val_loss: 0.4930 - val_accuracy: 0.7640\n",
            "Epoch 2/5\n",
            "47/47 [==============================] - 9s 183ms/step - loss: 0.9214 - accuracy: 0.6800 - val_loss: 0.5316 - val_accuracy: 0.7460\n",
            "Epoch 3/5\n",
            "47/47 [==============================] - 9s 194ms/step - loss: 0.5717 - accuracy: 0.7433 - val_loss: 0.6062 - val_accuracy: 0.7140\n",
            "Epoch 4/5\n",
            "47/47 [==============================] - 10s 224ms/step - loss: 0.4864 - accuracy: 0.7813 - val_loss: 0.6376 - val_accuracy: 0.6860\n",
            "Epoch 5/5\n",
            "47/47 [==============================] - 9s 184ms/step - loss: 0.4471 - accuracy: 0.7933 - val_loss: 0.7390 - val_accuracy: 0.5880\n"
          ]
        }
      ]
    },
    {
      "cell_type": "code",
      "source": [
        "# Gte a summary of model_3\n",
        "model_3.summary()"
      ],
      "metadata": {
        "colab": {
          "base_uri": "https://localhost:8080/"
        },
        "id": "VhV_fJjToe5M",
        "outputId": "c6ed3f23-22bf-49b9-81a6-df275da59341"
      },
      "execution_count": 68,
      "outputs": [
        {
          "output_type": "stream",
          "name": "stdout",
          "text": [
            "Model: \"sequential_7\"\n",
            "_________________________________________________________________\n",
            " Layer (type)                Output Shape              Param #   \n",
            "=================================================================\n",
            " flatten_7 (Flatten)         (None, 150528)            0         \n",
            "                                                                 \n",
            " dense_14 (Dense)            (None, 100)               15052900  \n",
            "                                                                 \n",
            " dense_15 (Dense)            (None, 100)               10100     \n",
            "                                                                 \n",
            " dense_16 (Dense)            (None, 100)               10100     \n",
            "                                                                 \n",
            " dense_17 (Dense)            (None, 1)                 101       \n",
            "                                                                 \n",
            "=================================================================\n",
            "Total params: 15,073,201\n",
            "Trainable params: 15,073,201\n",
            "Non-trainable params: 0\n",
            "_________________________________________________________________\n"
          ]
        }
      ]
    },
    {
      "cell_type": "markdown",
      "source": [
        "🔑**Note:** You can think of trainable parameters as `patterns a model can learn from data`.Intuitively, you might think more is better. And in lots of cases, it is. But in this case, the difference here is the two different styles of model we're using. Where a possible series of dense layers has a number of different learnable patterns, `a convolutional neurl network seeks to sort out and learn the most important patterns in an image`. So even though these are less learnable parameters in our convolutional neural network, these are often more helpful in deciphering between different `features` in an image."
      ],
      "metadata": {
        "id": "g7VEcE6mu-pG"
      }
    },
    {
      "cell_type": "code",
      "source": [
        "model_1.summary()"
      ],
      "metadata": {
        "colab": {
          "base_uri": "https://localhost:8080/"
        },
        "id": "LC7LB748r9RL",
        "outputId": "15736fbb-cad8-43c0-bc94-0c32f6512227"
      },
      "execution_count": 69,
      "outputs": [
        {
          "output_type": "stream",
          "name": "stdout",
          "text": [
            "Model: \"sequential_5\"\n",
            "_________________________________________________________________\n",
            " Layer (type)                Output Shape              Param #   \n",
            "=================================================================\n",
            " conv2d_10 (Conv2D)          (None, 222, 222, 10)      280       \n",
            "                                                                 \n",
            " conv2d_11 (Conv2D)          (None, 220, 220, 10)      910       \n",
            "                                                                 \n",
            " max_pooling2d_5 (MaxPooling  (None, 110, 110, 10)     0         \n",
            " 2D)                                                             \n",
            "                                                                 \n",
            " conv2d_12 (Conv2D)          (None, 108, 108, 10)      910       \n",
            "                                                                 \n",
            " conv2d_13 (Conv2D)          (None, 106, 106, 10)      910       \n",
            "                                                                 \n",
            " max_pooling2d_6 (MaxPooling  (None, 53, 53, 10)       0         \n",
            " 2D)                                                             \n",
            "                                                                 \n",
            " flatten_5 (Flatten)         (None, 28090)             0         \n",
            "                                                                 \n",
            " dense_10 (Dense)            (None, 1)                 28091     \n",
            "                                                                 \n",
            "=================================================================\n",
            "Total params: 31,101\n",
            "Trainable params: 31,101\n",
            "Non-trainable params: 0\n",
            "_________________________________________________________________\n"
          ]
        }
      ]
    },
    {
      "cell_type": "markdown",
      "source": [
        "## Binary Classification: let's break it down\n",
        "\n",
        "1. Become one with the data (visualize, visualize, visualize)\n",
        "2. Preprocess the data (prepared it for our model, the main steps here was scaling/normalizing & turn our data into batch size)\n",
        "3. Create a model (start with a baseline)\n",
        "4. Fit the model\n",
        "5. Evaluate the model\n",
        "6. Adjust different parameters and improve the model (try to beat our baseline)\n",
        "7. Repeat until satisfied (experiment, experiment, experiment)"
      ],
      "metadata": {
        "id": "gIDO1SPowcPz"
      }
    },
    {
      "cell_type": "markdown",
      "source": [
        "### 1. Become one with the data"
      ],
      "metadata": {
        "id": "LouoqR38xb0h"
      }
    },
    {
      "cell_type": "code",
      "source": [
        "# Visualize data\n",
        "plt.figure()\n",
        "plt.subplot(1, 2, 1)\n",
        "steak_img = view_random_image(\"pizza_steak/train/\", \"steak\")\n",
        "plt.subplot(1, 2, 2)\n",
        "pizza_img = view_random_image(\"pizza_steak/train/\", \"pizza\")"
      ],
      "metadata": {
        "colab": {
          "base_uri": "https://localhost:8080/",
          "height": 267
        },
        "id": "wYq5ethdw0_o",
        "outputId": "edc7a43a-9d7b-4fe2-e783-496eb72d68aa"
      },
      "execution_count": 70,
      "outputs": [
        {
          "output_type": "stream",
          "name": "stdout",
          "text": [
            "['101312.jpg']\n",
            "Image shape : (343, 512, 3)\n",
            "['452989.jpg']\n",
            "Image shape : (509, 512, 3)\n"
          ]
        },
        {
          "output_type": "display_data",
          "data": {
            "text/plain": [
              "<Figure size 432x288 with 2 Axes>"
            ],
            "image/png": "[encoded data removed]"
          },
          "metadata": {
            "needs_background": "light"
          }
        }
      ]
    },
    {
      "cell_type": "markdown",
      "source": [
        "### 2. Preprocess the data (prepared it for our model)"
      ],
      "metadata": {
        "id": "YtFj5jOjLC0H"
      }
    },
    {
      "cell_type": "code",
      "source": [
        "# Define directory dataset paths\n",
        "train_dir = \"pizza_steak/train/\"\n",
        "testdir = \"pizza_steak/test/\""
      ],
      "metadata": {
        "id": "dMY4mc2xxt9w"
      },
      "execution_count": 71,
      "outputs": []
    },
    {
      "cell_type": "markdown",
      "source": [
        "Our next step is to turn our data into `batches`.\n",
        "\n",
        "A Batch is a small subset of data. Rather than look at all ~10,000 images at one time, a model might only look at 32 at a time.\n",
        "\n",
        "It does this for a couple of reasons:\n",
        "1. 10,000 images (or more) might not fit into the memory of your processir (GPU).\n",
        "2. Trying to learn the patterns in 10,000 images in one hit could result in the model not being able to learn very well.\n",
        "\n",
        "why 32?\n",
        "\n",
        "Because 32 is good for your health..."
      ],
      "metadata": {
        "id": "hyAx_Fd-Lfnh"
      }
    },
    {
      "cell_type": "code",
      "source": [
        "# Create train and test data genetrators and rescale the data\n",
        "from tensorflow.keras.preprocessing.image import ImageDataGenerator\n",
        "train_datagen = ImageDataGenerator(rescale=1/255.)\n",
        "test_datagen = ImageDataGenerator(rescale=1/255.)"
      ],
      "metadata": {
        "id": "ZOiw2dNZLk_s"
      },
      "execution_count": 72,
      "outputs": []
    },
    {
      "cell_type": "code",
      "source": [
        "# Load in our image data from directories and turn them into batches\n",
        "train_data = train_datagen.flow_from_directory(directory=train_dir, # Target directory of images\n",
        "                                              target_size=(224, 224), # Target size of images (height, width)\n",
        "                                              class_mode=\"binary\", # type of data you're working with\n",
        "                                              batch_size=32) # size of minibatches to load data into\n",
        "\n",
        "test_data = test_datagen.flow_from_directory(directory=test_dir,\n",
        "                                              target_size=(224,224),\n",
        "                                              class_mode=\"binary\",\n",
        "                                              batch_size=32)"
      ],
      "metadata": {
        "colab": {
          "base_uri": "https://localhost:8080/"
        },
        "id": "jRzYbtebOsZ1",
        "outputId": "f7e90d5b-a6ac-4bdf-97ce-453afbe030ea"
      },
      "execution_count": 73,
      "outputs": [
        {
          "output_type": "stream",
          "name": "stdout",
          "text": [
            "Found 1500 images belonging to 2 classes.\n",
            "Found 500 images belonging to 2 classes.\n"
          ]
        }
      ]
    },
    {
      "cell_type": "code",
      "source": [
        "# Get a sample of a training data batcg\n",
        "images, labels = train_data.next() # Get tge \"next\" batch of images/labels in train_data\n",
        "len(images), len(labels)"
      ],
      "metadata": {
        "colab": {
          "base_uri": "https://localhost:8080/"
        },
        "id": "xpYo-_1GQc3E",
        "outputId": "2975ce5b-67ac-462d-f99b-6ec8000ad1b5"
      },
      "execution_count": 74,
      "outputs": [
        {
          "output_type": "execute_result",
          "data": {
            "text/plain": [
              "(32, 32)"
            ]
          },
          "metadata": {},
          "execution_count": 74
        }
      ]
    },
    {
      "cell_type": "code",
      "source": [
        "# How many batches are there ?\n",
        "len(train_data)"
      ],
      "metadata": {
        "colab": {
          "base_uri": "https://localhost:8080/"
        },
        "id": "1t7FFv-MRAmf",
        "outputId": "4b90ac72-9448-41bc-8fc0-2288015b40fb"
      },
      "execution_count": 75,
      "outputs": [
        {
          "output_type": "execute_result",
          "data": {
            "text/plain": [
              "47"
            ]
          },
          "metadata": {},
          "execution_count": 75
        }
      ]
    },
    {
      "cell_type": "code",
      "source": [
        "1500/32"
      ],
      "metadata": {
        "colab": {
          "base_uri": "https://localhost:8080/"
        },
        "id": "WnrN1jcbRiZL",
        "outputId": "017118a1-830c-4617-f126-cb922592f797"
      },
      "execution_count": 76,
      "outputs": [
        {
          "output_type": "execute_result",
          "data": {
            "text/plain": [
              "46.875"
            ]
          },
          "metadata": {},
          "execution_count": 76
        }
      ]
    },
    {
      "cell_type": "code",
      "source": [
        "# Get the first two images\n",
        "images[:2], images[0].shape"
      ],
      "metadata": {
        "colab": {
          "base_uri": "https://localhost:8080/"
        },
        "id": "wC3UgNWYSX4C",
        "outputId": "7845a9d5-9601-4c39-ce7c-d2cd0591af58"
      },
      "execution_count": 77,
      "outputs": [
        {
          "output_type": "execute_result",
          "data": {
            "text/plain": [
              "(array([[[[0.47058827, 0.40784317, 0.34509805],\n",
              "          [0.4784314 , 0.427451  , 0.3647059 ],\n",
              "          [0.48627454, 0.43529415, 0.37254903],\n",
              "          ...,\n",
              "          [0.8313726 , 0.70980394, 0.48627454],\n",
              "          [0.8431373 , 0.73333335, 0.5372549 ],\n",
              "          [0.87843144, 0.7725491 , 0.5882353 ]],\n",
              " \n",
              "         [[0.50980395, 0.427451  , 0.36078432],\n",
              "          [0.5058824 , 0.42352945, 0.35686275],\n",
              "          [0.5137255 , 0.4431373 , 0.3647059 ],\n",
              "          ...,\n",
              "          [0.82745105, 0.7058824 , 0.48235297],\n",
              "          [0.82745105, 0.70980394, 0.5058824 ],\n",
              "          [0.8431373 , 0.73333335, 0.5372549 ]],\n",
              " \n",
              "         [[0.5254902 , 0.427451  , 0.34901962],\n",
              "          [0.5372549 , 0.43921572, 0.36078432],\n",
              "          [0.5372549 , 0.45098042, 0.36078432],\n",
              "          ...,\n",
              "          [0.82745105, 0.7019608 , 0.4784314 ],\n",
              "          [0.82745105, 0.7058824 , 0.49411768],\n",
              "          [0.8352942 , 0.7176471 , 0.5137255 ]],\n",
              " \n",
              "         ...,\n",
              " \n",
              "         [[0.77647066, 0.5647059 , 0.2901961 ],\n",
              "          [0.7803922 , 0.53333336, 0.22352943],\n",
              "          [0.79215693, 0.5176471 , 0.18039216],\n",
              "          ...,\n",
              "          [0.30588236, 0.2784314 , 0.24705884],\n",
              "          [0.24705884, 0.23137257, 0.19607845],\n",
              "          [0.2784314 , 0.27450982, 0.25490198]],\n",
              " \n",
              "         [[0.7843138 , 0.57254905, 0.29803923],\n",
              "          [0.79215693, 0.54509807, 0.24313727],\n",
              "          [0.8000001 , 0.5254902 , 0.18823531],\n",
              "          ...,\n",
              "          [0.2627451 , 0.23529413, 0.20392159],\n",
              "          [0.24313727, 0.227451  , 0.19215688],\n",
              "          [0.26666668, 0.2627451 , 0.24313727]],\n",
              " \n",
              "         [[0.7960785 , 0.59607846, 0.3372549 ],\n",
              "          [0.7960785 , 0.5647059 , 0.26666668],\n",
              "          [0.81568635, 0.54901963, 0.22352943],\n",
              "          ...,\n",
              "          [0.23529413, 0.19607845, 0.16078432],\n",
              "          [0.3019608 , 0.26666668, 0.24705884],\n",
              "          [0.26666668, 0.2509804 , 0.24705884]]],\n",
              " \n",
              " \n",
              "        [[[0.38823533, 0.4666667 , 0.36078432],\n",
              "          [0.3921569 , 0.46274513, 0.36078432],\n",
              "          [0.38431376, 0.454902  , 0.36078432],\n",
              "          ...,\n",
              "          [0.5294118 , 0.627451  , 0.54509807],\n",
              "          [0.5294118 , 0.627451  , 0.54509807],\n",
              "          [0.5411765 , 0.6392157 , 0.5568628 ]],\n",
              " \n",
              "         [[0.38431376, 0.454902  , 0.3529412 ],\n",
              "          [0.3921569 , 0.46274513, 0.36078432],\n",
              "          [0.39607847, 0.4666667 , 0.37254903],\n",
              "          ...,\n",
              "          [0.54509807, 0.6431373 , 0.5686275 ],\n",
              "          [0.5529412 , 0.6509804 , 0.5764706 ],\n",
              "          [0.5647059 , 0.6627451 , 0.5882353 ]],\n",
              " \n",
              "         [[0.3921569 , 0.46274513, 0.36078432],\n",
              "          [0.38431376, 0.454902  , 0.3529412 ],\n",
              "          [0.4039216 , 0.47450984, 0.3803922 ],\n",
              "          ...,\n",
              "          [0.5764706 , 0.67058825, 0.6156863 ],\n",
              "          [0.5647059 , 0.6666667 , 0.6156863 ],\n",
              "          [0.5647059 , 0.6666667 , 0.6156863 ]],\n",
              " \n",
              "         ...,\n",
              " \n",
              "         [[0.47058827, 0.5647059 , 0.4784314 ],\n",
              "          [0.4784314 , 0.5764706 , 0.4901961 ],\n",
              "          [0.48235297, 0.5803922 , 0.49803925],\n",
              "          ...,\n",
              "          [0.39607847, 0.42352945, 0.3019608 ],\n",
              "          [0.37647063, 0.40000004, 0.2901961 ],\n",
              "          [0.3803922 , 0.4039216 , 0.3019608 ]],\n",
              " \n",
              "         [[0.45098042, 0.5529412 , 0.454902  ],\n",
              "          [0.46274513, 0.5647059 , 0.4666667 ],\n",
              "          [0.47058827, 0.57254905, 0.47450984],\n",
              "          ...,\n",
              "          [0.40784317, 0.43529415, 0.3137255 ],\n",
              "          [0.39607847, 0.41960788, 0.31764707],\n",
              "          [0.38823533, 0.40784317, 0.31764707]],\n",
              " \n",
              "         [[0.47450984, 0.5764706 , 0.47058827],\n",
              "          [0.47058827, 0.57254905, 0.4666667 ],\n",
              "          [0.46274513, 0.5647059 , 0.4666667 ],\n",
              "          ...,\n",
              "          [0.4039216 , 0.427451  , 0.31764707],\n",
              "          [0.3921569 , 0.4156863 , 0.3137255 ],\n",
              "          [0.4039216 , 0.42352945, 0.3372549 ]]]], dtype=float32),\n",
              " (224, 224, 3))"
            ]
          },
          "metadata": {},
          "execution_count": 77
        }
      ]
    },
    {
      "cell_type": "code",
      "source": [
        "images[7].shape"
      ],
      "metadata": {
        "colab": {
          "base_uri": "https://localhost:8080/"
        },
        "id": "NLtDKTjjScKM",
        "outputId": "28da55e6-2a51-4d8b-be80-b628a09c97d5"
      },
      "execution_count": 78,
      "outputs": [
        {
          "output_type": "execute_result",
          "data": {
            "text/plain": [
              "(224, 224, 3)"
            ]
          },
          "metadata": {},
          "execution_count": 78
        }
      ]
    },
    {
      "cell_type": "code",
      "source": [
        "# View the first batch of labels\n",
        "labels"
      ],
      "metadata": {
        "colab": {
          "base_uri": "https://localhost:8080/"
        },
        "id": "5bljxj8jS7w1",
        "outputId": "0865be45-5dcf-42ea-e2d7-3e62a6a92e40"
      },
      "execution_count": 79,
      "outputs": [
        {
          "output_type": "execute_result",
          "data": {
            "text/plain": [
              "array([1., 1., 0., 1., 0., 0., 0., 1., 0., 1., 0., 0., 1., 0., 0., 0., 1.,\n",
              "       1., 0., 1., 0., 1., 1., 1., 0., 0., 0., 0., 0., 1., 0., 1.],\n",
              "      dtype=float32)"
            ]
          },
          "metadata": {},
          "execution_count": 79
        }
      ]
    },
    {
      "cell_type": "markdown",
      "source": [
        "### 3. Create a model (start with a baseline)\n",
        "\n",
        "A baseline is a relatively simple moddel or existing result that you setup when u keep beginning a machine learning experiment and then you experimenting, you try to beat the baseline.\n",
        "\n",
        "\n",
        "🔑**Note:** In deep learning, there is almost an infinite amount of architecture you could create. So one of the best ways yo get started is to start with something simple and see if it works on your data and then introduce complexity as required (e.g. look at which current model is performing best in the field for your problem)."
      ],
      "metadata": {
        "id": "AWBA5v6pTcqz"
      }
    },
    {
      "cell_type": "code",
      "source": [
        "# Make the creating of our model a little easier\n",
        "from tensorflow.keras.optimizers import Adam\n",
        "from tensorflow.keras.layers import Dense, Flatten, Conv2D, MaxPool2D, Activation\n",
        "from tensorflow.keras import Sequential"
      ],
      "metadata": {
        "id": "J0HrsVGqTJTE"
      },
      "execution_count": 80,
      "outputs": []
    },
    {
      "cell_type": "code",
      "source": [
        "# Create the model (this will be our baseline, a layer convolutional neural network)\n",
        "model_4 = Sequential([\n",
        "    Conv2D(filters=10, # Filter is the number of sliding windows going across an input (higer = more complex model)\n",
        "           kernel_size=3, # The size of the sliding window going across an input\n",
        "           strides=1, # the size of the step the sliding window takes accross the windows\n",
        "           padding=\"valid\", # If \"same\", output shape is same as input shape,if \"valid\", output shape gets compressed\n",
        "           activation=\"relu\",\n",
        "           input_shape=(224, 224, 3)), # Inpu layer (specify input shape)\n",
        "    Conv2D(10, 3, activation=\"relu\"),\n",
        "    Conv2D(10, 3, activation=\"relu\"),\n",
        "    Flatten(),\n",
        "    Dense(1, activation=\"sigmoid\") # Output layer (working with binary classification so only 1 output neuron)\n",
        "])"
      ],
      "metadata": {
        "id": "wlxlyhusm1TN"
      },
      "execution_count": 81,
      "outputs": []
    },
    {
      "cell_type": "code",
      "source": [
        "# Compile the model\n",
        "model_4.compile(loss='binary_crossentropy',\n",
        "                optimizer=Adam(),\n",
        "                metrics=['accuracy'])"
      ],
      "metadata": {
        "id": "0yPQdd51yf-c"
      },
      "execution_count": 82,
      "outputs": []
    },
    {
      "cell_type": "code",
      "source": [
        "# Get the summary of the model\n",
        "model_4.summary()"
      ],
      "metadata": {
        "colab": {
          "base_uri": "https://localhost:8080/"
        },
        "id": "nDRXxg00y36g",
        "outputId": "9d80dd74-4946-4495-fc1b-84ad6ddbeea0"
      },
      "execution_count": 83,
      "outputs": [
        {
          "output_type": "stream",
          "name": "stdout",
          "text": [
            "Model: \"sequential_8\"\n",
            "_________________________________________________________________\n",
            " Layer (type)                Output Shape              Param #   \n",
            "=================================================================\n",
            " conv2d_14 (Conv2D)          (None, 222, 222, 10)      280       \n",
            "                                                                 \n",
            " conv2d_15 (Conv2D)          (None, 220, 220, 10)      910       \n",
            "                                                                 \n",
            " conv2d_16 (Conv2D)          (None, 218, 218, 10)      910       \n",
            "                                                                 \n",
            " flatten_8 (Flatten)         (None, 475240)            0         \n",
            "                                                                 \n",
            " dense_18 (Dense)            (None, 1)                 475241    \n",
            "                                                                 \n",
            "=================================================================\n",
            "Total params: 477,341\n",
            "Trainable params: 477,341\n",
            "Non-trainable params: 0\n",
            "_________________________________________________________________\n"
          ]
        }
      ]
    },
    {
      "cell_type": "markdown",
      "source": [
        "### 4. Fit the model"
      ],
      "metadata": {
        "id": "dmqzk4z4yyYm"
      }
    },
    {
      "cell_type": "code",
      "source": [
        "# Check the lenghs of training and test data generator\n",
        "len(train_data), len(test_data)"
      ],
      "metadata": {
        "colab": {
          "base_uri": "https://localhost:8080/"
        },
        "id": "bGgOk2ZLy0qe",
        "outputId": "d2c58e4b-3c3f-4cbc-e1c2-d92e2a43baca"
      },
      "execution_count": 84,
      "outputs": [
        {
          "output_type": "execute_result",
          "data": {
            "text/plain": [
              "(47, 16)"
            ]
          },
          "metadata": {},
          "execution_count": 84
        }
      ]
    },
    {
      "cell_type": "code",
      "source": [
        "# Fit the model\n",
        "history_4 = model_4.fit(train_data,\n",
        "                        epochs=5,\n",
        "                        steps_per_epoch=len(train_data),\n",
        "                        validation_data=test_data,\n",
        "                        validation_steps=len(test_data))"
      ],
      "metadata": {
        "colab": {
          "base_uri": "https://localhost:8080/"
        },
        "id": "7xCr5v1czZka",
        "outputId": "e2cee008-0920-4945-f3f1-f445b77ac387"
      },
      "execution_count": 85,
      "outputs": [
        {
          "output_type": "stream",
          "name": "stdout",
          "text": [
            "Epoch 1/5\n",
            "47/47 [==============================] - 10s 201ms/step - loss: 1.0560 - accuracy: 0.6933 - val_loss: 0.4074 - val_accuracy: 0.8240\n",
            "Epoch 2/5\n",
            "47/47 [==============================] - 9s 195ms/step - loss: 0.4369 - accuracy: 0.8093 - val_loss: 0.4017 - val_accuracy: 0.8160\n",
            "Epoch 3/5\n",
            "47/47 [==============================] - 9s 194ms/step - loss: 0.3298 - accuracy: 0.8620 - val_loss: 0.4443 - val_accuracy: 0.7980\n",
            "Epoch 4/5\n",
            "47/47 [==============================] - 9s 195ms/step - loss: 0.1738 - accuracy: 0.9360 - val_loss: 0.5049 - val_accuracy: 0.8060\n",
            "Epoch 5/5\n",
            "47/47 [==============================] - 9s 196ms/step - loss: 0.0720 - accuracy: 0.9780 - val_loss: 0.6023 - val_accuracy: 0.7960\n"
          ]
        }
      ]
    },
    {
      "cell_type": "code",
      "source": [
        "model_1.evaluate(test_data)"
      ],
      "metadata": {
        "colab": {
          "base_uri": "https://localhost:8080/"
        },
        "id": "hhkWeKFaz8c9",
        "outputId": "19d6eb55-0b15-4669-989f-61f5203a6ec0"
      },
      "execution_count": 86,
      "outputs": [
        {
          "output_type": "stream",
          "name": "stdout",
          "text": [
            "16/16 [==============================] - 2s 138ms/step - loss: 0.3109 - accuracy: 0.8700\n"
          ]
        },
        {
          "output_type": "execute_result",
          "data": {
            "text/plain": [
              "[0.3109405040740967, 0.8700000047683716]"
            ]
          },
          "metadata": {},
          "execution_count": 86
        }
      ]
    },
    {
      "cell_type": "code",
      "source": [
        "model_1.summary()"
      ],
      "metadata": {
        "colab": {
          "base_uri": "https://localhost:8080/"
        },
        "id": "mw9JI7AY1xJn",
        "outputId": "93259c33-f1a3-4955-ee36-3a8f2bbb880f"
      },
      "execution_count": 87,
      "outputs": [
        {
          "output_type": "stream",
          "name": "stdout",
          "text": [
            "Model: \"sequential_5\"\n",
            "_________________________________________________________________\n",
            " Layer (type)                Output Shape              Param #   \n",
            "=================================================================\n",
            " conv2d_10 (Conv2D)          (None, 222, 222, 10)      280       \n",
            "                                                                 \n",
            " conv2d_11 (Conv2D)          (None, 220, 220, 10)      910       \n",
            "                                                                 \n",
            " max_pooling2d_5 (MaxPooling  (None, 110, 110, 10)     0         \n",
            " 2D)                                                             \n",
            "                                                                 \n",
            " conv2d_12 (Conv2D)          (None, 108, 108, 10)      910       \n",
            "                                                                 \n",
            " conv2d_13 (Conv2D)          (None, 106, 106, 10)      910       \n",
            "                                                                 \n",
            " max_pooling2d_6 (MaxPooling  (None, 53, 53, 10)       0         \n",
            " 2D)                                                             \n",
            "                                                                 \n",
            " flatten_5 (Flatten)         (None, 28090)             0         \n",
            "                                                                 \n",
            " dense_10 (Dense)            (None, 1)                 28091     \n",
            "                                                                 \n",
            "=================================================================\n",
            "Total params: 31,101\n",
            "Trainable params: 31,101\n",
            "Non-trainable params: 0\n",
            "_________________________________________________________________\n"
          ]
        }
      ]
    },
    {
      "cell_type": "code",
      "source": [
        "model_4.evaluate(test_data)"
      ],
      "metadata": {
        "colab": {
          "base_uri": "https://localhost:8080/"
        },
        "id": "u2-aPMif1zQx",
        "outputId": "ae20631d-1730-4b9b-d84b-039fbbcb8761"
      },
      "execution_count": 88,
      "outputs": [
        {
          "output_type": "stream",
          "name": "stdout",
          "text": [
            "16/16 [==============================] - 2s 138ms/step - loss: 0.6023 - accuracy: 0.7960\n"
          ]
        },
        {
          "output_type": "execute_result",
          "data": {
            "text/plain": [
              "[0.6022886633872986, 0.7960000038146973]"
            ]
          },
          "metadata": {},
          "execution_count": 88
        }
      ]
    },
    {
      "cell_type": "markdown",
      "source": [
        "### 5. Evaluate our model\n",
        "\n",
        "It looks like our model is learning something, let's evaluate it"
      ],
      "metadata": {
        "id": "jfqyid8516_A"
      }
    },
    {
      "cell_type": "code",
      "source": [
        "# Let's plot the training curves\n",
        "import pandas as pd\n",
        "pd.DataFrame(history_4.history).plot(figsize=(10,7))"
      ],
      "metadata": {
        "colab": {
          "base_uri": "https://localhost:8080/",
          "height": 445
        },
        "id": "i3IYw34fpCdK",
        "outputId": "7dacd6e8-67f0-4735-d09f-ad26abdc5284"
      },
      "execution_count": 89,
      "outputs": [
        {
          "output_type": "execute_result",
          "data": {
            "text/plain": [
              "<matplotlib.axes._subplots.AxesSubplot at 0x7fe60b9558e0>"
            ]
          },
          "metadata": {},
          "execution_count": 89
        },
        {
          "output_type": "display_data",
          "data": {
            "text/plain": [
              "<Figure size 720x504 with 1 Axes>"
            ],
            "image/png": "[encoded data removed]"
          },
          "metadata": {
            "needs_background": "light"
          }
        }
      ]
    },
    {
      "cell_type": "code",
      "source": [
        "# Plt the validation and training curves separately\n",
        "def plot_loss_curves(history):\n",
        "  \"\"\"\n",
        "  Returns separate loss curves for training and validation metriics\n",
        "  \"\"\"\n",
        "  loss = history.history[\"loss\"]\n",
        "  val_loss = history.history[\"val_loss\"]\n",
        "\n",
        "  accuracy = history.history[\"accuracy\"]\n",
        "  val_accuracy = history.history[\"val_accuracy\"]\n",
        "\n",
        "  epochs = range(len(history.history[\"loss\"])) # How many eopochs we run for?\n",
        "\n",
        "  # Plot loss\n",
        "  plt.plot(epochs, loss, label=\"training_loss\")\n",
        "  plt.plot(epochs, val_loss, label=\"val_loss\")\n",
        "  plt.title(\"loss\")\n",
        "  plt.xlabel(\"epochs\")\n",
        "  plt.legend()\n",
        "\n",
        "  # plot accuracy\n",
        "  plt.figure()\n",
        "  plt.plot(epochs, accuracy, label=\"training_accuracy\")\n",
        "  plt.plot(epochs, val_accuracy, label=\"val_accuracy\")\n",
        "  plt.title(\"accuracy\")\n",
        "  plt.xlabel(\"epochs\")\n",
        "  plt.legend()"
      ],
      "metadata": {
        "id": "Nn0fgoAjpPp9"
      },
      "execution_count": 90,
      "outputs": []
    },
    {
      "cell_type": "markdown",
      "source": [
        "🔑**Note:** When a model's `validation loss starts to increase`, it's likely that the model is `overfitting` the training dataset. This means, it's learning the pattern in the training the dataset too well and thus the model's ability to generalize to unseen data will be diminished. "
      ],
      "metadata": {
        "id": "cbOloD_nrGel"
      }
    },
    {
      "cell_type": "code",
      "source": [
        "# Check out the loss and accuacy of model_4\n",
        "plot_loss_curves(history_4)"
      ],
      "metadata": {
        "colab": {
          "base_uri": "https://localhost:8080/",
          "height": 573
        },
        "id": "TuIskK3mqxoo",
        "outputId": "4723faca-57d7-4c7a-ab2e-fca732785fa6"
      },
      "execution_count": 91,
      "outputs": [
        {
          "output_type": "display_data",
          "data": {
            "text/plain": [
              "<Figure size 432x288 with 1 Axes>"
            ],
            "image/png": "[encoded data removed]"
          },
          "metadata": {
            "needs_background": "light"
          }
        },
        {
          "output_type": "display_data",
          "data": {
            "text/plain": [
              "<Figure size 432x288 with 1 Axes>"
            ],
            "image/png": "[encoded data removed]"
          },
          "metadata": {
            "needs_background": "light"
          }
        }
      ]
    },
    {
      "cell_type": "markdown",
      "source": [
        "🔑**Note:**Ideally the loss curves (training and validation) will be very similar to each other (training loss and validation loss decreaseing at similat rates), when there are large difference your model may be `overfitting`."
      ],
      "metadata": {
        "id": "4C6VtFkVuWM2"
      }
    },
    {
      "cell_type": "markdown",
      "source": [
        "### 6. Adjust the model parameters\n",
        "\n",
        "Fitting a machine learning model comes in 3 steps : \n",
        "0. Create a baseline\n",
        "1. Beat the baseline by overfitting a larger model\n",
        "2. Reduce overfitting\n",
        "\n",
        "Ways to include overfitting:\n",
        "\n",
        "* Increase the number of conv layers\n",
        "* Increase the number of conv filters\n",
        "* Add another dense layer to the output of our flattened layer\n",
        "\n",
        "Reduce overfitting :\n",
        "* Add data agumentation\n",
        "* Add regularization layers (such as MaxPool2D)\n",
        "* Add more data...\n",
        "\n",
        "> 🔑**Note:** Reducing overfitting is also known as `Regularization`"
      ],
      "metadata": {
        "id": "UmLoWAQ5uWje"
      }
    },
    {
      "cell_type": "code",
      "source": [
        "# Create the model (this is going to be our new baseline)\n",
        "model_5 = Sequential([\n",
        "    Conv2D(10, 3, activation=\"relu\", input_shape=(223, 224, 3)),\n",
        "    MaxPool2D(pool_size=2),\n",
        "    Conv2D(10, 3, activation=\"relu\"),\n",
        "    MaxPool2D(),\n",
        "    Conv2D(10, 3, activation=\"relu\"),\n",
        "    MaxPool2D(),\n",
        "    Flatten(),\n",
        "    Dense(1, activation=\"sigmoid\")\n",
        "])"
      ],
      "metadata": {
        "id": "TagiHYu-q_Ua"
      },
      "execution_count": 92,
      "outputs": []
    },
    {
      "cell_type": "code",
      "source": [
        "# Compile the model\n",
        "model_5.compile(loss=\"binary_crossentropy\",\n",
        "                optimizer=Adam(),\n",
        "                metrics=[\"accuracy\"])"
      ],
      "metadata": {
        "id": "ExP48ZX_w1KT"
      },
      "execution_count": 93,
      "outputs": []
    },
    {
      "cell_type": "code",
      "source": [
        "# Fit the model\n",
        "history_5 = model_5.fit(train_data,\n",
        "                        epochs=5,\n",
        "                        steps_per_epoch=len(train_data),\n",
        "                        validation_data=test_data,\n",
        "                        validation_steps=len(valid_data))"
      ],
      "metadata": {
        "colab": {
          "base_uri": "https://localhost:8080/"
        },
        "id": "XMvNclMAxwow",
        "outputId": "ce8143b0-73c0-47c9-ba79-079e56e862e8"
      },
      "execution_count": 94,
      "outputs": [
        {
          "output_type": "stream",
          "name": "stdout",
          "text": [
            "Epoch 1/5\n",
            "47/47 [==============================] - 10s 197ms/step - loss: 0.6194 - accuracy: 0.6440 - val_loss: 0.4505 - val_accuracy: 0.7900\n",
            "Epoch 2/5\n",
            "47/47 [==============================] - 9s 186ms/step - loss: 0.4669 - accuracy: 0.7887 - val_loss: 0.3836 - val_accuracy: 0.8480\n",
            "Epoch 3/5\n",
            "47/47 [==============================] - 9s 185ms/step - loss: 0.4363 - accuracy: 0.8053 - val_loss: 0.3953 - val_accuracy: 0.8220\n",
            "Epoch 4/5\n",
            "47/47 [==============================] - 9s 186ms/step - loss: 0.4053 - accuracy: 0.8213 - val_loss: 0.4164 - val_accuracy: 0.8100\n",
            "Epoch 5/5\n",
            "47/47 [==============================] - 9s 188ms/step - loss: 0.3785 - accuracy: 0.8393 - val_loss: 0.3557 - val_accuracy: 0.8440\n"
          ]
        }
      ]
    },
    {
      "cell_type": "code",
      "source": [
        "# Get a summary of our model with max pooling\n",
        "model_5.summary()"
      ],
      "metadata": {
        "colab": {
          "base_uri": "https://localhost:8080/"
        },
        "id": "6Qmj4lFiyGG3",
        "outputId": "0062984f-456a-4205-aa1e-568fcde81365"
      },
      "execution_count": 95,
      "outputs": [
        {
          "output_type": "stream",
          "name": "stdout",
          "text": [
            "Model: \"sequential_9\"\n",
            "_________________________________________________________________\n",
            " Layer (type)                Output Shape              Param #   \n",
            "=================================================================\n",
            " conv2d_17 (Conv2D)          (None, 221, 222, 10)      280       \n",
            "                                                                 \n",
            " max_pooling2d_7 (MaxPooling  (None, 110, 111, 10)     0         \n",
            " 2D)                                                             \n",
            "                                                                 \n",
            " conv2d_18 (Conv2D)          (None, 108, 109, 10)      910       \n",
            "                                                                 \n",
            " max_pooling2d_8 (MaxPooling  (None, 54, 54, 10)       0         \n",
            " 2D)                                                             \n",
            "                                                                 \n",
            " conv2d_19 (Conv2D)          (None, 52, 52, 10)        910       \n",
            "                                                                 \n",
            " max_pooling2d_9 (MaxPooling  (None, 26, 26, 10)       0         \n",
            " 2D)                                                             \n",
            "                                                                 \n",
            " flatten_9 (Flatten)         (None, 6760)              0         \n",
            "                                                                 \n",
            " dense_19 (Dense)            (None, 1)                 6761      \n",
            "                                                                 \n",
            "=================================================================\n",
            "Total params: 8,861\n",
            "Trainable params: 8,861\n",
            "Non-trainable params: 0\n",
            "_________________________________________________________________\n"
          ]
        }
      ]
    },
    {
      "cell_type": "code",
      "source": [
        "# Plot loss curves\n",
        "plot_loss_curves(history_5)"
      ],
      "metadata": {
        "colab": {
          "base_uri": "https://localhost:8080/",
          "height": 573
        },
        "id": "DTR5pehn7mzq",
        "outputId": "4b71fb45-03eb-4763-e4a7-bc168f15b3e7"
      },
      "execution_count": 96,
      "outputs": [
        {
          "output_type": "display_data",
          "data": {
            "text/plain": [
              "<Figure size 432x288 with 1 Axes>"
            ],
            "image/png": "[encoded data removed]"
          },
          "metadata": {
            "needs_background": "light"
          }
        },
        {
          "output_type": "display_data",
          "data": {
            "text/plain": [
              "<Figure size 432x288 with 1 Axes>"
            ],
            "image/png": "[encoded data removed]"
          },
          "metadata": {
            "needs_background": "light"
          }
        }
      ]
    },
    {
      "cell_type": "markdown",
      "source": [
        "### Opening out bag of tricks and finding data agumentation"
      ],
      "metadata": {
        "id": "DdQ-ecEk7sWm"
      }
    },
    {
      "cell_type": "code",
      "source": [
        "# Create ImageDataGenerator training instance with data agumentation\n",
        "train_datagen_augmented = ImageDataGenerator(rescale=1/255.\n",
        "                                             ,rotation_range=0.2,\n",
        "                                             shear_range=0.2,\n",
        "                                             zoom_range=0.2,\n",
        "                                             width_shift_range=0.2,\n",
        "                                             height_shift_range=0.3,\n",
        "                                             horizontal_flip=True)\n",
        "\n",
        "# Create ImageDataGenerator without data augmentation\n",
        "train_datagen = ImageDataGenerator(rescale=1/255.)\n",
        "\n",
        "# Create ImageDataGenerator without data augmentation for test dataset\n",
        "test_datagen = ImageDataGenerator(rescale=1/255.)"
      ],
      "metadata": {
        "id": "Puce3qzxSPCl"
      },
      "execution_count": 97,
      "outputs": []
    },
    {
      "cell_type": "markdown",
      "source": [
        "> What is data augmentation\n",
        "\n",
        "Data augmentation is the process pf altering our training data, leading it to have more diversity and in turn alowing our models to learn more generalizable (hopefully) patterns. Altering might adjusting the rotation of an image, flipping it, cropping it or something similar.\n",
        "\n",
        "Let's write some code to visualize data augmentation..."
      ],
      "metadata": {
        "id": "NYwp3zhlTXwR"
      }
    },
    {
      "cell_type": "code",
      "source": [
        "# Import data and augment it frrom training directory\n",
        "print(\"Augmented training data\")\n",
        "train_data_agmented = train_datagen_augmented.flow_from_directory(train_dir,\n",
        "                                                                  target_size=(224,224),\n",
        "                                                                  batch_size=32,\n",
        "                                                                  class_mode=\"binary\",\n",
        "                                                                  shuffle=False) # for demonstraion purpose only\n",
        "\n",
        "# Create non-augmented train data batches\n",
        "train_data = train_datagen.flow_from_directory(train_dir,\n",
        "                                               target_size=(224, 224),\n",
        "                                               batch_size=32,\n",
        "                                               class_mode=\"binary\",\n",
        "                                               shuffle=False)   \n",
        "\n",
        "# Create non-augmented test data batches\n",
        "print(\"Non-augmented test data: \")                                                               \n",
        "test_data = test_datafen.flow"
      ],
      "metadata": {
        "colab": {
          "base_uri": "https://localhost:8080/"
        },
        "id": "L57nzIQnTRNr",
        "outputId": "94223f72-19c8-49cb-85c5-c2367e883d9c"
      },
      "execution_count": 99,
      "outputs": [
        {
          "output_type": "stream",
          "name": "stdout",
          "text": [
            "Augmented training data\n",
            "Found 1500 images belonging to 2 classes.\n"
          ]
        }
      ]
    },
    {
      "cell_type": "code",
      "source": [],
      "metadata": {
        "id": "gsBxeo0at9pP"
      },
      "execution_count": 98,
      "outputs": []
    }
  ]
}