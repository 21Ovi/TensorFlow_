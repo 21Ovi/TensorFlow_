{
  "nbformat": 4,
  "nbformat_minor": 0,
  "metadata": {
    "colab": {
      "provenance": [],
      "collapsed_sections": [],
      "authorship_tag": "ABX9TyNH46VMCjdifI1tZcBN6mlM",
      "include_colab_link": true
    },
    "kernelspec": {
      "name": "python3",
      "display_name": "Python 3"
    },
    "language_info": {
      "name": "python"
    }
  },
  "cells": [
    {
      "cell_type": "markdown",
      "metadata": {
        "id": "view-in-github",
        "colab_type": "text"
      },
      "source": [
        "<a href=\"https://colab.research.google.com/github/21Ovi/TensorFlow_/blob/main/01_neural_network_regression_with_tensorflow.ipynb\" target=\"_parent\"><img src=\"https://colab.research.google.com/assets/colab-badge.svg\" alt=\"Open In Colab\"/></a>"
      ]
    },
    {
      "cell_type": "markdown",
      "source": [
        "# Introduction to Regression with Neural Network in TensorFlow\n",
        "\n",
        "There are many definations for a regression problem but in our case, we're going to simplify it: predicting a numerical variable based on some other combination of variables, even shorter... predicting a number"
      ],
      "metadata": {
        "id": "X7c7oYQ0PFIl"
      }
    },
    {
      "cell_type": "code",
      "source": [
        "# Import TensorFlow\n",
        "import tensorflow as tf\n",
        "print(tf.__version__)"
      ],
      "metadata": {
        "colab": {
          "base_uri": "https://localhost:8080/"
        },
        "id": "EZj6gVGzPzL_",
        "outputId": "781542e6-9751-490c-f9e2-59126601bfc7"
      },
      "execution_count": 1,
      "outputs": [
        {
          "output_type": "stream",
          "name": "stdout",
          "text": [
            "2.9.2\n"
          ]
        }
      ]
    },
    {
      "cell_type": "markdown",
      "source": [
        "## Creating data to view and fit"
      ],
      "metadata": {
        "id": "hXw7vlBnP7Es"
      }
    },
    {
      "cell_type": "code",
      "source": [
        "import numpy as np\n",
        "import matplotlib.pyplot as plt\n",
        "# Create Features\n",
        "X = np.array([-7.0, -4.0, -1.0, 2.0, 5.0, 8.0, 11.0, 14.0])\n",
        "\n",
        "# Create label\n",
        "y = np.array([3.0, 6.0, 9.0, 12.0, 15.0, 18.0, 21.0, 24.0])\n",
        "\n",
        "# Visulaize ot\n",
        "plt.scatter(X, y)"
      ],
      "metadata": {
        "colab": {
          "base_uri": "https://localhost:8080/",
          "height": 286
        },
        "id": "UrnSqUbdQD4v",
        "outputId": "5c0aeca5-d8ab-42ec-bebc-4ad5eeb3deb0"
      },
      "execution_count": 2,
      "outputs": [
        {
          "output_type": "execute_result",
          "data": {
            "text/plain": [
              "<matplotlib.collections.PathCollection at 0x7f8aa965af10>"
            ]
          },
          "metadata": {},
          "execution_count": 2
        },
        {
          "output_type": "display_data",
          "data": {
            "text/plain": [
              "<Figure size 432x288 with 1 Axes>"
            ],
            "image/png": "[encoded data removed]"
          },
          "metadata": {
            "needs_background": "light"
          }
        }
      ]
    },
    {
      "cell_type": "code",
      "source": [
        "y == X + 10"
      ],
      "metadata": {
        "colab": {
          "base_uri": "https://localhost:8080/"
        },
        "id": "c3pxaBVMQuyr",
        "outputId": "6a18a86d-2f6b-4e04-c403-952035ac4087"
      },
      "execution_count": 3,
      "outputs": [
        {
          "output_type": "execute_result",
          "data": {
            "text/plain": [
              "array([ True,  True,  True,  True,  True,  True,  True,  True])"
            ]
          },
          "metadata": {},
          "execution_count": 3
        }
      ]
    },
    {
      "cell_type": "markdown",
      "source": [
        "## Input and output shapes"
      ],
      "metadata": {
        "id": "rWKYTIhvQ5kP"
      }
    },
    {
      "cell_type": "code",
      "source": [
        "# Create a demo tensor for our housing price prediction problem\n",
        "house_info = tf.constant([\"bedroom\", \"bathroom\", \"garage\"])\n",
        "house_price = tf.constant([939700])\n",
        "house_info, house_price"
      ],
      "metadata": {
        "colab": {
          "base_uri": "https://localhost:8080/"
        },
        "id": "P6VX6-3mRXcq",
        "outputId": "eed934eb-3cd4-4518-fdae-d391162bb5c6"
      },
      "execution_count": 4,
      "outputs": [
        {
          "output_type": "execute_result",
          "data": {
            "text/plain": [
              "(<tf.Tensor: shape=(3,), dtype=string, numpy=array([b'bedroom', b'bathroom', b'garage'], dtype=object)>,\n",
              " <tf.Tensor: shape=(1,), dtype=int32, numpy=array([939700], dtype=int32)>)"
            ]
          },
          "metadata": {},
          "execution_count": 4
        }
      ]
    },
    {
      "cell_type": "code",
      "source": [
        "input_shape = X.shape\n",
        "output_shape = y.shape\n",
        "input_shape, output_shape"
      ],
      "metadata": {
        "colab": {
          "base_uri": "https://localhost:8080/"
        },
        "id": "FbdODQj-RuK-",
        "outputId": "d34f07ad-41d8-4166-c264-53f65ee11e03"
      },
      "execution_count": 5,
      "outputs": [
        {
          "output_type": "execute_result",
          "data": {
            "text/plain": [
              "((8,), (8,))"
            ]
          },
          "metadata": {},
          "execution_count": 5
        }
      ]
    },
    {
      "cell_type": "code",
      "source": [
        "X[0], y[0]"
      ],
      "metadata": {
        "colab": {
          "base_uri": "https://localhost:8080/"
        },
        "id": "Ahvqb_mER9rq",
        "outputId": "841da364-1e96-42b4-a320-7e18bc73bce8"
      },
      "execution_count": 6,
      "outputs": [
        {
          "output_type": "execute_result",
          "data": {
            "text/plain": [
              "(-7.0, 3.0)"
            ]
          },
          "metadata": {},
          "execution_count": 6
        }
      ]
    },
    {
      "cell_type": "code",
      "source": [
        "X[1], y[1]"
      ],
      "metadata": {
        "colab": {
          "base_uri": "https://localhost:8080/"
        },
        "id": "55wo7q3ASHqA",
        "outputId": "1f1c50af-f139-4909-824d-65bff0d70141"
      },
      "execution_count": 7,
      "outputs": [
        {
          "output_type": "execute_result",
          "data": {
            "text/plain": [
              "(-4.0, 6.0)"
            ]
          },
          "metadata": {},
          "execution_count": 7
        }
      ]
    },
    {
      "cell_type": "code",
      "source": [
        "X[0].ndim"
      ],
      "metadata": {
        "colab": {
          "base_uri": "https://localhost:8080/"
        },
        "id": "8cTGffJSSKgH",
        "outputId": "d01563c1-725d-4603-f1d7-8bc03aa369de"
      },
      "execution_count": 8,
      "outputs": [
        {
          "output_type": "execute_result",
          "data": {
            "text/plain": [
              "0"
            ]
          },
          "metadata": {},
          "execution_count": 8
        }
      ]
    },
    {
      "cell_type": "code",
      "source": [
        "X[0], y[0]"
      ],
      "metadata": {
        "colab": {
          "base_uri": "https://localhost:8080/"
        },
        "id": "NIStyI-FSXwS",
        "outputId": "3b76285d-1e41-49a2-9143-f4aa43a38ef1"
      },
      "execution_count": 9,
      "outputs": [
        {
          "output_type": "execute_result",
          "data": {
            "text/plain": [
              "(-7.0, 3.0)"
            ]
          },
          "metadata": {},
          "execution_count": 9
        }
      ]
    },
    {
      "cell_type": "code",
      "source": [
        "# Turn our NumPy arrays into Tensors\n",
        "X = tf.cast(tf.constant(X), dtype=tf.float32)\n",
        "y = tf.cast(tf.constant(y), dtype=tf.float32)\n",
        "X, y"
      ],
      "metadata": {
        "colab": {
          "base_uri": "https://localhost:8080/"
        },
        "id": "1xez2Qhg0Q0Y",
        "outputId": "20cebccc-2346-4192-9fdc-56965f0e2d59"
      },
      "execution_count": 10,
      "outputs": [
        {
          "output_type": "execute_result",
          "data": {
            "text/plain": [
              "(<tf.Tensor: shape=(8,), dtype=float32, numpy=array([-7., -4., -1.,  2.,  5.,  8., 11., 14.], dtype=float32)>,\n",
              " <tf.Tensor: shape=(8,), dtype=float32, numpy=array([ 3.,  6.,  9., 12., 15., 18., 21., 24.], dtype=float32)>)"
            ]
          },
          "metadata": {},
          "execution_count": 10
        }
      ]
    },
    {
      "cell_type": "code",
      "source": [
        "input_shape = X[0].shape\n",
        "output_Shape = y[0].shape\n",
        "\n",
        "input_shape,output_Shape"
      ],
      "metadata": {
        "colab": {
          "base_uri": "https://localhost:8080/"
        },
        "id": "z1j49fmD0YvM",
        "outputId": "eb1e1d67-79a9-452d-888b-1d03acefc679"
      },
      "execution_count": 11,
      "outputs": [
        {
          "output_type": "execute_result",
          "data": {
            "text/plain": [
              "(TensorShape([]), TensorShape([]))"
            ]
          },
          "metadata": {},
          "execution_count": 11
        }
      ]
    },
    {
      "cell_type": "code",
      "source": [
        "plt.scatter(X, y)"
      ],
      "metadata": {
        "colab": {
          "base_uri": "https://localhost:8080/",
          "height": 286
        },
        "id": "jmNOKGJG0lY6",
        "outputId": "f1ea0e8d-1f71-482d-821c-d4ce33263b5d"
      },
      "execution_count": 12,
      "outputs": [
        {
          "output_type": "execute_result",
          "data": {
            "text/plain": [
              "<matplotlib.collections.PathCollection at 0x7f8aa5744310>"
            ]
          },
          "metadata": {},
          "execution_count": 12
        },
        {
          "output_type": "display_data",
          "data": {
            "text/plain": [
              "<Figure size 432x288 with 1 Axes>"
            ],
            "image/png": "[encoded data removed]"
          },
          "metadata": {
            "needs_background": "light"
          }
        }
      ]
    },
    {
      "cell_type": "markdown",
      "source": [
        "## Steps in modeling with TensorFlow\n",
        "\n",
        "1. **Creating a model** - define the input and output layers, as well as the hidden layers of a deep learning model.\n",
        "2. **Compiling a model** - define the loss function (in other words, the function which tells our model how wrong it is) and the optimizer (tells our model how to improve the patterns its learning) and evaluation matrics (what we can use to interpret the performance of our model).\n",
        "3. Fitting a model - letting the model try to find patterns between X & y (features and labels)"
      ],
      "metadata": {
        "id": "bhPMjUOu0sxu"
      }
    },
    {
      "cell_type": "code",
      "source": [
        "# Set random seed\n",
        "tf.random.set_seed(42)\n",
        "\n",
        "# 1. Create a model using the Sequntial API\n",
        "model = tf.keras.Sequential([\n",
        "    tf.keras.layers.Dense(1)\n",
        "])\n",
        "\n",
        "# 2. Compile the model\n",
        "model.compile(loss=tf.keras.losses.mae, # MAE is the short form of Mean Absolute Error\n",
        "              optimizer=tf.keras.optimizers.SGD(), # SGD is short form for Stochastic Gradient Descent\n",
        "              metrics=[\"mae\"])\n",
        "\n",
        "# 3. Fit the model\n",
        "model.fit(tf.expand_dims(X, axis=-1), y, epochs=5);"
      ],
      "metadata": {
        "colab": {
          "base_uri": "https://localhost:8080/"
        },
        "id": "VKef1lXnkES7",
        "outputId": "801d2347-6038-40ba-c0e3-51d7c9191fb0"
      },
      "execution_count": 13,
      "outputs": [
        {
          "output_type": "stream",
          "name": "stdout",
          "text": [
            "Epoch 1/5\n",
            "1/1 [==============================] - 1s 642ms/step - loss: 11.5048 - mae: 11.5048\n",
            "Epoch 2/5\n",
            "1/1 [==============================] - 0s 7ms/step - loss: 11.3723 - mae: 11.3723\n",
            "Epoch 3/5\n",
            "1/1 [==============================] - 0s 10ms/step - loss: 11.2398 - mae: 11.2398\n",
            "Epoch 4/5\n",
            "1/1 [==============================] - 0s 9ms/step - loss: 11.1073 - mae: 11.1073\n",
            "Epoch 5/5\n",
            "1/1 [==============================] - 0s 9ms/step - loss: 10.9748 - mae: 10.9748\n"
          ]
        }
      ]
    },
    {
      "cell_type": "code",
      "source": [
        "# Checkout X and y\n",
        "X, y"
      ],
      "metadata": {
        "colab": {
          "base_uri": "https://localhost:8080/"
        },
        "id": "j1GOnCSTnGaL",
        "outputId": "30052f0a-350d-4c3c-8dcd-8ccd50e28990"
      },
      "execution_count": 14,
      "outputs": [
        {
          "output_type": "execute_result",
          "data": {
            "text/plain": [
              "(<tf.Tensor: shape=(8,), dtype=float32, numpy=array([-7., -4., -1.,  2.,  5.,  8., 11., 14.], dtype=float32)>,\n",
              " <tf.Tensor: shape=(8,), dtype=float32, numpy=array([ 3.,  6.,  9., 12., 15., 18., 21., 24.], dtype=float32)>)"
            ]
          },
          "metadata": {},
          "execution_count": 14
        }
      ]
    },
    {
      "cell_type": "code",
      "source": [
        "# Try and make a prediction using our mode\n",
        "y_pred = model.predict([17.0])\n",
        "y_pred"
      ],
      "metadata": {
        "colab": {
          "base_uri": "https://localhost:8080/"
        },
        "id": "t25rFRAqoUyU",
        "outputId": "ce5b03e4-db19-417c-cc09-f3019633315a"
      },
      "execution_count": 15,
      "outputs": [
        {
          "output_type": "stream",
          "name": "stdout",
          "text": [
            "1/1 [==============================] - 0s 92ms/step\n"
          ]
        },
        {
          "output_type": "execute_result",
          "data": {
            "text/plain": [
              "array([[12.716021]], dtype=float32)"
            ]
          },
          "metadata": {},
          "execution_count": 15
        }
      ]
    },
    {
      "cell_type": "code",
      "source": [
        "y_pred + 11"
      ],
      "metadata": {
        "colab": {
          "base_uri": "https://localhost:8080/"
        },
        "id": "PwQHQ5EKoaxH",
        "outputId": "86cd8329-8b49-49fe-e0a0-5f44c5364b17"
      },
      "execution_count": 16,
      "outputs": [
        {
          "output_type": "execute_result",
          "data": {
            "text/plain": [
              "array([[23.71602]], dtype=float32)"
            ]
          },
          "metadata": {},
          "execution_count": 16
        }
      ]
    },
    {
      "cell_type": "markdown",
      "source": [
        "## Improving Our model\n",
        "\n",
        "We can improve our model, by altering the steps we took to create a model.\n",
        "1. **Creating a Model** - here might add more layers, increase the number of hidden units (all called neurons) within each of the hidden layers, change the activation function of each layer.\n",
        "2. **Compiling a Model** - here we might change the optimization function or perhaps the **learning rate** of the optimization function.\n",
        "3. **Fitting a Model** - here we might fit a model for more **epochs** (leave it training for longer) or on more data (give the model more example to learn from)."
      ],
      "metadata": {
        "id": "P8sc9nJ3oz8b"
      }
    },
    {
      "cell_type": "code",
      "source": [
        "# Let's rebuild our model\n",
        "\n",
        "# 1. Create the model\n",
        "model = tf.keras.Sequential([\n",
        "    tf.keras.layers.Dense(1)\n",
        "])\n",
        "\n",
        "# 2. Compile the model\n",
        "model.compile(loss=tf.keras.losses.mae,\n",
        "              optimizer=tf.keras.optimizers.SGD(),\n",
        "              metrics=[\"mae\"])\n",
        "\n",
        "# 3. Fit the model (this time we'll train for longer)\n",
        "model.fit(tf.expand_dims(X, axis=-1), y, epochs=100)"
      ],
      "metadata": {
        "colab": {
          "base_uri": "https://localhost:8080/"
        },
        "id": "6gimzDevo3NA",
        "outputId": "ccceee5f-6baf-499e-cb43-c0c271e1bfbd"
      },
      "execution_count": 32,
      "outputs": [
        {
          "output_type": "stream",
          "name": "stdout",
          "text": [
            "Epoch 1/100\n",
            "1/1 [==============================] - 0s 267ms/step - loss: 14.2813 - mae: 14.2813\n",
            "Epoch 2/100\n",
            "1/1 [==============================] - 0s 19ms/step - loss: 14.1488 - mae: 14.1488\n",
            "Epoch 3/100\n",
            "1/1 [==============================] - 0s 11ms/step - loss: 14.0163 - mae: 14.0163\n",
            "Epoch 4/100\n",
            "1/1 [==============================] - 0s 6ms/step - loss: 13.8838 - mae: 13.8838\n",
            "Epoch 5/100\n",
            "1/1 [==============================] - 0s 7ms/step - loss: 13.7513 - mae: 13.7513\n",
            "Epoch 6/100\n",
            "1/1 [==============================] - 0s 8ms/step - loss: 13.6188 - mae: 13.6188\n",
            "Epoch 7/100\n",
            "1/1 [==============================] - 0s 11ms/step - loss: 13.4863 - mae: 13.4863\n",
            "Epoch 8/100\n",
            "1/1 [==============================] - 0s 5ms/step - loss: 13.3538 - mae: 13.3538\n",
            "Epoch 9/100\n",
            "1/1 [==============================] - 0s 6ms/step - loss: 13.2213 - mae: 13.2213\n",
            "Epoch 10/100\n",
            "1/1 [==============================] - 0s 6ms/step - loss: 13.0888 - mae: 13.0888\n",
            "Epoch 11/100\n",
            "1/1 [==============================] - 0s 7ms/step - loss: 12.9563 - mae: 12.9563\n",
            "Epoch 12/100\n",
            "1/1 [==============================] - 0s 6ms/step - loss: 12.8238 - mae: 12.8238\n",
            "Epoch 13/100\n",
            "1/1 [==============================] - 0s 7ms/step - loss: 12.6913 - mae: 12.6913\n",
            "Epoch 14/100\n",
            "1/1 [==============================] - 0s 8ms/step - loss: 12.5588 - mae: 12.5588\n",
            "Epoch 15/100\n",
            "1/1 [==============================] - 0s 5ms/step - loss: 12.4263 - mae: 12.4263\n",
            "Epoch 16/100\n",
            "1/1 [==============================] - 0s 6ms/step - loss: 12.2938 - mae: 12.2938\n",
            "Epoch 17/100\n",
            "1/1 [==============================] - 0s 9ms/step - loss: 12.1613 - mae: 12.1613\n",
            "Epoch 18/100\n",
            "1/1 [==============================] - 0s 5ms/step - loss: 12.0288 - mae: 12.0288\n",
            "Epoch 19/100\n",
            "1/1 [==============================] - 0s 8ms/step - loss: 11.8963 - mae: 11.8963\n",
            "Epoch 20/100\n",
            "1/1 [==============================] - 0s 8ms/step - loss: 11.7638 - mae: 11.7638\n",
            "Epoch 21/100\n",
            "1/1 [==============================] - 0s 6ms/step - loss: 11.6313 - mae: 11.6313\n",
            "Epoch 22/100\n",
            "1/1 [==============================] - 0s 6ms/step - loss: 11.4988 - mae: 11.4988\n",
            "Epoch 23/100\n",
            "1/1 [==============================] - 0s 7ms/step - loss: 11.3663 - mae: 11.3663\n",
            "Epoch 24/100\n",
            "1/1 [==============================] - 0s 8ms/step - loss: 11.2338 - mae: 11.2338\n",
            "Epoch 25/100\n",
            "1/1 [==============================] - 0s 8ms/step - loss: 11.1013 - mae: 11.1013\n",
            "Epoch 26/100\n",
            "1/1 [==============================] - 0s 6ms/step - loss: 10.9688 - mae: 10.9688\n",
            "Epoch 27/100\n",
            "1/1 [==============================] - 0s 7ms/step - loss: 10.8363 - mae: 10.8363\n",
            "Epoch 28/100\n",
            "1/1 [==============================] - 0s 7ms/step - loss: 10.7038 - mae: 10.7038\n",
            "Epoch 29/100\n",
            "1/1 [==============================] - 0s 7ms/step - loss: 10.5713 - mae: 10.5713\n",
            "Epoch 30/100\n",
            "1/1 [==============================] - 0s 6ms/step - loss: 10.4388 - mae: 10.4388\n",
            "Epoch 31/100\n",
            "1/1 [==============================] - 0s 8ms/step - loss: 10.3063 - mae: 10.3063\n",
            "Epoch 32/100\n",
            "1/1 [==============================] - 0s 7ms/step - loss: 10.1738 - mae: 10.1738\n",
            "Epoch 33/100\n",
            "1/1 [==============================] - 0s 9ms/step - loss: 10.0413 - mae: 10.0413\n",
            "Epoch 34/100\n",
            "1/1 [==============================] - 0s 6ms/step - loss: 9.9088 - mae: 9.9088\n",
            "Epoch 35/100\n",
            "1/1 [==============================] - 0s 5ms/step - loss: 9.7763 - mae: 9.7763\n",
            "Epoch 36/100\n",
            "1/1 [==============================] - 0s 5ms/step - loss: 9.6438 - mae: 9.6438\n",
            "Epoch 37/100\n",
            "1/1 [==============================] - 0s 6ms/step - loss: 9.5113 - mae: 9.5113\n",
            "Epoch 38/100\n",
            "1/1 [==============================] - 0s 7ms/step - loss: 9.3788 - mae: 9.3788\n",
            "Epoch 39/100\n",
            "1/1 [==============================] - 0s 7ms/step - loss: 9.2463 - mae: 9.2463\n",
            "Epoch 40/100\n",
            "1/1 [==============================] - 0s 8ms/step - loss: 9.1138 - mae: 9.1138\n",
            "Epoch 41/100\n",
            "1/1 [==============================] - 0s 6ms/step - loss: 8.9813 - mae: 8.9813\n",
            "Epoch 42/100\n",
            "1/1 [==============================] - 0s 6ms/step - loss: 8.8488 - mae: 8.8488\n",
            "Epoch 43/100\n",
            "1/1 [==============================] - 0s 8ms/step - loss: 8.7163 - mae: 8.7163\n",
            "Epoch 44/100\n",
            "1/1 [==============================] - 0s 6ms/step - loss: 8.5838 - mae: 8.5838\n",
            "Epoch 45/100\n",
            "1/1 [==============================] - 0s 9ms/step - loss: 8.4513 - mae: 8.4513\n",
            "Epoch 46/100\n",
            "1/1 [==============================] - 0s 6ms/step - loss: 8.3188 - mae: 8.3188\n",
            "Epoch 47/100\n",
            "1/1 [==============================] - 0s 6ms/step - loss: 8.1863 - mae: 8.1863\n",
            "Epoch 48/100\n",
            "1/1 [==============================] - 0s 6ms/step - loss: 8.0538 - mae: 8.0538\n",
            "Epoch 49/100\n",
            "1/1 [==============================] - 0s 6ms/step - loss: 7.9213 - mae: 7.9213\n",
            "Epoch 50/100\n",
            "1/1 [==============================] - 0s 6ms/step - loss: 7.7888 - mae: 7.7888\n",
            "Epoch 51/100\n",
            "1/1 [==============================] - 0s 8ms/step - loss: 7.6563 - mae: 7.6563\n",
            "Epoch 52/100\n",
            "1/1 [==============================] - 0s 6ms/step - loss: 7.5238 - mae: 7.5238\n",
            "Epoch 53/100\n",
            "1/1 [==============================] - 0s 8ms/step - loss: 7.3913 - mae: 7.3913\n",
            "Epoch 54/100\n",
            "1/1 [==============================] - 0s 7ms/step - loss: 7.2588 - mae: 7.2588\n",
            "Epoch 55/100\n",
            "1/1 [==============================] - 0s 8ms/step - loss: 7.1264 - mae: 7.1264\n",
            "Epoch 56/100\n",
            "1/1 [==============================] - 0s 8ms/step - loss: 7.0875 - mae: 7.0875\n",
            "Epoch 57/100\n",
            "1/1 [==============================] - 0s 7ms/step - loss: 7.0819 - mae: 7.0819\n",
            "Epoch 58/100\n",
            "1/1 [==============================] - 0s 7ms/step - loss: 7.0763 - mae: 7.0763\n",
            "Epoch 59/100\n",
            "1/1 [==============================] - 0s 8ms/step - loss: 7.0706 - mae: 7.0706\n",
            "Epoch 60/100\n",
            "1/1 [==============================] - 0s 7ms/step - loss: 7.0650 - mae: 7.0650\n",
            "Epoch 61/100\n",
            "1/1 [==============================] - 0s 8ms/step - loss: 7.0594 - mae: 7.0594\n",
            "Epoch 62/100\n",
            "1/1 [==============================] - 0s 7ms/step - loss: 7.0538 - mae: 7.0538\n",
            "Epoch 63/100\n",
            "1/1 [==============================] - 0s 9ms/step - loss: 7.0481 - mae: 7.0481\n",
            "Epoch 64/100\n",
            "1/1 [==============================] - 0s 10ms/step - loss: 7.0425 - mae: 7.0425\n",
            "Epoch 65/100\n",
            "1/1 [==============================] - 0s 8ms/step - loss: 7.0369 - mae: 7.0369\n",
            "Epoch 66/100\n",
            "1/1 [==============================] - 0s 6ms/step - loss: 7.0312 - mae: 7.0312\n",
            "Epoch 67/100\n",
            "1/1 [==============================] - 0s 8ms/step - loss: 7.0256 - mae: 7.0256\n",
            "Epoch 68/100\n",
            "1/1 [==============================] - 0s 7ms/step - loss: 7.0200 - mae: 7.0200\n",
            "Epoch 69/100\n",
            "1/1 [==============================] - 0s 6ms/step - loss: 7.0144 - mae: 7.0144\n",
            "Epoch 70/100\n",
            "1/1 [==============================] - 0s 11ms/step - loss: 7.0087 - mae: 7.0087\n",
            "Epoch 71/100\n",
            "1/1 [==============================] - 0s 12ms/step - loss: 7.0031 - mae: 7.0031\n",
            "Epoch 72/100\n",
            "1/1 [==============================] - 0s 11ms/step - loss: 6.9975 - mae: 6.9975\n",
            "Epoch 73/100\n",
            "1/1 [==============================] - 0s 16ms/step - loss: 6.9919 - mae: 6.9919\n",
            "Epoch 74/100\n",
            "1/1 [==============================] - 0s 11ms/step - loss: 6.9862 - mae: 6.9862\n",
            "Epoch 75/100\n",
            "1/1 [==============================] - 0s 7ms/step - loss: 6.9806 - mae: 6.9806\n",
            "Epoch 76/100\n",
            "1/1 [==============================] - 0s 7ms/step - loss: 6.9750 - mae: 6.9750\n",
            "Epoch 77/100\n",
            "1/1 [==============================] - 0s 7ms/step - loss: 6.9694 - mae: 6.9694\n",
            "Epoch 78/100\n",
            "1/1 [==============================] - 0s 7ms/step - loss: 6.9638 - mae: 6.9638\n",
            "Epoch 79/100\n",
            "1/1 [==============================] - 0s 7ms/step - loss: 6.9581 - mae: 6.9581\n",
            "Epoch 80/100\n",
            "1/1 [==============================] - 0s 8ms/step - loss: 6.9525 - mae: 6.9525\n",
            "Epoch 81/100\n",
            "1/1 [==============================] - 0s 7ms/step - loss: 6.9469 - mae: 6.9469\n",
            "Epoch 82/100\n",
            "1/1 [==============================] - 0s 8ms/step - loss: 6.9412 - mae: 6.9412\n",
            "Epoch 83/100\n",
            "1/1 [==============================] - 0s 7ms/step - loss: 6.9356 - mae: 6.9356\n",
            "Epoch 84/100\n",
            "1/1 [==============================] - 0s 8ms/step - loss: 6.9300 - mae: 6.9300\n",
            "Epoch 85/100\n",
            "1/1 [==============================] - 0s 9ms/step - loss: 6.9244 - mae: 6.9244\n",
            "Epoch 86/100\n",
            "1/1 [==============================] - 0s 9ms/step - loss: 6.9188 - mae: 6.9188\n",
            "Epoch 87/100\n",
            "1/1 [==============================] - 0s 6ms/step - loss: 6.9131 - mae: 6.9131\n",
            "Epoch 88/100\n",
            "1/1 [==============================] - 0s 7ms/step - loss: 6.9075 - mae: 6.9075\n",
            "Epoch 89/100\n",
            "1/1 [==============================] - 0s 6ms/step - loss: 6.9019 - mae: 6.9019\n",
            "Epoch 90/100\n",
            "1/1 [==============================] - 0s 10ms/step - loss: 6.8963 - mae: 6.8963\n",
            "Epoch 91/100\n",
            "1/1 [==============================] - 0s 7ms/step - loss: 6.8906 - mae: 6.8906\n",
            "Epoch 92/100\n",
            "1/1 [==============================] - 0s 7ms/step - loss: 6.8850 - mae: 6.8850\n",
            "Epoch 93/100\n",
            "1/1 [==============================] - 0s 6ms/step - loss: 6.8794 - mae: 6.8794\n",
            "Epoch 94/100\n",
            "1/1 [==============================] - 0s 10ms/step - loss: 6.8738 - mae: 6.8738\n",
            "Epoch 95/100\n",
            "1/1 [==============================] - 0s 7ms/step - loss: 6.8681 - mae: 6.8681\n",
            "Epoch 96/100\n",
            "1/1 [==============================] - 0s 6ms/step - loss: 6.8625 - mae: 6.8625\n",
            "Epoch 97/100\n",
            "1/1 [==============================] - 0s 6ms/step - loss: 6.8569 - mae: 6.8569\n",
            "Epoch 98/100\n",
            "1/1 [==============================] - 0s 6ms/step - loss: 6.8513 - mae: 6.8513\n",
            "Epoch 99/100\n",
            "1/1 [==============================] - 0s 6ms/step - loss: 6.8456 - mae: 6.8456\n",
            "Epoch 100/100\n",
            "1/1 [==============================] - 0s 6ms/step - loss: 6.8400 - mae: 6.8400\n"
          ]
        },
        {
          "output_type": "execute_result",
          "data": {
            "text/plain": [
              "<keras.callbacks.History at 0x7f8aa44b1c90>"
            ]
          },
          "metadata": {},
          "execution_count": 32
        }
      ]
    },
    {
      "cell_type": "code",
      "source": [
        "# Remind ourselves of the data\n",
        "X, y"
      ],
      "metadata": {
        "colab": {
          "base_uri": "https://localhost:8080/"
        },
        "id": "yC8RPFrCTDFE",
        "outputId": "f6134dde-90bc-458d-a7bc-2d0d6e60c733"
      },
      "execution_count": 19,
      "outputs": [
        {
          "output_type": "execute_result",
          "data": {
            "text/plain": [
              "(<tf.Tensor: shape=(8,), dtype=float32, numpy=array([-7., -4., -1.,  2.,  5.,  8., 11., 14.], dtype=float32)>,\n",
              " <tf.Tensor: shape=(8,), dtype=float32, numpy=array([ 3.,  6.,  9., 12., 15., 18., 21., 24.], dtype=float32)>)"
            ]
          },
          "metadata": {},
          "execution_count": 19
        }
      ]
    },
    {
      "cell_type": "code",
      "source": [
        "# Let's see if our model's prediction has improved...\n",
        "model.predict([17.0])"
      ],
      "metadata": {
        "colab": {
          "base_uri": "https://localhost:8080/"
        },
        "id": "u5jpVmRSTmiO",
        "outputId": "e618568a-ddbd-4b58-fb55-1b6f03ba292e"
      },
      "execution_count": 20,
      "outputs": [
        {
          "output_type": "stream",
          "name": "stdout",
          "text": [
            "1/1 [==============================] - 0s 48ms/step\n"
          ]
        },
        {
          "output_type": "execute_result",
          "data": {
            "text/plain": [
              "array([[29.739855]], dtype=float32)"
            ]
          },
          "metadata": {},
          "execution_count": 20
        }
      ]
    },
    {
      "cell_type": "code",
      "source": [
        "# Let's see if we can make another change to improve our model\n",
        "\n",
        "# 1. Create the model (this ti,e with a extra hidden layer with 100 hidden units)\n",
        "model = tf.keras.Sequential([\n",
        "    tf.keras.layers.Dense(50, activation=None),\n",
        "    tf.keras.layers.Dense(1)\n",
        "])\n",
        "\n",
        "# 2. Compile the model \n",
        "model.compile(loss=\"mae\",\n",
        "  optimizer=tf.keras.optimizers.Adam(lr=0.01),\n",
        "  metrics=[\"mae\"]\n",
        ")\n",
        "\n",
        "# 3. Fit the model\n",
        "model.fit(tf.expand_dims(X, axis=-1),y, epochs=100)"
      ],
      "metadata": {
        "id": "hzOFIKjXTxEw"
      },
      "execution_count": null,
      "outputs": []
    },
    {
      "cell_type": "code",
      "source": [
        "# Let's remind ourselves of the data\n",
        "X, y"
      ],
      "metadata": {
        "colab": {
          "base_uri": "https://localhost:8080/"
        },
        "id": "OSYiR37YZi-M",
        "outputId": "6395a147-5037-4572-a970-b4fa4182cef2"
      },
      "execution_count": 27,
      "outputs": [
        {
          "output_type": "execute_result",
          "data": {
            "text/plain": [
              "(<tf.Tensor: shape=(8,), dtype=float32, numpy=array([-7., -4., -1.,  2.,  5.,  8., 11., 14.], dtype=float32)>,\n",
              " <tf.Tensor: shape=(8,), dtype=float32, numpy=array([ 3.,  6.,  9., 12., 15., 18., 21., 24.], dtype=float32)>)"
            ]
          },
          "metadata": {},
          "execution_count": 27
        }
      ]
    },
    {
      "cell_type": "code",
      "source": [
        "# Let's try to make a prediciton\n",
        "model.predict([17.0])"
      ],
      "metadata": {
        "colab": {
          "base_uri": "https://localhost:8080/"
        },
        "id": "sOJ8ktj_aaQY",
        "outputId": "714cabef-d8a0-47bd-adf9-dd3a993df2f2"
      },
      "execution_count": 38,
      "outputs": [
        {
          "output_type": "stream",
          "name": "stdout",
          "text": [
            "1/1 [==============================] - 0s 58ms/step\n"
          ]
        },
        {
          "output_type": "execute_result",
          "data": {
            "text/plain": [
              "array([[27.301908]], dtype=float32)"
            ]
          },
          "metadata": {},
          "execution_count": 38
        }
      ]
    },
    {
      "cell_type": "markdown",
      "source": [
        "## Evaluatin a Model"
      ],
      "metadata": {
        "id": "8K_C6PoZag3W"
      }
    }
  ]
}